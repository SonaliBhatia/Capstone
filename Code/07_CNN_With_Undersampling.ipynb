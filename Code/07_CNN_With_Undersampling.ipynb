{
 "cells": [
  {
   "cell_type": "markdown",
   "metadata": {},
   "source": [
    "# Trying CNN for modeling here with Undersampling\n",
    "\n"
   ]
  },
  {
   "cell_type": "code",
   "execution_count": 3,
   "metadata": {},
   "outputs": [],
   "source": [
    "\n",
    "import numpy as np\n",
    "import pandas as pd\n",
    "import seaborn as sns\n",
    "from sklearn.datasets import make_classification, make_regression\n",
    "from sklearn.metrics import classification_report , confusion_matrix ,plot_confusion_matrix\n",
    "\n",
    "import matplotlib.pyplot as plt\n",
    "import pickle\n",
    "\n",
    "from tensorflow.keras.models import Sequential\n",
    "from tensorflow.keras.layers import Dense , Activation, Flatten, Dropout\n",
    "from keras.utils import np_utils\n",
    "from tensorflow.keras.utils import to_categorical \n",
    "from sklearn.model_selection import train_test_split, GridSearchCV , cross_val_score\n",
    "\n",
    "from keras.layers import Conv2D, MaxPooling2D\n",
    "from keras.utils import np_utils\n",
    "\n",
    "from tensorflow.keras.regularizers import l2\n",
    "from keras.callbacks import EarlyStopping\n",
    "\n",
    "from imblearn.under_sampling import NearMiss, RandomUnderSampler\n",
    "\n",
    "from collections import Counter\n",
    "\n",
    "%matplotlib inline"
   ]
  },
  {
   "cell_type": "code",
   "execution_count": 4,
   "metadata": {},
   "outputs": [],
   "source": [
    "#feature_df = pd.read_csv('../Data/Data_and_Features.csv')"
   ]
  },
  {
   "cell_type": "code",
   "execution_count": 5,
   "metadata": {},
   "outputs": [],
   "source": [
    "#using pickled df from previous file to preserve data and data types as CSV is modifying the data types \n",
    "feature_df=pd.read_pickle('Data_And_Features.pkl')"
   ]
  },
  {
   "cell_type": "code",
   "execution_count": 6,
   "metadata": {},
   "outputs": [
    {
     "data": {
      "text/html": [
       "<div>\n",
       "<style scoped>\n",
       "    .dataframe tbody tr th:only-of-type {\n",
       "        vertical-align: middle;\n",
       "    }\n",
       "\n",
       "    .dataframe tbody tr th {\n",
       "        vertical-align: top;\n",
       "    }\n",
       "\n",
       "    .dataframe thead th {\n",
       "        text-align: right;\n",
       "    }\n",
       "</style>\n",
       "<table border=\"1\" class=\"dataframe\">\n",
       "  <thead>\n",
       "    <tr style=\"text-align: right;\">\n",
       "      <th></th>\n",
       "      <th>age</th>\n",
       "      <th>age_onset</th>\n",
       "      <th>birthplace</th>\n",
       "      <th>filename</th>\n",
       "      <th>native_language</th>\n",
       "      <th>sex</th>\n",
       "      <th>speakerid</th>\n",
       "      <th>country</th>\n",
       "      <th>file_missing?</th>\n",
       "      <th>Accent</th>\n",
       "      <th>...</th>\n",
       "      <th>853</th>\n",
       "      <th>854</th>\n",
       "      <th>855</th>\n",
       "      <th>856</th>\n",
       "      <th>857</th>\n",
       "      <th>858</th>\n",
       "      <th>859</th>\n",
       "      <th>860</th>\n",
       "      <th>861</th>\n",
       "      <th>Accent_num</th>\n",
       "    </tr>\n",
       "  </thead>\n",
       "  <tbody>\n",
       "    <tr>\n",
       "      <th>0</th>\n",
       "      <td>19.0</td>\n",
       "      <td>9.0</td>\n",
       "      <td>shady grove, maryland, usa</td>\n",
       "      <td>arabic38</td>\n",
       "      <td>arabic</td>\n",
       "      <td>female</td>\n",
       "      <td>1394</td>\n",
       "      <td>usa</td>\n",
       "      <td>False</td>\n",
       "      <td>American</td>\n",
       "      <td>...</td>\n",
       "      <td>-22.414141</td>\n",
       "      <td>-19.780674</td>\n",
       "      <td>-20.364351</td>\n",
       "      <td>-26.178616</td>\n",
       "      <td>-26.259825</td>\n",
       "      <td>-26.722843</td>\n",
       "      <td>-23.242558</td>\n",
       "      <td>-20.390944</td>\n",
       "      <td>-16.448463</td>\n",
       "      <td>1</td>\n",
       "    </tr>\n",
       "    <tr>\n",
       "      <th>1</th>\n",
       "      <td>32.0</td>\n",
       "      <td>12.0</td>\n",
       "      <td>fort collins, colorado, usa</td>\n",
       "      <td>arabic45</td>\n",
       "      <td>arabic</td>\n",
       "      <td>female</td>\n",
       "      <td>1456</td>\n",
       "      <td>usa</td>\n",
       "      <td>False</td>\n",
       "      <td>American</td>\n",
       "      <td>...</td>\n",
       "      <td>-13.328942</td>\n",
       "      <td>-13.913136</td>\n",
       "      <td>-14.347802</td>\n",
       "      <td>-15.178201</td>\n",
       "      <td>-15.032391</td>\n",
       "      <td>-15.780533</td>\n",
       "      <td>-17.877295</td>\n",
       "      <td>-10.750269</td>\n",
       "      <td>-5.102596</td>\n",
       "      <td>1</td>\n",
       "    </tr>\n",
       "    <tr>\n",
       "      <th>2</th>\n",
       "      <td>19.0</td>\n",
       "      <td>3.0</td>\n",
       "      <td>washington, district of columbia, usa</td>\n",
       "      <td>arabic78</td>\n",
       "      <td>arabic</td>\n",
       "      <td>female</td>\n",
       "      <td>1897</td>\n",
       "      <td>usa</td>\n",
       "      <td>False</td>\n",
       "      <td>American</td>\n",
       "      <td>...</td>\n",
       "      <td>-32.267937</td>\n",
       "      <td>-34.579670</td>\n",
       "      <td>-37.915585</td>\n",
       "      <td>-37.576115</td>\n",
       "      <td>-33.534348</td>\n",
       "      <td>-29.363533</td>\n",
       "      <td>-25.490492</td>\n",
       "      <td>-22.864353</td>\n",
       "      <td>-19.428410</td>\n",
       "      <td>1</td>\n",
       "    </tr>\n",
       "    <tr>\n",
       "      <th>3</th>\n",
       "      <td>43.0</td>\n",
       "      <td>40.0</td>\n",
       "      <td>jianchuan, yunnan, china</td>\n",
       "      <td>bai1</td>\n",
       "      <td>bai</td>\n",
       "      <td>female</td>\n",
       "      <td>28</td>\n",
       "      <td>china</td>\n",
       "      <td>False</td>\n",
       "      <td>Chinese</td>\n",
       "      <td>...</td>\n",
       "      <td>-44.022732</td>\n",
       "      <td>-44.022732</td>\n",
       "      <td>-44.022732</td>\n",
       "      <td>-44.022732</td>\n",
       "      <td>-44.022732</td>\n",
       "      <td>-44.022732</td>\n",
       "      <td>-44.022732</td>\n",
       "      <td>-44.022732</td>\n",
       "      <td>-44.022732</td>\n",
       "      <td>2</td>\n",
       "    </tr>\n",
       "    <tr>\n",
       "      <th>4</th>\n",
       "      <td>34.0</td>\n",
       "      <td>3.5</td>\n",
       "      <td>durgapur, west bengal, india</td>\n",
       "      <td>bengali11</td>\n",
       "      <td>bengali</td>\n",
       "      <td>male</td>\n",
       "      <td>1018</td>\n",
       "      <td>india</td>\n",
       "      <td>False</td>\n",
       "      <td>Indian</td>\n",
       "      <td>...</td>\n",
       "      <td>-4.014865</td>\n",
       "      <td>-4.399039</td>\n",
       "      <td>-7.001354</td>\n",
       "      <td>-11.521073</td>\n",
       "      <td>-10.343769</td>\n",
       "      <td>-8.018362</td>\n",
       "      <td>-7.545074</td>\n",
       "      <td>-10.307240</td>\n",
       "      <td>-11.671057</td>\n",
       "      <td>3</td>\n",
       "    </tr>\n",
       "  </tbody>\n",
       "</table>\n",
       "<p>5 rows × 873 columns</p>\n",
       "</div>"
      ],
      "text/plain": [
       "    age  age_onset                             birthplace   filename  \\\n",
       "0  19.0        9.0             shady grove, maryland, usa   arabic38   \n",
       "1  32.0       12.0            fort collins, colorado, usa   arabic45   \n",
       "2  19.0        3.0  washington, district of columbia, usa   arabic78   \n",
       "3  43.0       40.0               jianchuan, yunnan, china       bai1   \n",
       "4  34.0        3.5           durgapur, west bengal, india  bengali11   \n",
       "\n",
       "  native_language     sex  speakerid country  file_missing?    Accent  ...  \\\n",
       "0          arabic  female       1394     usa          False  American  ...   \n",
       "1          arabic  female       1456     usa          False  American  ...   \n",
       "2          arabic  female       1897     usa          False  American  ...   \n",
       "3             bai  female         28   china          False   Chinese  ...   \n",
       "4         bengali    male       1018   india          False    Indian  ...   \n",
       "\n",
       "         853        854        855        856        857        858  \\\n",
       "0 -22.414141 -19.780674 -20.364351 -26.178616 -26.259825 -26.722843   \n",
       "1 -13.328942 -13.913136 -14.347802 -15.178201 -15.032391 -15.780533   \n",
       "2 -32.267937 -34.579670 -37.915585 -37.576115 -33.534348 -29.363533   \n",
       "3 -44.022732 -44.022732 -44.022732 -44.022732 -44.022732 -44.022732   \n",
       "4  -4.014865  -4.399039  -7.001354 -11.521073 -10.343769  -8.018362   \n",
       "\n",
       "         859        860        861  Accent_num  \n",
       "0 -23.242558 -20.390944 -16.448463           1  \n",
       "1 -17.877295 -10.750269  -5.102596           1  \n",
       "2 -25.490492 -22.864353 -19.428410           1  \n",
       "3 -44.022732 -44.022732 -44.022732           2  \n",
       "4  -7.545074 -10.307240 -11.671057           3  \n",
       "\n",
       "[5 rows x 873 columns]"
      ]
     },
     "execution_count": 6,
     "metadata": {},
     "output_type": "execute_result"
    }
   ],
   "source": [
    "feature_df.head()"
   ]
  },
  {
   "cell_type": "code",
   "execution_count": 7,
   "metadata": {},
   "outputs": [
    {
     "data": {
      "text/plain": [
       "(791, 873)"
      ]
     },
     "execution_count": 7,
     "metadata": {},
     "output_type": "execute_result"
    }
   ],
   "source": [
    "feature_df.shape"
   ]
  },
  {
   "cell_type": "code",
   "execution_count": 8,
   "metadata": {},
   "outputs": [
    {
     "name": "stdout",
     "output_type": "stream",
     "text": [
      "<class 'pandas.core.frame.DataFrame'>\n",
      "RangeIndex: 791 entries, 0 to 790\n",
      "Columns: 873 entries, age to Accent_num\n",
      "dtypes: bool(1), float64(864), int64(2), object(6)\n",
      "memory usage: 5.3+ MB\n"
     ]
    }
   ],
   "source": [
    "feature_df.info()"
   ]
  },
  {
   "cell_type": "code",
   "execution_count": 9,
   "metadata": {},
   "outputs": [],
   "source": [
    "features=range(0,784)"
   ]
  },
  {
   "cell_type": "code",
   "execution_count": 10,
   "metadata": {},
   "outputs": [
    {
     "data": {
      "text/plain": [
       "range(0, 784)"
      ]
     },
     "execution_count": 10,
     "metadata": {},
     "output_type": "execute_result"
    }
   ],
   "source": [
    "features"
   ]
  },
  {
   "cell_type": "code",
   "execution_count": 11,
   "metadata": {},
   "outputs": [],
   "source": [
    "X=feature_df[features]\n",
    "y=feature_df['Accent_num']"
   ]
  },
  {
   "cell_type": "code",
   "execution_count": 12,
   "metadata": {},
   "outputs": [],
   "source": [
    "#X=np.array(X)"
   ]
  },
  {
   "cell_type": "code",
   "execution_count": 13,
   "metadata": {},
   "outputs": [],
   "source": [
    "#X[0].shape"
   ]
  },
  {
   "cell_type": "code",
   "execution_count": 14,
   "metadata": {},
   "outputs": [],
   "source": [
    "#X.shape"
   ]
  },
  {
   "cell_type": "code",
   "execution_count": 15,
   "metadata": {},
   "outputs": [
    {
     "data": {
      "text/plain": [
       "1    433\n",
       "2    221\n",
       "3    137\n",
       "Name: Accent_num, dtype: int64"
      ]
     },
     "execution_count": 15,
     "metadata": {},
     "output_type": "execute_result"
    }
   ],
   "source": [
    "y.value_counts()"
   ]
  },
  {
   "cell_type": "code",
   "execution_count": 16,
   "metadata": {},
   "outputs": [
    {
     "data": {
      "text/plain": [
       "pandas.core.frame.DataFrame"
      ]
     },
     "execution_count": 16,
     "metadata": {},
     "output_type": "execute_result"
    }
   ],
   "source": [
    "type(X)"
   ]
  },
  {
   "cell_type": "code",
   "execution_count": 17,
   "metadata": {},
   "outputs": [],
   "source": [
    "X_train , X_test , y_train , y_test = train_test_split(X,y,test_size=0.3,random_state=42,stratify=y )"
   ]
  },
  {
   "cell_type": "code",
   "execution_count": 18,
   "metadata": {},
   "outputs": [
    {
     "data": {
      "text/plain": [
       "(553, 784)"
      ]
     },
     "execution_count": 18,
     "metadata": {},
     "output_type": "execute_result"
    }
   ],
   "source": [
    "X_train.shape"
   ]
  },
  {
   "cell_type": "code",
   "execution_count": 19,
   "metadata": {},
   "outputs": [
    {
     "data": {
      "text/plain": [
       "(553,)"
      ]
     },
     "execution_count": 19,
     "metadata": {},
     "output_type": "execute_result"
    }
   ],
   "source": [
    "X_train[0].shape"
   ]
  },
  {
   "cell_type": "code",
   "execution_count": 18,
   "metadata": {},
   "outputs": [],
   "source": [
    "#rows = X_train[0].shape[0]\n",
    "#cols = X_train[0].shape[1]\n",
    "#rows "
   ]
  },
  {
   "cell_type": "code",
   "execution_count": 20,
   "metadata": {},
   "outputs": [
    {
     "data": {
      "text/plain": [
       "1    303\n",
       "2    154\n",
       "3     96\n",
       "Name: Accent_num, dtype: int64"
      ]
     },
     "execution_count": 20,
     "metadata": {},
     "output_type": "execute_result"
    }
   ],
   "source": [
    "y_train.value_counts()"
   ]
  },
  {
   "cell_type": "code",
   "execution_count": null,
   "metadata": {},
   "outputs": [],
   "source": []
  },
  {
   "cell_type": "markdown",
   "metadata": {},
   "source": [
    "# Trying undersampling technic to try and balance the data"
   ]
  },
  {
   "cell_type": "code",
   "execution_count": 21,
   "metadata": {},
   "outputs": [],
   "source": [
    "nm = RandomUnderSampler()\n"
   ]
  },
  {
   "cell_type": "code",
   "execution_count": 22,
   "metadata": {},
   "outputs": [],
   "source": [
    "\n",
    "X_train_under, y_train_under = nm.fit_resample(X_train, y_train)"
   ]
  },
  {
   "cell_type": "code",
   "execution_count": 23,
   "metadata": {},
   "outputs": [
    {
     "data": {
      "text/plain": [
       "pandas.core.frame.DataFrame"
      ]
     },
     "execution_count": 23,
     "metadata": {},
     "output_type": "execute_result"
    }
   ],
   "source": [
    "type(X_train_under)"
   ]
  },
  {
   "cell_type": "code",
   "execution_count": 24,
   "metadata": {},
   "outputs": [
    {
     "data": {
      "text/plain": [
       "pandas.core.series.Series"
      ]
     },
     "execution_count": 24,
     "metadata": {},
     "output_type": "execute_result"
    }
   ],
   "source": [
    "type(y_train_under)"
   ]
  },
  {
   "cell_type": "code",
   "execution_count": 25,
   "metadata": {},
   "outputs": [
    {
     "name": "stdout",
     "output_type": "stream",
     "text": [
      "3    96\n",
      "2    96\n",
      "1    96\n",
      "Name: Accent_num, dtype: int64\n"
     ]
    }
   ],
   "source": [
    "print(pd.Series(y_train_under).value_counts())"
   ]
  },
  {
   "cell_type": "code",
   "execution_count": 26,
   "metadata": {},
   "outputs": [],
   "source": [
    "X_train_under=np.array(X_train_under)"
   ]
  },
  {
   "cell_type": "code",
   "execution_count": 27,
   "metadata": {},
   "outputs": [
    {
     "data": {
      "text/plain": [
       "(288, 784)"
      ]
     },
     "execution_count": 27,
     "metadata": {},
     "output_type": "execute_result"
    }
   ],
   "source": [
    "X_train_under.shape"
   ]
  },
  {
   "cell_type": "code",
   "execution_count": 28,
   "metadata": {},
   "outputs": [
    {
     "data": {
      "text/plain": [
       "(784,)"
      ]
     },
     "execution_count": 28,
     "metadata": {},
     "output_type": "execute_result"
    }
   ],
   "source": [
    "X_train_under[0].shape"
   ]
  },
  {
   "cell_type": "code",
   "execution_count": 29,
   "metadata": {},
   "outputs": [],
   "source": [
    "X_test=np.array(X_test)"
   ]
  },
  {
   "cell_type": "code",
   "execution_count": 30,
   "metadata": {},
   "outputs": [],
   "source": [
    "#rows = X_train[0].shape[0]\n",
    "#cols = X_train[0].shape[1]\n",
    "#rows "
   ]
  },
  {
   "cell_type": "code",
   "execution_count": 32,
   "metadata": {},
   "outputs": [],
   "source": [
    "X_train=X_train_under.reshape(X_train_under.shape[0],28,28)"
   ]
  },
  {
   "cell_type": "code",
   "execution_count": 33,
   "metadata": {},
   "outputs": [],
   "source": [
    "X_test=X_test.reshape(X_test.shape[0],28,28)"
   ]
  },
  {
   "cell_type": "code",
   "execution_count": 35,
   "metadata": {},
   "outputs": [
    {
     "name": "stdout",
     "output_type": "stream",
     "text": [
      "Train: X=(288, 28, 28), y=(288,)\n",
      "Test: X=(238, 28, 28), y=(238,)\n"
     ]
    },
    {
     "data": {
      "image/png": "[encoded data removed]",
      "text/plain": [
       "<Figure size 432x288 with 1 Axes>"
      ]
     },
     "metadata": {
      "needs_background": "light"
     },
     "output_type": "display_data"
    },
    {
     "data": {
      "image/png": "[encoded data removed]",
      "text/plain": [
       "<Figure size 432x288 with 1 Axes>"
      ]
     },
     "metadata": {
      "needs_background": "light"
     },
     "output_type": "display_data"
    },
    {
     "data": {
      "image/png": "[encoded data removed]",
      "text/plain": [
       "<Figure size 432x288 with 1 Axes>"
      ]
     },
     "metadata": {
      "needs_background": "light"
     },
     "output_type": "display_data"
    }
   ],
   "source": [
    "print('Train: X=%s, y=%s' % (X_train.shape, y_train_under.shape))\n",
    "print('Test: X=%s, y=%s' % (X_test.shape, y_test.shape))\n",
    "\n",
    "# plot first few images\n",
    "\n",
    "for i in range(3):\n",
    "    \n",
    "# plot raw pixel data\n",
    "    plt.imshow(X_train[i], cmap=plt.get_cmap('plasma'))\n",
    "# show the figure\n",
    "    plt.show()"
   ]
  },
  {
   "cell_type": "code",
   "execution_count": 36,
   "metadata": {},
   "outputs": [],
   "source": [
    "X_train = X_train.astype('float32')/255\n",
    "X_test = X_test.astype('float32')/255"
   ]
  },
  {
   "cell_type": "code",
   "execution_count": 37,
   "metadata": {},
   "outputs": [
    {
     "data": {
      "text/plain": [
       "array([[-1.83234453e-01, -1.83234453e-01, -1.83234453e-01,\n",
       "        -1.83234453e-01, -1.83234453e-01, -1.83234453e-01,\n",
       "        -1.83234453e-01, -1.83234453e-01, -1.83234453e-01,\n",
       "        -1.83234453e-01, -1.83234453e-01, -1.83234453e-01,\n",
       "        -1.83234453e-01, -1.83234453e-01, -1.83234453e-01,\n",
       "        -1.83234453e-01, -1.83234453e-01, -1.83234453e-01,\n",
       "        -1.83234453e-01, -1.83234453e-01, -1.83234453e-01,\n",
       "        -1.83234453e-01, -1.83234453e-01, -1.83234453e-01,\n",
       "        -1.83234453e-01, -1.83234453e-01, -1.83234453e-01,\n",
       "        -1.83234453e-01],\n",
       "       [-1.83234453e-01, -1.83234453e-01, -1.83234453e-01,\n",
       "        -1.83234453e-01, -1.83234453e-01, -1.30827293e-01,\n",
       "        -6.94608241e-02, -5.59022427e-02, -6.09427467e-02,\n",
       "        -5.98850399e-02, -4.55957353e-02, -3.10527608e-02,\n",
       "        -2.60132719e-02, -2.05313750e-02, -5.22574969e-03,\n",
       "        -5.41675044e-03, -6.51546009e-03, -8.39326764e-04,\n",
       "        -3.63053381e-03, -5.92754502e-03, -8.86559486e-03,\n",
       "        -1.13229770e-02, -1.40407141e-02, -1.40482094e-02,\n",
       "        -2.02956386e-02, -2.03784555e-02, -1.87959559e-02,\n",
       "        -3.07554491e-02],\n",
       "       [-4.03573848e-02, -4.19235788e-02, -4.83357348e-02,\n",
       "        -5.22334315e-02, -5.92169389e-02, -5.31041510e-02,\n",
       "        -4.17239256e-02, -4.03909795e-02, -5.11988252e-02,\n",
       "        -4.21563834e-02, -1.57561656e-02, -7.91518111e-03,\n",
       "        -1.20783076e-02, -9.90581512e-03, -6.58398680e-03,\n",
       "        -1.01516442e-02, -9.77613684e-03, -9.25979484e-03,\n",
       "        -1.59172695e-02, -1.41710490e-02, -1.59384552e-02,\n",
       "        -1.81677155e-02, -2.49759462e-02, -4.29107323e-02,\n",
       "        -4.41597477e-02, -4.32807133e-02, -3.85274477e-02,\n",
       "        -4.48959321e-02],\n",
       "       [-5.17446660e-02, -5.81082366e-02, -6.02826104e-02,\n",
       "        -4.86155935e-02, -3.32428813e-02, -1.71417762e-02,\n",
       "        -1.20007172e-02, -1.03644328e-02, -7.93308858e-03,\n",
       "        -9.46039893e-03, -1.17541635e-02, -1.54297762e-02,\n",
       "        -1.62583999e-02, -1.64070558e-02, -1.77011471e-02,\n",
       "        -2.51184832e-02, -2.92750262e-02, -2.44164839e-02,\n",
       "        -2.21266598e-02, -2.78185643e-02, -3.34764346e-02,\n",
       "        -2.70483661e-02, -2.49564815e-02, -2.67600771e-02,\n",
       "        -3.37832123e-02, -4.11820635e-02, -3.79419178e-02,\n",
       "        -4.45012115e-02],\n",
       "       [-5.64465001e-02, -5.99451810e-02, -6.16988428e-02,\n",
       "        -6.21808022e-02, -6.32218271e-02, -6.20741881e-02,\n",
       "        -6.15019202e-02, -6.20070063e-02, -6.15786128e-02,\n",
       "        -6.25392944e-02, -6.40523657e-02, -6.46579489e-02,\n",
       "        -6.58935681e-02, -6.56666383e-02, -6.72483519e-02,\n",
       "        -6.19260706e-02, -5.49431369e-02, -6.02185391e-02,\n",
       "        -6.12217486e-02, -6.28706887e-02, -6.34642541e-02,\n",
       "        -5.99645600e-02, -5.67415394e-02, -6.28820211e-02,\n",
       "        -6.45180866e-02, -6.06340170e-02, -6.24127761e-02,\n",
       "        -6.62745461e-02],\n",
       "       [-6.45075142e-02, -6.05104975e-02, -6.30914345e-02,\n",
       "        -6.55129105e-02, -6.71188980e-02, -6.64158762e-02,\n",
       "        -6.10098466e-02, -5.60994707e-02, -5.78134842e-02,\n",
       "        -6.16472028e-02, -6.44082949e-02, -6.35604486e-02,\n",
       "        -5.88276722e-02, -6.03545457e-02, -5.02325930e-02,\n",
       "        -1.49285421e-02, -9.90628637e-03, -6.66489406e-03,\n",
       "        -2.88831023e-03, -3.72441718e-03, -3.85473436e-03,\n",
       "        -5.73024945e-03, -8.02084152e-03, -1.27056483e-02,\n",
       "        -2.56380755e-02, -4.16105837e-02, -4.56978157e-02,\n",
       "        -3.95484753e-02],\n",
       "       [-4.22434434e-02, -4.42110002e-02, -5.44014685e-02,\n",
       "        -4.71071675e-02, -4.26164418e-02, -4.13977467e-02,\n",
       "        -2.19754688e-02, -5.69982640e-03, -5.02208434e-03,\n",
       "        -8.79724137e-03, -1.83234420e-02, -1.68053079e-02,\n",
       "        -1.19174337e-02, -1.20321624e-02, -1.76281240e-02,\n",
       "        -2.12987661e-02, -2.48249061e-02, -2.97449324e-02,\n",
       "        -2.89751329e-02, -2.19766144e-02, -8.99215508e-03,\n",
       "        -1.05907803e-03, -3.34242452e-03, -6.27594534e-03,\n",
       "        -6.29121717e-03, -8.07582587e-03, -1.02764098e-02,\n",
       "        -1.40579203e-02],\n",
       "       [-1.60324257e-02, -1.51548954e-02, -1.25163943e-02,\n",
       "        -8.98476690e-03, -7.46984826e-03, -9.70630441e-03,\n",
       "        -1.23240771e-02, -1.16902553e-02, -7.53899943e-03,\n",
       "        -1.18771512e-02, -6.55026920e-03, -4.30611707e-03,\n",
       "        -4.66516288e-03, -5.89110423e-03, -8.38749856e-03,\n",
       "        -2.91952211e-03, -2.71997112e-03, -1.71991866e-02,\n",
       "        -3.40525061e-02, -3.81890386e-02, -3.50825451e-02,\n",
       "        -3.83453108e-02, -4.70478274e-02, -5.18881679e-02,\n",
       "        -5.05159348e-02, -4.77593057e-02, -3.69113572e-02,\n",
       "        -1.76086519e-02],\n",
       "       [-1.62984263e-02, -1.39807258e-02, -1.44588389e-02,\n",
       "        -9.21671558e-03, -1.24008963e-02, -1.33812632e-02,\n",
       "        -1.40376780e-02, -1.39739979e-02, -1.08668758e-02,\n",
       "        -7.18830572e-03, -7.94185139e-03, -2.37859488e-02,\n",
       "        -3.60649899e-02, -3.84134240e-02, -4.21535447e-02,\n",
       "        -3.27676572e-02, -2.23964751e-02, -2.03494672e-02,\n",
       "        -1.96659379e-02, -2.08123866e-02, -1.81386303e-02,\n",
       "        -1.92087330e-02, -1.39303869e-02, -1.23055419e-02,\n",
       "        -2.46161036e-02, -4.78104502e-02, -4.06036153e-02,\n",
       "        -3.77110764e-02],\n",
       "       [-4.33852263e-02, -4.34124507e-02, -5.28671108e-02,\n",
       "        -3.92144918e-02, -1.37820281e-02, -9.18690860e-03,\n",
       "        -1.21910404e-02, -1.62108075e-02, -2.03995928e-02,\n",
       "        -2.38862950e-02, -3.06136627e-02, -4.04773466e-02,\n",
       "        -4.75595482e-02, -5.36330678e-02, -5.23550920e-02,\n",
       "        -5.41279763e-02, -5.38696535e-02, -4.02207598e-02,\n",
       "        -1.83174424e-02, -1.07546002e-02, -1.47470413e-02,\n",
       "        -1.84351970e-02, -1.98983923e-02, -2.01278273e-02,\n",
       "        -1.85093284e-02, -1.54525861e-02, -1.76352095e-02,\n",
       "        -1.67187937e-02],\n",
       "       [-1.66802090e-02, -1.53325899e-02, -1.88542958e-02,\n",
       "        -1.65685453e-02, -9.43622552e-03, -1.89751089e-02,\n",
       "        -3.96001041e-02, -4.88552898e-02, -5.01477644e-02,\n",
       "        -5.05794398e-02, -4.54011373e-02, -4.11541946e-02,\n",
       "        -3.69831137e-02, -3.96411382e-02, -4.78648990e-02,\n",
       "        -5.46577834e-02, -6.03258274e-02, -5.06819040e-02,\n",
       "        -3.59927304e-02, -2.42765509e-02, -1.69114992e-02,\n",
       "        -2.07734723e-02, -2.01288238e-02, -2.14305539e-02,\n",
       "        -2.20337380e-02, -2.13781781e-02, -2.10202914e-02,\n",
       "        -2.53639705e-02],\n",
       "       [-3.60195898e-02, -3.40699479e-02, -3.71246226e-02,\n",
       "        -2.79813502e-02, -2.82342155e-02, -4.14347462e-02,\n",
       "        -3.27155180e-02, -2.70216204e-02, -3.08829825e-02,\n",
       "        -2.41248421e-02, -2.11856198e-02, -3.25350501e-02,\n",
       "        -4.70950790e-02, -5.01355194e-02, -5.47169149e-02,\n",
       "        -6.18946403e-02, -6.33797944e-02, -6.30733073e-02,\n",
       "        -5.67258969e-02, -5.66955060e-02, -5.95612749e-02,\n",
       "        -6.21123053e-02, -6.04779162e-02, -5.93647584e-02,\n",
       "        -5.55843934e-02, -5.39322644e-02, -5.58042713e-02,\n",
       "        -6.18325882e-02],\n",
       "       [-6.14882968e-02, -5.87481931e-02, -6.08170703e-02,\n",
       "        -6.21529594e-02, -5.85202537e-02, -6.01081960e-02,\n",
       "        -5.88684343e-02, -5.75659052e-02, -6.42788708e-02,\n",
       "        -6.07935712e-02, -5.99342287e-02, -5.86145744e-02,\n",
       "        -5.85893430e-02, -6.01017401e-02, -5.84829636e-02,\n",
       "        -6.25836626e-02, -6.61656559e-02, -6.44165725e-02,\n",
       "        -5.96577637e-02, -6.41849861e-02, -6.88637644e-02,\n",
       "        -6.58424199e-02, -5.87671995e-02, -6.36376068e-02,\n",
       "        -6.56181127e-02, -6.81276396e-02, -7.26634040e-02,\n",
       "        -6.76089376e-02],\n",
       "       [-5.80542386e-02, -4.84814905e-02, -4.88757007e-02,\n",
       "        -4.93514389e-02, -4.69199456e-02, -4.73515540e-02,\n",
       "        -4.48913835e-02, -4.18130681e-02, -4.18238454e-02,\n",
       "        -4.56574857e-02, -4.83830832e-02, -4.07104231e-02,\n",
       "        -1.85447969e-02, -8.09847843e-03, -8.61877203e-03,\n",
       "        -1.13133155e-02, -9.28925537e-03, -1.01174144e-02,\n",
       "        -1.64277088e-02, -2.74235960e-02, -4.59523350e-02,\n",
       "        -5.78629188e-02, -5.89204095e-02, -5.15295677e-02,\n",
       "        -3.92996557e-02, -3.92530859e-02, -4.23899777e-02,\n",
       "        -4.22645472e-02],\n",
       "       [-3.89253944e-02, -3.93832102e-02, -3.31276320e-02,\n",
       "        -2.02725250e-02, -2.78988183e-02, -5.37456945e-02,\n",
       "        -5.98623492e-02, -6.30508512e-02, -6.10028058e-02,\n",
       "        -4.35612425e-02, -2.46766973e-02, -9.34749097e-03,\n",
       "        -6.90584444e-03,  4.16006008e-03,  6.91559026e-03,\n",
       "         7.43651763e-03,  5.60189784e-03, -1.92984560e-04,\n",
       "         2.41284305e-03, -7.33043300e-04, -3.33372504e-03,\n",
       "        -5.41910622e-03, -2.72376952e-03, -2.66779843e-03,\n",
       "        -2.80540437e-03, -5.53012174e-03, -8.08946136e-03,\n",
       "        -7.30608311e-03],\n",
       "       [-6.63324725e-03, -1.02982847e-02, -1.06550260e-02,\n",
       "        -1.37915602e-02, -2.01036204e-02, -2.78219897e-02,\n",
       "        -2.36597061e-02, -1.58612933e-02, -1.38642462e-02,\n",
       "        -1.28173670e-02, -1.66547913e-02, -2.60715988e-02,\n",
       "        -3.37654762e-02, -4.63359542e-02, -4.30719107e-02,\n",
       "        -4.75202464e-02, -5.26537523e-02, -4.98067401e-02,\n",
       "        -4.15299200e-02, -3.22578736e-02, -3.05234455e-02,\n",
       "        -4.52703498e-02, -4.79306355e-02, -2.88490653e-02,\n",
       "        -1.36255771e-02, -6.96694804e-03, -3.98475770e-03,\n",
       "        -2.70340475e-03],\n",
       "       [-3.66962398e-03,  2.41413378e-04, -2.66060117e-03,\n",
       "        -4.94177593e-03, -1.05440868e-02, -1.12173576e-02,\n",
       "        -1.80228371e-02, -3.57637033e-02, -3.87052968e-02,\n",
       "        -4.16649505e-02, -4.13714461e-02, -4.08565737e-02,\n",
       "        -4.39603180e-02, -3.79710533e-02, -3.06008421e-02,\n",
       "        -2.29406897e-02, -3.28389637e-04, -3.62806488e-03,\n",
       "        -1.17241265e-02, -1.03951991e-02, -6.70352438e-03,\n",
       "        -5.00330422e-03, -3.08967615e-03, -4.91063157e-03,\n",
       "        -1.12211723e-02, -1.17725851e-02, -1.62436888e-02,\n",
       "        -1.95137989e-02],\n",
       "       [-2.70626321e-02, -3.87940742e-02, -4.88817543e-02,\n",
       "        -6.17487617e-02, -5.54624423e-02, -3.95495780e-02,\n",
       "        -3.51548046e-02, -3.30591872e-02, -2.71728989e-02,\n",
       "        -2.80427635e-02, -3.02777346e-02, -1.85053162e-02,\n",
       "        -8.24599992e-03, -1.01963105e-02, -1.18759852e-02,\n",
       "        -1.00735696e-02, -1.39870988e-02, -1.86445303e-02,\n",
       "        -2.37021241e-02, -2.07080785e-02, -1.14772655e-02,\n",
       "        -6.33396721e-03, -1.15894703e-02, -1.15294261e-02,\n",
       "        -1.23920348e-02, -1.38815846e-02, -1.89752653e-02,\n",
       "        -2.22179797e-02],\n",
       "       [-2.32351776e-02, -1.70372501e-02, -1.71564315e-02,\n",
       "        -3.30143645e-02, -3.78823578e-02, -4.24509533e-02,\n",
       "        -4.70508598e-02, -4.71480563e-02, -4.80818190e-02,\n",
       "        -5.41514270e-02, -5.49059100e-02, -5.89831322e-02,\n",
       "        -6.48566857e-02, -7.12363720e-02, -6.67128786e-02,\n",
       "        -6.01783842e-02, -6.09675571e-02, -5.98758273e-02,\n",
       "        -6.01091571e-02, -6.08466193e-02, -6.21132292e-02,\n",
       "        -5.85905388e-02, -5.83716743e-02, -5.58974557e-02,\n",
       "        -5.32337725e-02, -5.48602715e-02, -5.70197552e-02,\n",
       "        -6.03196546e-02],\n",
       "       [-5.54452911e-02, -5.77551425e-02, -5.94556816e-02,\n",
       "        -6.48608506e-02, -6.39546067e-02, -6.02940731e-02,\n",
       "        -6.49118945e-02, -6.71391264e-02, -6.54176101e-02,\n",
       "        -6.73717931e-02, -6.69821501e-02, -6.30217567e-02,\n",
       "        -6.07515834e-02, -6.01584315e-02, -5.99048324e-02,\n",
       "        -5.76401204e-02, -5.32258712e-02, -5.30868173e-02,\n",
       "        -5.20330481e-02, -5.13353199e-02, -5.01469448e-02,\n",
       "        -5.28253801e-02, -4.77750711e-02, -1.46056227e-02,\n",
       "        -5.23419399e-03, -6.67046197e-03, -4.48234193e-03,\n",
       "        -4.90063895e-03],\n",
       "       [-5.57886017e-03, -3.98510462e-03, -3.49205500e-03,\n",
       "        -2.05448223e-03, -1.14929746e-03, -3.65345011e-04,\n",
       "        -2.06525810e-03, -2.63989507e-03, -5.69788332e-04,\n",
       "         5.78280189e-04,  3.90114656e-05, -1.46357506e-03,\n",
       "        -8.39467533e-03, -1.32975876e-02, -1.55453384e-02,\n",
       "        -1.46688074e-02, -2.08204407e-02, -2.55739558e-02,\n",
       "        -3.49503197e-02, -4.02794667e-02, -4.45606112e-02,\n",
       "        -4.85563427e-02, -5.10956571e-02, -4.75394204e-02,\n",
       "        -4.14871424e-02, -3.92653011e-02, -5.01214527e-02,\n",
       "        -5.39947525e-02],\n",
       "       [-5.66730052e-02, -4.93102670e-02, -5.29394746e-02,\n",
       "        -4.68390547e-02, -3.90844010e-02, -1.75002199e-02,\n",
       "        -1.36823757e-02, -1.28658125e-02, -1.31642073e-02,\n",
       "        -1.55897597e-02, -1.97053067e-02, -3.42267007e-02,\n",
       "        -5.05888127e-02, -6.01397082e-02, -5.74094951e-02,\n",
       "        -5.85213788e-02, -4.28986326e-02, -3.52281146e-02,\n",
       "        -3.93264070e-02, -4.28625196e-02, -4.08541895e-02,\n",
       "        -4.00428921e-02, -4.14833836e-02, -4.10187580e-02,\n",
       "        -4.40625586e-02, -4.78279293e-02, -4.79588285e-02,\n",
       "        -3.67986113e-02],\n",
       "       [-2.32903659e-02, -1.88153442e-02, -1.64172426e-02,\n",
       "        -1.24626141e-02, -6.48694811e-03, -7.72813521e-03,\n",
       "        -8.88036191e-03, -3.92357120e-03, -5.89896052e-04,\n",
       "        -2.91132578e-03, -3.90779926e-03, -9.97754745e-03,\n",
       "        -1.74682774e-02, -2.74708737e-02, -3.01325526e-02,\n",
       "        -3.18123773e-02, -3.76883075e-02, -4.11840938e-02,\n",
       "        -4.62308973e-02, -2.97976807e-02, -1.61019415e-02,\n",
       "        -8.35458934e-03, -1.45253241e-02, -1.28345061e-02,\n",
       "        -1.75358206e-02, -2.92381272e-02, -3.67987975e-02,\n",
       "        -3.66283990e-02],\n",
       "       [-3.96978408e-02, -4.55045998e-02, -4.30674031e-02,\n",
       "        -3.78692336e-02, -2.55187582e-02, -1.90997738e-02,\n",
       "        -2.12485865e-02, -1.59243643e-02, -1.57749038e-02,\n",
       "        -1.65661108e-02, -9.70231928e-03, -5.90151129e-03,\n",
       "        -4.96903621e-03, -4.81061637e-03, -3.19662644e-03,\n",
       "        -4.30214033e-03, -4.80162119e-03, -9.08304285e-03,\n",
       "        -2.18988750e-02, -3.22647393e-02, -3.92137989e-02,\n",
       "        -3.95484418e-02, -4.34564687e-02, -3.47697474e-02,\n",
       "        -3.79735418e-02, -4.50351648e-02, -4.83728796e-02,\n",
       "        -4.88868691e-02],\n",
       "       [-4.95358929e-02, -2.76090764e-02, -1.25442613e-02,\n",
       "        -1.61833726e-02, -1.99761763e-02, -1.63208731e-02,\n",
       "        -1.45361843e-02, -1.66963600e-02, -2.11723093e-02,\n",
       "        -1.54944742e-02, -1.45284524e-02, -1.71228796e-02,\n",
       "        -1.94689054e-02, -2.56979894e-02, -2.00462118e-02,\n",
       "        -1.62045266e-02, -1.35118859e-02, -1.36705516e-02,\n",
       "        -1.82715729e-02, -2.10350323e-02, -1.89948920e-02,\n",
       "        -1.96739472e-02, -2.91920882e-02, -4.02131192e-02,\n",
       "        -4.29023877e-02, -4.81526963e-02, -4.76495735e-02,\n",
       "        -4.98249903e-02],\n",
       "       [-5.96489646e-02, -5.14593534e-02, -5.02035916e-02,\n",
       "        -5.25938980e-02, -4.87669632e-02, -5.08658849e-02,\n",
       "        -5.58074266e-02, -6.05257861e-02, -6.09727651e-02,\n",
       "        -5.69089241e-02, -6.02055341e-02, -6.28438741e-02,\n",
       "        -6.10517487e-02, -6.32503554e-02, -6.57525137e-02,\n",
       "        -6.40845969e-02, -6.96557313e-02, -6.83499426e-02,\n",
       "        -4.81171831e-02, -1.91382300e-02, -1.08570335e-02,\n",
       "        -1.61527712e-02, -8.20306875e-03, -1.03474390e-02,\n",
       "        -1.12332460e-02, -1.04207192e-02, -1.24836685e-02,\n",
       "        -9.06387996e-03],\n",
       "       [-9.57972370e-03, -1.19557381e-02, -9.36607551e-03,\n",
       "        -8.32193065e-03, -5.78143820e-03, -6.35132194e-03,\n",
       "        -9.55085643e-03, -4.15734528e-03, -6.64110621e-03,\n",
       "        -1.52830556e-02, -1.40248202e-02, -1.45477802e-02,\n",
       "        -1.45259388e-02, -1.39780678e-02, -9.06780455e-03,\n",
       "        -7.52857700e-03, -9.85268876e-03, -9.21905879e-03,\n",
       "        -1.28256772e-02, -1.31716924e-02, -1.14152739e-02,\n",
       "        -1.56845897e-02, -2.33247075e-02, -4.14459594e-02,\n",
       "        -4.20795195e-02, -4.32669856e-02, -4.54147458e-02,\n",
       "        -4.25163060e-02],\n",
       "       [-4.12009470e-02, -4.44566719e-02, -4.54327501e-02,\n",
       "        -4.33465503e-02, -2.91339383e-02, -1.14184069e-02,\n",
       "        -1.26199620e-02, -1.37627432e-02, -1.12976329e-02,\n",
       "        -4.41506738e-03, -4.87109087e-03, -3.38065252e-03,\n",
       "        -4.78074607e-03, -5.86754316e-03, -9.49263666e-03,\n",
       "        -1.43991392e-02, -2.63883527e-02, -4.40145992e-02,\n",
       "        -5.27813621e-02, -5.09661771e-02, -5.09836599e-02,\n",
       "        -4.80351374e-02, -4.82629165e-02, -5.14744781e-02,\n",
       "        -5.25823645e-02, -5.48996776e-02, -4.44791690e-02,\n",
       "        -2.71152277e-02]], dtype=float32)"
      ]
     },
     "execution_count": 37,
     "metadata": {},
     "output_type": "execute_result"
    }
   ],
   "source": [
    "X_train[0]"
   ]
  },
  {
   "cell_type": "code",
   "execution_count": 38,
   "metadata": {},
   "outputs": [],
   "source": [
    "X_train=X_train.reshape(X_train.shape[0],28,28,1)\n",
    "X_test=X_test.reshape(X_test.shape[0],28,28,1)"
   ]
  },
  {
   "cell_type": "code",
   "execution_count": 39,
   "metadata": {},
   "outputs": [
    {
     "data": {
      "text/plain": [
       "((288, 28, 28, 1), (238, 28, 28, 1))"
      ]
     },
     "execution_count": 39,
     "metadata": {},
     "output_type": "execute_result"
    }
   ],
   "source": [
    "X_train.shape , X_test.shape"
   ]
  },
  {
   "cell_type": "code",
   "execution_count": 40,
   "metadata": {},
   "outputs": [
    {
     "data": {
      "text/plain": [
       "(28, 28, 1)"
      ]
     },
     "execution_count": 40,
     "metadata": {},
     "output_type": "execute_result"
    }
   ],
   "source": [
    "X_train[0].shape"
   ]
  },
  {
   "cell_type": "code",
   "execution_count": 41,
   "metadata": {},
   "outputs": [],
   "source": [
    "y_test_original=y_test"
   ]
  },
  {
   "cell_type": "code",
   "execution_count": 42,
   "metadata": {},
   "outputs": [
    {
     "data": {
      "text/plain": [
       "285    1\n",
       "549    2\n",
       "350    1\n",
       "91     1\n",
       "725    3\n",
       "      ..\n",
       "180    1\n",
       "185    1\n",
       "664    2\n",
       "755    1\n",
       "639    2\n",
       "Name: Accent_num, Length: 238, dtype: int64"
      ]
     },
     "execution_count": 42,
     "metadata": {},
     "output_type": "execute_result"
    }
   ],
   "source": [
    "y_test_original"
   ]
  },
  {
   "cell_type": "code",
   "execution_count": 43,
   "metadata": {},
   "outputs": [
    {
     "data": {
      "text/plain": [
       "1    130\n",
       "2     67\n",
       "3     41\n",
       "Name: Accent_num, dtype: int64"
      ]
     },
     "execution_count": 43,
     "metadata": {},
     "output_type": "execute_result"
    }
   ],
   "source": [
    "y_test_original.value_counts()"
   ]
  },
  {
   "cell_type": "code",
   "execution_count": 44,
   "metadata": {},
   "outputs": [
    {
     "data": {
      "text/plain": [
       "0      1\n",
       "1      1\n",
       "2      1\n",
       "3      1\n",
       "4      1\n",
       "      ..\n",
       "283    3\n",
       "284    3\n",
       "285    3\n",
       "286    3\n",
       "287    3\n",
       "Name: Accent_num, Length: 288, dtype: int64"
      ]
     },
     "execution_count": 44,
     "metadata": {},
     "output_type": "execute_result"
    }
   ],
   "source": [
    "y_train_under"
   ]
  },
  {
   "cell_type": "code",
   "execution_count": 45,
   "metadata": {},
   "outputs": [],
   "source": [
    "y_train=np_utils.to_categorical(y_train_under,4)\n",
    "y_test=np_utils.to_categorical(y_test,4)"
   ]
  },
  {
   "cell_type": "code",
   "execution_count": 46,
   "metadata": {},
   "outputs": [
    {
     "data": {
      "text/plain": [
       "(288, 4)"
      ]
     },
     "execution_count": 46,
     "metadata": {},
     "output_type": "execute_result"
    }
   ],
   "source": [
    "y_train.shape"
   ]
  },
  {
   "cell_type": "code",
   "execution_count": 47,
   "metadata": {},
   "outputs": [
    {
     "data": {
      "text/plain": [
       "(238, 4)"
      ]
     },
     "execution_count": 47,
     "metadata": {},
     "output_type": "execute_result"
    }
   ],
   "source": [
    "y_test.shape"
   ]
  },
  {
   "cell_type": "code",
   "execution_count": 48,
   "metadata": {},
   "outputs": [
    {
     "data": {
      "text/plain": [
       "((288, 4), (238, 4))"
      ]
     },
     "execution_count": 48,
     "metadata": {},
     "output_type": "execute_result"
    }
   ],
   "source": [
    "y_train.shape , y_test.shape"
   ]
  },
  {
   "cell_type": "code",
   "execution_count": 49,
   "metadata": {},
   "outputs": [
    {
     "data": {
      "text/plain": [
       "array([[0., 1., 0., 0.],\n",
       "       [0., 1., 0., 0.],\n",
       "       [0., 1., 0., 0.],\n",
       "       ...,\n",
       "       [0., 0., 0., 1.],\n",
       "       [0., 0., 0., 1.],\n",
       "       [0., 0., 0., 1.]], dtype=float32)"
      ]
     },
     "execution_count": 49,
     "metadata": {},
     "output_type": "execute_result"
    }
   ],
   "source": [
    "y_train"
   ]
  },
  {
   "cell_type": "code",
   "execution_count": 50,
   "metadata": {},
   "outputs": [
    {
     "data": {
      "text/plain": [
       "array([[0., 1., 0., 0.],\n",
       "       [0., 0., 1., 0.],\n",
       "       [0., 1., 0., 0.],\n",
       "       [0., 1., 0., 0.],\n",
       "       [0., 0., 0., 1.],\n",
       "       [0., 1., 0., 0.],\n",
       "       [0., 1., 0., 0.],\n",
       "       [0., 1., 0., 0.],\n",
       "       [0., 0., 1., 0.],\n",
       "       [0., 0., 1., 0.],\n",
       "       [0., 1., 0., 0.],\n",
       "       [0., 1., 0., 0.],\n",
       "       [0., 0., 0., 1.],\n",
       "       [0., 1., 0., 0.],\n",
       "       [0., 0., 1., 0.],\n",
       "       [0., 0., 0., 1.],\n",
       "       [0., 0., 1., 0.],\n",
       "       [0., 1., 0., 0.],\n",
       "       [0., 1., 0., 0.],\n",
       "       [0., 0., 0., 1.],\n",
       "       [0., 1., 0., 0.],\n",
       "       [0., 1., 0., 0.],\n",
       "       [0., 0., 1., 0.],\n",
       "       [0., 1., 0., 0.],\n",
       "       [0., 0., 0., 1.],\n",
       "       [0., 1., 0., 0.],\n",
       "       [0., 1., 0., 0.],\n",
       "       [0., 1., 0., 0.],\n",
       "       [0., 1., 0., 0.],\n",
       "       [0., 1., 0., 0.],\n",
       "       [0., 1., 0., 0.],\n",
       "       [0., 0., 1., 0.],\n",
       "       [0., 1., 0., 0.],\n",
       "       [0., 0., 1., 0.],\n",
       "       [0., 1., 0., 0.],\n",
       "       [0., 1., 0., 0.],\n",
       "       [0., 1., 0., 0.],\n",
       "       [0., 0., 0., 1.],\n",
       "       [0., 1., 0., 0.],\n",
       "       [0., 1., 0., 0.],\n",
       "       [0., 0., 1., 0.],\n",
       "       [0., 1., 0., 0.],\n",
       "       [0., 1., 0., 0.],\n",
       "       [0., 1., 0., 0.],\n",
       "       [0., 1., 0., 0.],\n",
       "       [0., 0., 1., 0.],\n",
       "       [0., 1., 0., 0.],\n",
       "       [0., 1., 0., 0.],\n",
       "       [0., 0., 0., 1.],\n",
       "       [0., 1., 0., 0.],\n",
       "       [0., 1., 0., 0.],\n",
       "       [0., 0., 0., 1.],\n",
       "       [0., 0., 1., 0.],\n",
       "       [0., 0., 0., 1.],\n",
       "       [0., 1., 0., 0.],\n",
       "       [0., 1., 0., 0.],\n",
       "       [0., 0., 1., 0.],\n",
       "       [0., 1., 0., 0.],\n",
       "       [0., 1., 0., 0.],\n",
       "       [0., 0., 1., 0.],\n",
       "       [0., 0., 1., 0.],\n",
       "       [0., 0., 1., 0.],\n",
       "       [0., 1., 0., 0.],\n",
       "       [0., 1., 0., 0.],\n",
       "       [0., 0., 0., 1.],\n",
       "       [0., 1., 0., 0.],\n",
       "       [0., 1., 0., 0.],\n",
       "       [0., 0., 1., 0.],\n",
       "       [0., 1., 0., 0.],\n",
       "       [0., 1., 0., 0.],\n",
       "       [0., 0., 0., 1.],\n",
       "       [0., 1., 0., 0.],\n",
       "       [0., 0., 1., 0.],\n",
       "       [0., 0., 1., 0.],\n",
       "       [0., 1., 0., 0.],\n",
       "       [0., 1., 0., 0.],\n",
       "       [0., 0., 1., 0.],\n",
       "       [0., 0., 0., 1.],\n",
       "       [0., 0., 1., 0.],\n",
       "       [0., 1., 0., 0.],\n",
       "       [0., 0., 1., 0.],\n",
       "       [0., 1., 0., 0.],\n",
       "       [0., 1., 0., 0.],\n",
       "       [0., 0., 1., 0.],\n",
       "       [0., 0., 1., 0.],\n",
       "       [0., 0., 0., 1.],\n",
       "       [0., 1., 0., 0.],\n",
       "       [0., 1., 0., 0.],\n",
       "       [0., 0., 1., 0.],\n",
       "       [0., 0., 1., 0.],\n",
       "       [0., 1., 0., 0.],\n",
       "       [0., 0., 1., 0.],\n",
       "       [0., 1., 0., 0.],\n",
       "       [0., 1., 0., 0.],\n",
       "       [0., 1., 0., 0.],\n",
       "       [0., 1., 0., 0.],\n",
       "       [0., 1., 0., 0.],\n",
       "       [0., 0., 1., 0.],\n",
       "       [0., 0., 0., 1.],\n",
       "       [0., 1., 0., 0.],\n",
       "       [0., 0., 1., 0.],\n",
       "       [0., 0., 0., 1.],\n",
       "       [0., 0., 0., 1.],\n",
       "       [0., 0., 1., 0.],\n",
       "       [0., 0., 0., 1.],\n",
       "       [0., 1., 0., 0.],\n",
       "       [0., 0., 1., 0.],\n",
       "       [0., 0., 0., 1.],\n",
       "       [0., 1., 0., 0.],\n",
       "       [0., 0., 1., 0.],\n",
       "       [0., 1., 0., 0.],\n",
       "       [0., 0., 0., 1.],\n",
       "       [0., 1., 0., 0.],\n",
       "       [0., 1., 0., 0.],\n",
       "       [0., 1., 0., 0.],\n",
       "       [0., 1., 0., 0.],\n",
       "       [0., 1., 0., 0.],\n",
       "       [0., 0., 0., 1.],\n",
       "       [0., 1., 0., 0.],\n",
       "       [0., 0., 1., 0.],\n",
       "       [0., 0., 1., 0.],\n",
       "       [0., 0., 1., 0.],\n",
       "       [0., 0., 1., 0.],\n",
       "       [0., 0., 0., 1.],\n",
       "       [0., 0., 1., 0.],\n",
       "       [0., 1., 0., 0.],\n",
       "       [0., 0., 1., 0.],\n",
       "       [0., 0., 0., 1.],\n",
       "       [0., 1., 0., 0.],\n",
       "       [0., 1., 0., 0.],\n",
       "       [0., 1., 0., 0.],\n",
       "       [0., 1., 0., 0.],\n",
       "       [0., 0., 1., 0.],\n",
       "       [0., 0., 1., 0.],\n",
       "       [0., 1., 0., 0.],\n",
       "       [0., 0., 0., 1.],\n",
       "       [0., 0., 1., 0.],\n",
       "       [0., 1., 0., 0.],\n",
       "       [0., 0., 1., 0.],\n",
       "       [0., 0., 0., 1.],\n",
       "       [0., 0., 1., 0.],\n",
       "       [0., 1., 0., 0.],\n",
       "       [0., 1., 0., 0.],\n",
       "       [0., 1., 0., 0.],\n",
       "       [0., 0., 1., 0.],\n",
       "       [0., 1., 0., 0.],\n",
       "       [0., 0., 0., 1.],\n",
       "       [0., 0., 1., 0.],\n",
       "       [0., 1., 0., 0.],\n",
       "       [0., 1., 0., 0.],\n",
       "       [0., 1., 0., 0.],\n",
       "       [0., 1., 0., 0.],\n",
       "       [0., 0., 1., 0.],\n",
       "       [0., 1., 0., 0.],\n",
       "       [0., 0., 1., 0.],\n",
       "       [0., 0., 1., 0.],\n",
       "       [0., 0., 1., 0.],\n",
       "       [0., 1., 0., 0.],\n",
       "       [0., 1., 0., 0.],\n",
       "       [0., 1., 0., 0.],\n",
       "       [0., 0., 1., 0.],\n",
       "       [0., 0., 0., 1.],\n",
       "       [0., 0., 0., 1.],\n",
       "       [0., 0., 0., 1.],\n",
       "       [0., 1., 0., 0.],\n",
       "       [0., 0., 1., 0.],\n",
       "       [0., 0., 1., 0.],\n",
       "       [0., 1., 0., 0.],\n",
       "       [0., 0., 1., 0.],\n",
       "       [0., 1., 0., 0.],\n",
       "       [0., 0., 0., 1.],\n",
       "       [0., 0., 0., 1.],\n",
       "       [0., 1., 0., 0.],\n",
       "       [0., 1., 0., 0.],\n",
       "       [0., 1., 0., 0.],\n",
       "       [0., 1., 0., 0.],\n",
       "       [0., 0., 0., 1.],\n",
       "       [0., 1., 0., 0.],\n",
       "       [0., 0., 0., 1.],\n",
       "       [0., 1., 0., 0.],\n",
       "       [0., 1., 0., 0.],\n",
       "       [0., 0., 0., 1.],\n",
       "       [0., 1., 0., 0.],\n",
       "       [0., 1., 0., 0.],\n",
       "       [0., 1., 0., 0.],\n",
       "       [0., 1., 0., 0.],\n",
       "       [0., 1., 0., 0.],\n",
       "       [0., 0., 0., 1.],\n",
       "       [0., 1., 0., 0.],\n",
       "       [0., 0., 1., 0.],\n",
       "       [0., 0., 1., 0.],\n",
       "       [0., 1., 0., 0.],\n",
       "       [0., 0., 1., 0.],\n",
       "       [0., 1., 0., 0.],\n",
       "       [0., 0., 0., 1.],\n",
       "       [0., 1., 0., 0.],\n",
       "       [0., 1., 0., 0.],\n",
       "       [0., 1., 0., 0.],\n",
       "       [0., 0., 1., 0.],\n",
       "       [0., 1., 0., 0.],\n",
       "       [0., 1., 0., 0.],\n",
       "       [0., 1., 0., 0.],\n",
       "       [0., 0., 0., 1.],\n",
       "       [0., 0., 0., 1.],\n",
       "       [0., 1., 0., 0.],\n",
       "       [0., 0., 1., 0.],\n",
       "       [0., 0., 1., 0.],\n",
       "       [0., 0., 0., 1.],\n",
       "       [0., 1., 0., 0.],\n",
       "       [0., 0., 1., 0.],\n",
       "       [0., 1., 0., 0.],\n",
       "       [0., 0., 0., 1.],\n",
       "       [0., 0., 1., 0.],\n",
       "       [0., 0., 0., 1.],\n",
       "       [0., 1., 0., 0.],\n",
       "       [0., 1., 0., 0.],\n",
       "       [0., 1., 0., 0.],\n",
       "       [0., 0., 1., 0.],\n",
       "       [0., 0., 1., 0.],\n",
       "       [0., 1., 0., 0.],\n",
       "       [0., 1., 0., 0.],\n",
       "       [0., 1., 0., 0.],\n",
       "       [0., 1., 0., 0.],\n",
       "       [0., 1., 0., 0.],\n",
       "       [0., 0., 1., 0.],\n",
       "       [0., 1., 0., 0.],\n",
       "       [0., 0., 1., 0.],\n",
       "       [0., 0., 0., 1.],\n",
       "       [0., 1., 0., 0.],\n",
       "       [0., 1., 0., 0.],\n",
       "       [0., 0., 1., 0.],\n",
       "       [0., 1., 0., 0.],\n",
       "       [0., 1., 0., 0.],\n",
       "       [0., 1., 0., 0.],\n",
       "       [0., 1., 0., 0.],\n",
       "       [0., 0., 1., 0.],\n",
       "       [0., 1., 0., 0.],\n",
       "       [0., 0., 1., 0.]], dtype=float32)"
      ]
     },
     "execution_count": 50,
     "metadata": {},
     "output_type": "execute_result"
    }
   ],
   "source": [
    "y_test"
   ]
  },
  {
   "cell_type": "code",
   "execution_count": 51,
   "metadata": {},
   "outputs": [
    {
     "data": {
      "text/plain": [
       "numpy.ndarray"
      ]
     },
     "execution_count": 51,
     "metadata": {},
     "output_type": "execute_result"
    }
   ],
   "source": [
    "type(X_train)"
   ]
  },
  {
   "cell_type": "code",
   "execution_count": 52,
   "metadata": {},
   "outputs": [
    {
     "data": {
      "text/plain": [
       "numpy.ndarray"
      ]
     },
     "execution_count": 52,
     "metadata": {},
     "output_type": "execute_result"
    }
   ],
   "source": [
    "type(y_train)"
   ]
  },
  {
   "cell_type": "code",
   "execution_count": 53,
   "metadata": {},
   "outputs": [
    {
     "data": {
      "text/plain": [
       "numpy.ndarray"
      ]
     },
     "execution_count": 53,
     "metadata": {},
     "output_type": "execute_result"
    }
   ],
   "source": [
    "type(y_test)"
   ]
  },
  {
   "cell_type": "markdown",
   "metadata": {},
   "source": [
    "# CNN model for classification"
   ]
  },
  {
   "cell_type": "code",
   "execution_count": 54,
   "metadata": {},
   "outputs": [],
   "source": [
    "cnn=Sequential()"
   ]
  },
  {
   "cell_type": "code",
   "execution_count": 55,
   "metadata": {},
   "outputs": [],
   "source": [
    "cnn.add(Conv2D(filters = 4,\n",
    "               kernel_size=(3,3),\n",
    "               activation='relu',\n",
    "               input_shape=(28,28,1)))"
   ]
  },
  {
   "cell_type": "code",
   "execution_count": 56,
   "metadata": {},
   "outputs": [],
   "source": [
    "cnn.add(MaxPooling2D(pool_size=(2,2)))"
   ]
  },
  {
   "cell_type": "code",
   "execution_count": 57,
   "metadata": {},
   "outputs": [],
   "source": [
    "cnn.add(Flatten())\n",
    "\n",
    "# Add a densely-connected layer with 128 neurons.\n",
    "cnn.add(Dense(128,activation ='relu'))\n",
    "cnn.add(Dense(64,activation ='relu'))\n",
    "\n",
    "\n",
    "# Add output layer with 10 neurons.\n",
    "cnn.add(Dense(4,activation='softmax'))\n",
    "\n",
    "# compiler\n",
    "cnn.compile(loss='categorical_crossentropy',\n",
    "           optimizer = 'adam',\n",
    "            metrics = ['accuracy']\n",
    "           )"
   ]
  },
  {
   "cell_type": "code",
   "execution_count": 58,
   "metadata": {},
   "outputs": [
    {
     "name": "stdout",
     "output_type": "stream",
     "text": [
      "Epoch 1/150\n",
      "6/6 [==============================] - 0s 29ms/step - loss: 1.3769 - accuracy: 0.3021 - val_loss: 1.3577 - val_accuracy: 0.2815\n",
      "Epoch 2/150\n",
      "6/6 [==============================] - 0s 8ms/step - loss: 1.3365 - accuracy: 0.3438 - val_loss: 1.2813 - val_accuracy: 0.5462\n",
      "Epoch 3/150\n",
      "6/6 [==============================] - 0s 8ms/step - loss: 1.2522 - accuracy: 0.3333 - val_loss: 1.1527 - val_accuracy: 0.5462\n",
      "Epoch 4/150\n",
      "6/6 [==============================] - 0s 9ms/step - loss: 1.1503 - accuracy: 0.3333 - val_loss: 1.0880 - val_accuracy: 0.5462\n",
      "Epoch 5/150\n",
      "6/6 [==============================] - 0s 9ms/step - loss: 1.1064 - accuracy: 0.3299 - val_loss: 1.1052 - val_accuracy: 0.3319\n",
      "Epoch 6/150\n",
      "6/6 [==============================] - 0s 9ms/step - loss: 1.0879 - accuracy: 0.3750 - val_loss: 1.0689 - val_accuracy: 0.4790\n",
      "Epoch 7/150\n",
      "6/6 [==============================] - 0s 9ms/step - loss: 1.0800 - accuracy: 0.4167 - val_loss: 1.1037 - val_accuracy: 0.3782\n",
      "Epoch 8/150\n",
      "6/6 [==============================] - 0s 9ms/step - loss: 1.0767 - accuracy: 0.4549 - val_loss: 1.0229 - val_accuracy: 0.5420\n",
      "Epoch 9/150\n",
      "6/6 [==============================] - 0s 8ms/step - loss: 1.0574 - accuracy: 0.4583 - val_loss: 1.0996 - val_accuracy: 0.2731\n",
      "Epoch 10/150\n",
      "6/6 [==============================] - 0s 9ms/step - loss: 1.0495 - accuracy: 0.4549 - val_loss: 1.0432 - val_accuracy: 0.5084\n",
      "Epoch 11/150\n",
      "6/6 [==============================] - 0s 10ms/step - loss: 1.0415 - accuracy: 0.4757 - val_loss: 1.0593 - val_accuracy: 0.4370\n",
      "Epoch 12/150\n",
      "6/6 [==============================] - 0s 9ms/step - loss: 1.0225 - accuracy: 0.5347 - val_loss: 1.0924 - val_accuracy: 0.3613\n",
      "Epoch 13/150\n",
      "6/6 [==============================] - 0s 10ms/step - loss: 1.0143 - accuracy: 0.5451 - val_loss: 1.0039 - val_accuracy: 0.5672\n",
      "Epoch 14/150\n",
      "6/6 [==============================] - 0s 10ms/step - loss: 1.0099 - accuracy: 0.4896 - val_loss: 1.0806 - val_accuracy: 0.4412\n",
      "Epoch 15/150\n",
      "6/6 [==============================] - 0s 10ms/step - loss: 0.9847 - accuracy: 0.5174 - val_loss: 1.0198 - val_accuracy: 0.4664\n",
      "Epoch 16/150\n",
      "6/6 [==============================] - 0s 10ms/step - loss: 0.9736 - accuracy: 0.5972 - val_loss: 1.0335 - val_accuracy: 0.5042\n",
      "Epoch 17/150\n",
      "6/6 [==============================] - 0s 10ms/step - loss: 0.9458 - accuracy: 0.5764 - val_loss: 0.9972 - val_accuracy: 0.5504\n",
      "Epoch 18/150\n",
      "6/6 [==============================] - 0s 9ms/step - loss: 0.9294 - accuracy: 0.6007 - val_loss: 1.0568 - val_accuracy: 0.4454\n",
      "Epoch 19/150\n",
      "6/6 [==============================] - 0s 10ms/step - loss: 0.9170 - accuracy: 0.6146 - val_loss: 1.0011 - val_accuracy: 0.5336\n",
      "Epoch 20/150\n",
      "6/6 [==============================] - 0s 10ms/step - loss: 0.9013 - accuracy: 0.6111 - val_loss: 1.0281 - val_accuracy: 0.4790\n",
      "Epoch 21/150\n",
      "6/6 [==============================] - 0s 10ms/step - loss: 0.8871 - accuracy: 0.6285 - val_loss: 0.9802 - val_accuracy: 0.5672\n",
      "Epoch 22/150\n",
      "6/6 [==============================] - 0s 10ms/step - loss: 0.8749 - accuracy: 0.6042 - val_loss: 1.0102 - val_accuracy: 0.5168\n",
      "Epoch 23/150\n",
      "6/6 [==============================] - 0s 10ms/step - loss: 0.8518 - accuracy: 0.6493 - val_loss: 1.0176 - val_accuracy: 0.5210\n",
      "Epoch 24/150\n",
      "6/6 [==============================] - 0s 10ms/step - loss: 0.8472 - accuracy: 0.6528 - val_loss: 1.0037 - val_accuracy: 0.5126\n",
      "Epoch 25/150\n",
      "6/6 [==============================] - 0s 10ms/step - loss: 0.8240 - accuracy: 0.6771 - val_loss: 1.0708 - val_accuracy: 0.4622\n",
      "Epoch 26/150\n",
      "6/6 [==============================] - 0s 11ms/step - loss: 0.8055 - accuracy: 0.6875 - val_loss: 0.9553 - val_accuracy: 0.5798\n",
      "Epoch 27/150\n",
      "6/6 [==============================] - 0s 10ms/step - loss: 0.8071 - accuracy: 0.6597 - val_loss: 1.0928 - val_accuracy: 0.4538\n",
      "Epoch 28/150\n",
      "6/6 [==============================] - 0s 11ms/step - loss: 0.7874 - accuracy: 0.6771 - val_loss: 1.0648 - val_accuracy: 0.4538\n",
      "Epoch 29/150\n",
      "6/6 [==============================] - 0s 11ms/step - loss: 0.7614 - accuracy: 0.7222 - val_loss: 1.0295 - val_accuracy: 0.5000\n",
      "Epoch 30/150\n",
      "6/6 [==============================] - 0s 11ms/step - loss: 0.7483 - accuracy: 0.6875 - val_loss: 1.0620 - val_accuracy: 0.4622\n",
      "Epoch 31/150\n",
      "6/6 [==============================] - 0s 11ms/step - loss: 0.7245 - accuracy: 0.7326 - val_loss: 1.0196 - val_accuracy: 0.5210\n",
      "Epoch 32/150\n",
      "6/6 [==============================] - 0s 10ms/step - loss: 0.7217 - accuracy: 0.7049 - val_loss: 1.0620 - val_accuracy: 0.4748\n",
      "Epoch 33/150\n",
      "6/6 [==============================] - 0s 10ms/step - loss: 0.7130 - accuracy: 0.7257 - val_loss: 1.0880 - val_accuracy: 0.4496\n",
      "Epoch 34/150\n",
      "6/6 [==============================] - 0s 11ms/step - loss: 0.7176 - accuracy: 0.7222 - val_loss: 1.0698 - val_accuracy: 0.4790\n",
      "Epoch 35/150\n",
      "6/6 [==============================] - 0s 10ms/step - loss: 0.6767 - accuracy: 0.7569 - val_loss: 1.1357 - val_accuracy: 0.4286\n",
      "Epoch 36/150\n",
      "6/6 [==============================] - 0s 11ms/step - loss: 0.6745 - accuracy: 0.7465 - val_loss: 0.9764 - val_accuracy: 0.5546\n",
      "Epoch 37/150\n",
      "6/6 [==============================] - 0s 12ms/step - loss: 0.6653 - accuracy: 0.7222 - val_loss: 1.3001 - val_accuracy: 0.3697\n",
      "Epoch 38/150\n",
      "6/6 [==============================] - 0s 12ms/step - loss: 0.6441 - accuracy: 0.7257 - val_loss: 1.0211 - val_accuracy: 0.5252\n",
      "Epoch 39/150\n",
      "6/6 [==============================] - 0s 11ms/step - loss: 0.6274 - accuracy: 0.7604 - val_loss: 1.1082 - val_accuracy: 0.4832\n",
      "Epoch 40/150\n",
      "6/6 [==============================] - 0s 11ms/step - loss: 0.6354 - accuracy: 0.7569 - val_loss: 1.0928 - val_accuracy: 0.4958\n",
      "Epoch 41/150\n",
      "6/6 [==============================] - 0s 11ms/step - loss: 0.6269 - accuracy: 0.7604 - val_loss: 1.1575 - val_accuracy: 0.4496\n",
      "Epoch 42/150\n",
      "6/6 [==============================] - 0s 12ms/step - loss: 0.6268 - accuracy: 0.7396 - val_loss: 1.1554 - val_accuracy: 0.4454\n",
      "Epoch 43/150\n",
      "6/6 [==============================] - 0s 12ms/step - loss: 0.5830 - accuracy: 0.8056 - val_loss: 1.0820 - val_accuracy: 0.5084\n",
      "Epoch 44/150\n",
      "6/6 [==============================] - 0s 11ms/step - loss: 0.5580 - accuracy: 0.8090 - val_loss: 1.2118 - val_accuracy: 0.4286\n",
      "Epoch 45/150\n",
      "6/6 [==============================] - 0s 11ms/step - loss: 0.5574 - accuracy: 0.7917 - val_loss: 1.2860 - val_accuracy: 0.3992\n",
      "Epoch 46/150\n",
      "6/6 [==============================] - 0s 12ms/step - loss: 0.5468 - accuracy: 0.7986 - val_loss: 1.0758 - val_accuracy: 0.5630\n",
      "Epoch 47/150\n",
      "6/6 [==============================] - 0s 12ms/step - loss: 0.5401 - accuracy: 0.8021 - val_loss: 1.3726 - val_accuracy: 0.3908\n",
      "Epoch 48/150\n",
      "6/6 [==============================] - 0s 12ms/step - loss: 0.5392 - accuracy: 0.7951 - val_loss: 1.1369 - val_accuracy: 0.5294\n",
      "Epoch 49/150\n",
      "6/6 [==============================] - 0s 12ms/step - loss: 0.5181 - accuracy: 0.8160 - val_loss: 1.1638 - val_accuracy: 0.5000\n",
      "Epoch 50/150\n",
      "6/6 [==============================] - 0s 12ms/step - loss: 0.5296 - accuracy: 0.7882 - val_loss: 1.3868 - val_accuracy: 0.3992\n",
      "Epoch 51/150\n",
      "6/6 [==============================] - 0s 11ms/step - loss: 0.5136 - accuracy: 0.8125 - val_loss: 1.1201 - val_accuracy: 0.5504\n",
      "Epoch 52/150\n",
      "6/6 [==============================] - 0s 11ms/step - loss: 0.4979 - accuracy: 0.8264 - val_loss: 1.1926 - val_accuracy: 0.4916\n",
      "Epoch 53/150\n",
      "6/6 [==============================] - 0s 13ms/step - loss: 0.4724 - accuracy: 0.8264 - val_loss: 1.3237 - val_accuracy: 0.4286\n",
      "Epoch 54/150\n",
      "6/6 [==============================] - 0s 12ms/step - loss: 0.4745 - accuracy: 0.8160 - val_loss: 1.1316 - val_accuracy: 0.5462\n",
      "Epoch 55/150\n",
      "6/6 [==============================] - 0s 12ms/step - loss: 0.4519 - accuracy: 0.8438 - val_loss: 1.3420 - val_accuracy: 0.4286\n",
      "Epoch 56/150\n",
      "6/6 [==============================] - 0s 12ms/step - loss: 0.4311 - accuracy: 0.8750 - val_loss: 1.2721 - val_accuracy: 0.4832\n",
      "Epoch 57/150\n",
      "6/6 [==============================] - 0s 12ms/step - loss: 0.4081 - accuracy: 0.8611 - val_loss: 1.3183 - val_accuracy: 0.4328\n",
      "Epoch 58/150\n",
      "6/6 [==============================] - 0s 11ms/step - loss: 0.3976 - accuracy: 0.8785 - val_loss: 1.2961 - val_accuracy: 0.4916\n",
      "Epoch 59/150\n"
     ]
    },
    {
     "name": "stdout",
     "output_type": "stream",
     "text": [
      "6/6 [==============================] - 0s 11ms/step - loss: 0.3773 - accuracy: 0.8854 - val_loss: 1.3375 - val_accuracy: 0.4496\n",
      "Epoch 60/150\n",
      "6/6 [==============================] - 0s 11ms/step - loss: 0.3726 - accuracy: 0.8889 - val_loss: 1.2924 - val_accuracy: 0.5210\n",
      "Epoch 61/150\n",
      "6/6 [==============================] - 0s 11ms/step - loss: 0.3639 - accuracy: 0.8819 - val_loss: 1.2940 - val_accuracy: 0.5126\n",
      "Epoch 62/150\n",
      "6/6 [==============================] - 0s 10ms/step - loss: 0.3447 - accuracy: 0.8958 - val_loss: 1.3695 - val_accuracy: 0.4580\n",
      "Epoch 63/150\n",
      "6/6 [==============================] - 0s 10ms/step - loss: 0.3369 - accuracy: 0.8993 - val_loss: 1.3674 - val_accuracy: 0.4790\n",
      "Epoch 64/150\n",
      "6/6 [==============================] - 0s 10ms/step - loss: 0.3259 - accuracy: 0.8958 - val_loss: 1.3632 - val_accuracy: 0.5000\n",
      "Epoch 65/150\n",
      "6/6 [==============================] - 0s 12ms/step - loss: 0.3263 - accuracy: 0.8993 - val_loss: 1.4977 - val_accuracy: 0.4328\n",
      "Epoch 66/150\n",
      "6/6 [==============================] - 0s 12ms/step - loss: 0.3047 - accuracy: 0.9167 - val_loss: 1.3358 - val_accuracy: 0.5252\n",
      "Epoch 67/150\n",
      "6/6 [==============================] - 0s 12ms/step - loss: 0.2966 - accuracy: 0.9028 - val_loss: 1.3953 - val_accuracy: 0.5084\n",
      "Epoch 68/150\n",
      "6/6 [==============================] - 0s 12ms/step - loss: 0.2814 - accuracy: 0.9306 - val_loss: 1.5820 - val_accuracy: 0.3908\n",
      "Epoch 69/150\n",
      "6/6 [==============================] - 0s 12ms/step - loss: 0.2830 - accuracy: 0.9201 - val_loss: 1.3249 - val_accuracy: 0.5336\n",
      "Epoch 70/150\n",
      "6/6 [==============================] - 0s 12ms/step - loss: 0.3102 - accuracy: 0.9028 - val_loss: 1.6625 - val_accuracy: 0.3866\n",
      "Epoch 71/150\n",
      "6/6 [==============================] - 0s 12ms/step - loss: 0.3143 - accuracy: 0.8958 - val_loss: 1.6024 - val_accuracy: 0.4076\n",
      "Epoch 72/150\n",
      "6/6 [==============================] - 0s 12ms/step - loss: 0.2811 - accuracy: 0.9097 - val_loss: 1.3704 - val_accuracy: 0.5420\n",
      "Epoch 73/150\n",
      "6/6 [==============================] - 0s 12ms/step - loss: 0.2733 - accuracy: 0.9167 - val_loss: 1.5164 - val_accuracy: 0.4538\n",
      "Epoch 74/150\n",
      "6/6 [==============================] - 0s 12ms/step - loss: 0.2711 - accuracy: 0.9097 - val_loss: 1.4285 - val_accuracy: 0.5420\n",
      "Epoch 75/150\n",
      "6/6 [==============================] - 0s 13ms/step - loss: 0.2353 - accuracy: 0.9444 - val_loss: 1.6052 - val_accuracy: 0.4328\n",
      "Epoch 76/150\n",
      "6/6 [==============================] - 0s 11ms/step - loss: 0.2210 - accuracy: 0.9444 - val_loss: 1.4963 - val_accuracy: 0.5336\n",
      "Epoch 77/150\n",
      "6/6 [==============================] - 0s 12ms/step - loss: 0.2125 - accuracy: 0.9583 - val_loss: 1.5945 - val_accuracy: 0.4790\n",
      "Epoch 78/150\n",
      "6/6 [==============================] - 0s 12ms/step - loss: 0.2039 - accuracy: 0.9583 - val_loss: 1.6337 - val_accuracy: 0.4664\n",
      "Epoch 79/150\n",
      "6/6 [==============================] - 0s 10ms/step - loss: 0.1944 - accuracy: 0.9583 - val_loss: 1.6102 - val_accuracy: 0.5000\n",
      "Epoch 80/150\n",
      "6/6 [==============================] - 0s 10ms/step - loss: 0.1905 - accuracy: 0.9618 - val_loss: 1.6259 - val_accuracy: 0.5042\n",
      "Epoch 81/150\n",
      "6/6 [==============================] - 0s 10ms/step - loss: 0.1799 - accuracy: 0.9757 - val_loss: 1.5813 - val_accuracy: 0.5378\n",
      "Epoch 82/150\n",
      "6/6 [==============================] - 0s 10ms/step - loss: 0.1754 - accuracy: 0.9688 - val_loss: 1.7381 - val_accuracy: 0.4454\n",
      "Epoch 83/150\n",
      "6/6 [==============================] - 0s 10ms/step - loss: 0.1638 - accuracy: 0.9722 - val_loss: 1.6988 - val_accuracy: 0.4958\n",
      "Epoch 84/150\n",
      "6/6 [==============================] - 0s 11ms/step - loss: 0.1674 - accuracy: 0.9688 - val_loss: 1.6982 - val_accuracy: 0.5000\n",
      "Epoch 85/150\n",
      "6/6 [==============================] - 0s 10ms/step - loss: 0.1492 - accuracy: 0.9792 - val_loss: 1.6698 - val_accuracy: 0.5168\n",
      "Epoch 86/150\n",
      "6/6 [==============================] - 0s 10ms/step - loss: 0.1443 - accuracy: 0.9826 - val_loss: 1.7443 - val_accuracy: 0.4874\n",
      "Epoch 87/150\n",
      "6/6 [==============================] - 0s 9ms/step - loss: 0.1370 - accuracy: 0.9896 - val_loss: 1.8199 - val_accuracy: 0.4580\n",
      "Epoch 88/150\n",
      "6/6 [==============================] - 0s 10ms/step - loss: 0.1340 - accuracy: 0.9861 - val_loss: 1.6654 - val_accuracy: 0.5294\n",
      "Epoch 89/150\n",
      "6/6 [==============================] - 0s 11ms/step - loss: 0.1419 - accuracy: 0.9792 - val_loss: 1.8080 - val_accuracy: 0.4874\n",
      "Epoch 90/150\n",
      "6/6 [==============================] - 0s 13ms/step - loss: 0.1286 - accuracy: 0.9792 - val_loss: 1.8878 - val_accuracy: 0.4370\n",
      "Epoch 91/150\n",
      "6/6 [==============================] - 0s 13ms/step - loss: 0.1204 - accuracy: 0.9826 - val_loss: 1.7591 - val_accuracy: 0.5168\n",
      "Epoch 92/150\n",
      "6/6 [==============================] - 0s 11ms/step - loss: 0.1168 - accuracy: 0.9792 - val_loss: 1.8543 - val_accuracy: 0.5000\n",
      "Epoch 93/150\n",
      "6/6 [==============================] - 0s 11ms/step - loss: 0.1108 - accuracy: 0.9896 - val_loss: 1.9268 - val_accuracy: 0.4622\n",
      "Epoch 94/150\n",
      "6/6 [==============================] - 0s 11ms/step - loss: 0.1083 - accuracy: 0.9861 - val_loss: 1.7703 - val_accuracy: 0.5336\n",
      "Epoch 95/150\n",
      "6/6 [==============================] - 0s 10ms/step - loss: 0.1151 - accuracy: 0.9896 - val_loss: 2.2884 - val_accuracy: 0.3655\n",
      "Epoch 96/150\n",
      "6/6 [==============================] - 0s 10ms/step - loss: 0.1172 - accuracy: 0.9861 - val_loss: 1.8427 - val_accuracy: 0.5210\n",
      "Epoch 97/150\n",
      "6/6 [==============================] - 0s 11ms/step - loss: 0.1052 - accuracy: 0.9931 - val_loss: 1.8458 - val_accuracy: 0.5168\n",
      "Epoch 98/150\n",
      "6/6 [==============================] - 0s 13ms/step - loss: 0.1001 - accuracy: 0.9965 - val_loss: 2.1185 - val_accuracy: 0.4202\n",
      "Epoch 99/150\n",
      "6/6 [==============================] - 0s 13ms/step - loss: 0.0882 - accuracy: 0.9965 - val_loss: 1.8966 - val_accuracy: 0.5168\n",
      "Epoch 100/150\n",
      "6/6 [==============================] - 0s 12ms/step - loss: 0.0780 - accuracy: 0.9965 - val_loss: 2.0431 - val_accuracy: 0.4664\n",
      "Epoch 101/150\n",
      "6/6 [==============================] - 0s 12ms/step - loss: 0.0785 - accuracy: 0.9931 - val_loss: 1.9891 - val_accuracy: 0.5126\n",
      "Epoch 102/150\n",
      "6/6 [==============================] - 0s 13ms/step - loss: 0.0729 - accuracy: 0.9931 - val_loss: 2.0038 - val_accuracy: 0.5000\n",
      "Epoch 103/150\n",
      "6/6 [==============================] - 0s 12ms/step - loss: 0.0675 - accuracy: 1.0000 - val_loss: 2.0876 - val_accuracy: 0.4790\n",
      "Epoch 104/150\n",
      "6/6 [==============================] - 0s 13ms/step - loss: 0.0719 - accuracy: 0.9931 - val_loss: 1.9984 - val_accuracy: 0.5168\n",
      "Epoch 105/150\n",
      "6/6 [==============================] - 0s 14ms/step - loss: 0.0702 - accuracy: 1.0000 - val_loss: 2.0504 - val_accuracy: 0.5168\n",
      "Epoch 106/150\n",
      "6/6 [==============================] - 0s 13ms/step - loss: 0.0745 - accuracy: 1.0000 - val_loss: 2.2622 - val_accuracy: 0.4286\n",
      "Epoch 107/150\n",
      "6/6 [==============================] - 0s 13ms/step - loss: 0.0768 - accuracy: 1.0000 - val_loss: 2.0726 - val_accuracy: 0.5042\n",
      "Epoch 108/150\n",
      "6/6 [==============================] - 0s 13ms/step - loss: 0.0628 - accuracy: 0.9965 - val_loss: 2.1060 - val_accuracy: 0.5084\n",
      "Epoch 109/150\n",
      "6/6 [==============================] - 0s 14ms/step - loss: 0.0575 - accuracy: 1.0000 - val_loss: 2.2121 - val_accuracy: 0.4748\n",
      "Epoch 110/150\n",
      "6/6 [==============================] - 0s 13ms/step - loss: 0.0547 - accuracy: 1.0000 - val_loss: 2.0740 - val_accuracy: 0.5168\n",
      "Epoch 111/150\n",
      "6/6 [==============================] - 0s 13ms/step - loss: 0.0500 - accuracy: 1.0000 - val_loss: 2.2859 - val_accuracy: 0.4496\n",
      "Epoch 112/150\n",
      "6/6 [==============================] - 0s 12ms/step - loss: 0.0515 - accuracy: 1.0000 - val_loss: 2.1447 - val_accuracy: 0.5168\n",
      "Epoch 113/150\n",
      "6/6 [==============================] - 0s 13ms/step - loss: 0.0481 - accuracy: 1.0000 - val_loss: 2.2407 - val_accuracy: 0.4916\n",
      "Epoch 114/150\n",
      "6/6 [==============================] - 0s 13ms/step - loss: 0.0440 - accuracy: 1.0000 - val_loss: 2.1843 - val_accuracy: 0.5126\n",
      "Epoch 115/150\n",
      "6/6 [==============================] - 0s 13ms/step - loss: 0.0427 - accuracy: 1.0000 - val_loss: 2.3357 - val_accuracy: 0.4622\n",
      "Epoch 116/150\n",
      "6/6 [==============================] - 0s 12ms/step - loss: 0.0439 - accuracy: 1.0000 - val_loss: 2.1657 - val_accuracy: 0.5168\n",
      "Epoch 117/150\n"
     ]
    },
    {
     "name": "stdout",
     "output_type": "stream",
     "text": [
      "6/6 [==============================] - 0s 13ms/step - loss: 0.0468 - accuracy: 1.0000 - val_loss: 2.3689 - val_accuracy: 0.4664\n",
      "Epoch 118/150\n",
      "6/6 [==============================] - 0s 13ms/step - loss: 0.0383 - accuracy: 1.0000 - val_loss: 2.2558 - val_accuracy: 0.5042\n",
      "Epoch 119/150\n",
      "6/6 [==============================] - 0s 13ms/step - loss: 0.0368 - accuracy: 1.0000 - val_loss: 2.2962 - val_accuracy: 0.5084\n",
      "Epoch 120/150\n",
      "6/6 [==============================] - 0s 13ms/step - loss: 0.0356 - accuracy: 1.0000 - val_loss: 2.3230 - val_accuracy: 0.4916\n",
      "Epoch 121/150\n",
      "6/6 [==============================] - 0s 13ms/step - loss: 0.0340 - accuracy: 1.0000 - val_loss: 2.3242 - val_accuracy: 0.5042\n",
      "Epoch 122/150\n",
      "6/6 [==============================] - 0s 13ms/step - loss: 0.0335 - accuracy: 1.0000 - val_loss: 2.3587 - val_accuracy: 0.4958\n",
      "Epoch 123/150\n",
      "6/6 [==============================] - 0s 12ms/step - loss: 0.0330 - accuracy: 1.0000 - val_loss: 2.3891 - val_accuracy: 0.4916\n",
      "Epoch 124/150\n",
      "6/6 [==============================] - 0s 12ms/step - loss: 0.0320 - accuracy: 1.0000 - val_loss: 2.3724 - val_accuracy: 0.5000\n",
      "Epoch 125/150\n",
      "6/6 [==============================] - 0s 14ms/step - loss: 0.0336 - accuracy: 1.0000 - val_loss: 2.3927 - val_accuracy: 0.5000\n",
      "Epoch 126/150\n",
      "6/6 [==============================] - 0s 13ms/step - loss: 0.0328 - accuracy: 1.0000 - val_loss: 2.3778 - val_accuracy: 0.5000\n",
      "Epoch 127/150\n",
      "6/6 [==============================] - 0s 13ms/step - loss: 0.0266 - accuracy: 1.0000 - val_loss: 2.4458 - val_accuracy: 0.4958\n",
      "Epoch 128/150\n",
      "6/6 [==============================] - 0s 13ms/step - loss: 0.0263 - accuracy: 1.0000 - val_loss: 2.4284 - val_accuracy: 0.4958\n",
      "Epoch 129/150\n",
      "6/6 [==============================] - 0s 13ms/step - loss: 0.0253 - accuracy: 1.0000 - val_loss: 2.4614 - val_accuracy: 0.5000\n",
      "Epoch 130/150\n",
      "6/6 [==============================] - 0s 13ms/step - loss: 0.0243 - accuracy: 1.0000 - val_loss: 2.4470 - val_accuracy: 0.5042\n",
      "Epoch 131/150\n",
      "6/6 [==============================] - 0s 13ms/step - loss: 0.0245 - accuracy: 1.0000 - val_loss: 2.5041 - val_accuracy: 0.5000\n",
      "Epoch 132/150\n",
      "6/6 [==============================] - 0s 12ms/step - loss: 0.0233 - accuracy: 1.0000 - val_loss: 2.4575 - val_accuracy: 0.5084\n",
      "Epoch 133/150\n",
      "6/6 [==============================] - 0s 14ms/step - loss: 0.0222 - accuracy: 1.0000 - val_loss: 2.5493 - val_accuracy: 0.5000\n",
      "Epoch 134/150\n",
      "6/6 [==============================] - 0s 14ms/step - loss: 0.0221 - accuracy: 1.0000 - val_loss: 2.4726 - val_accuracy: 0.5084\n",
      "Epoch 135/150\n",
      "6/6 [==============================] - 0s 13ms/step - loss: 0.0213 - accuracy: 1.0000 - val_loss: 2.5512 - val_accuracy: 0.5000\n",
      "Epoch 136/150\n",
      "6/6 [==============================] - 0s 14ms/step - loss: 0.0205 - accuracy: 1.0000 - val_loss: 2.5264 - val_accuracy: 0.5042\n",
      "Epoch 137/150\n",
      "6/6 [==============================] - 0s 14ms/step - loss: 0.0199 - accuracy: 1.0000 - val_loss: 2.5643 - val_accuracy: 0.4958\n",
      "Epoch 138/150\n",
      "6/6 [==============================] - 0s 14ms/step - loss: 0.0189 - accuracy: 1.0000 - val_loss: 2.5478 - val_accuracy: 0.5042\n",
      "Epoch 139/150\n",
      "6/6 [==============================] - 0s 13ms/step - loss: 0.0184 - accuracy: 1.0000 - val_loss: 2.6051 - val_accuracy: 0.4874\n",
      "Epoch 140/150\n",
      "6/6 [==============================] - 0s 13ms/step - loss: 0.0192 - accuracy: 1.0000 - val_loss: 2.5452 - val_accuracy: 0.5084\n",
      "Epoch 141/150\n",
      "6/6 [==============================] - 0s 13ms/step - loss: 0.0184 - accuracy: 1.0000 - val_loss: 2.6066 - val_accuracy: 0.5000\n",
      "Epoch 142/150\n",
      "6/6 [==============================] - 0s 13ms/step - loss: 0.0181 - accuracy: 1.0000 - val_loss: 2.5740 - val_accuracy: 0.5084\n",
      "Epoch 143/150\n",
      "6/6 [==============================] - 0s 14ms/step - loss: 0.0177 - accuracy: 1.0000 - val_loss: 2.6357 - val_accuracy: 0.5000\n",
      "Epoch 144/150\n",
      "6/6 [==============================] - 0s 14ms/step - loss: 0.0164 - accuracy: 1.0000 - val_loss: 2.6200 - val_accuracy: 0.5000\n",
      "Epoch 145/150\n",
      "6/6 [==============================] - 0s 13ms/step - loss: 0.0163 - accuracy: 1.0000 - val_loss: 2.6282 - val_accuracy: 0.5000\n",
      "Epoch 146/150\n",
      "6/6 [==============================] - 0s 13ms/step - loss: 0.0158 - accuracy: 1.0000 - val_loss: 2.6666 - val_accuracy: 0.4958\n",
      "Epoch 147/150\n",
      "6/6 [==============================] - 0s 13ms/step - loss: 0.0152 - accuracy: 1.0000 - val_loss: 2.6551 - val_accuracy: 0.5000\n",
      "Epoch 148/150\n",
      "6/6 [==============================] - 0s 14ms/step - loss: 0.0145 - accuracy: 1.0000 - val_loss: 2.6997 - val_accuracy: 0.5000\n",
      "Epoch 149/150\n",
      "6/6 [==============================] - 0s 14ms/step - loss: 0.0146 - accuracy: 1.0000 - val_loss: 2.6908 - val_accuracy: 0.4916\n",
      "Epoch 150/150\n",
      "6/6 [==============================] - 0s 14ms/step - loss: 0.0136 - accuracy: 1.0000 - val_loss: 2.7213 - val_accuracy: 0.4958\n"
     ]
    }
   ],
   "source": [
    "history = cnn.fit(X_train,\n",
    "              y_train,\n",
    "              batch_size=50,\n",
    "              epochs=150,\n",
    "              validation_data = (X_test, y_test),\n",
    "              verbose=1)"
   ]
  },
  {
   "cell_type": "markdown",
   "metadata": {},
   "source": [
    "# Train and Test Loss with CNN"
   ]
  },
  {
   "cell_type": "code",
   "execution_count": 59,
   "metadata": {},
   "outputs": [
    {
     "data": {
      "image/png": "[encoded data removed]",
      "text/plain": [
       "<Figure size 432x288 with 1 Axes>"
      ]
     },
     "metadata": {
      "needs_background": "light"
     },
     "output_type": "display_data"
    }
   ],
   "source": [
    "plt.plot(history.history['loss'], label='Train loss')\n",
    "plt.plot(history.history['val_loss'], label='Test loss')\n",
    "plt.legend();"
   ]
  },
  {
   "cell_type": "code",
   "execution_count": 60,
   "metadata": {},
   "outputs": [
    {
     "data": {
      "image/png": "[encoded data removed]",
      "text/plain": [
       "<Figure size 432x288 with 1 Axes>"
      ]
     },
     "metadata": {
      "needs_background": "light"
     },
     "output_type": "display_data"
    }
   ],
   "source": [
    "plt.plot(history.history['accuracy'], label='Train accuracy')\n",
    "plt.plot(history.history['val_accuracy'], label='Test accuracy')\n",
    "plt.legend();"
   ]
  },
  {
   "cell_type": "code",
   "execution_count": 61,
   "metadata": {},
   "outputs": [
    {
     "data": {
      "text/html": [
       "<div>\n",
       "<style scoped>\n",
       "    .dataframe tbody tr th:only-of-type {\n",
       "        vertical-align: middle;\n",
       "    }\n",
       "\n",
       "    .dataframe tbody tr th {\n",
       "        vertical-align: top;\n",
       "    }\n",
       "\n",
       "    .dataframe thead th {\n",
       "        text-align: right;\n",
       "    }\n",
       "</style>\n",
       "<table border=\"1\" class=\"dataframe\">\n",
       "  <thead>\n",
       "    <tr style=\"text-align: right;\">\n",
       "      <th></th>\n",
       "      <th>train_acc</th>\n",
       "      <th>test_acc</th>\n",
       "      <th>train_loss</th>\n",
       "      <th>test_loss</th>\n",
       "      <th>accuracy_diff</th>\n",
       "      <th>loss_diff</th>\n",
       "    </tr>\n",
       "  </thead>\n",
       "  <tbody>\n",
       "    <tr>\n",
       "      <th>145</th>\n",
       "      <td>1.0</td>\n",
       "      <td>0.495798</td>\n",
       "      <td>0.015751</td>\n",
       "      <td>2.666613</td>\n",
       "      <td>0.504202</td>\n",
       "      <td>-2.650862</td>\n",
       "    </tr>\n",
       "    <tr>\n",
       "      <th>146</th>\n",
       "      <td>1.0</td>\n",
       "      <td>0.500000</td>\n",
       "      <td>0.015160</td>\n",
       "      <td>2.655125</td>\n",
       "      <td>0.500000</td>\n",
       "      <td>-2.639965</td>\n",
       "    </tr>\n",
       "    <tr>\n",
       "      <th>147</th>\n",
       "      <td>1.0</td>\n",
       "      <td>0.500000</td>\n",
       "      <td>0.014467</td>\n",
       "      <td>2.699742</td>\n",
       "      <td>0.500000</td>\n",
       "      <td>-2.685276</td>\n",
       "    </tr>\n",
       "    <tr>\n",
       "      <th>148</th>\n",
       "      <td>1.0</td>\n",
       "      <td>0.491597</td>\n",
       "      <td>0.014566</td>\n",
       "      <td>2.690761</td>\n",
       "      <td>0.508403</td>\n",
       "      <td>-2.676194</td>\n",
       "    </tr>\n",
       "    <tr>\n",
       "      <th>149</th>\n",
       "      <td>1.0</td>\n",
       "      <td>0.495798</td>\n",
       "      <td>0.013582</td>\n",
       "      <td>2.721345</td>\n",
       "      <td>0.504202</td>\n",
       "      <td>-2.707763</td>\n",
       "    </tr>\n",
       "  </tbody>\n",
       "</table>\n",
       "</div>"
      ],
      "text/plain": [
       "     train_acc  test_acc  train_loss  test_loss  accuracy_diff  loss_diff\n",
       "145        1.0  0.495798    0.015751   2.666613       0.504202  -2.650862\n",
       "146        1.0  0.500000    0.015160   2.655125       0.500000  -2.639965\n",
       "147        1.0  0.500000    0.014467   2.699742       0.500000  -2.685276\n",
       "148        1.0  0.491597    0.014566   2.690761       0.508403  -2.676194\n",
       "149        1.0  0.495798    0.013582   2.721345       0.504202  -2.707763"
      ]
     },
     "execution_count": 61,
     "metadata": {},
     "output_type": "execute_result"
    }
   ],
   "source": [
    "train_acc = history.history['accuracy']\n",
    "train_loss = history.history['loss']\n",
    "test_loss = history.history['val_loss']\n",
    "test_acc = history.history['val_accuracy']\n",
    "\n",
    "df = pd.DataFrame(list(zip(train_acc, test_acc, train_loss, test_loss)), \n",
    "               columns =['train_acc', 'test_acc', 'train_loss', 'test_loss']) \n",
    "\n",
    "df['accuracy_diff'] = df['train_acc'] - df['test_acc']\n",
    "df['loss_diff'] = df['train_loss'] - df['test_loss']\n",
    "\n",
    "df.tail()"
   ]
  },
  {
   "cell_type": "code",
   "execution_count": 62,
   "metadata": {},
   "outputs": [],
   "source": [
    "y_pred=cnn.predict(X_test)"
   ]
  },
  {
   "cell_type": "code",
   "execution_count": 63,
   "metadata": {},
   "outputs": [],
   "source": [
    "y_pred=np.argmax(y_pred,axis=1)"
   ]
  },
  {
   "cell_type": "code",
   "execution_count": 64,
   "metadata": {},
   "outputs": [],
   "source": [
    "cnf=confusion_matrix(y_test_original, y_pred)"
   ]
  },
  {
   "cell_type": "code",
   "execution_count": 65,
   "metadata": {
    "scrolled": true
   },
   "outputs": [
    {
     "name": "stdout",
     "output_type": "stream",
     "text": [
      "              precision    recall  f1-score   support\n",
      "\n",
      "    American       0.72      0.52      0.61       130\n",
      "     Chinies       0.44      0.45      0.44        67\n",
      "      Indian       0.26      0.49      0.34        41\n",
      "\n",
      "    accuracy                           0.50       238\n",
      "   macro avg       0.48      0.49      0.46       238\n",
      "weighted avg       0.56      0.50      0.52       238\n",
      "\n"
     ]
    }
   ],
   "source": [
    "target_names=['American','Chinies','Indian']\n",
    "\n",
    "print(classification_report(y_test_original, y_pred, \n",
    " target_names=target_names))"
   ]
  },
  {
   "cell_type": "code",
   "execution_count": 66,
   "metadata": {},
   "outputs": [
    {
     "data": {
      "text/plain": [
       "<matplotlib.axes._subplots.AxesSubplot at 0x7faf22c2aac0>"
      ]
     },
     "execution_count": 66,
     "metadata": {},
     "output_type": "execute_result"
    },
    {
     "data": {
      "image/png": "[encoded data removed]",
      "text/plain": [
       "<Figure size 432x288 with 2 Axes>"
      ]
     },
     "metadata": {
      "needs_background": "light"
     },
     "output_type": "display_data"
    }
   ],
   "source": [
    "sns.heatmap(cnf,annot=True);"
   ]
  },
  {
   "cell_type": "markdown",
   "metadata": {},
   "source": [
    "# Adding regularization to the CNN model"
   ]
  },
  {
   "cell_type": "code",
   "execution_count": 67,
   "metadata": {},
   "outputs": [],
   "source": [
    "cnn2 = Sequential()\n",
    "\n",
    "cnn2.add(Conv2D(filters = 6,            \n",
    "                     kernel_size = (3, 3),       \n",
    "                     activation='relu',     \n",
    "                     input_shape=(28,28,1))) \n",
    "\n",
    "\n",
    "cnn2.add(MaxPooling2D(pool_size=(2,2))) \n",
    "\n",
    "cnn2.add(Flatten())  \n",
    "\n",
    "cnn2.add(Dense(128, activation='relu'))  \n",
    "\n",
    "###Add dropout \n",
    "\n",
    "cnn2.add(Dropout(0.05))\n",
    "\n",
    "cnn2.add(Dense(64, activation = 'relu'))\n",
    "\n",
    "###add dropout\n",
    "cnn2.add(Dropout(0.05))\n",
    "\n",
    "cnn2.add(Dense(4, activation='softmax'))   \n",
    "\n",
    "cnn2.compile(loss='categorical_crossentropy',\n",
    "                  optimizer='adam',\n",
    "                  metrics=['accuracy'])"
   ]
  },
  {
   "cell_type": "code",
   "execution_count": 68,
   "metadata": {},
   "outputs": [],
   "source": [
    "early_stop = EarlyStopping(monitor='val_loss', min_delta=0 , patience = 10)"
   ]
  },
  {
   "cell_type": "code",
   "execution_count": 69,
   "metadata": {},
   "outputs": [
    {
     "name": "stdout",
     "output_type": "stream",
     "text": [
      "Epoch 1/150\n",
      "1/1 [==============================] - 0s 121ms/step - loss: 1.3950 - accuracy: 0.0139 - val_loss: 1.3866 - val_accuracy: 0.2647\n",
      "Epoch 2/150\n",
      "1/1 [==============================] - 0s 22ms/step - loss: 1.3821 - accuracy: 0.3299 - val_loss: 1.3805 - val_accuracy: 0.2731\n",
      "Epoch 3/150\n",
      "1/1 [==============================] - 0s 28ms/step - loss: 1.3737 - accuracy: 0.3542 - val_loss: 1.3731 - val_accuracy: 0.2815\n",
      "Epoch 4/150\n",
      "1/1 [==============================] - 0s 28ms/step - loss: 1.3635 - accuracy: 0.3333 - val_loss: 1.3644 - val_accuracy: 0.2815\n",
      "Epoch 5/150\n",
      "1/1 [==============================] - 0s 29ms/step - loss: 1.3510 - accuracy: 0.3333 - val_loss: 1.3544 - val_accuracy: 0.2815\n",
      "Epoch 6/150\n",
      "1/1 [==============================] - 0s 30ms/step - loss: 1.3376 - accuracy: 0.3333 - val_loss: 1.3421 - val_accuracy: 0.2815\n",
      "Epoch 7/150\n",
      "1/1 [==============================] - 0s 28ms/step - loss: 1.3206 - accuracy: 0.3333 - val_loss: 1.3280 - val_accuracy: 0.2815\n",
      "Epoch 8/150\n",
      "1/1 [==============================] - 0s 29ms/step - loss: 1.3015 - accuracy: 0.3333 - val_loss: 1.3124 - val_accuracy: 0.2815\n",
      "Epoch 9/150\n",
      "1/1 [==============================] - 0s 28ms/step - loss: 1.2841 - accuracy: 0.3333 - val_loss: 1.2960 - val_accuracy: 0.2815\n",
      "Epoch 10/150\n",
      "1/1 [==============================] - 0s 29ms/step - loss: 1.2656 - accuracy: 0.3333 - val_loss: 1.2794 - val_accuracy: 0.2815\n",
      "Epoch 11/150\n",
      "1/1 [==============================] - 0s 29ms/step - loss: 1.2428 - accuracy: 0.3333 - val_loss: 1.2634 - val_accuracy: 0.2815\n",
      "Epoch 12/150\n",
      "1/1 [==============================] - 0s 29ms/step - loss: 1.2228 - accuracy: 0.3333 - val_loss: 1.2473 - val_accuracy: 0.2815\n",
      "Epoch 13/150\n",
      "1/1 [==============================] - 0s 30ms/step - loss: 1.2072 - accuracy: 0.3333 - val_loss: 1.2304 - val_accuracy: 0.2815\n",
      "Epoch 14/150\n",
      "1/1 [==============================] - 0s 30ms/step - loss: 1.1899 - accuracy: 0.3333 - val_loss: 1.2113 - val_accuracy: 0.2815\n",
      "Epoch 15/150\n",
      "1/1 [==============================] - 0s 29ms/step - loss: 1.1791 - accuracy: 0.3333 - val_loss: 1.1887 - val_accuracy: 0.2815\n",
      "Epoch 16/150\n",
      "1/1 [==============================] - 0s 31ms/step - loss: 1.1570 - accuracy: 0.3333 - val_loss: 1.1620 - val_accuracy: 0.2815\n",
      "Epoch 17/150\n",
      "1/1 [==============================] - 0s 31ms/step - loss: 1.1520 - accuracy: 0.3333 - val_loss: 1.1327 - val_accuracy: 0.2815\n",
      "Epoch 18/150\n",
      "1/1 [==============================] - 0s 31ms/step - loss: 1.1314 - accuracy: 0.3438 - val_loss: 1.1044 - val_accuracy: 0.3151\n",
      "Epoch 19/150\n",
      "1/1 [==============================] - 0s 30ms/step - loss: 1.1208 - accuracy: 0.3333 - val_loss: 1.0823 - val_accuracy: 0.5504\n",
      "Epoch 20/150\n",
      "1/1 [==============================] - 0s 33ms/step - loss: 1.1135 - accuracy: 0.3750 - val_loss: 1.0714 - val_accuracy: 0.5462\n",
      "Epoch 21/150\n",
      "1/1 [==============================] - 0s 35ms/step - loss: 1.1030 - accuracy: 0.3507 - val_loss: 1.0737 - val_accuracy: 0.5462\n",
      "Epoch 22/150\n",
      "1/1 [==============================] - 0s 33ms/step - loss: 1.0943 - accuracy: 0.3785 - val_loss: 1.0843 - val_accuracy: 0.4496\n",
      "Epoch 23/150\n",
      "1/1 [==============================] - 0s 37ms/step - loss: 1.0935 - accuracy: 0.3681 - val_loss: 1.0948 - val_accuracy: 0.2899\n",
      "Epoch 24/150\n",
      "1/1 [==============================] - 0s 32ms/step - loss: 1.1093 - accuracy: 0.3576 - val_loss: 1.1007 - val_accuracy: 0.2437\n",
      "Epoch 25/150\n",
      "1/1 [==============================] - 0s 30ms/step - loss: 1.0995 - accuracy: 0.4062 - val_loss: 1.1015 - val_accuracy: 0.2731\n",
      "Epoch 26/150\n",
      "1/1 [==============================] - 0s 33ms/step - loss: 1.1182 - accuracy: 0.3056 - val_loss: 1.0952 - val_accuracy: 0.4370\n",
      "Epoch 27/150\n",
      "1/1 [==============================] - 0s 33ms/step - loss: 1.0879 - accuracy: 0.3889 - val_loss: 1.0830 - val_accuracy: 0.4118\n",
      "Epoch 28/150\n",
      "1/1 [==============================] - 0s 31ms/step - loss: 1.0603 - accuracy: 0.4549 - val_loss: 1.0678 - val_accuracy: 0.4328\n",
      "Epoch 29/150\n",
      "1/1 [==============================] - 0s 31ms/step - loss: 1.0756 - accuracy: 0.4132 - val_loss: 1.0522 - val_accuracy: 0.4874\n",
      "Epoch 30/150\n",
      "1/1 [==============================] - 0s 31ms/step - loss: 1.0864 - accuracy: 0.4306 - val_loss: 1.0435 - val_accuracy: 0.5672\n",
      "Epoch 31/150\n",
      "1/1 [==============================] - 0s 32ms/step - loss: 1.0671 - accuracy: 0.4444 - val_loss: 1.0445 - val_accuracy: 0.5798\n",
      "Epoch 32/150\n",
      "1/1 [==============================] - 0s 31ms/step - loss: 1.0826 - accuracy: 0.3993 - val_loss: 1.0532 - val_accuracy: 0.5882\n",
      "Epoch 33/150\n",
      "1/1 [==============================] - 0s 34ms/step - loss: 1.0763 - accuracy: 0.4514 - val_loss: 1.0685 - val_accuracy: 0.4790\n",
      "Epoch 34/150\n",
      "1/1 [==============================] - 0s 33ms/step - loss: 1.0602 - accuracy: 0.4444 - val_loss: 1.0766 - val_accuracy: 0.3992\n",
      "Epoch 35/150\n",
      "1/1 [==============================] - 0s 35ms/step - loss: 1.0793 - accuracy: 0.3854 - val_loss: 1.0780 - val_accuracy: 0.3866\n",
      "Epoch 36/150\n",
      "1/1 [==============================] - 0s 32ms/step - loss: 1.0771 - accuracy: 0.4167 - val_loss: 1.0713 - val_accuracy: 0.4286\n",
      "Epoch 37/150\n",
      "1/1 [==============================] - 0s 29ms/step - loss: 1.0603 - accuracy: 0.4306 - val_loss: 1.0527 - val_accuracy: 0.5588\n",
      "Epoch 38/150\n",
      "1/1 [==============================] - 0s 32ms/step - loss: 1.0518 - accuracy: 0.4931 - val_loss: 1.0383 - val_accuracy: 0.5756\n",
      "Epoch 39/150\n",
      "1/1 [==============================] - 0s 32ms/step - loss: 1.0485 - accuracy: 0.4306 - val_loss: 1.0297 - val_accuracy: 0.5798\n",
      "Epoch 40/150\n",
      "1/1 [==============================] - 0s 34ms/step - loss: 1.0567 - accuracy: 0.4549 - val_loss: 1.0274 - val_accuracy: 0.5798\n",
      "Epoch 41/150\n",
      "1/1 [==============================] - 0s 31ms/step - loss: 1.0526 - accuracy: 0.4514 - val_loss: 1.0311 - val_accuracy: 0.5420\n",
      "Epoch 42/150\n",
      "1/1 [==============================] - 0s 32ms/step - loss: 1.0388 - accuracy: 0.4618 - val_loss: 1.0402 - val_accuracy: 0.5210\n",
      "Epoch 43/150\n",
      "1/1 [==============================] - 0s 31ms/step - loss: 1.0354 - accuracy: 0.4549 - val_loss: 1.0458 - val_accuracy: 0.4958\n",
      "Epoch 44/150\n",
      "1/1 [==============================] - 0s 30ms/step - loss: 1.0421 - accuracy: 0.4826 - val_loss: 1.0474 - val_accuracy: 0.4874\n",
      "Epoch 45/150\n",
      "1/1 [==============================] - 0s 30ms/step - loss: 1.0302 - accuracy: 0.4653 - val_loss: 1.0429 - val_accuracy: 0.4622\n",
      "Epoch 46/150\n",
      "1/1 [==============================] - 0s 31ms/step - loss: 1.0208 - accuracy: 0.5104 - val_loss: 1.0321 - val_accuracy: 0.5210\n",
      "Epoch 47/150\n",
      "1/1 [==============================] - 0s 34ms/step - loss: 1.0264 - accuracy: 0.4653 - val_loss: 1.0266 - val_accuracy: 0.5462\n",
      "Epoch 48/150\n",
      "1/1 [==============================] - 0s 34ms/step - loss: 1.0229 - accuracy: 0.4965 - val_loss: 1.0287 - val_accuracy: 0.5378\n",
      "Epoch 49/150\n",
      "1/1 [==============================] - 0s 34ms/step - loss: 1.0231 - accuracy: 0.4757 - val_loss: 1.0316 - val_accuracy: 0.5210\n",
      "Epoch 50/150\n",
      "1/1 [==============================] - 0s 35ms/step - loss: 1.0137 - accuracy: 0.4826 - val_loss: 1.0274 - val_accuracy: 0.5378\n",
      "Epoch 51/150\n",
      "1/1 [==============================] - 0s 37ms/step - loss: 1.0149 - accuracy: 0.5000 - val_loss: 1.0188 - val_accuracy: 0.5756\n",
      "Epoch 52/150\n",
      "1/1 [==============================] - 0s 35ms/step - loss: 1.0082 - accuracy: 0.4931 - val_loss: 1.0131 - val_accuracy: 0.5798\n",
      "Epoch 53/150\n",
      "1/1 [==============================] - 0s 34ms/step - loss: 1.0051 - accuracy: 0.5174 - val_loss: 1.0139 - val_accuracy: 0.5882\n",
      "Epoch 54/150\n",
      "1/1 [==============================] - 0s 31ms/step - loss: 0.9816 - accuracy: 0.5278 - val_loss: 1.0174 - val_accuracy: 0.5672\n",
      "Epoch 55/150\n",
      "1/1 [==============================] - 0s 34ms/step - loss: 0.9964 - accuracy: 0.5000 - val_loss: 1.0239 - val_accuracy: 0.5420\n",
      "Epoch 56/150\n",
      "1/1 [==============================] - 0s 32ms/step - loss: 0.9995 - accuracy: 0.5104 - val_loss: 1.0269 - val_accuracy: 0.5378\n",
      "Epoch 57/150\n",
      "1/1 [==============================] - 0s 34ms/step - loss: 0.9914 - accuracy: 0.5660 - val_loss: 1.0197 - val_accuracy: 0.5420\n",
      "Epoch 58/150\n",
      "1/1 [==============================] - 0s 31ms/step - loss: 0.9693 - accuracy: 0.5903 - val_loss: 1.0120 - val_accuracy: 0.5714\n",
      "Epoch 59/150\n"
     ]
    },
    {
     "name": "stdout",
     "output_type": "stream",
     "text": [
      "1/1 [==============================] - 0s 36ms/step - loss: 0.9705 - accuracy: 0.6146 - val_loss: 1.0080 - val_accuracy: 0.5798\n",
      "Epoch 60/150\n",
      "1/1 [==============================] - 0s 34ms/step - loss: 0.9786 - accuracy: 0.5451 - val_loss: 1.0076 - val_accuracy: 0.5798\n",
      "Epoch 61/150\n",
      "1/1 [==============================] - 0s 35ms/step - loss: 0.9770 - accuracy: 0.5382 - val_loss: 1.0143 - val_accuracy: 0.5756\n",
      "Epoch 62/150\n",
      "1/1 [==============================] - 0s 34ms/step - loss: 0.9606 - accuracy: 0.5694 - val_loss: 1.0175 - val_accuracy: 0.5630\n",
      "Epoch 63/150\n",
      "1/1 [==============================] - 0s 40ms/step - loss: 0.9654 - accuracy: 0.5590 - val_loss: 1.0095 - val_accuracy: 0.5630\n",
      "Epoch 64/150\n",
      "1/1 [==============================] - 0s 40ms/step - loss: 0.9566 - accuracy: 0.5660 - val_loss: 0.9951 - val_accuracy: 0.5672\n",
      "Epoch 65/150\n",
      "1/1 [==============================] - 0s 36ms/step - loss: 0.9577 - accuracy: 0.5590 - val_loss: 0.9871 - val_accuracy: 0.5672\n",
      "Epoch 66/150\n",
      "1/1 [==============================] - 0s 33ms/step - loss: 0.9282 - accuracy: 0.5868 - val_loss: 0.9974 - val_accuracy: 0.5588\n",
      "Epoch 67/150\n",
      "1/1 [==============================] - 0s 35ms/step - loss: 0.9306 - accuracy: 0.6111 - val_loss: 1.0149 - val_accuracy: 0.5294\n",
      "Epoch 68/150\n",
      "1/1 [==============================] - 0s 35ms/step - loss: 0.9276 - accuracy: 0.5972 - val_loss: 1.0242 - val_accuracy: 0.5210\n",
      "Epoch 69/150\n",
      "1/1 [==============================] - 0s 35ms/step - loss: 0.9185 - accuracy: 0.6007 - val_loss: 1.0144 - val_accuracy: 0.5378\n",
      "Epoch 70/150\n",
      "1/1 [==============================] - 0s 37ms/step - loss: 0.9168 - accuracy: 0.6146 - val_loss: 0.9934 - val_accuracy: 0.5546\n",
      "Epoch 71/150\n",
      "1/1 [==============================] - 0s 33ms/step - loss: 0.9002 - accuracy: 0.6389 - val_loss: 0.9812 - val_accuracy: 0.5630\n",
      "Epoch 72/150\n",
      "1/1 [==============================] - 0s 36ms/step - loss: 0.9059 - accuracy: 0.6146 - val_loss: 0.9924 - val_accuracy: 0.5588\n",
      "Epoch 73/150\n",
      "1/1 [==============================] - 0s 38ms/step - loss: 0.9031 - accuracy: 0.6354 - val_loss: 1.0206 - val_accuracy: 0.5336\n",
      "Epoch 74/150\n",
      "1/1 [==============================] - 0s 33ms/step - loss: 0.9009 - accuracy: 0.6007 - val_loss: 1.0299 - val_accuracy: 0.5252\n",
      "Epoch 75/150\n",
      "1/1 [==============================] - 0s 31ms/step - loss: 0.8937 - accuracy: 0.6076 - val_loss: 1.0069 - val_accuracy: 0.5294\n",
      "Epoch 76/150\n",
      "1/1 [==============================] - 0s 37ms/step - loss: 0.8950 - accuracy: 0.6042 - val_loss: 0.9837 - val_accuracy: 0.5420\n",
      "Epoch 77/150\n",
      "1/1 [==============================] - 0s 34ms/step - loss: 0.8961 - accuracy: 0.6076 - val_loss: 0.9826 - val_accuracy: 0.5462\n",
      "Epoch 78/150\n",
      "1/1 [==============================] - 0s 35ms/step - loss: 0.8803 - accuracy: 0.6181 - val_loss: 1.0033 - val_accuracy: 0.5462\n",
      "Epoch 79/150\n",
      "1/1 [==============================] - 0s 34ms/step - loss: 0.8660 - accuracy: 0.6389 - val_loss: 1.0178 - val_accuracy: 0.5378\n",
      "Epoch 80/150\n",
      "1/1 [==============================] - 0s 33ms/step - loss: 0.8871 - accuracy: 0.6389 - val_loss: 1.0104 - val_accuracy: 0.5336\n",
      "Epoch 81/150\n",
      "1/1 [==============================] - 0s 35ms/step - loss: 0.8680 - accuracy: 0.6493 - val_loss: 0.9953 - val_accuracy: 0.5252\n"
     ]
    }
   ],
   "source": [
    "history = cnn2.fit(X_train,\n",
    "              y_train,\n",
    "              batch_size=500,\n",
    "              epochs=150,\n",
    "              validation_data = (X_test, y_test),\n",
    "             callbacks=[early_stop],\n",
    "              verbose=1)"
   ]
  },
  {
   "cell_type": "code",
   "execution_count": 70,
   "metadata": {},
   "outputs": [
    {
     "data": {
      "image/png": "[encoded data removed]",
      "text/plain": [
       "<Figure size 432x288 with 1 Axes>"
      ]
     },
     "metadata": {
      "needs_background": "light"
     },
     "output_type": "display_data"
    }
   ],
   "source": [
    "plt.plot(history.history['loss'], label='Train loss')\n",
    "plt.plot(history.history['val_loss'], label='Test loss')\n",
    "plt.legend();"
   ]
  },
  {
   "cell_type": "code",
   "execution_count": 71,
   "metadata": {},
   "outputs": [
    {
     "data": {
      "image/png": "[encoded data removed]",
      "text/plain": [
       "<Figure size 432x288 with 1 Axes>"
      ]
     },
     "metadata": {
      "needs_background": "light"
     },
     "output_type": "display_data"
    }
   ],
   "source": [
    "plt.plot(history.history['accuracy'], label='Train accuracy')\n",
    "plt.plot(history.history['val_accuracy'], label='Test accuracy')\n",
    "plt.legend();"
   ]
  },
  {
   "cell_type": "code",
   "execution_count": 72,
   "metadata": {},
   "outputs": [
    {
     "name": "stdout",
     "output_type": "stream",
     "text": [
      "Model: \"sequential_1\"\n",
      "_________________________________________________________________\n",
      "Layer (type)                 Output Shape              Param #   \n",
      "=================================================================\n",
      "conv2d_1 (Conv2D)            (None, 26, 26, 6)         60        \n",
      "_________________________________________________________________\n",
      "max_pooling2d_1 (MaxPooling2 (None, 13, 13, 6)         0         \n",
      "_________________________________________________________________\n",
      "flatten_1 (Flatten)          (None, 1014)              0         \n",
      "_________________________________________________________________\n",
      "dense_3 (Dense)              (None, 128)               129920    \n",
      "_________________________________________________________________\n",
      "dropout (Dropout)            (None, 128)               0         \n",
      "_________________________________________________________________\n",
      "dense_4 (Dense)              (None, 64)                8256      \n",
      "_________________________________________________________________\n",
      "dropout_1 (Dropout)          (None, 64)                0         \n",
      "_________________________________________________________________\n",
      "dense_5 (Dense)              (None, 4)                 260       \n",
      "=================================================================\n",
      "Total params: 138,496\n",
      "Trainable params: 138,496\n",
      "Non-trainable params: 0\n",
      "_________________________________________________________________\n"
     ]
    }
   ],
   "source": [
    "cnn2.summary()"
   ]
  },
  {
   "cell_type": "code",
   "execution_count": 73,
   "metadata": {},
   "outputs": [],
   "source": [
    "y_pred2=cnn2.predict(X_test)"
   ]
  },
  {
   "cell_type": "code",
   "execution_count": 74,
   "metadata": {},
   "outputs": [],
   "source": [
    "y_pred2=np.argmax(y_pred2,axis=1)"
   ]
  },
  {
   "cell_type": "code",
   "execution_count": 75,
   "metadata": {
    "scrolled": true
   },
   "outputs": [
    {
     "data": {
      "text/plain": [
       "array([1, 2, 3, 1, 2, 1, 2, 3, 3, 2, 1, 2, 1, 1, 2, 3, 3, 1, 2, 3, 3, 1,\n",
       "       3, 1, 1, 2, 3, 2, 2, 1, 1, 2, 2, 3, 1, 2, 1, 1, 3, 2, 2, 3, 3, 1,\n",
       "       2, 3, 2, 2, 1, 1, 3, 3, 2, 2, 3, 2, 1, 1, 1, 3, 2, 2, 1, 1, 1, 1,\n",
       "       1, 2, 2, 1, 1, 1, 1, 3, 1, 1, 1, 1, 2, 3, 1, 1, 1, 2, 2, 2, 3, 3,\n",
       "       3, 2, 2, 1, 1, 1, 3, 2, 1, 3, 2, 2, 1, 3, 2, 3, 3, 3, 3, 3, 1, 1,\n",
       "       1, 1, 1, 1, 1, 1, 1, 3, 1, 2, 2, 1, 1, 1, 2, 3, 3, 2, 1, 1, 1, 1,\n",
       "       1, 1, 3, 3, 2, 2, 1, 3, 3, 3, 2, 1, 2, 1, 1, 1, 1, 3, 1, 1, 3, 1,\n",
       "       2, 2, 2, 1, 1, 1, 2, 1, 1, 1, 1, 3, 2, 3, 2, 3, 2, 3, 3, 1, 2, 1,\n",
       "       2, 1, 3, 1, 1, 3, 1, 1, 3, 1, 1, 3, 3, 2, 2, 1, 1, 1, 2, 1, 1, 3,\n",
       "       2, 3, 1, 3, 3, 1, 2, 2, 3, 2, 1, 3, 1, 1, 2, 3, 3, 1, 1, 2, 3, 1,\n",
       "       3, 2, 1, 1, 2, 1, 1, 2, 1, 2, 2, 2, 1, 1, 1, 3, 3, 2])"
      ]
     },
     "execution_count": 75,
     "metadata": {},
     "output_type": "execute_result"
    }
   ],
   "source": [
    "y_pred2"
   ]
  },
  {
   "cell_type": "code",
   "execution_count": 76,
   "metadata": {},
   "outputs": [],
   "source": [
    "ls=list(zip(y_test_original,y_pred2))"
   ]
  },
  {
   "cell_type": "code",
   "execution_count": 77,
   "metadata": {},
   "outputs": [
    {
     "data": {
      "text/plain": [
       "125"
      ]
     },
     "execution_count": 77,
     "metadata": {},
     "output_type": "execute_result"
    }
   ],
   "source": [
    "ls1=[l for l in ls if l[0]==l[1]]\n",
    "len(ls1)"
   ]
  },
  {
   "cell_type": "code",
   "execution_count": 78,
   "metadata": {
    "scrolled": true
   },
   "outputs": [],
   "source": [
    "cnf1=confusion_matrix(y_test_original, y_pred)"
   ]
  },
  {
   "cell_type": "code",
   "execution_count": 79,
   "metadata": {},
   "outputs": [],
   "source": [
    "target_names=['American','Chinies','Indian']"
   ]
  },
  {
   "cell_type": "code",
   "execution_count": 80,
   "metadata": {
    "scrolled": true
   },
   "outputs": [
    {
     "name": "stdout",
     "output_type": "stream",
     "text": [
      "              precision    recall  f1-score   support\n",
      "\n",
      "    American       0.72      0.52      0.61       130\n",
      "     Chinies       0.44      0.45      0.44        67\n",
      "      Indian       0.26      0.49      0.34        41\n",
      "\n",
      "    accuracy                           0.50       238\n",
      "   macro avg       0.48      0.49      0.46       238\n",
      "weighted avg       0.56      0.50      0.52       238\n",
      "\n"
     ]
    }
   ],
   "source": [
    "print(classification_report(y_test_original, y_pred, \n",
    " target_names=target_names))"
   ]
  },
  {
   "cell_type": "code",
   "execution_count": 81,
   "metadata": {},
   "outputs": [
    {
     "data": {
      "text/plain": [
       "<matplotlib.axes._subplots.AxesSubplot at 0x7faf21313e20>"
      ]
     },
     "execution_count": 81,
     "metadata": {},
     "output_type": "execute_result"
    },
    {
     "data": {
      "image/png": "[encoded data removed]",
      "text/plain": [
       "<Figure size 432x288 with 2 Axes>"
      ]
     },
     "metadata": {
      "needs_background": "light"
     },
     "output_type": "display_data"
    }
   ],
   "source": [
    "sns.heatmap(cnf1,annot=True)"
   ]
  },
  {
   "cell_type": "code",
   "execution_count": null,
   "metadata": {},
   "outputs": [],
   "source": []
  }
 ],
 "metadata": {
  "kernelspec": {
   "display_name": "Python 3",
   "language": "python",
   "name": "python3"
  },
  "language_info": {
   "codemirror_mode": {
    "name": "ipython",
    "version": 3
   },
   "file_extension": ".py",
   "mimetype": "text/x-python",
   "name": "python",
   "nbconvert_exporter": "python",
   "pygments_lexer": "ipython3",
   "version": "3.8.3"
  }
 },
 "nbformat": 4,
 "nbformat_minor": 4
}
