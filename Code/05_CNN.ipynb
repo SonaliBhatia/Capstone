{
 "cells": [
  {
   "cell_type": "markdown",
   "metadata": {},
   "source": [
    "# Trying CNN for modeling here"
   ]
  },
  {
   "cell_type": "code",
   "execution_count": 1,
   "metadata": {},
   "outputs": [],
   "source": [
    "import numpy as np\n",
    "import pandas as pd\n",
    "import seaborn as sns\n",
    "from sklearn.datasets import make_classification, make_regression\n",
    "from sklearn.metrics import classification_report , confusion_matrix ,plot_confusion_matrix\n",
    "\n",
    "import matplotlib.pyplot as plt\n",
    "import pickle\n",
    "\n",
    "from tensorflow.keras.models import Sequential\n",
    "from tensorflow.keras.layers import Dense , Activation, Flatten, Dropout\n",
    "from keras.utils import np_utils\n",
    "from tensorflow.keras.utils import to_categorical \n",
    "from sklearn.model_selection import train_test_split, GridSearchCV , cross_val_score\n",
    "\n",
    "from keras.layers import Conv2D, MaxPooling2D\n",
    "from keras.utils import np_utils\n",
    "\n",
    "from tensorflow.keras.regularizers import l2\n",
    "from keras.callbacks import EarlyStopping\n",
    "\n",
    "%matplotlib inline"
   ]
  },
  {
   "cell_type": "code",
   "execution_count": 2,
   "metadata": {},
   "outputs": [],
   "source": [
    "#feature_df = pd.read_csv('../Data/Data_and_Features.csv')"
   ]
  },
  {
   "cell_type": "code",
   "execution_count": 3,
   "metadata": {},
   "outputs": [],
   "source": [
    "#using pickled df from previous file to preserve data and data types as CSV is modifying the data types \n",
    "feature_df=pd.read_pickle('Data_And_Features.pkl')"
   ]
  },
  {
   "cell_type": "code",
   "execution_count": 4,
   "metadata": {},
   "outputs": [
    {
     "data": {
      "text/html": [
       "<div>\n",
       "<style scoped>\n",
       "    .dataframe tbody tr th:only-of-type {\n",
       "        vertical-align: middle;\n",
       "    }\n",
       "\n",
       "    .dataframe tbody tr th {\n",
       "        vertical-align: top;\n",
       "    }\n",
       "\n",
       "    .dataframe thead th {\n",
       "        text-align: right;\n",
       "    }\n",
       "</style>\n",
       "<table border=\"1\" class=\"dataframe\">\n",
       "  <thead>\n",
       "    <tr style=\"text-align: right;\">\n",
       "      <th></th>\n",
       "      <th>age</th>\n",
       "      <th>age_onset</th>\n",
       "      <th>birthplace</th>\n",
       "      <th>filename</th>\n",
       "      <th>native_language</th>\n",
       "      <th>sex</th>\n",
       "      <th>speakerid</th>\n",
       "      <th>country</th>\n",
       "      <th>file_missing?</th>\n",
       "      <th>Accent</th>\n",
       "      <th>...</th>\n",
       "      <th>853</th>\n",
       "      <th>854</th>\n",
       "      <th>855</th>\n",
       "      <th>856</th>\n",
       "      <th>857</th>\n",
       "      <th>858</th>\n",
       "      <th>859</th>\n",
       "      <th>860</th>\n",
       "      <th>861</th>\n",
       "      <th>Accent_num</th>\n",
       "    </tr>\n",
       "  </thead>\n",
       "  <tbody>\n",
       "    <tr>\n",
       "      <th>0</th>\n",
       "      <td>19.0</td>\n",
       "      <td>9.0</td>\n",
       "      <td>shady grove, maryland, usa</td>\n",
       "      <td>arabic38</td>\n",
       "      <td>arabic</td>\n",
       "      <td>female</td>\n",
       "      <td>1394</td>\n",
       "      <td>usa</td>\n",
       "      <td>False</td>\n",
       "      <td>American</td>\n",
       "      <td>...</td>\n",
       "      <td>-22.414141</td>\n",
       "      <td>-19.780674</td>\n",
       "      <td>-20.364351</td>\n",
       "      <td>-26.178616</td>\n",
       "      <td>-26.259825</td>\n",
       "      <td>-26.722843</td>\n",
       "      <td>-23.242558</td>\n",
       "      <td>-20.390944</td>\n",
       "      <td>-16.448463</td>\n",
       "      <td>1</td>\n",
       "    </tr>\n",
       "    <tr>\n",
       "      <th>1</th>\n",
       "      <td>32.0</td>\n",
       "      <td>12.0</td>\n",
       "      <td>fort collins, colorado, usa</td>\n",
       "      <td>arabic45</td>\n",
       "      <td>arabic</td>\n",
       "      <td>female</td>\n",
       "      <td>1456</td>\n",
       "      <td>usa</td>\n",
       "      <td>False</td>\n",
       "      <td>American</td>\n",
       "      <td>...</td>\n",
       "      <td>-13.328942</td>\n",
       "      <td>-13.913136</td>\n",
       "      <td>-14.347802</td>\n",
       "      <td>-15.178201</td>\n",
       "      <td>-15.032391</td>\n",
       "      <td>-15.780533</td>\n",
       "      <td>-17.877295</td>\n",
       "      <td>-10.750269</td>\n",
       "      <td>-5.102596</td>\n",
       "      <td>1</td>\n",
       "    </tr>\n",
       "    <tr>\n",
       "      <th>2</th>\n",
       "      <td>19.0</td>\n",
       "      <td>3.0</td>\n",
       "      <td>washington, district of columbia, usa</td>\n",
       "      <td>arabic78</td>\n",
       "      <td>arabic</td>\n",
       "      <td>female</td>\n",
       "      <td>1897</td>\n",
       "      <td>usa</td>\n",
       "      <td>False</td>\n",
       "      <td>American</td>\n",
       "      <td>...</td>\n",
       "      <td>-32.267937</td>\n",
       "      <td>-34.579670</td>\n",
       "      <td>-37.915585</td>\n",
       "      <td>-37.576115</td>\n",
       "      <td>-33.534348</td>\n",
       "      <td>-29.363533</td>\n",
       "      <td>-25.490492</td>\n",
       "      <td>-22.864353</td>\n",
       "      <td>-19.428410</td>\n",
       "      <td>1</td>\n",
       "    </tr>\n",
       "    <tr>\n",
       "      <th>3</th>\n",
       "      <td>43.0</td>\n",
       "      <td>40.0</td>\n",
       "      <td>jianchuan, yunnan, china</td>\n",
       "      <td>bai1</td>\n",
       "      <td>bai</td>\n",
       "      <td>female</td>\n",
       "      <td>28</td>\n",
       "      <td>china</td>\n",
       "      <td>False</td>\n",
       "      <td>Chinese</td>\n",
       "      <td>...</td>\n",
       "      <td>-44.022732</td>\n",
       "      <td>-44.022732</td>\n",
       "      <td>-44.022732</td>\n",
       "      <td>-44.022732</td>\n",
       "      <td>-44.022732</td>\n",
       "      <td>-44.022732</td>\n",
       "      <td>-44.022732</td>\n",
       "      <td>-44.022732</td>\n",
       "      <td>-44.022732</td>\n",
       "      <td>2</td>\n",
       "    </tr>\n",
       "    <tr>\n",
       "      <th>4</th>\n",
       "      <td>34.0</td>\n",
       "      <td>3.5</td>\n",
       "      <td>durgapur, west bengal, india</td>\n",
       "      <td>bengali11</td>\n",
       "      <td>bengali</td>\n",
       "      <td>male</td>\n",
       "      <td>1018</td>\n",
       "      <td>india</td>\n",
       "      <td>False</td>\n",
       "      <td>Indian</td>\n",
       "      <td>...</td>\n",
       "      <td>-4.014865</td>\n",
       "      <td>-4.399039</td>\n",
       "      <td>-7.001354</td>\n",
       "      <td>-11.521073</td>\n",
       "      <td>-10.343769</td>\n",
       "      <td>-8.018362</td>\n",
       "      <td>-7.545074</td>\n",
       "      <td>-10.307240</td>\n",
       "      <td>-11.671057</td>\n",
       "      <td>3</td>\n",
       "    </tr>\n",
       "  </tbody>\n",
       "</table>\n",
       "<p>5 rows × 873 columns</p>\n",
       "</div>"
      ],
      "text/plain": [
       "    age  age_onset                             birthplace   filename  \\\n",
       "0  19.0        9.0             shady grove, maryland, usa   arabic38   \n",
       "1  32.0       12.0            fort collins, colorado, usa   arabic45   \n",
       "2  19.0        3.0  washington, district of columbia, usa   arabic78   \n",
       "3  43.0       40.0               jianchuan, yunnan, china       bai1   \n",
       "4  34.0        3.5           durgapur, west bengal, india  bengali11   \n",
       "\n",
       "  native_language     sex  speakerid country  file_missing?    Accent  ...  \\\n",
       "0          arabic  female       1394     usa          False  American  ...   \n",
       "1          arabic  female       1456     usa          False  American  ...   \n",
       "2          arabic  female       1897     usa          False  American  ...   \n",
       "3             bai  female         28   china          False   Chinese  ...   \n",
       "4         bengali    male       1018   india          False    Indian  ...   \n",
       "\n",
       "         853        854        855        856        857        858  \\\n",
       "0 -22.414141 -19.780674 -20.364351 -26.178616 -26.259825 -26.722843   \n",
       "1 -13.328942 -13.913136 -14.347802 -15.178201 -15.032391 -15.780533   \n",
       "2 -32.267937 -34.579670 -37.915585 -37.576115 -33.534348 -29.363533   \n",
       "3 -44.022732 -44.022732 -44.022732 -44.022732 -44.022732 -44.022732   \n",
       "4  -4.014865  -4.399039  -7.001354 -11.521073 -10.343769  -8.018362   \n",
       "\n",
       "         859        860        861  Accent_num  \n",
       "0 -23.242558 -20.390944 -16.448463           1  \n",
       "1 -17.877295 -10.750269  -5.102596           1  \n",
       "2 -25.490492 -22.864353 -19.428410           1  \n",
       "3 -44.022732 -44.022732 -44.022732           2  \n",
       "4  -7.545074 -10.307240 -11.671057           3  \n",
       "\n",
       "[5 rows x 873 columns]"
      ]
     },
     "execution_count": 4,
     "metadata": {},
     "output_type": "execute_result"
    }
   ],
   "source": [
    "feature_df.head()"
   ]
  },
  {
   "cell_type": "code",
   "execution_count": 5,
   "metadata": {},
   "outputs": [
    {
     "data": {
      "text/plain": [
       "(791, 873)"
      ]
     },
     "execution_count": 5,
     "metadata": {},
     "output_type": "execute_result"
    }
   ],
   "source": [
    "feature_df.shape"
   ]
  },
  {
   "cell_type": "code",
   "execution_count": 6,
   "metadata": {},
   "outputs": [
    {
     "name": "stdout",
     "output_type": "stream",
     "text": [
      "<class 'pandas.core.frame.DataFrame'>\n",
      "RangeIndex: 791 entries, 0 to 790\n",
      "Columns: 873 entries, age to Accent_num\n",
      "dtypes: bool(1), float64(864), int64(2), object(6)\n",
      "memory usage: 5.3+ MB\n"
     ]
    }
   ],
   "source": [
    "feature_df.info()"
   ]
  },
  {
   "cell_type": "code",
   "execution_count": 7,
   "metadata": {},
   "outputs": [],
   "source": [
    "features=range(0,784)"
   ]
  },
  {
   "cell_type": "code",
   "execution_count": 8,
   "metadata": {},
   "outputs": [
    {
     "data": {
      "text/plain": [
       "range(0, 784)"
      ]
     },
     "execution_count": 8,
     "metadata": {},
     "output_type": "execute_result"
    }
   ],
   "source": [
    "features"
   ]
  },
  {
   "cell_type": "code",
   "execution_count": 9,
   "metadata": {},
   "outputs": [],
   "source": [
    "X=feature_df[features]\n",
    "y=feature_df['Accent_num']"
   ]
  },
  {
   "cell_type": "code",
   "execution_count": 10,
   "metadata": {},
   "outputs": [],
   "source": [
    "X=np.array(X)"
   ]
  },
  {
   "cell_type": "code",
   "execution_count": 11,
   "metadata": {},
   "outputs": [
    {
     "data": {
      "text/plain": [
       "(784,)"
      ]
     },
     "execution_count": 11,
     "metadata": {},
     "output_type": "execute_result"
    }
   ],
   "source": [
    "X[0].shape"
   ]
  },
  {
   "cell_type": "code",
   "execution_count": 12,
   "metadata": {},
   "outputs": [
    {
     "data": {
      "text/plain": [
       "(791, 784)"
      ]
     },
     "execution_count": 12,
     "metadata": {},
     "output_type": "execute_result"
    }
   ],
   "source": [
    "X.shape"
   ]
  },
  {
   "cell_type": "code",
   "execution_count": 13,
   "metadata": {},
   "outputs": [
    {
     "data": {
      "text/plain": [
       "1    433\n",
       "2    221\n",
       "3    137\n",
       "Name: Accent_num, dtype: int64"
      ]
     },
     "execution_count": 13,
     "metadata": {},
     "output_type": "execute_result"
    }
   ],
   "source": [
    "y.value_counts()"
   ]
  },
  {
   "cell_type": "code",
   "execution_count": 14,
   "metadata": {},
   "outputs": [
    {
     "data": {
      "text/plain": [
       "numpy.ndarray"
      ]
     },
     "execution_count": 14,
     "metadata": {},
     "output_type": "execute_result"
    }
   ],
   "source": [
    "type(X)"
   ]
  },
  {
   "cell_type": "code",
   "execution_count": 15,
   "metadata": {},
   "outputs": [],
   "source": [
    "X_train , X_test , y_train , y_test = train_test_split(X,y,test_size=0.3,random_state=42,stratify=y )"
   ]
  },
  {
   "cell_type": "code",
   "execution_count": 16,
   "metadata": {},
   "outputs": [
    {
     "data": {
      "text/plain": [
       "(553, 784)"
      ]
     },
     "execution_count": 16,
     "metadata": {},
     "output_type": "execute_result"
    }
   ],
   "source": [
    "X_train.shape"
   ]
  },
  {
   "cell_type": "code",
   "execution_count": 17,
   "metadata": {},
   "outputs": [
    {
     "data": {
      "text/plain": [
       "(784,)"
      ]
     },
     "execution_count": 17,
     "metadata": {},
     "output_type": "execute_result"
    }
   ],
   "source": [
    "X_train[0].shape"
   ]
  },
  {
   "cell_type": "code",
   "execution_count": 18,
   "metadata": {},
   "outputs": [],
   "source": [
    "#rows = X_train[0].shape[0]\n",
    "#cols = X_train[0].shape[1]\n",
    "#rows "
   ]
  },
  {
   "cell_type": "code",
   "execution_count": 19,
   "metadata": {},
   "outputs": [],
   "source": [
    "X_train=X_train.reshape(X_train.shape[0],28,28)"
   ]
  },
  {
   "cell_type": "code",
   "execution_count": 20,
   "metadata": {},
   "outputs": [],
   "source": [
    "X_test=X_test.reshape(X_test.shape[0],28,28)"
   ]
  },
  {
   "cell_type": "code",
   "execution_count": 21,
   "metadata": {},
   "outputs": [
    {
     "name": "stdout",
     "output_type": "stream",
     "text": [
      "Train: X=(553, 28, 28), y=(553,)\n",
      "Test: X=(238, 28, 28), y=(238,)\n"
     ]
    },
    {
     "data": {
      "image/png": "[encoded data removed]",
      "text/plain": [
       "<Figure size 432x288 with 1 Axes>"
      ]
     },
     "metadata": {
      "needs_background": "light"
     },
     "output_type": "display_data"
    },
    {
     "data": {
      "image/png": "[encoded data removed]",
      "text/plain": [
       "<Figure size 432x288 with 1 Axes>"
      ]
     },
     "metadata": {
      "needs_background": "light"
     },
     "output_type": "display_data"
    },
    {
     "data": {
      "image/png": "[encoded data removed]",
      "text/plain": [
       "<Figure size 432x288 with 1 Axes>"
      ]
     },
     "metadata": {
      "needs_background": "light"
     },
     "output_type": "display_data"
    }
   ],
   "source": [
    "print('Train: X=%s, y=%s' % (X_train.shape, y_train.shape))\n",
    "print('Test: X=%s, y=%s' % (X_test.shape, y_test.shape))\n",
    "\n",
    "# plot first few images\n",
    "\n",
    "for i in range(3):\n",
    "    \n",
    "# plot raw pixel data\n",
    "    plt.imshow(X_train[i], cmap=plt.get_cmap('plasma'))\n",
    "# show the figure\n",
    "    plt.show()"
   ]
  },
  {
   "cell_type": "code",
   "execution_count": 22,
   "metadata": {},
   "outputs": [],
   "source": [
    "X_train = X_train.astype('float32')/255\n",
    "X_test = X_test.astype('float32')/255"
   ]
  },
  {
   "cell_type": "code",
   "execution_count": 23,
   "metadata": {},
   "outputs": [
    {
     "data": {
      "text/plain": [
       "array([[-0.1265163 , -0.11947132, -0.10949759, -0.10870349, -0.11381982,\n",
       "        -0.11176246, -0.11156242, -0.11575475, -0.09902835, -0.09929239,\n",
       "        -0.1153036 , -0.12246849, -0.1206795 , -0.11037698, -0.10038524,\n",
       "        -0.10528675, -0.11411802, -0.1112444 , -0.10225241, -0.10201324,\n",
       "        -0.11284667, -0.11187733, -0.1089025 , -0.11124761, -0.10675991,\n",
       "        -0.11499482, -0.11272328, -0.11223192],\n",
       "       [-0.12197392, -0.1194142 , -0.11107749, -0.11178077, -0.11137064,\n",
       "        -0.11451935, -0.11046054, -0.10540321, -0.10234459, -0.10430402,\n",
       "        -0.10197657, -0.11090949, -0.11467908, -0.10666274, -0.11190069,\n",
       "        -0.11384599, -0.10980308, -0.11008009, -0.10429161, -0.09979478,\n",
       "        -0.10151893, -0.10600594, -0.09944069, -0.09514348, -0.08960707,\n",
       "        -0.09020317, -0.09760015, -0.10693713],\n",
       "       [-0.11331835, -0.11816739, -0.10790652, -0.0994451 , -0.09972574,\n",
       "        -0.10310192, -0.10222299, -0.10126359, -0.09747977, -0.10597859,\n",
       "        -0.11594111, -0.11131385, -0.10882687, -0.10837228, -0.11279776,\n",
       "        -0.1091005 , -0.10643659, -0.10017059, -0.09528574, -0.09469476,\n",
       "        -0.06910257, -0.0681996 , -0.05747028, -0.04170213, -0.02862679,\n",
       "        -0.03125732, -0.03575575, -0.03196741],\n",
       "       [-0.0293983 , -0.03075173, -0.03259848, -0.03712261, -0.04172032,\n",
       "        -0.03843393, -0.03297807, -0.03237965, -0.03376621, -0.03739875,\n",
       "        -0.03852885, -0.0474337 , -0.0613103 , -0.06430872, -0.06404638,\n",
       "        -0.05944449, -0.07081474, -0.08098719, -0.07399128, -0.07000922,\n",
       "        -0.07783558, -0.07344888, -0.06592501, -0.05127846, -0.04548182,\n",
       "        -0.05997387, -0.07039772, -0.06956545],\n",
       "       [-0.06529785, -0.06187502, -0.05357273, -0.05038219, -0.05194978,\n",
       "        -0.05112377, -0.04706873, -0.04659408, -0.05253337, -0.07051457,\n",
       "        -0.07682337, -0.08744879, -0.091709  , -0.09106558, -0.09827045,\n",
       "        -0.10835483, -0.11039474, -0.10471695, -0.08167864, -0.0469223 ,\n",
       "        -0.03311349, -0.03558284, -0.03837496, -0.03560555, -0.04183433,\n",
       "        -0.04870486, -0.052918  , -0.05973103],\n",
       "       [-0.05879273, -0.05398471, -0.0561168 , -0.06138901, -0.06274231,\n",
       "        -0.06376962, -0.05863217, -0.05430077, -0.05452362, -0.05847766,\n",
       "        -0.060964  , -0.06201788, -0.06439856, -0.07028227, -0.07668003,\n",
       "        -0.09044749, -0.10149271, -0.08898629, -0.06248239, -0.04039328,\n",
       "        -0.04235425, -0.05710736, -0.06495561, -0.05162105, -0.03765411,\n",
       "        -0.03631232, -0.03363256, -0.01678083],\n",
       "       [-0.01383464, -0.01785986, -0.03571046, -0.0622064 , -0.07240304,\n",
       "        -0.07739265, -0.0872806 , -0.0917438 , -0.09692594, -0.0997369 ,\n",
       "        -0.10063197, -0.10172705, -0.09726113, -0.10181146, -0.10792562,\n",
       "        -0.10607912, -0.11062953, -0.10641503, -0.10722877, -0.11716453,\n",
       "        -0.11612283, -0.10368554, -0.1070435 , -0.11985821, -0.11478212,\n",
       "        -0.10913943, -0.10431048, -0.10304262],\n",
       "       [-0.0936612 , -0.09514232, -0.09456863, -0.09515957, -0.10651369,\n",
       "        -0.10712791, -0.1078596 , -0.10750572, -0.09689819, -0.07143947,\n",
       "        -0.05592197, -0.04684159, -0.04320409, -0.04823008, -0.0448483 ,\n",
       "        -0.04095106, -0.03583745, -0.04009749, -0.05112998, -0.04837928,\n",
       "        -0.04682315, -0.05385389, -0.06366239, -0.05540494, -0.04237815,\n",
       "        -0.04069187, -0.05232376, -0.07594915],\n",
       "       [-0.10002153, -0.08719422, -0.07489133, -0.06472213, -0.04312382,\n",
       "        -0.03574693, -0.03900929, -0.04718825, -0.04569574, -0.04073781,\n",
       "        -0.03809496, -0.03410627, -0.03420185, -0.03533844, -0.03952817,\n",
       "        -0.04529621, -0.04763723, -0.03211955, -0.03042193, -0.03586801,\n",
       "        -0.03850676, -0.0441149 , -0.04493772, -0.03690187, -0.03371182,\n",
       "        -0.03498922, -0.04153008, -0.05405084],\n",
       "       [-0.05835178, -0.0636125 , -0.07302504, -0.07532   , -0.04544327,\n",
       "         0.00700031,  0.02181355,  0.0200867 ,  0.00820362, -0.00513428,\n",
       "        -0.02706578, -0.04044089, -0.0330472 , -0.03694795, -0.04224996,\n",
       "        -0.03789898, -0.03938602, -0.04373733, -0.04166797, -0.03887967,\n",
       "        -0.04032752, -0.04456698, -0.04953556, -0.04706899, -0.04411361,\n",
       "        -0.04600634, -0.0435204 , -0.04388371],\n",
       "       [-0.05153173, -0.04660071, -0.04260587, -0.04414358, -0.04380773,\n",
       "        -0.04969607, -0.05393982, -0.05695836, -0.0611931 , -0.04844065,\n",
       "        -0.02887307, -0.03198693, -0.04646008, -0.05717654, -0.05756548,\n",
       "        -0.07472344, -0.08833142, -0.08455686, -0.05640959, -0.04272399,\n",
       "        -0.04070261, -0.04113313, -0.04332984, -0.04664083, -0.0413905 ,\n",
       "        -0.04212868, -0.04354283, -0.04635575],\n",
       "       [-0.04483972, -0.0440498 , -0.04729662, -0.04592507, -0.04457594,\n",
       "        -0.05400362, -0.05849966, -0.06402351, -0.071706  , -0.07438596,\n",
       "        -0.06263152, -0.04106409, -0.02550209, -0.0212926 , -0.01544859,\n",
       "        -0.01436087, -0.02169907, -0.03116339, -0.04163017, -0.05119873,\n",
       "        -0.05203961, -0.05107709, -0.05388706, -0.04801951, -0.04576269,\n",
       "        -0.05320215, -0.05109798, -0.04967061],\n",
       "       [-0.05463311, -0.05337926, -0.06351118, -0.07245171, -0.07865159,\n",
       "        -0.0807896 , -0.0800998 , -0.08161021, -0.06700735, -0.04810107,\n",
       "        -0.05158543, -0.05213733, -0.0474929 , -0.04318551, -0.03777532,\n",
       "        -0.03845135, -0.04804635, -0.04607746, -0.04625738, -0.04485741,\n",
       "        -0.04541208, -0.0487308 , -0.05208537, -0.05728072, -0.05365765,\n",
       "        -0.05414046, -0.04916191, -0.05131038],\n",
       "       [-0.06161559, -0.06015454, -0.04332736, -0.03544112, -0.04010517,\n",
       "        -0.06937393, -0.08831   , -0.05233151, -0.0285522 , -0.02979785,\n",
       "        -0.0346134 , -0.04158451, -0.05237122, -0.0513379 , -0.05116802,\n",
       "        -0.05488069, -0.0551227 , -0.05604647, -0.05316649, -0.0518043 ,\n",
       "        -0.05521768, -0.05459345, -0.05527386, -0.05536653, -0.05647595,\n",
       "        -0.0550377 , -0.05434723, -0.05693837],\n",
       "       [-0.05339214, -0.05645367, -0.06205627, -0.06768234, -0.0729737 ,\n",
       "        -0.07484523, -0.07505139, -0.06603261, -0.05006546, -0.01985865,\n",
       "        -0.00584168, -0.01745469, -0.03651086, -0.05311494, -0.06431764,\n",
       "        -0.08505777, -0.09802559, -0.09276808, -0.08493806, -0.08802016,\n",
       "        -0.10065472, -0.10690004, -0.11105294, -0.10492199, -0.10455938,\n",
       "        -0.11351475, -0.11340775, -0.11400298],\n",
       "       [-0.11867852, -0.11526786, -0.11230732, -0.10781134, -0.10888653,\n",
       "        -0.10273328, -0.10245928, -0.11267754, -0.11632818, -0.11733877,\n",
       "        -0.11066017, -0.10899319, -0.11013433, -0.10979567, -0.11023923,\n",
       "        -0.11580758, -0.11295214, -0.09857857, -0.08943033, -0.09748602,\n",
       "        -0.10601552, -0.10718726, -0.10323817, -0.10366821, -0.10170663,\n",
       "        -0.10137606, -0.10540564, -0.10446492],\n",
       "       [-0.1061941 , -0.10501453, -0.10248848, -0.09903757, -0.11243826,\n",
       "        -0.11049557, -0.10850254, -0.10423439, -0.10413692, -0.10994626,\n",
       "        -0.1064447 , -0.1046903 , -0.10559016, -0.1054877 , -0.10395734,\n",
       "        -0.07173766, -0.03949227, -0.03274602, -0.0316501 , -0.04685929,\n",
       "        -0.03643223, -0.01018497,  0.00084863, -0.00075016, -0.01230364,\n",
       "        -0.02770245, -0.04162145, -0.0455419 ],\n",
       "       [-0.05331726, -0.05393243, -0.06021465, -0.06270172, -0.07072229,\n",
       "        -0.08198569, -0.08286129, -0.08121096, -0.06867027, -0.04569219,\n",
       "        -0.02422284, -0.02342698, -0.04322607, -0.02467409,  0.01219807,\n",
       "         0.01668233,  0.00246781, -0.01363565, -0.02932123, -0.03063362,\n",
       "        -0.01697233, -0.02243373, -0.0353302 , -0.04696439, -0.04789075,\n",
       "        -0.04595762, -0.04657695, -0.04339158],\n",
       "       [-0.04553766, -0.05883085, -0.06830318, -0.06995358, -0.06848115,\n",
       "        -0.06154897, -0.04530022, -0.02346462, -0.0281901 , -0.04287357,\n",
       "        -0.05522529, -0.05702945, -0.06230034, -0.0654705 , -0.06865612,\n",
       "        -0.07451544, -0.07973702, -0.08700258, -0.09553333, -0.09664132,\n",
       "        -0.07766784, -0.05924718, -0.05394237, -0.04922548, -0.04891617,\n",
       "        -0.04732972, -0.04541061, -0.04967289],\n",
       "       [-0.05290679, -0.048895  , -0.04601038, -0.04129294, -0.04238857,\n",
       "        -0.04655213, -0.0508639 , -0.05272747, -0.05859149, -0.03485759,\n",
       "        -0.02997317, -0.03747128, -0.05403419, -0.06680135, -0.06276674,\n",
       "        -0.06845055, -0.07830099, -0.07774483, -0.07739528, -0.06462263,\n",
       "        -0.05064715, -0.03902491, -0.04145573, -0.04948497, -0.0411475 ,\n",
       "        -0.04316539, -0.04248694, -0.04235651],\n",
       "       [-0.04184897, -0.04483224, -0.04768412, -0.04555662, -0.0492836 ,\n",
       "        -0.04905309, -0.04519683, -0.04229571, -0.05223825, -0.07023335,\n",
       "        -0.05795557, -0.05712048, -0.06337393, -0.03661269, -0.02435732,\n",
       "        -0.03950335, -0.05685172, -0.04612014, -0.04438215, -0.05601606,\n",
       "        -0.0573138 , -0.05813818, -0.05865536, -0.05088187, -0.05103518,\n",
       "        -0.05251694, -0.05374962, -0.05270639],\n",
       "       [-0.050838  , -0.05081575, -0.05616234, -0.05588374, -0.05352636,\n",
       "        -0.05436411, -0.05134696, -0.05615122, -0.07743748, -0.08532529,\n",
       "        -0.09082813, -0.09916006, -0.07665283, -0.0715661 , -0.08319408,\n",
       "        -0.08212895, -0.07260814, -0.07051871, -0.06760481, -0.06339711,\n",
       "        -0.07606649, -0.08966066, -0.08661504, -0.08264758, -0.08481997,\n",
       "        -0.09198482, -0.10419119, -0.09475406],\n",
       "       [-0.09275799, -0.10731813, -0.10690824, -0.11294866, -0.11620403,\n",
       "        -0.10712554, -0.10108125, -0.10296455, -0.09776659, -0.09735782,\n",
       "        -0.08896683, -0.08770484, -0.10134208, -0.10067762, -0.09348698,\n",
       "        -0.0928525 , -0.09889457, -0.0983832 , -0.09506712, -0.10812867,\n",
       "        -0.11757974, -0.11789277, -0.11165041, -0.11035668, -0.10650645,\n",
       "        -0.10179798, -0.10353538, -0.10143515],\n",
       "       [-0.09567679, -0.09424212, -0.09117319, -0.0801711 , -0.08012117,\n",
       "        -0.08697828, -0.09064001, -0.06588881, -0.04030236, -0.03810184,\n",
       "        -0.03790173, -0.03621594, -0.03934512, -0.04652314, -0.04178692,\n",
       "        -0.04591536, -0.04161747, -0.03778766, -0.04015955, -0.04724102,\n",
       "        -0.04864601, -0.05117369, -0.04431419, -0.01793197, -0.00875155,\n",
       "        -0.01297721, -0.02073917, -0.01976119],\n",
       "       [-0.03032359, -0.0576045 , -0.05514456, -0.05966723, -0.06228844,\n",
       "        -0.06744659, -0.08651233, -0.08680841, -0.08644609, -0.07714816,\n",
       "        -0.05910498, -0.03477036, -0.03349448, -0.03855054, -0.04675031,\n",
       "        -0.05066488, -0.0461028 , -0.04911955, -0.05776339, -0.06232592,\n",
       "        -0.06520169, -0.07223419, -0.07431187, -0.07139964, -0.06909151,\n",
       "        -0.06817168, -0.06356601, -0.05035236],\n",
       "       [-0.05446681, -0.06145142, -0.07983256, -0.09865706, -0.09553894,\n",
       "        -0.07307013, -0.05753104, -0.05413919, -0.05618645, -0.05738009,\n",
       "        -0.05189085, -0.04757564, -0.04896574, -0.04928561, -0.05349993,\n",
       "        -0.04991027, -0.04838099, -0.05223756, -0.0511337 , -0.05562257,\n",
       "        -0.05504955, -0.05521236, -0.06561488, -0.0771949 , -0.07688956,\n",
       "        -0.09228993, -0.09737864, -0.07808339],\n",
       "       [-0.05602515, -0.04593296, -0.05343327, -0.05393391, -0.05190352,\n",
       "        -0.06136474, -0.06441723, -0.06576031, -0.06316859, -0.04781621,\n",
       "        -0.04358529, -0.05114476, -0.05648727, -0.05044376, -0.04861467,\n",
       "        -0.04603206, -0.04974244, -0.05087208, -0.04770336, -0.05021182,\n",
       "        -0.0591937 , -0.05341237, -0.05208615, -0.04524213, -0.04271941,\n",
       "        -0.04573499, -0.05231862, -0.06225735],\n",
       "       [-0.07003389, -0.08046241, -0.08025158, -0.08625952, -0.09491602,\n",
       "        -0.09945586, -0.07093661, -0.05198731, -0.05003504, -0.04955089,\n",
       "        -0.05195781, -0.0566071 , -0.05668909, -0.05570852, -0.05500022,\n",
       "        -0.05291886, -0.05061198, -0.05283134, -0.05487974, -0.05923017,\n",
       "        -0.05811155, -0.05886025, -0.06366812, -0.06943486, -0.06734234,\n",
       "        -0.07437986, -0.07868137, -0.0846375 ]], dtype=float32)"
      ]
     },
     "execution_count": 23,
     "metadata": {},
     "output_type": "execute_result"
    }
   ],
   "source": [
    "X_train[0]"
   ]
  },
  {
   "cell_type": "code",
   "execution_count": 24,
   "metadata": {},
   "outputs": [],
   "source": [
    "X_train=X_train.reshape(X_train.shape[0],28,28,1)\n",
    "X_test=X_test.reshape(X_test.shape[0],28,28,1)"
   ]
  },
  {
   "cell_type": "code",
   "execution_count": 25,
   "metadata": {},
   "outputs": [
    {
     "data": {
      "text/plain": [
       "((553, 28, 28, 1), (238, 28, 28, 1))"
      ]
     },
     "execution_count": 25,
     "metadata": {},
     "output_type": "execute_result"
    }
   ],
   "source": [
    "X_train.shape , X_test.shape"
   ]
  },
  {
   "cell_type": "code",
   "execution_count": 26,
   "metadata": {},
   "outputs": [
    {
     "data": {
      "text/plain": [
       "(28, 28, 1)"
      ]
     },
     "execution_count": 26,
     "metadata": {},
     "output_type": "execute_result"
    }
   ],
   "source": [
    "X_train[0].shape"
   ]
  },
  {
   "cell_type": "code",
   "execution_count": 27,
   "metadata": {},
   "outputs": [],
   "source": [
    "y_test_original=y_test"
   ]
  },
  {
   "cell_type": "code",
   "execution_count": 28,
   "metadata": {},
   "outputs": [
    {
     "data": {
      "text/plain": [
       "285    1\n",
       "549    2\n",
       "350    1\n",
       "91     1\n",
       "725    3\n",
       "      ..\n",
       "180    1\n",
       "185    1\n",
       "664    2\n",
       "755    1\n",
       "639    2\n",
       "Name: Accent_num, Length: 238, dtype: int64"
      ]
     },
     "execution_count": 28,
     "metadata": {},
     "output_type": "execute_result"
    }
   ],
   "source": [
    "y_test_original"
   ]
  },
  {
   "cell_type": "code",
   "execution_count": 29,
   "metadata": {},
   "outputs": [
    {
     "data": {
      "text/plain": [
       "((553,), (238,))"
      ]
     },
     "execution_count": 29,
     "metadata": {},
     "output_type": "execute_result"
    }
   ],
   "source": [
    "y_train.shape , y_test.shape"
   ]
  },
  {
   "cell_type": "code",
   "execution_count": 30,
   "metadata": {},
   "outputs": [],
   "source": [
    "y_train=np_utils.to_categorical(y_train,4)\n",
    "y_test=np_utils.to_categorical(y_test,4)"
   ]
  },
  {
   "cell_type": "code",
   "execution_count": 31,
   "metadata": {},
   "outputs": [
    {
     "data": {
      "text/plain": [
       "((553, 4), (238, 4))"
      ]
     },
     "execution_count": 31,
     "metadata": {},
     "output_type": "execute_result"
    }
   ],
   "source": [
    "y_train.shape , y_test.shape"
   ]
  },
  {
   "cell_type": "code",
   "execution_count": 32,
   "metadata": {},
   "outputs": [
    {
     "data": {
      "text/plain": [
       "numpy.ndarray"
      ]
     },
     "execution_count": 32,
     "metadata": {},
     "output_type": "execute_result"
    }
   ],
   "source": [
    "type(y_train)"
   ]
  },
  {
   "cell_type": "code",
   "execution_count": 33,
   "metadata": {},
   "outputs": [
    {
     "data": {
      "text/plain": [
       "numpy.ndarray"
      ]
     },
     "execution_count": 33,
     "metadata": {},
     "output_type": "execute_result"
    }
   ],
   "source": [
    "type(y_test)"
   ]
  },
  {
   "cell_type": "markdown",
   "metadata": {},
   "source": [
    "# CNN model for classification"
   ]
  },
  {
   "cell_type": "code",
   "execution_count": 34,
   "metadata": {},
   "outputs": [],
   "source": [
    "cnn=Sequential()"
   ]
  },
  {
   "cell_type": "code",
   "execution_count": 35,
   "metadata": {},
   "outputs": [],
   "source": [
    "cnn.add(Conv2D(filters = 4,\n",
    "               kernel_size=(3,3),\n",
    "               activation='relu',\n",
    "               input_shape=(28,28,1)))"
   ]
  },
  {
   "cell_type": "code",
   "execution_count": 36,
   "metadata": {},
   "outputs": [],
   "source": [
    "cnn.add(MaxPooling2D(pool_size=(2,2)))"
   ]
  },
  {
   "cell_type": "code",
   "execution_count": 37,
   "metadata": {},
   "outputs": [],
   "source": [
    "cnn.add(Flatten())\n",
    "\n",
    "# Add a densely-connected layer with 128 neurons.\n",
    "cnn.add(Dense(128,activation ='relu'))\n",
    "cnn.add(Dense(64,activation ='relu'))\n",
    "\n",
    "\n",
    "# Add output layer with 10 neurons.\n",
    "cnn.add(Dense(4,activation='softmax'))\n",
    "\n",
    "# compiler\n",
    "cnn.compile(loss='categorical_crossentropy',\n",
    "           optimizer = 'adam',\n",
    "            metrics = ['accuracy']\n",
    "           )"
   ]
  },
  {
   "cell_type": "code",
   "execution_count": 38,
   "metadata": {},
   "outputs": [
    {
     "name": "stdout",
     "output_type": "stream",
     "text": [
      "Epoch 1/150\n",
      "12/12 [==============================] - 0s 16ms/step - loss: 1.2919 - accuracy: 0.5118 - val_loss: 1.1278 - val_accuracy: 0.5462\n",
      "Epoch 2/150\n",
      "12/12 [==============================] - 0s 6ms/step - loss: 1.0753 - accuracy: 0.5479 - val_loss: 1.0223 - val_accuracy: 0.5462\n",
      "Epoch 3/150\n",
      "12/12 [==============================] - 0s 6ms/step - loss: 1.0126 - accuracy: 0.5479 - val_loss: 0.9958 - val_accuracy: 0.5462\n",
      "Epoch 4/150\n",
      "12/12 [==============================] - 0s 6ms/step - loss: 0.9929 - accuracy: 0.5479 - val_loss: 0.9851 - val_accuracy: 0.5462\n",
      "Epoch 5/150\n",
      "12/12 [==============================] - 0s 6ms/step - loss: 0.9839 - accuracy: 0.5479 - val_loss: 0.9772 - val_accuracy: 0.5462\n",
      "Epoch 6/150\n",
      "12/12 [==============================] - 0s 6ms/step - loss: 0.9752 - accuracy: 0.5479 - val_loss: 0.9824 - val_accuracy: 0.5504\n",
      "Epoch 7/150\n",
      "12/12 [==============================] - 0s 6ms/step - loss: 0.9981 - accuracy: 0.5136 - val_loss: 0.9757 - val_accuracy: 0.5462\n",
      "Epoch 8/150\n",
      "12/12 [==============================] - 0s 6ms/step - loss: 0.9795 - accuracy: 0.5479 - val_loss: 0.9644 - val_accuracy: 0.5462\n",
      "Epoch 9/150\n",
      "12/12 [==============================] - 0s 6ms/step - loss: 0.9653 - accuracy: 0.5479 - val_loss: 0.9632 - val_accuracy: 0.5462\n",
      "Epoch 10/150\n",
      "12/12 [==============================] - 0s 6ms/step - loss: 0.9655 - accuracy: 0.5497 - val_loss: 0.9589 - val_accuracy: 0.5462\n",
      "Epoch 11/150\n",
      "12/12 [==============================] - 0s 6ms/step - loss: 0.9615 - accuracy: 0.5479 - val_loss: 0.9554 - val_accuracy: 0.5462\n",
      "Epoch 12/150\n",
      "12/12 [==============================] - 0s 6ms/step - loss: 0.9491 - accuracy: 0.5515 - val_loss: 0.9414 - val_accuracy: 0.5462\n",
      "Epoch 13/150\n",
      "12/12 [==============================] - 0s 6ms/step - loss: 0.9431 - accuracy: 0.5497 - val_loss: 0.9419 - val_accuracy: 0.5966\n",
      "Epoch 14/150\n",
      "12/12 [==============================] - 0s 7ms/step - loss: 0.9454 - accuracy: 0.5769 - val_loss: 0.9405 - val_accuracy: 0.5462\n",
      "Epoch 15/150\n",
      "12/12 [==============================] - 0s 6ms/step - loss: 0.9251 - accuracy: 0.5732 - val_loss: 0.9187 - val_accuracy: 0.5966\n",
      "Epoch 16/150\n",
      "12/12 [==============================] - 0s 7ms/step - loss: 0.9221 - accuracy: 0.5877 - val_loss: 0.9145 - val_accuracy: 0.5924\n",
      "Epoch 17/150\n",
      "12/12 [==============================] - 0s 7ms/step - loss: 0.9041 - accuracy: 0.6184 - val_loss: 0.9271 - val_accuracy: 0.5546\n",
      "Epoch 18/150\n",
      "12/12 [==============================] - 0s 6ms/step - loss: 0.9195 - accuracy: 0.5986 - val_loss: 0.8995 - val_accuracy: 0.5924\n",
      "Epoch 19/150\n",
      "12/12 [==============================] - 0s 6ms/step - loss: 0.8875 - accuracy: 0.5931 - val_loss: 0.8826 - val_accuracy: 0.6134\n",
      "Epoch 20/150\n",
      "12/12 [==============================] - 0s 6ms/step - loss: 0.8763 - accuracy: 0.6383 - val_loss: 0.9062 - val_accuracy: 0.5798\n",
      "Epoch 21/150\n",
      "12/12 [==============================] - 0s 6ms/step - loss: 0.8967 - accuracy: 0.6040 - val_loss: 0.8993 - val_accuracy: 0.6092\n",
      "Epoch 22/150\n",
      "12/12 [==============================] - 0s 7ms/step - loss: 0.8652 - accuracy: 0.6166 - val_loss: 0.8688 - val_accuracy: 0.6008\n",
      "Epoch 23/150\n",
      "12/12 [==============================] - 0s 7ms/step - loss: 0.8622 - accuracy: 0.6383 - val_loss: 0.8656 - val_accuracy: 0.6008\n",
      "Epoch 24/150\n",
      "12/12 [==============================] - 0s 7ms/step - loss: 0.8551 - accuracy: 0.6184 - val_loss: 0.8761 - val_accuracy: 0.6092\n",
      "Epoch 25/150\n",
      "12/12 [==============================] - 0s 6ms/step - loss: 0.8599 - accuracy: 0.6239 - val_loss: 0.8619 - val_accuracy: 0.6218\n",
      "Epoch 26/150\n",
      "12/12 [==============================] - 0s 6ms/step - loss: 0.8388 - accuracy: 0.6637 - val_loss: 0.8616 - val_accuracy: 0.6092\n",
      "Epoch 27/150\n",
      "12/12 [==============================] - 0s 6ms/step - loss: 0.8348 - accuracy: 0.6383 - val_loss: 0.8682 - val_accuracy: 0.6134\n",
      "Epoch 28/150\n",
      "12/12 [==============================] - 0s 6ms/step - loss: 0.8272 - accuracy: 0.6438 - val_loss: 0.8555 - val_accuracy: 0.6050\n",
      "Epoch 29/150\n",
      "12/12 [==============================] - 0s 6ms/step - loss: 0.8319 - accuracy: 0.6401 - val_loss: 0.8593 - val_accuracy: 0.6050\n",
      "Epoch 30/150\n",
      "12/12 [==============================] - 0s 6ms/step - loss: 0.8194 - accuracy: 0.6420 - val_loss: 0.8679 - val_accuracy: 0.6008\n",
      "Epoch 31/150\n",
      "12/12 [==============================] - 0s 6ms/step - loss: 0.8262 - accuracy: 0.6438 - val_loss: 0.8636 - val_accuracy: 0.6134\n",
      "Epoch 32/150\n",
      "12/12 [==============================] - 0s 6ms/step - loss: 0.8078 - accuracy: 0.6582 - val_loss: 0.8649 - val_accuracy: 0.6050\n",
      "Epoch 33/150\n",
      "12/12 [==============================] - 0s 6ms/step - loss: 0.8180 - accuracy: 0.6438 - val_loss: 0.8646 - val_accuracy: 0.6134\n",
      "Epoch 34/150\n",
      "12/12 [==============================] - 0s 6ms/step - loss: 0.8053 - accuracy: 0.6456 - val_loss: 0.8708 - val_accuracy: 0.6092\n",
      "Epoch 35/150\n",
      "12/12 [==============================] - 0s 6ms/step - loss: 0.7967 - accuracy: 0.6655 - val_loss: 0.8492 - val_accuracy: 0.6134\n",
      "Epoch 36/150\n",
      "12/12 [==============================] - 0s 6ms/step - loss: 0.7941 - accuracy: 0.6709 - val_loss: 0.8504 - val_accuracy: 0.6176\n",
      "Epoch 37/150\n",
      "12/12 [==============================] - 0s 7ms/step - loss: 0.7882 - accuracy: 0.6618 - val_loss: 0.8554 - val_accuracy: 0.6092\n",
      "Epoch 38/150\n",
      "12/12 [==============================] - 0s 6ms/step - loss: 0.7881 - accuracy: 0.6564 - val_loss: 0.8685 - val_accuracy: 0.6303\n",
      "Epoch 39/150\n",
      "12/12 [==============================] - 0s 7ms/step - loss: 0.7723 - accuracy: 0.6655 - val_loss: 0.8565 - val_accuracy: 0.6008\n",
      "Epoch 40/150\n",
      "12/12 [==============================] - 0s 6ms/step - loss: 0.7945 - accuracy: 0.6799 - val_loss: 0.8859 - val_accuracy: 0.5924\n",
      "Epoch 41/150\n",
      "12/12 [==============================] - 0s 6ms/step - loss: 0.8024 - accuracy: 0.6438 - val_loss: 0.9483 - val_accuracy: 0.5924\n",
      "Epoch 42/150\n",
      "12/12 [==============================] - 0s 6ms/step - loss: 0.7831 - accuracy: 0.6528 - val_loss: 0.8722 - val_accuracy: 0.6008\n",
      "Epoch 43/150\n",
      "12/12 [==============================] - 0s 6ms/step - loss: 0.7763 - accuracy: 0.6600 - val_loss: 0.8947 - val_accuracy: 0.6134\n",
      "Epoch 44/150\n",
      "12/12 [==============================] - 0s 6ms/step - loss: 0.7604 - accuracy: 0.6781 - val_loss: 0.8605 - val_accuracy: 0.6092\n",
      "Epoch 45/150\n",
      "12/12 [==============================] - 0s 6ms/step - loss: 0.7532 - accuracy: 0.6763 - val_loss: 0.8576 - val_accuracy: 0.6261\n",
      "Epoch 46/150\n",
      "12/12 [==============================] - 0s 6ms/step - loss: 0.7498 - accuracy: 0.6817 - val_loss: 0.8709 - val_accuracy: 0.6261\n",
      "Epoch 47/150\n",
      "12/12 [==============================] - 0s 6ms/step - loss: 0.7372 - accuracy: 0.6926 - val_loss: 0.8702 - val_accuracy: 0.6092\n",
      "Epoch 48/150\n",
      "12/12 [==============================] - 0s 6ms/step - loss: 0.7282 - accuracy: 0.6944 - val_loss: 0.8591 - val_accuracy: 0.6218\n",
      "Epoch 49/150\n",
      "12/12 [==============================] - 0s 6ms/step - loss: 0.7276 - accuracy: 0.7016 - val_loss: 0.8727 - val_accuracy: 0.6176\n",
      "Epoch 50/150\n",
      "12/12 [==============================] - 0s 6ms/step - loss: 0.7816 - accuracy: 0.6474 - val_loss: 0.9342 - val_accuracy: 0.5840\n",
      "Epoch 51/150\n",
      "12/12 [==============================] - 0s 6ms/step - loss: 0.7552 - accuracy: 0.6890 - val_loss: 0.8749 - val_accuracy: 0.6050\n",
      "Epoch 52/150\n",
      "12/12 [==============================] - 0s 6ms/step - loss: 0.7311 - accuracy: 0.6872 - val_loss: 0.8668 - val_accuracy: 0.6218\n",
      "Epoch 53/150\n",
      "12/12 [==============================] - 0s 6ms/step - loss: 0.7234 - accuracy: 0.6872 - val_loss: 0.9073 - val_accuracy: 0.6008\n",
      "Epoch 54/150\n",
      "12/12 [==============================] - 0s 6ms/step - loss: 0.7228 - accuracy: 0.6781 - val_loss: 0.8810 - val_accuracy: 0.6176\n",
      "Epoch 55/150\n",
      "12/12 [==============================] - 0s 6ms/step - loss: 0.6945 - accuracy: 0.7233 - val_loss: 0.8752 - val_accuracy: 0.6261\n",
      "Epoch 56/150\n",
      "12/12 [==============================] - 0s 6ms/step - loss: 0.6817 - accuracy: 0.7161 - val_loss: 0.8728 - val_accuracy: 0.6218\n",
      "Epoch 57/150\n",
      "12/12 [==============================] - 0s 6ms/step - loss: 0.6908 - accuracy: 0.7089 - val_loss: 0.8777 - val_accuracy: 0.6218\n",
      "Epoch 58/150\n",
      "12/12 [==============================] - 0s 6ms/step - loss: 0.7021 - accuracy: 0.6854 - val_loss: 0.8994 - val_accuracy: 0.6134\n"
     ]
    },
    {
     "name": "stdout",
     "output_type": "stream",
     "text": [
      "Epoch 59/150\n",
      "12/12 [==============================] - 0s 6ms/step - loss: 0.6843 - accuracy: 0.7342 - val_loss: 0.8895 - val_accuracy: 0.6050\n",
      "Epoch 60/150\n",
      "12/12 [==============================] - 0s 6ms/step - loss: 0.6750 - accuracy: 0.6962 - val_loss: 0.9365 - val_accuracy: 0.5756\n",
      "Epoch 61/150\n",
      "12/12 [==============================] - 0s 6ms/step - loss: 0.6777 - accuracy: 0.7251 - val_loss: 0.8953 - val_accuracy: 0.6134\n",
      "Epoch 62/150\n",
      "12/12 [==============================] - 0s 6ms/step - loss: 0.6594 - accuracy: 0.7233 - val_loss: 0.9049 - val_accuracy: 0.6092\n",
      "Epoch 63/150\n",
      "12/12 [==============================] - 0s 6ms/step - loss: 0.6582 - accuracy: 0.7197 - val_loss: 0.8838 - val_accuracy: 0.6176\n",
      "Epoch 64/150\n",
      "12/12 [==============================] - 0s 6ms/step - loss: 0.6294 - accuracy: 0.7486 - val_loss: 0.9036 - val_accuracy: 0.6050\n",
      "Epoch 65/150\n",
      "12/12 [==============================] - 0s 6ms/step - loss: 0.6331 - accuracy: 0.7342 - val_loss: 0.8941 - val_accuracy: 0.6261\n",
      "Epoch 66/150\n",
      "12/12 [==============================] - 0s 6ms/step - loss: 0.6095 - accuracy: 0.7559 - val_loss: 0.8994 - val_accuracy: 0.6050\n",
      "Epoch 67/150\n",
      "12/12 [==============================] - 0s 6ms/step - loss: 0.6036 - accuracy: 0.7577 - val_loss: 0.9110 - val_accuracy: 0.5924\n",
      "Epoch 68/150\n",
      "12/12 [==============================] - 0s 6ms/step - loss: 0.6062 - accuracy: 0.7486 - val_loss: 0.9182 - val_accuracy: 0.5924\n",
      "Epoch 69/150\n",
      "12/12 [==============================] - 0s 6ms/step - loss: 0.5933 - accuracy: 0.7559 - val_loss: 0.9764 - val_accuracy: 0.5588\n",
      "Epoch 70/150\n",
      "12/12 [==============================] - 0s 6ms/step - loss: 0.6050 - accuracy: 0.7559 - val_loss: 0.9039 - val_accuracy: 0.6345\n",
      "Epoch 71/150\n",
      "12/12 [==============================] - 0s 6ms/step - loss: 0.5656 - accuracy: 0.7830 - val_loss: 0.9204 - val_accuracy: 0.6134\n",
      "Epoch 72/150\n",
      "12/12 [==============================] - 0s 6ms/step - loss: 0.5613 - accuracy: 0.7830 - val_loss: 0.9603 - val_accuracy: 0.5714\n",
      "Epoch 73/150\n",
      "12/12 [==============================] - 0s 6ms/step - loss: 0.5603 - accuracy: 0.7703 - val_loss: 0.9951 - val_accuracy: 0.5420\n",
      "Epoch 74/150\n",
      "12/12 [==============================] - 0s 6ms/step - loss: 0.6188 - accuracy: 0.7342 - val_loss: 0.9537 - val_accuracy: 0.5966\n",
      "Epoch 75/150\n",
      "12/12 [==============================] - 0s 6ms/step - loss: 0.5878 - accuracy: 0.7486 - val_loss: 0.9507 - val_accuracy: 0.6050\n",
      "Epoch 76/150\n",
      "12/12 [==============================] - 0s 6ms/step - loss: 0.5503 - accuracy: 0.7902 - val_loss: 0.9385 - val_accuracy: 0.5882\n",
      "Epoch 77/150\n",
      "12/12 [==============================] - 0s 6ms/step - loss: 0.5446 - accuracy: 0.7794 - val_loss: 0.9997 - val_accuracy: 0.5798\n",
      "Epoch 78/150\n",
      "12/12 [==============================] - 0s 6ms/step - loss: 0.5199 - accuracy: 0.7993 - val_loss: 1.0031 - val_accuracy: 0.5462\n",
      "Epoch 79/150\n",
      "12/12 [==============================] - 0s 6ms/step - loss: 0.5491 - accuracy: 0.7776 - val_loss: 0.9642 - val_accuracy: 0.5840\n",
      "Epoch 80/150\n",
      "12/12 [==============================] - 0s 6ms/step - loss: 0.5725 - accuracy: 0.7468 - val_loss: 1.0250 - val_accuracy: 0.5756\n",
      "Epoch 81/150\n",
      "12/12 [==============================] - 0s 6ms/step - loss: 0.5587 - accuracy: 0.7776 - val_loss: 0.9629 - val_accuracy: 0.6092\n",
      "Epoch 82/150\n",
      "12/12 [==============================] - 0s 6ms/step - loss: 0.5148 - accuracy: 0.7884 - val_loss: 0.9749 - val_accuracy: 0.5588\n",
      "Epoch 83/150\n",
      "12/12 [==============================] - 0s 6ms/step - loss: 0.5276 - accuracy: 0.7975 - val_loss: 0.9836 - val_accuracy: 0.5840\n",
      "Epoch 84/150\n",
      "12/12 [==============================] - 0s 6ms/step - loss: 0.4753 - accuracy: 0.8264 - val_loss: 1.0619 - val_accuracy: 0.5714\n",
      "Epoch 85/150\n",
      "12/12 [==============================] - 0s 6ms/step - loss: 0.5458 - accuracy: 0.7667 - val_loss: 1.0004 - val_accuracy: 0.5882\n",
      "Epoch 86/150\n",
      "12/12 [==============================] - 0s 6ms/step - loss: 0.5795 - accuracy: 0.7486 - val_loss: 1.0193 - val_accuracy: 0.5546\n",
      "Epoch 87/150\n",
      "12/12 [==============================] - 0s 6ms/step - loss: 0.5450 - accuracy: 0.7794 - val_loss: 0.9883 - val_accuracy: 0.5798\n",
      "Epoch 88/150\n",
      "12/12 [==============================] - 0s 6ms/step - loss: 0.4961 - accuracy: 0.8029 - val_loss: 1.0037 - val_accuracy: 0.5882\n",
      "Epoch 89/150\n",
      "12/12 [==============================] - 0s 6ms/step - loss: 0.4673 - accuracy: 0.8047 - val_loss: 1.0222 - val_accuracy: 0.5588\n",
      "Epoch 90/150\n",
      "12/12 [==============================] - 0s 6ms/step - loss: 0.4584 - accuracy: 0.8210 - val_loss: 1.0443 - val_accuracy: 0.5756\n",
      "Epoch 91/150\n",
      "12/12 [==============================] - 0s 6ms/step - loss: 0.4572 - accuracy: 0.8065 - val_loss: 1.0746 - val_accuracy: 0.5084\n",
      "Epoch 92/150\n",
      "12/12 [==============================] - 0s 6ms/step - loss: 0.4376 - accuracy: 0.8409 - val_loss: 1.0415 - val_accuracy: 0.5714\n",
      "Epoch 93/150\n",
      "12/12 [==============================] - 0s 6ms/step - loss: 0.4402 - accuracy: 0.8228 - val_loss: 1.0819 - val_accuracy: 0.5798\n",
      "Epoch 94/150\n",
      "12/12 [==============================] - 0s 6ms/step - loss: 0.4223 - accuracy: 0.8336 - val_loss: 1.0576 - val_accuracy: 0.5630\n",
      "Epoch 95/150\n",
      "12/12 [==============================] - 0s 6ms/step - loss: 0.4075 - accuracy: 0.8535 - val_loss: 1.0587 - val_accuracy: 0.5672\n",
      "Epoch 96/150\n",
      "12/12 [==============================] - 0s 6ms/step - loss: 0.4060 - accuracy: 0.8463 - val_loss: 1.0989 - val_accuracy: 0.5546\n",
      "Epoch 97/150\n",
      "12/12 [==============================] - 0s 6ms/step - loss: 0.3975 - accuracy: 0.8553 - val_loss: 1.1100 - val_accuracy: 0.5336\n",
      "Epoch 98/150\n",
      "12/12 [==============================] - 0s 6ms/step - loss: 0.4019 - accuracy: 0.8499 - val_loss: 1.0829 - val_accuracy: 0.5336\n",
      "Epoch 99/150\n",
      "12/12 [==============================] - 0s 6ms/step - loss: 0.3861 - accuracy: 0.8481 - val_loss: 1.0960 - val_accuracy: 0.5924\n",
      "Epoch 100/150\n",
      "12/12 [==============================] - 0s 6ms/step - loss: 0.3630 - accuracy: 0.8716 - val_loss: 1.1255 - val_accuracy: 0.5798\n",
      "Epoch 101/150\n",
      "12/12 [==============================] - 0s 6ms/step - loss: 0.3754 - accuracy: 0.8571 - val_loss: 1.1393 - val_accuracy: 0.5336\n",
      "Epoch 102/150\n",
      "12/12 [==============================] - 0s 6ms/step - loss: 0.4005 - accuracy: 0.8481 - val_loss: 1.1216 - val_accuracy: 0.6008\n",
      "Epoch 103/150\n",
      "12/12 [==============================] - 0s 6ms/step - loss: 0.3581 - accuracy: 0.8734 - val_loss: 1.1048 - val_accuracy: 0.5462\n",
      "Epoch 104/150\n",
      "12/12 [==============================] - 0s 6ms/step - loss: 0.3561 - accuracy: 0.8644 - val_loss: 1.1467 - val_accuracy: 0.5588\n",
      "Epoch 105/150\n",
      "12/12 [==============================] - 0s 6ms/step - loss: 0.3556 - accuracy: 0.8608 - val_loss: 1.1571 - val_accuracy: 0.5378\n",
      "Epoch 106/150\n",
      "12/12 [==============================] - 0s 6ms/step - loss: 0.3701 - accuracy: 0.8373 - val_loss: 1.1426 - val_accuracy: 0.5546\n",
      "Epoch 107/150\n",
      "12/12 [==============================] - 0s 6ms/step - loss: 0.3402 - accuracy: 0.8807 - val_loss: 1.1363 - val_accuracy: 0.5714\n",
      "Epoch 108/150\n",
      "12/12 [==============================] - 0s 6ms/step - loss: 0.3196 - accuracy: 0.8879 - val_loss: 1.1477 - val_accuracy: 0.5672\n",
      "Epoch 109/150\n",
      "12/12 [==============================] - 0s 6ms/step - loss: 0.3155 - accuracy: 0.8825 - val_loss: 1.1827 - val_accuracy: 0.5630\n",
      "Epoch 110/150\n",
      "12/12 [==============================] - 0s 6ms/step - loss: 0.3740 - accuracy: 0.8318 - val_loss: 1.1522 - val_accuracy: 0.5840\n",
      "Epoch 111/150\n",
      "12/12 [==============================] - 0s 6ms/step - loss: 0.3087 - accuracy: 0.8987 - val_loss: 1.1462 - val_accuracy: 0.5714\n",
      "Epoch 112/150\n",
      "12/12 [==============================] - 0s 6ms/step - loss: 0.3083 - accuracy: 0.8915 - val_loss: 1.1683 - val_accuracy: 0.5714\n",
      "Epoch 113/150\n",
      "12/12 [==============================] - 0s 6ms/step - loss: 0.2899 - accuracy: 0.9042 - val_loss: 1.1937 - val_accuracy: 0.5756\n",
      "Epoch 114/150\n",
      "12/12 [==============================] - 0s 6ms/step - loss: 0.2794 - accuracy: 0.9042 - val_loss: 1.1928 - val_accuracy: 0.6008\n",
      "Epoch 115/150\n",
      "12/12 [==============================] - 0s 6ms/step - loss: 0.3001 - accuracy: 0.8879 - val_loss: 1.2415 - val_accuracy: 0.5504\n",
      "Epoch 116/150\n",
      "12/12 [==============================] - 0s 6ms/step - loss: 0.2959 - accuracy: 0.8987 - val_loss: 1.1916 - val_accuracy: 0.5672\n",
      "Epoch 117/150\n",
      "12/12 [==============================] - 0s 6ms/step - loss: 0.2629 - accuracy: 0.9078 - val_loss: 1.2470 - val_accuracy: 0.5336\n",
      "Epoch 118/150\n",
      "12/12 [==============================] - 0s 6ms/step - loss: 0.2774 - accuracy: 0.8951 - val_loss: 1.2030 - val_accuracy: 0.5840\n",
      "Epoch 119/150\n",
      "12/12 [==============================] - 0s 6ms/step - loss: 0.2475 - accuracy: 0.9313 - val_loss: 1.2140 - val_accuracy: 0.5798\n",
      "Epoch 120/150\n",
      "12/12 [==============================] - 0s 6ms/step - loss: 0.2429 - accuracy: 0.9313 - val_loss: 1.3091 - val_accuracy: 0.5462\n",
      "Epoch 121/150\n",
      "12/12 [==============================] - 0s 6ms/step - loss: 0.2448 - accuracy: 0.9241 - val_loss: 1.2554 - val_accuracy: 0.6134\n",
      "Epoch 122/150\n",
      "12/12 [==============================] - 0s 6ms/step - loss: 0.2701 - accuracy: 0.8951 - val_loss: 1.2731 - val_accuracy: 0.5504\n",
      "Epoch 123/150\n",
      "12/12 [==============================] - 0s 6ms/step - loss: 0.3171 - accuracy: 0.8734 - val_loss: 1.2824 - val_accuracy: 0.5084\n",
      "Epoch 124/150\n",
      "12/12 [==============================] - 0s 6ms/step - loss: 0.2707 - accuracy: 0.9042 - val_loss: 1.2396 - val_accuracy: 0.5840\n",
      "Epoch 125/150\n",
      "12/12 [==============================] - 0s 6ms/step - loss: 0.2752 - accuracy: 0.9005 - val_loss: 1.2548 - val_accuracy: 0.6008\n",
      "Epoch 126/150\n",
      "12/12 [==============================] - 0s 6ms/step - loss: 0.2494 - accuracy: 0.9168 - val_loss: 1.2854 - val_accuracy: 0.5630\n",
      "Epoch 127/150\n",
      "12/12 [==============================] - 0s 6ms/step - loss: 0.2229 - accuracy: 0.9313 - val_loss: 1.3036 - val_accuracy: 0.5462\n",
      "Epoch 128/150\n",
      "12/12 [==============================] - 0s 6ms/step - loss: 0.2108 - accuracy: 0.9403 - val_loss: 1.2950 - val_accuracy: 0.5672\n",
      "Epoch 129/150\n",
      "12/12 [==============================] - 0s 6ms/step - loss: 0.2225 - accuracy: 0.9241 - val_loss: 1.3331 - val_accuracy: 0.5588\n",
      "Epoch 130/150\n",
      "12/12 [==============================] - 0s 6ms/step - loss: 0.1975 - accuracy: 0.9476 - val_loss: 1.3152 - val_accuracy: 0.5840\n",
      "Epoch 131/150\n",
      "12/12 [==============================] - 0s 6ms/step - loss: 0.1877 - accuracy: 0.9530 - val_loss: 1.3473 - val_accuracy: 0.5546\n",
      "Epoch 132/150\n",
      "12/12 [==============================] - 0s 6ms/step - loss: 0.1901 - accuracy: 0.9494 - val_loss: 1.3980 - val_accuracy: 0.5714\n",
      "Epoch 133/150\n",
      "12/12 [==============================] - 0s 6ms/step - loss: 0.1891 - accuracy: 0.9439 - val_loss: 1.3496 - val_accuracy: 0.5840\n",
      "Epoch 134/150\n",
      "12/12 [==============================] - 0s 6ms/step - loss: 0.1769 - accuracy: 0.9494 - val_loss: 1.4027 - val_accuracy: 0.5294\n",
      "Epoch 135/150\n",
      "12/12 [==============================] - 0s 6ms/step - loss: 0.1708 - accuracy: 0.9602 - val_loss: 1.3843 - val_accuracy: 0.5756\n",
      "Epoch 136/150\n",
      "12/12 [==============================] - 0s 6ms/step - loss: 0.1822 - accuracy: 0.9476 - val_loss: 1.3548 - val_accuracy: 0.5756\n",
      "Epoch 137/150\n",
      "12/12 [==============================] - 0s 6ms/step - loss: 0.1713 - accuracy: 0.9530 - val_loss: 1.4428 - val_accuracy: 0.5168\n",
      "Epoch 138/150\n",
      "12/12 [==============================] - 0s 6ms/step - loss: 0.1635 - accuracy: 0.9548 - val_loss: 1.4382 - val_accuracy: 0.5252\n",
      "Epoch 139/150\n",
      "12/12 [==============================] - 0s 6ms/step - loss: 0.1550 - accuracy: 0.9566 - val_loss: 1.4342 - val_accuracy: 0.5798\n",
      "Epoch 140/150\n",
      "12/12 [==============================] - 0s 6ms/step - loss: 0.1487 - accuracy: 0.9602 - val_loss: 1.4270 - val_accuracy: 0.5798\n",
      "Epoch 141/150\n",
      "12/12 [==============================] - 0s 6ms/step - loss: 0.1447 - accuracy: 0.9638 - val_loss: 1.4754 - val_accuracy: 0.5630\n",
      "Epoch 142/150\n",
      "12/12 [==============================] - 0s 6ms/step - loss: 0.1626 - accuracy: 0.9512 - val_loss: 1.4410 - val_accuracy: 0.5714\n",
      "Epoch 143/150\n",
      "12/12 [==============================] - 0s 5ms/step - loss: 0.1908 - accuracy: 0.9385 - val_loss: 1.4915 - val_accuracy: 0.5252\n",
      "Epoch 144/150\n",
      "12/12 [==============================] - 0s 6ms/step - loss: 0.1521 - accuracy: 0.9584 - val_loss: 1.5715 - val_accuracy: 0.5252\n",
      "Epoch 145/150\n",
      "12/12 [==============================] - 0s 6ms/step - loss: 0.1892 - accuracy: 0.9277 - val_loss: 1.4863 - val_accuracy: 0.5588\n",
      "Epoch 146/150\n",
      "12/12 [==============================] - 0s 6ms/step - loss: 0.1742 - accuracy: 0.9458 - val_loss: 1.5062 - val_accuracy: 0.5336\n",
      "Epoch 147/150\n",
      "12/12 [==============================] - 0s 7ms/step - loss: 0.1310 - accuracy: 0.9729 - val_loss: 1.5097 - val_accuracy: 0.5462\n",
      "Epoch 148/150\n",
      "12/12 [==============================] - 0s 6ms/step - loss: 0.1202 - accuracy: 0.9729 - val_loss: 1.5539 - val_accuracy: 0.5504\n",
      "Epoch 149/150\n",
      "12/12 [==============================] - 0s 6ms/step - loss: 0.1202 - accuracy: 0.9765 - val_loss: 1.5235 - val_accuracy: 0.5756\n",
      "Epoch 150/150\n",
      "12/12 [==============================] - 0s 6ms/step - loss: 0.1255 - accuracy: 0.9675 - val_loss: 1.5839 - val_accuracy: 0.5504\n"
     ]
    }
   ],
   "source": [
    "history = cnn.fit(X_train,\n",
    "              y_train,\n",
    "              batch_size=50,\n",
    "              epochs=150,\n",
    "              validation_data = (X_test, y_test),\n",
    "              verbose=1)"
   ]
  },
  {
   "cell_type": "markdown",
   "metadata": {},
   "source": [
    "# Train and Test Loss with CNN"
   ]
  },
  {
   "cell_type": "code",
   "execution_count": 39,
   "metadata": {},
   "outputs": [
    {
     "data": {
      "image/png": "[encoded data removed]",
      "text/plain": [
       "<Figure size 432x288 with 1 Axes>"
      ]
     },
     "metadata": {
      "needs_background": "light"
     },
     "output_type": "display_data"
    }
   ],
   "source": [
    "plt.plot(history.history['loss'], label='Train loss')\n",
    "plt.plot(history.history['val_loss'], label='Test loss')\n",
    "plt.legend();"
   ]
  },
  {
   "cell_type": "code",
   "execution_count": 40,
   "metadata": {},
   "outputs": [
    {
     "data": {
      "image/png": "[encoded data removed]",
      "text/plain": [
       "<Figure size 432x288 with 1 Axes>"
      ]
     },
     "metadata": {
      "needs_background": "light"
     },
     "output_type": "display_data"
    }
   ],
   "source": [
    "plt.plot(history.history['accuracy'], label='Train accuracy')\n",
    "plt.plot(history.history['val_accuracy'], label='Test accuracy')\n",
    "plt.legend();"
   ]
  },
  {
   "cell_type": "code",
   "execution_count": 41,
   "metadata": {},
   "outputs": [
    {
     "data": {
      "text/html": [
       "<div>\n",
       "<style scoped>\n",
       "    .dataframe tbody tr th:only-of-type {\n",
       "        vertical-align: middle;\n",
       "    }\n",
       "\n",
       "    .dataframe tbody tr th {\n",
       "        vertical-align: top;\n",
       "    }\n",
       "\n",
       "    .dataframe thead th {\n",
       "        text-align: right;\n",
       "    }\n",
       "</style>\n",
       "<table border=\"1\" class=\"dataframe\">\n",
       "  <thead>\n",
       "    <tr style=\"text-align: right;\">\n",
       "      <th></th>\n",
       "      <th>train_acc</th>\n",
       "      <th>test_acc</th>\n",
       "      <th>train_loss</th>\n",
       "      <th>test_loss</th>\n",
       "      <th>accuracy_diff</th>\n",
       "      <th>loss_diff</th>\n",
       "    </tr>\n",
       "  </thead>\n",
       "  <tbody>\n",
       "    <tr>\n",
       "      <th>145</th>\n",
       "      <td>0.945750</td>\n",
       "      <td>0.533613</td>\n",
       "      <td>0.174222</td>\n",
       "      <td>1.506170</td>\n",
       "      <td>0.412137</td>\n",
       "      <td>-1.331948</td>\n",
       "    </tr>\n",
       "    <tr>\n",
       "      <th>146</th>\n",
       "      <td>0.972875</td>\n",
       "      <td>0.546219</td>\n",
       "      <td>0.131022</td>\n",
       "      <td>1.509732</td>\n",
       "      <td>0.426657</td>\n",
       "      <td>-1.378710</td>\n",
       "    </tr>\n",
       "    <tr>\n",
       "      <th>147</th>\n",
       "      <td>0.972875</td>\n",
       "      <td>0.550420</td>\n",
       "      <td>0.120167</td>\n",
       "      <td>1.553869</td>\n",
       "      <td>0.422455</td>\n",
       "      <td>-1.433701</td>\n",
       "    </tr>\n",
       "    <tr>\n",
       "      <th>148</th>\n",
       "      <td>0.976492</td>\n",
       "      <td>0.575630</td>\n",
       "      <td>0.120162</td>\n",
       "      <td>1.523503</td>\n",
       "      <td>0.400862</td>\n",
       "      <td>-1.403342</td>\n",
       "    </tr>\n",
       "    <tr>\n",
       "      <th>149</th>\n",
       "      <td>0.967450</td>\n",
       "      <td>0.550420</td>\n",
       "      <td>0.125499</td>\n",
       "      <td>1.583925</td>\n",
       "      <td>0.417030</td>\n",
       "      <td>-1.458426</td>\n",
       "    </tr>\n",
       "  </tbody>\n",
       "</table>\n",
       "</div>"
      ],
      "text/plain": [
       "     train_acc  test_acc  train_loss  test_loss  accuracy_diff  loss_diff\n",
       "145   0.945750  0.533613    0.174222   1.506170       0.412137  -1.331948\n",
       "146   0.972875  0.546219    0.131022   1.509732       0.426657  -1.378710\n",
       "147   0.972875  0.550420    0.120167   1.553869       0.422455  -1.433701\n",
       "148   0.976492  0.575630    0.120162   1.523503       0.400862  -1.403342\n",
       "149   0.967450  0.550420    0.125499   1.583925       0.417030  -1.458426"
      ]
     },
     "execution_count": 41,
     "metadata": {},
     "output_type": "execute_result"
    }
   ],
   "source": [
    "train_acc = history.history['accuracy']\n",
    "train_loss = history.history['loss']\n",
    "test_loss = history.history['val_loss']\n",
    "test_acc = history.history['val_accuracy']\n",
    "\n",
    "df = pd.DataFrame(list(zip(train_acc, test_acc, train_loss, test_loss)), \n",
    "               columns =['train_acc', 'test_acc', 'train_loss', 'test_loss']) \n",
    "\n",
    "df['accuracy_diff'] = df['train_acc'] - df['test_acc']\n",
    "df['loss_diff'] = df['train_loss'] - df['test_loss']\n",
    "\n",
    "df.tail()"
   ]
  },
  {
   "cell_type": "code",
   "execution_count": 42,
   "metadata": {},
   "outputs": [],
   "source": [
    "y_pred=cnn.predict(X_test)\n",
    "\n"
   ]
  },
  {
   "cell_type": "code",
   "execution_count": 43,
   "metadata": {},
   "outputs": [],
   "source": [
    "y_pred=np.argmax(y_pred,axis=1)"
   ]
  },
  {
   "cell_type": "code",
   "execution_count": 44,
   "metadata": {},
   "outputs": [],
   "source": [
    "cnf=confusion_matrix(y_test_original, y_pred)"
   ]
  },
  {
   "cell_type": "code",
   "execution_count": 45,
   "metadata": {
    "scrolled": true
   },
   "outputs": [
    {
     "name": "stdout",
     "output_type": "stream",
     "text": [
      "              precision    recall  f1-score   support\n",
      "\n",
      "    American       0.73      0.61      0.66       130\n",
      "     Chinies       0.49      0.60      0.54        67\n",
      "      Indian       0.24      0.29      0.27        41\n",
      "\n",
      "    accuracy                           0.55       238\n",
      "   macro avg       0.49      0.50      0.49       238\n",
      "weighted avg       0.58      0.55      0.56       238\n",
      "\n"
     ]
    }
   ],
   "source": [
    "target_names=['American','Chinies','Indian']\n",
    "\n",
    "print(classification_report(y_test_original, y_pred, \n",
    " target_names=target_names))"
   ]
  },
  {
   "cell_type": "code",
   "execution_count": 46,
   "metadata": {},
   "outputs": [
    {
     "data": {
      "text/plain": [
       "<matplotlib.axes._subplots.AxesSubplot at 0x7fd30bce0760>"
      ]
     },
     "execution_count": 46,
     "metadata": {},
     "output_type": "execute_result"
    },
    {
     "data": {
      "image/png": "[encoded data removed]",
      "text/plain": [
       "<Figure size 432x288 with 2 Axes>"
      ]
     },
     "metadata": {
      "needs_background": "light"
     },
     "output_type": "display_data"
    }
   ],
   "source": [
    "sns.heatmap(cnf,annot=True)"
   ]
  },
  {
   "cell_type": "markdown",
   "metadata": {},
   "source": [
    "# Adding regularization to the CNN model"
   ]
  },
  {
   "cell_type": "code",
   "execution_count": 74,
   "metadata": {},
   "outputs": [],
   "source": [
    "cnn2 = Sequential()\n",
    "\n",
    "cnn2.add(Conv2D(filters = 6,            \n",
    "                     kernel_size = (3, 3),       \n",
    "                     activation='relu',     \n",
    "                     input_shape=(28,28,1))) \n",
    "\n",
    "\n",
    "cnn2.add(MaxPooling2D(pool_size=(2,2))) \n",
    "\n",
    "cnn2.add(Conv2D(16,\n",
    "                     kernel_size = (3, 3),\n",
    "                     activation='relu'))\n",
    "\n",
    "cnn2.add(MaxPooling2D(pool_size=(2,2)))\n",
    "\n",
    "cnn2.add(Flatten())  \n",
    "\n",
    "cnn2.add(Dense(128, activation='relu'))  \n",
    "\n",
    "###Add dropout \n",
    "\n",
    "cnn2.add(Dropout(0.05))\n",
    "\n",
    "cnn2.add(Dense(64, activation = 'relu'))\n",
    "\n",
    "###add dropout\n",
    "cnn2.add(Dropout(0.05))\n",
    "\n",
    "cnn2.add(Dense(4, activation='softmax'))   \n",
    "\n",
    "cnn2.compile(loss='categorical_crossentropy',\n",
    "                  optimizer='adam',\n",
    "                  metrics=['accuracy'])"
   ]
  },
  {
   "cell_type": "code",
   "execution_count": 75,
   "metadata": {},
   "outputs": [],
   "source": [
    "early_stop = EarlyStopping(monitor='val_loss', min_delta=0 , patience = 10)"
   ]
  },
  {
   "cell_type": "code",
   "execution_count": 76,
   "metadata": {},
   "outputs": [
    {
     "name": "stdout",
     "output_type": "stream",
     "text": [
      "Epoch 1/150\n",
      "2/2 [==============================] - 0s 66ms/step - loss: 1.3779 - accuracy: 0.3761 - val_loss: 1.3472 - val_accuracy: 0.5462\n",
      "Epoch 2/150\n",
      "2/2 [==============================] - 0s 17ms/step - loss: 1.3452 - accuracy: 0.5298 - val_loss: 1.3083 - val_accuracy: 0.5462\n",
      "Epoch 3/150\n",
      "2/2 [==============================] - 0s 16ms/step - loss: 1.3055 - accuracy: 0.5497 - val_loss: 1.2593 - val_accuracy: 0.5462\n",
      "Epoch 4/150\n",
      "2/2 [==============================] - 0s 17ms/step - loss: 1.2546 - accuracy: 0.5479 - val_loss: 1.2024 - val_accuracy: 0.5462\n",
      "Epoch 5/150\n",
      "2/2 [==============================] - 0s 17ms/step - loss: 1.1986 - accuracy: 0.5479 - val_loss: 1.1446 - val_accuracy: 0.5462\n",
      "Epoch 6/150\n",
      "2/2 [==============================] - 0s 16ms/step - loss: 1.1417 - accuracy: 0.5479 - val_loss: 1.0981 - val_accuracy: 0.5462\n",
      "Epoch 7/150\n",
      "2/2 [==============================] - 0s 18ms/step - loss: 1.0941 - accuracy: 0.5479 - val_loss: 1.0824 - val_accuracy: 0.5462\n",
      "Epoch 8/150\n",
      "2/2 [==============================] - 0s 19ms/step - loss: 1.0824 - accuracy: 0.5479 - val_loss: 1.0971 - val_accuracy: 0.5462\n",
      "Epoch 9/150\n",
      "2/2 [==============================] - 0s 18ms/step - loss: 1.1026 - accuracy: 0.5479 - val_loss: 1.0996 - val_accuracy: 0.5462\n",
      "Epoch 10/150\n",
      "2/2 [==============================] - 0s 18ms/step - loss: 1.1051 - accuracy: 0.5479 - val_loss: 1.0760 - val_accuracy: 0.5462\n",
      "Epoch 11/150\n",
      "2/2 [==============================] - 0s 18ms/step - loss: 1.0804 - accuracy: 0.5479 - val_loss: 1.0513 - val_accuracy: 0.5462\n",
      "Epoch 12/150\n",
      "2/2 [==============================] - 0s 18ms/step - loss: 1.0507 - accuracy: 0.5479 - val_loss: 1.0388 - val_accuracy: 0.5462\n",
      "Epoch 13/150\n",
      "2/2 [==============================] - 0s 18ms/step - loss: 1.0423 - accuracy: 0.5479 - val_loss: 1.0356 - val_accuracy: 0.5462\n",
      "Epoch 14/150\n",
      "2/2 [==============================] - 0s 19ms/step - loss: 1.0339 - accuracy: 0.5479 - val_loss: 1.0356 - val_accuracy: 0.5462\n",
      "Epoch 15/150\n",
      "2/2 [==============================] - 0s 19ms/step - loss: 1.0316 - accuracy: 0.5479 - val_loss: 1.0342 - val_accuracy: 0.5462\n",
      "Epoch 16/150\n",
      "2/2 [==============================] - 0s 19ms/step - loss: 1.0333 - accuracy: 0.5479 - val_loss: 1.0293 - val_accuracy: 0.5462\n",
      "Epoch 17/150\n",
      "2/2 [==============================] - 0s 18ms/step - loss: 1.0314 - accuracy: 0.5479 - val_loss: 1.0222 - val_accuracy: 0.5462\n",
      "Epoch 18/150\n",
      "2/2 [==============================] - 0s 19ms/step - loss: 1.0230 - accuracy: 0.5479 - val_loss: 1.0153 - val_accuracy: 0.5462\n",
      "Epoch 19/150\n",
      "2/2 [==============================] - 0s 19ms/step - loss: 1.0110 - accuracy: 0.5479 - val_loss: 1.0107 - val_accuracy: 0.5462\n",
      "Epoch 20/150\n",
      "2/2 [==============================] - 0s 19ms/step - loss: 1.0149 - accuracy: 0.5479 - val_loss: 1.0108 - val_accuracy: 0.5462\n",
      "Epoch 21/150\n",
      "2/2 [==============================] - 0s 19ms/step - loss: 1.0155 - accuracy: 0.5479 - val_loss: 1.0107 - val_accuracy: 0.5462\n",
      "Epoch 22/150\n",
      "2/2 [==============================] - 0s 19ms/step - loss: 1.0125 - accuracy: 0.5479 - val_loss: 1.0036 - val_accuracy: 0.5462\n",
      "Epoch 23/150\n",
      "2/2 [==============================] - 0s 20ms/step - loss: 0.9971 - accuracy: 0.5479 - val_loss: 0.9969 - val_accuracy: 0.5462\n",
      "Epoch 24/150\n",
      "2/2 [==============================] - 0s 19ms/step - loss: 1.0060 - accuracy: 0.5479 - val_loss: 0.9959 - val_accuracy: 0.5462\n",
      "Epoch 25/150\n",
      "2/2 [==============================] - 0s 19ms/step - loss: 0.9992 - accuracy: 0.5497 - val_loss: 0.9968 - val_accuracy: 0.5462\n",
      "Epoch 26/150\n",
      "2/2 [==============================] - 0s 19ms/step - loss: 0.9976 - accuracy: 0.5461 - val_loss: 0.9987 - val_accuracy: 0.5462\n",
      "Epoch 27/150\n",
      "2/2 [==============================] - 0s 21ms/step - loss: 0.9982 - accuracy: 0.5443 - val_loss: 0.9983 - val_accuracy: 0.5462\n",
      "Epoch 28/150\n",
      "2/2 [==============================] - 0s 20ms/step - loss: 0.9999 - accuracy: 0.5443 - val_loss: 0.9920 - val_accuracy: 0.5462\n",
      "Epoch 29/150\n",
      "2/2 [==============================] - 0s 20ms/step - loss: 1.0013 - accuracy: 0.5479 - val_loss: 0.9877 - val_accuracy: 0.5462\n",
      "Epoch 30/150\n",
      "2/2 [==============================] - 0s 19ms/step - loss: 0.9943 - accuracy: 0.5479 - val_loss: 0.9878 - val_accuracy: 0.5462\n",
      "Epoch 31/150\n",
      "2/2 [==============================] - 0s 20ms/step - loss: 1.0044 - accuracy: 0.5479 - val_loss: 0.9866 - val_accuracy: 0.5462\n",
      "Epoch 32/150\n",
      "2/2 [==============================] - 0s 19ms/step - loss: 0.9914 - accuracy: 0.5479 - val_loss: 0.9859 - val_accuracy: 0.5462\n",
      "Epoch 33/150\n",
      "2/2 [==============================] - 0s 18ms/step - loss: 0.9868 - accuracy: 0.5461 - val_loss: 0.9857 - val_accuracy: 0.5462\n",
      "Epoch 34/150\n",
      "2/2 [==============================] - 0s 20ms/step - loss: 0.9901 - accuracy: 0.5479 - val_loss: 0.9858 - val_accuracy: 0.5462\n",
      "Epoch 35/150\n",
      "2/2 [==============================] - 0s 21ms/step - loss: 0.9879 - accuracy: 0.5497 - val_loss: 0.9859 - val_accuracy: 0.5462\n",
      "Epoch 36/150\n",
      "2/2 [==============================] - 0s 22ms/step - loss: 0.9906 - accuracy: 0.5479 - val_loss: 0.9860 - val_accuracy: 0.5462\n",
      "Epoch 37/150\n",
      "2/2 [==============================] - 0s 21ms/step - loss: 0.9983 - accuracy: 0.5479 - val_loss: 0.9866 - val_accuracy: 0.5462\n",
      "Epoch 38/150\n",
      "2/2 [==============================] - 0s 21ms/step - loss: 1.0005 - accuracy: 0.5479 - val_loss: 0.9855 - val_accuracy: 0.5462\n",
      "Epoch 39/150\n",
      "2/2 [==============================] - 0s 21ms/step - loss: 0.9889 - accuracy: 0.5461 - val_loss: 0.9848 - val_accuracy: 0.5462\n",
      "Epoch 40/150\n",
      "2/2 [==============================] - 0s 21ms/step - loss: 0.9868 - accuracy: 0.5479 - val_loss: 0.9851 - val_accuracy: 0.5462\n",
      "Epoch 41/150\n",
      "2/2 [==============================] - 0s 21ms/step - loss: 0.9985 - accuracy: 0.5461 - val_loss: 0.9863 - val_accuracy: 0.5462\n",
      "Epoch 42/150\n",
      "2/2 [==============================] - 0s 21ms/step - loss: 0.9957 - accuracy: 0.5497 - val_loss: 0.9863 - val_accuracy: 0.5462\n",
      "Epoch 43/150\n",
      "2/2 [==============================] - 0s 20ms/step - loss: 0.9931 - accuracy: 0.5461 - val_loss: 0.9851 - val_accuracy: 0.5462\n",
      "Epoch 44/150\n",
      "2/2 [==============================] - 0s 18ms/step - loss: 0.9849 - accuracy: 0.5479 - val_loss: 0.9839 - val_accuracy: 0.5462\n",
      "Epoch 45/150\n",
      "2/2 [==============================] - 0s 20ms/step - loss: 0.9876 - accuracy: 0.5497 - val_loss: 0.9831 - val_accuracy: 0.5462\n",
      "Epoch 46/150\n",
      "2/2 [==============================] - 0s 18ms/step - loss: 0.9887 - accuracy: 0.5461 - val_loss: 0.9829 - val_accuracy: 0.5462\n",
      "Epoch 47/150\n",
      "2/2 [==============================] - 0s 19ms/step - loss: 0.9926 - accuracy: 0.5461 - val_loss: 0.9827 - val_accuracy: 0.5462\n",
      "Epoch 48/150\n",
      "2/2 [==============================] - 0s 19ms/step - loss: 0.9849 - accuracy: 0.5479 - val_loss: 0.9831 - val_accuracy: 0.5462\n",
      "Epoch 49/150\n",
      "2/2 [==============================] - 0s 21ms/step - loss: 0.9792 - accuracy: 0.5479 - val_loss: 0.9833 - val_accuracy: 0.5462\n",
      "Epoch 50/150\n",
      "2/2 [==============================] - 0s 21ms/step - loss: 0.9926 - accuracy: 0.5479 - val_loss: 0.9838 - val_accuracy: 0.5462\n",
      "Epoch 51/150\n",
      "2/2 [==============================] - 0s 18ms/step - loss: 0.9847 - accuracy: 0.5479 - val_loss: 0.9852 - val_accuracy: 0.5462\n",
      "Epoch 52/150\n",
      "2/2 [==============================] - 0s 19ms/step - loss: 0.9889 - accuracy: 0.5461 - val_loss: 0.9860 - val_accuracy: 0.5462\n",
      "Epoch 53/150\n",
      "2/2 [==============================] - 0s 21ms/step - loss: 0.9898 - accuracy: 0.5533 - val_loss: 0.9835 - val_accuracy: 0.5462\n",
      "Epoch 54/150\n",
      "2/2 [==============================] - 0s 19ms/step - loss: 0.9879 - accuracy: 0.5443 - val_loss: 0.9803 - val_accuracy: 0.5462\n",
      "Epoch 55/150\n",
      "2/2 [==============================] - 0s 20ms/step - loss: 0.9814 - accuracy: 0.5479 - val_loss: 0.9781 - val_accuracy: 0.5462\n",
      "Epoch 56/150\n",
      "2/2 [==============================] - 0s 19ms/step - loss: 0.9893 - accuracy: 0.5479 - val_loss: 0.9786 - val_accuracy: 0.5462\n",
      "Epoch 57/150\n",
      "2/2 [==============================] - 0s 18ms/step - loss: 0.9913 - accuracy: 0.5461 - val_loss: 0.9794 - val_accuracy: 0.5462\n",
      "Epoch 58/150\n",
      "2/2 [==============================] - 0s 20ms/step - loss: 0.9806 - accuracy: 0.5479 - val_loss: 0.9789 - val_accuracy: 0.5462\n",
      "Epoch 59/150\n",
      "2/2 [==============================] - 0s 20ms/step - loss: 0.9863 - accuracy: 0.5479 - val_loss: 0.9778 - val_accuracy: 0.5462\n",
      "Epoch 60/150\n",
      "2/2 [==============================] - 0s 21ms/step - loss: 0.9816 - accuracy: 0.5479 - val_loss: 0.9769 - val_accuracy: 0.5462\n",
      "Epoch 61/150\n",
      "2/2 [==============================] - 0s 21ms/step - loss: 0.9836 - accuracy: 0.5479 - val_loss: 0.9770 - val_accuracy: 0.5462\n",
      "Epoch 62/150\n",
      "2/2 [==============================] - 0s 19ms/step - loss: 0.9795 - accuracy: 0.5479 - val_loss: 0.9761 - val_accuracy: 0.5462\n",
      "Epoch 63/150\n",
      "2/2 [==============================] - 0s 18ms/step - loss: 0.9747 - accuracy: 0.5479 - val_loss: 0.9748 - val_accuracy: 0.5462\n",
      "Epoch 64/150\n",
      "2/2 [==============================] - 0s 18ms/step - loss: 0.9776 - accuracy: 0.5497 - val_loss: 0.9737 - val_accuracy: 0.5462\n",
      "Epoch 65/150\n",
      "2/2 [==============================] - 0s 18ms/step - loss: 0.9779 - accuracy: 0.5479 - val_loss: 0.9743 - val_accuracy: 0.5462\n",
      "Epoch 66/150\n",
      "2/2 [==============================] - 0s 20ms/step - loss: 0.9759 - accuracy: 0.5479 - val_loss: 0.9797 - val_accuracy: 0.5462\n",
      "Epoch 67/150\n",
      "2/2 [==============================] - 0s 20ms/step - loss: 0.9804 - accuracy: 0.5515 - val_loss: 0.9810 - val_accuracy: 0.5462\n",
      "Epoch 68/150\n",
      "2/2 [==============================] - 0s 19ms/step - loss: 0.9818 - accuracy: 0.5515 - val_loss: 0.9737 - val_accuracy: 0.5462\n",
      "Epoch 69/150\n",
      "2/2 [==============================] - 0s 20ms/step - loss: 0.9798 - accuracy: 0.5497 - val_loss: 0.9702 - val_accuracy: 0.5462\n",
      "Epoch 70/150\n",
      "2/2 [==============================] - 0s 21ms/step - loss: 0.9718 - accuracy: 0.5497 - val_loss: 0.9721 - val_accuracy: 0.5462\n",
      "Epoch 71/150\n",
      "2/2 [==============================] - 0s 21ms/step - loss: 0.9778 - accuracy: 0.5479 - val_loss: 0.9684 - val_accuracy: 0.5462\n",
      "Epoch 72/150\n",
      "2/2 [==============================] - 0s 20ms/step - loss: 0.9767 - accuracy: 0.5461 - val_loss: 0.9680 - val_accuracy: 0.5462\n",
      "Epoch 73/150\n",
      "2/2 [==============================] - 0s 21ms/step - loss: 0.9733 - accuracy: 0.5515 - val_loss: 0.9670 - val_accuracy: 0.5462\n",
      "Epoch 74/150\n",
      "2/2 [==============================] - 0s 20ms/step - loss: 0.9725 - accuracy: 0.5515 - val_loss: 0.9657 - val_accuracy: 0.5462\n",
      "Epoch 75/150\n",
      "2/2 [==============================] - 0s 21ms/step - loss: 0.9713 - accuracy: 0.5461 - val_loss: 0.9651 - val_accuracy: 0.5462\n",
      "Epoch 76/150\n",
      "2/2 [==============================] - 0s 20ms/step - loss: 0.9652 - accuracy: 0.5461 - val_loss: 0.9654 - val_accuracy: 0.5462\n",
      "Epoch 77/150\n",
      "2/2 [==============================] - 0s 21ms/step - loss: 0.9817 - accuracy: 0.5479 - val_loss: 0.9649 - val_accuracy: 0.5462\n",
      "Epoch 78/150\n",
      "2/2 [==============================] - 0s 19ms/step - loss: 0.9677 - accuracy: 0.5461 - val_loss: 0.9621 - val_accuracy: 0.5462\n",
      "Epoch 79/150\n",
      "2/2 [==============================] - 0s 23ms/step - loss: 0.9610 - accuracy: 0.5497 - val_loss: 0.9623 - val_accuracy: 0.5462\n",
      "Epoch 80/150\n",
      "2/2 [==============================] - 0s 22ms/step - loss: 0.9620 - accuracy: 0.5497 - val_loss: 0.9619 - val_accuracy: 0.5462\n",
      "Epoch 81/150\n",
      "2/2 [==============================] - 0s 22ms/step - loss: 0.9649 - accuracy: 0.5479 - val_loss: 0.9596 - val_accuracy: 0.5462\n",
      "Epoch 82/150\n",
      "2/2 [==============================] - 0s 21ms/step - loss: 0.9585 - accuracy: 0.5479 - val_loss: 0.9579 - val_accuracy: 0.5462\n",
      "Epoch 83/150\n",
      "2/2 [==============================] - 0s 21ms/step - loss: 0.9627 - accuracy: 0.5479 - val_loss: 0.9564 - val_accuracy: 0.5462\n",
      "Epoch 84/150\n",
      "2/2 [==============================] - 0s 21ms/step - loss: 0.9576 - accuracy: 0.5497 - val_loss: 0.9546 - val_accuracy: 0.5462\n",
      "Epoch 85/150\n",
      "2/2 [==============================] - 0s 20ms/step - loss: 0.9501 - accuracy: 0.5533 - val_loss: 0.9529 - val_accuracy: 0.5462\n",
      "Epoch 86/150\n",
      "2/2 [==============================] - 0s 22ms/step - loss: 0.9587 - accuracy: 0.5533 - val_loss: 0.9511 - val_accuracy: 0.5462\n",
      "Epoch 87/150\n",
      "2/2 [==============================] - 0s 21ms/step - loss: 0.9573 - accuracy: 0.5570 - val_loss: 0.9488 - val_accuracy: 0.5420\n",
      "Epoch 88/150\n",
      "2/2 [==============================] - 0s 21ms/step - loss: 0.9541 - accuracy: 0.5533 - val_loss: 0.9453 - val_accuracy: 0.5504\n",
      "Epoch 89/150\n",
      "2/2 [==============================] - 0s 20ms/step - loss: 0.9470 - accuracy: 0.5606 - val_loss: 0.9421 - val_accuracy: 0.5462\n",
      "Epoch 90/150\n",
      "2/2 [==============================] - 0s 20ms/step - loss: 0.9540 - accuracy: 0.5552 - val_loss: 0.9393 - val_accuracy: 0.5546\n",
      "Epoch 91/150\n",
      "2/2 [==============================] - 0s 21ms/step - loss: 0.9504 - accuracy: 0.5570 - val_loss: 0.9355 - val_accuracy: 0.5756\n",
      "Epoch 92/150\n",
      "2/2 [==============================] - 0s 22ms/step - loss: 0.9421 - accuracy: 0.5750 - val_loss: 0.9326 - val_accuracy: 0.5798\n",
      "Epoch 93/150\n",
      "2/2 [==============================] - 0s 21ms/step - loss: 0.9377 - accuracy: 0.5732 - val_loss: 0.9321 - val_accuracy: 0.5672\n",
      "Epoch 94/150\n",
      "2/2 [==============================] - 0s 21ms/step - loss: 0.9377 - accuracy: 0.5660 - val_loss: 0.9285 - val_accuracy: 0.5798\n",
      "Epoch 95/150\n",
      "2/2 [==============================] - 0s 21ms/step - loss: 0.9451 - accuracy: 0.5678 - val_loss: 0.9227 - val_accuracy: 0.5882\n",
      "Epoch 96/150\n",
      "2/2 [==============================] - 0s 22ms/step - loss: 0.9292 - accuracy: 0.5877 - val_loss: 0.9211 - val_accuracy: 0.5798\n",
      "Epoch 97/150\n",
      "2/2 [==============================] - 0s 22ms/step - loss: 0.9211 - accuracy: 0.6076 - val_loss: 0.9138 - val_accuracy: 0.5882\n",
      "Epoch 98/150\n",
      "2/2 [==============================] - 0s 21ms/step - loss: 0.9310 - accuracy: 0.5823 - val_loss: 0.9155 - val_accuracy: 0.5798\n",
      "Epoch 99/150\n",
      "2/2 [==============================] - 0s 22ms/step - loss: 0.9285 - accuracy: 0.5732 - val_loss: 0.9101 - val_accuracy: 0.5798\n",
      "Epoch 100/150\n",
      "2/2 [==============================] - 0s 23ms/step - loss: 0.9191 - accuracy: 0.5787 - val_loss: 0.9057 - val_accuracy: 0.5966\n",
      "Epoch 101/150\n",
      "2/2 [==============================] - 0s 22ms/step - loss: 0.9147 - accuracy: 0.6022 - val_loss: 0.9040 - val_accuracy: 0.5840\n",
      "Epoch 102/150\n",
      "2/2 [==============================] - 0s 23ms/step - loss: 0.9088 - accuracy: 0.6004 - val_loss: 0.8996 - val_accuracy: 0.5882\n",
      "Epoch 103/150\n",
      "2/2 [==============================] - 0s 20ms/step - loss: 0.9133 - accuracy: 0.6076 - val_loss: 0.8954 - val_accuracy: 0.5798\n",
      "Epoch 104/150\n",
      "2/2 [==============================] - 0s 22ms/step - loss: 0.9003 - accuracy: 0.6040 - val_loss: 0.8924 - val_accuracy: 0.5882\n",
      "Epoch 105/150\n",
      "2/2 [==============================] - 0s 22ms/step - loss: 0.8956 - accuracy: 0.6221 - val_loss: 0.8950 - val_accuracy: 0.6092\n",
      "Epoch 106/150\n",
      "2/2 [==============================] - 0s 22ms/step - loss: 0.9024 - accuracy: 0.6094 - val_loss: 0.8923 - val_accuracy: 0.6092\n",
      "Epoch 107/150\n",
      "2/2 [==============================] - 0s 21ms/step - loss: 0.8913 - accuracy: 0.6184 - val_loss: 0.8838 - val_accuracy: 0.5966\n",
      "Epoch 108/150\n",
      "2/2 [==============================] - 0s 23ms/step - loss: 0.8929 - accuracy: 0.6094 - val_loss: 0.8824 - val_accuracy: 0.5840\n",
      "Epoch 109/150\n",
      "2/2 [==============================] - 0s 23ms/step - loss: 0.8949 - accuracy: 0.6130 - val_loss: 0.8810 - val_accuracy: 0.5966\n",
      "Epoch 110/150\n",
      "2/2 [==============================] - 0s 21ms/step - loss: 0.8954 - accuracy: 0.6094 - val_loss: 0.8835 - val_accuracy: 0.6092\n",
      "Epoch 111/150\n",
      "2/2 [==============================] - 0s 24ms/step - loss: 0.8864 - accuracy: 0.6383 - val_loss: 0.8862 - val_accuracy: 0.6303\n",
      "Epoch 112/150\n",
      "2/2 [==============================] - 0s 22ms/step - loss: 0.8915 - accuracy: 0.6365 - val_loss: 0.8694 - val_accuracy: 0.6050\n",
      "Epoch 113/150\n",
      "2/2 [==============================] - 0s 23ms/step - loss: 0.8792 - accuracy: 0.6239 - val_loss: 0.8802 - val_accuracy: 0.5924\n",
      "Epoch 114/150\n",
      "2/2 [==============================] - 0s 22ms/step - loss: 0.8979 - accuracy: 0.5967 - val_loss: 0.8695 - val_accuracy: 0.5966\n",
      "Epoch 115/150\n",
      "2/2 [==============================] - 0s 23ms/step - loss: 0.8788 - accuracy: 0.6130 - val_loss: 0.8726 - val_accuracy: 0.6176\n",
      "Epoch 116/150\n",
      "2/2 [==============================] - 0s 20ms/step - loss: 0.8728 - accuracy: 0.6239 - val_loss: 0.8755 - val_accuracy: 0.6176\n",
      "Epoch 117/150\n"
     ]
    },
    {
     "name": "stdout",
     "output_type": "stream",
     "text": [
      "2/2 [==============================] - 0s 24ms/step - loss: 0.8859 - accuracy: 0.6257 - val_loss: 0.8710 - val_accuracy: 0.6050\n",
      "Epoch 118/150\n",
      "2/2 [==============================] - 0s 23ms/step - loss: 0.8831 - accuracy: 0.6148 - val_loss: 0.8838 - val_accuracy: 0.5882\n",
      "Epoch 119/150\n",
      "2/2 [==============================] - 0s 24ms/step - loss: 0.8930 - accuracy: 0.6094 - val_loss: 0.8682 - val_accuracy: 0.5966\n",
      "Epoch 120/150\n",
      "2/2 [==============================] - 0s 24ms/step - loss: 0.8837 - accuracy: 0.6094 - val_loss: 0.8659 - val_accuracy: 0.6176\n",
      "Epoch 121/150\n",
      "2/2 [==============================] - 0s 22ms/step - loss: 0.8788 - accuracy: 0.6365 - val_loss: 0.8662 - val_accuracy: 0.6134\n",
      "Epoch 122/150\n",
      "2/2 [==============================] - 0s 23ms/step - loss: 0.8774 - accuracy: 0.6347 - val_loss: 0.8633 - val_accuracy: 0.6134\n",
      "Epoch 123/150\n",
      "2/2 [==============================] - 0s 22ms/step - loss: 0.8701 - accuracy: 0.6293 - val_loss: 0.8634 - val_accuracy: 0.6176\n",
      "Epoch 124/150\n",
      "2/2 [==============================] - 0s 24ms/step - loss: 0.8712 - accuracy: 0.6293 - val_loss: 0.8612 - val_accuracy: 0.6092\n",
      "Epoch 125/150\n",
      "2/2 [==============================] - 0s 22ms/step - loss: 0.8744 - accuracy: 0.6257 - val_loss: 0.8609 - val_accuracy: 0.6092\n",
      "Epoch 126/150\n",
      "2/2 [==============================] - 0s 23ms/step - loss: 0.8672 - accuracy: 0.6311 - val_loss: 0.8671 - val_accuracy: 0.6345\n",
      "Epoch 127/150\n",
      "2/2 [==============================] - 0s 21ms/step - loss: 0.8779 - accuracy: 0.6420 - val_loss: 0.8632 - val_accuracy: 0.6218\n",
      "Epoch 128/150\n",
      "2/2 [==============================] - 0s 24ms/step - loss: 0.8642 - accuracy: 0.6365 - val_loss: 0.8589 - val_accuracy: 0.6092\n",
      "Epoch 129/150\n",
      "2/2 [==============================] - 0s 22ms/step - loss: 0.8712 - accuracy: 0.6148 - val_loss: 0.8618 - val_accuracy: 0.5966\n",
      "Epoch 130/150\n",
      "2/2 [==============================] - 0s 23ms/step - loss: 0.8704 - accuracy: 0.6293 - val_loss: 0.8581 - val_accuracy: 0.6134\n",
      "Epoch 131/150\n",
      "2/2 [==============================] - 0s 22ms/step - loss: 0.8683 - accuracy: 0.6293 - val_loss: 0.8609 - val_accuracy: 0.6134\n",
      "Epoch 132/150\n",
      "2/2 [==============================] - 0s 23ms/step - loss: 0.8659 - accuracy: 0.6275 - val_loss: 0.8593 - val_accuracy: 0.6176\n",
      "Epoch 133/150\n",
      "2/2 [==============================] - 0s 22ms/step - loss: 0.8611 - accuracy: 0.6311 - val_loss: 0.8566 - val_accuracy: 0.6134\n",
      "Epoch 134/150\n",
      "2/2 [==============================] - 0s 24ms/step - loss: 0.8629 - accuracy: 0.6221 - val_loss: 0.8568 - val_accuracy: 0.6176\n",
      "Epoch 135/150\n",
      "2/2 [==============================] - 0s 23ms/step - loss: 0.8702 - accuracy: 0.6257 - val_loss: 0.8611 - val_accuracy: 0.6176\n",
      "Epoch 136/150\n",
      "2/2 [==============================] - 0s 25ms/step - loss: 0.8609 - accuracy: 0.6275 - val_loss: 0.8611 - val_accuracy: 0.6176\n",
      "Epoch 137/150\n",
      "2/2 [==============================] - 0s 23ms/step - loss: 0.8711 - accuracy: 0.6257 - val_loss: 0.8608 - val_accuracy: 0.6134\n",
      "Epoch 138/150\n",
      "2/2 [==============================] - 0s 24ms/step - loss: 0.8600 - accuracy: 0.6293 - val_loss: 0.8596 - val_accuracy: 0.6092\n",
      "Epoch 139/150\n",
      "2/2 [==============================] - 0s 22ms/step - loss: 0.8664 - accuracy: 0.6275 - val_loss: 0.8543 - val_accuracy: 0.6092\n",
      "Epoch 140/150\n",
      "2/2 [==============================] - 0s 24ms/step - loss: 0.8610 - accuracy: 0.6221 - val_loss: 0.8542 - val_accuracy: 0.6134\n",
      "Epoch 141/150\n",
      "2/2 [==============================] - 0s 23ms/step - loss: 0.8561 - accuracy: 0.6347 - val_loss: 0.8566 - val_accuracy: 0.6218\n",
      "Epoch 142/150\n",
      "2/2 [==============================] - 0s 24ms/step - loss: 0.8600 - accuracy: 0.6311 - val_loss: 0.8602 - val_accuracy: 0.6261\n",
      "Epoch 143/150\n",
      "2/2 [==============================] - 0s 24ms/step - loss: 0.8556 - accuracy: 0.6365 - val_loss: 0.8618 - val_accuracy: 0.6345\n",
      "Epoch 144/150\n",
      "2/2 [==============================] - 0s 23ms/step - loss: 0.8664 - accuracy: 0.6420 - val_loss: 0.8544 - val_accuracy: 0.6134\n",
      "Epoch 145/150\n",
      "2/2 [==============================] - 0s 23ms/step - loss: 0.8521 - accuracy: 0.6474 - val_loss: 0.8563 - val_accuracy: 0.6134\n",
      "Epoch 146/150\n",
      "2/2 [==============================] - 0s 25ms/step - loss: 0.8581 - accuracy: 0.6166 - val_loss: 0.8559 - val_accuracy: 0.6134\n",
      "Epoch 147/150\n",
      "2/2 [==============================] - 0s 25ms/step - loss: 0.8623 - accuracy: 0.6257 - val_loss: 0.8477 - val_accuracy: 0.6092\n",
      "Epoch 148/150\n",
      "2/2 [==============================] - 0s 25ms/step - loss: 0.8471 - accuracy: 0.6329 - val_loss: 0.8519 - val_accuracy: 0.6261\n",
      "Epoch 149/150\n",
      "2/2 [==============================] - 0s 23ms/step - loss: 0.8430 - accuracy: 0.6329 - val_loss: 0.8514 - val_accuracy: 0.6176\n",
      "Epoch 150/150\n",
      "2/2 [==============================] - 0s 24ms/step - loss: 0.8417 - accuracy: 0.6329 - val_loss: 0.8499 - val_accuracy: 0.6134\n"
     ]
    }
   ],
   "source": [
    "history = cnn2.fit(X_train,\n",
    "              y_train,\n",
    "              batch_size=500,\n",
    "              epochs=150,\n",
    "              validation_data = (X_test, y_test),\n",
    "             callbacks=[early_stop],\n",
    "              verbose=1)"
   ]
  },
  {
   "cell_type": "code",
   "execution_count": 77,
   "metadata": {},
   "outputs": [
    {
     "data": {
      "image/png": "[encoded data removed]",
      "text/plain": [
       "<Figure size 432x288 with 1 Axes>"
      ]
     },
     "metadata": {
      "needs_background": "light"
     },
     "output_type": "display_data"
    }
   ],
   "source": [
    "plt.plot(history.history['loss'], label='Train loss')\n",
    "plt.plot(history.history['val_loss'], label='Test loss')\n",
    "plt.legend();"
   ]
  },
  {
   "cell_type": "code",
   "execution_count": 78,
   "metadata": {},
   "outputs": [
    {
     "data": {
      "image/png": "[encoded data removed]",
      "text/plain": [
       "<Figure size 432x288 with 1 Axes>"
      ]
     },
     "metadata": {
      "needs_background": "light"
     },
     "output_type": "display_data"
    }
   ],
   "source": [
    "plt.plot(history.history['accuracy'], label='Train accuracy')\n",
    "plt.plot(history.history['val_accuracy'], label='Test accuracy')\n",
    "plt.legend();"
   ]
  },
  {
   "cell_type": "code",
   "execution_count": 79,
   "metadata": {},
   "outputs": [
    {
     "data": {
      "text/html": [
       "<div>\n",
       "<style scoped>\n",
       "    .dataframe tbody tr th:only-of-type {\n",
       "        vertical-align: middle;\n",
       "    }\n",
       "\n",
       "    .dataframe tbody tr th {\n",
       "        vertical-align: top;\n",
       "    }\n",
       "\n",
       "    .dataframe thead th {\n",
       "        text-align: right;\n",
       "    }\n",
       "</style>\n",
       "<table border=\"1\" class=\"dataframe\">\n",
       "  <thead>\n",
       "    <tr style=\"text-align: right;\">\n",
       "      <th></th>\n",
       "      <th>train_acc</th>\n",
       "      <th>test_acc</th>\n",
       "      <th>train_loss</th>\n",
       "      <th>test_loss</th>\n",
       "      <th>accuracy_diff</th>\n",
       "      <th>loss_diff</th>\n",
       "    </tr>\n",
       "  </thead>\n",
       "  <tbody>\n",
       "    <tr>\n",
       "      <th>145</th>\n",
       "      <td>0.616637</td>\n",
       "      <td>0.613445</td>\n",
       "      <td>0.858138</td>\n",
       "      <td>0.855914</td>\n",
       "      <td>0.003191</td>\n",
       "      <td>0.002224</td>\n",
       "    </tr>\n",
       "    <tr>\n",
       "      <th>146</th>\n",
       "      <td>0.625678</td>\n",
       "      <td>0.609244</td>\n",
       "      <td>0.862319</td>\n",
       "      <td>0.847737</td>\n",
       "      <td>0.016434</td>\n",
       "      <td>0.014581</td>\n",
       "    </tr>\n",
       "    <tr>\n",
       "      <th>147</th>\n",
       "      <td>0.632911</td>\n",
       "      <td>0.626050</td>\n",
       "      <td>0.847064</td>\n",
       "      <td>0.851884</td>\n",
       "      <td>0.006861</td>\n",
       "      <td>-0.004820</td>\n",
       "    </tr>\n",
       "    <tr>\n",
       "      <th>148</th>\n",
       "      <td>0.632911</td>\n",
       "      <td>0.617647</td>\n",
       "      <td>0.842975</td>\n",
       "      <td>0.851367</td>\n",
       "      <td>0.015264</td>\n",
       "      <td>-0.008392</td>\n",
       "    </tr>\n",
       "    <tr>\n",
       "      <th>149</th>\n",
       "      <td>0.632911</td>\n",
       "      <td>0.613445</td>\n",
       "      <td>0.841691</td>\n",
       "      <td>0.849929</td>\n",
       "      <td>0.019466</td>\n",
       "      <td>-0.008238</td>\n",
       "    </tr>\n",
       "  </tbody>\n",
       "</table>\n",
       "</div>"
      ],
      "text/plain": [
       "     train_acc  test_acc  train_loss  test_loss  accuracy_diff  loss_diff\n",
       "145   0.616637  0.613445    0.858138   0.855914       0.003191   0.002224\n",
       "146   0.625678  0.609244    0.862319   0.847737       0.016434   0.014581\n",
       "147   0.632911  0.626050    0.847064   0.851884       0.006861  -0.004820\n",
       "148   0.632911  0.617647    0.842975   0.851367       0.015264  -0.008392\n",
       "149   0.632911  0.613445    0.841691   0.849929       0.019466  -0.008238"
      ]
     },
     "execution_count": 79,
     "metadata": {},
     "output_type": "execute_result"
    }
   ],
   "source": [
    "train_acc = history.history['accuracy']\n",
    "train_loss = history.history['loss']\n",
    "test_loss = history.history['val_loss']\n",
    "test_acc = history.history['val_accuracy']\n",
    "\n",
    "df = pd.DataFrame(list(zip(train_acc, test_acc, train_loss, test_loss)), \n",
    "               columns =['train_acc', 'test_acc', 'train_loss', 'test_loss']) \n",
    "\n",
    "df['accuracy_diff'] = df['train_acc'] - df['test_acc']\n",
    "df['loss_diff'] = df['train_loss'] - df['test_loss']\n",
    "\n",
    "df.tail()"
   ]
  },
  {
   "cell_type": "code",
   "execution_count": 80,
   "metadata": {},
   "outputs": [
    {
     "name": "stdout",
     "output_type": "stream",
     "text": [
      "Model: \"sequential_6\"\n",
      "_________________________________________________________________\n",
      "Layer (type)                 Output Shape              Param #   \n",
      "=================================================================\n",
      "conv2d_10 (Conv2D)           (None, 26, 26, 6)         60        \n",
      "_________________________________________________________________\n",
      "max_pooling2d_10 (MaxPooling (None, 13, 13, 6)         0         \n",
      "_________________________________________________________________\n",
      "conv2d_11 (Conv2D)           (None, 11, 11, 16)        880       \n",
      "_________________________________________________________________\n",
      "max_pooling2d_11 (MaxPooling (None, 5, 5, 16)          0         \n",
      "_________________________________________________________________\n",
      "flatten_5 (Flatten)          (None, 400)               0         \n",
      "_________________________________________________________________\n",
      "dense_15 (Dense)             (None, 128)               51328     \n",
      "_________________________________________________________________\n",
      "dropout_8 (Dropout)          (None, 128)               0         \n",
      "_________________________________________________________________\n",
      "dense_16 (Dense)             (None, 64)                8256      \n",
      "_________________________________________________________________\n",
      "dropout_9 (Dropout)          (None, 64)                0         \n",
      "_________________________________________________________________\n",
      "dense_17 (Dense)             (None, 4)                 260       \n",
      "=================================================================\n",
      "Total params: 60,784\n",
      "Trainable params: 60,784\n",
      "Non-trainable params: 0\n",
      "_________________________________________________________________\n"
     ]
    }
   ],
   "source": [
    "cnn2.summary()"
   ]
  },
  {
   "cell_type": "code",
   "execution_count": 81,
   "metadata": {},
   "outputs": [],
   "source": [
    "y_pred2=cnn2.predict(X_test)"
   ]
  },
  {
   "cell_type": "code",
   "execution_count": 82,
   "metadata": {},
   "outputs": [],
   "source": [
    "y_pred2=np.argmax(y_pred2,axis=1)"
   ]
  },
  {
   "cell_type": "code",
   "execution_count": 83,
   "metadata": {
    "scrolled": true
   },
   "outputs": [
    {
     "data": {
      "text/plain": [
       "array([1, 2, 1, 1, 1, 1, 1, 1, 1, 2, 1, 2, 1, 1, 2, 2, 1, 1, 2, 2, 1, 1,\n",
       "       1, 1, 1, 2, 2, 1, 1, 1, 1, 2, 1, 2, 1, 2, 1, 1, 1, 2, 2, 1, 1, 1,\n",
       "       1, 2, 1, 2, 1, 1, 1, 1, 2, 2, 2, 2, 1, 1, 1, 1, 2, 2, 1, 1, 1, 2,\n",
       "       1, 2, 2, 1, 1, 1, 1, 2, 1, 1, 1, 1, 2, 2, 1, 1, 1, 2, 1, 2, 2, 1,\n",
       "       1, 2, 1, 1, 1, 1, 1, 1, 1, 2, 2, 2, 1, 1, 2, 1, 1, 2, 2, 1, 1, 1,\n",
       "       1, 1, 1, 1, 1, 1, 1, 1, 1, 2, 1, 1, 1, 1, 2, 1, 1, 2, 1, 1, 1, 1,\n",
       "       1, 2, 1, 2, 1, 1, 1, 1, 1, 1, 2, 1, 1, 1, 1, 1, 1, 1, 1, 1, 1, 1,\n",
       "       2, 1, 2, 1, 1, 1, 2, 1, 1, 1, 1, 2, 2, 1, 1, 1, 2, 1, 1, 1, 1, 1,\n",
       "       2, 1, 1, 1, 1, 2, 1, 1, 1, 1, 1, 1, 1, 2, 2, 1, 1, 1, 2, 1, 1, 1,\n",
       "       1, 1, 1, 2, 1, 1, 1, 2, 1, 1, 1, 2, 1, 1, 2, 1, 1, 1, 1, 2, 2, 1,\n",
       "       2, 1, 1, 1, 2, 1, 1, 2, 1, 1, 2, 1, 1, 1, 1, 1, 1, 1])"
      ]
     },
     "execution_count": 83,
     "metadata": {},
     "output_type": "execute_result"
    }
   ],
   "source": [
    "y_pred2"
   ]
  },
  {
   "cell_type": "code",
   "execution_count": 84,
   "metadata": {},
   "outputs": [],
   "source": [
    "ls=list(zip(y_test_original,y_pred2))"
   ]
  },
  {
   "cell_type": "code",
   "execution_count": 85,
   "metadata": {},
   "outputs": [
    {
     "data": {
      "text/plain": [
       "146"
      ]
     },
     "execution_count": 85,
     "metadata": {},
     "output_type": "execute_result"
    }
   ],
   "source": [
    "ls1=[l for l in ls if l[0]==l[1]]\n",
    "len(ls1)"
   ]
  },
  {
   "cell_type": "code",
   "execution_count": 86,
   "metadata": {
    "scrolled": true
   },
   "outputs": [],
   "source": [
    "cnf1=confusion_matrix(y_test_original, y_pred2)"
   ]
  },
  {
   "cell_type": "code",
   "execution_count": 87,
   "metadata": {},
   "outputs": [],
   "source": [
    "target_names=['American','Chinies','Indian']"
   ]
  },
  {
   "cell_type": "code",
   "execution_count": 88,
   "metadata": {
    "scrolled": true
   },
   "outputs": [
    {
     "name": "stdout",
     "output_type": "stream",
     "text": [
      "              precision    recall  f1-score   support\n",
      "\n",
      "    American       0.65      0.86      0.74       130\n",
      "     Chinies       0.52      0.51      0.52        67\n",
      "      Indian       0.00      0.00      0.00        41\n",
      "\n",
      "    accuracy                           0.61       238\n",
      "   macro avg       0.39      0.46      0.42       238\n",
      "weighted avg       0.50      0.61      0.55       238\n",
      "\n"
     ]
    },
    {
     "name": "stderr",
     "output_type": "stream",
     "text": [
      "/Users/sonalibhatia/opt/anaconda3/lib/python3.8/site-packages/sklearn/metrics/_classification.py:1221: UndefinedMetricWarning: Precision and F-score are ill-defined and being set to 0.0 in labels with no predicted samples. Use `zero_division` parameter to control this behavior.\n",
      "  _warn_prf(average, modifier, msg_start, len(result))\n"
     ]
    }
   ],
   "source": [
    "print(classification_report(y_test_original, y_pred2, \n",
    " target_names=target_names))"
   ]
  },
  {
   "cell_type": "code",
   "execution_count": 89,
   "metadata": {},
   "outputs": [
    {
     "data": {
      "text/plain": [
       "<matplotlib.axes._subplots.AxesSubplot at 0x7fd30a8cbe80>"
      ]
     },
     "execution_count": 89,
     "metadata": {},
     "output_type": "execute_result"
    },
    {
     "data": {
      "image/png": "[encoded data removed]",
      "text/plain": [
       "<Figure size 432x288 with 2 Axes>"
      ]
     },
     "metadata": {
      "needs_background": "light"
     },
     "output_type": "display_data"
    }
   ],
   "source": [
    "sns.heatmap(cnf1,annot=True)"
   ]
  },
  {
   "cell_type": "code",
   "execution_count": 92,
   "metadata": {},
   "outputs": [
    {
     "data": {
      "text/plain": [
       "2"
      ]
     },
     "execution_count": 92,
     "metadata": {},
     "output_type": "execute_result"
    }
   ],
   "source": [
    "# Trying Prediction with 1 file\n",
    "\n",
    "new_X=feature_df.loc[4].iloc[10:794]\n",
    "\n",
    "type(new_X)\n",
    "\n",
    "new_X=np.array(new_X)\n",
    "\n",
    "\n",
    "\n",
    "new_X.shape\n",
    "\n",
    "#new_X=new_X.reshape(new_X.shape[0],28,28,1)\n",
    "\n",
    "new_X=new_X.astype('float32')/255\n",
    "\n",
    "new_X=new_X.reshape(1,28,28,1)\n",
    "\n",
    "new_pred=np.argmax(cnn2.predict([new_X,]),axis=1)\n",
    "\n",
    "new_pred[0]"
   ]
  },
  {
   "cell_type": "code",
   "execution_count": null,
   "metadata": {},
   "outputs": [],
   "source": []
  }
 ],
 "metadata": {
  "kernelspec": {
   "display_name": "Python 3",
   "language": "python",
   "name": "python3"
  },
  "language_info": {
   "codemirror_mode": {
    "name": "ipython",
    "version": 3
   },
   "file_extension": ".py",
   "mimetype": "text/x-python",
   "name": "python",
   "nbconvert_exporter": "python",
   "pygments_lexer": "ipython3",
   "version": "3.8.3"
  }
 },
 "nbformat": 4,
 "nbformat_minor": 4
}
