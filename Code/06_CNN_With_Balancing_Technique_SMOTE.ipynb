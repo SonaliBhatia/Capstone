{
 "cells": [
  {
   "cell_type": "markdown",
   "metadata": {},
   "source": [
    "# Trying CNN for modeling here with SMOTE\n",
    "\n"
   ]
  },
  {
   "cell_type": "code",
   "execution_count": 1,
   "metadata": {},
   "outputs": [],
   "source": [
    "\n",
    "import numpy as np\n",
    "import pandas as pd\n",
    "import seaborn as sns\n",
    "from sklearn.datasets import make_classification, make_regression\n",
    "from sklearn.metrics import classification_report , confusion_matrix ,plot_confusion_matrix\n",
    "\n",
    "import matplotlib.pyplot as plt\n",
    "import pickle\n",
    "\n",
    "from tensorflow.keras.models import Sequential\n",
    "from tensorflow.keras.layers import Dense , Activation, Flatten, Dropout\n",
    "from keras.utils import np_utils\n",
    "from tensorflow.keras.utils import to_categorical \n",
    "from sklearn.model_selection import train_test_split, GridSearchCV , cross_val_score\n",
    "\n",
    "from keras.layers import Conv2D, MaxPooling2D\n",
    "from keras.utils import np_utils\n",
    "\n",
    "from tensorflow.keras.regularizers import l2\n",
    "from keras.callbacks import EarlyStopping\n",
    "\n",
    "from imblearn.over_sampling import SMOTE\n",
    "import pickle\n",
    "\n",
    "%matplotlib inline"
   ]
  },
  {
   "cell_type": "code",
   "execution_count": 2,
   "metadata": {},
   "outputs": [],
   "source": [
    "#feature_df = pd.read_csv('../Data/Data_and_Features.csv')"
   ]
  },
  {
   "cell_type": "code",
   "execution_count": 3,
   "metadata": {},
   "outputs": [],
   "source": [
    "#using pickled df from previous file to preserve data and data types as CSV is modifying the data types \n",
    "feature_df=pd.read_pickle('Data_And_Features.pkl')"
   ]
  },
  {
   "cell_type": "code",
   "execution_count": 4,
   "metadata": {},
   "outputs": [
    {
     "data": {
      "text/html": [
       "<div>\n",
       "<style scoped>\n",
       "    .dataframe tbody tr th:only-of-type {\n",
       "        vertical-align: middle;\n",
       "    }\n",
       "\n",
       "    .dataframe tbody tr th {\n",
       "        vertical-align: top;\n",
       "    }\n",
       "\n",
       "    .dataframe thead th {\n",
       "        text-align: right;\n",
       "    }\n",
       "</style>\n",
       "<table border=\"1\" class=\"dataframe\">\n",
       "  <thead>\n",
       "    <tr style=\"text-align: right;\">\n",
       "      <th></th>\n",
       "      <th>age</th>\n",
       "      <th>age_onset</th>\n",
       "      <th>birthplace</th>\n",
       "      <th>filename</th>\n",
       "      <th>native_language</th>\n",
       "      <th>sex</th>\n",
       "      <th>speakerid</th>\n",
       "      <th>country</th>\n",
       "      <th>file_missing?</th>\n",
       "      <th>Accent</th>\n",
       "      <th>...</th>\n",
       "      <th>853</th>\n",
       "      <th>854</th>\n",
       "      <th>855</th>\n",
       "      <th>856</th>\n",
       "      <th>857</th>\n",
       "      <th>858</th>\n",
       "      <th>859</th>\n",
       "      <th>860</th>\n",
       "      <th>861</th>\n",
       "      <th>Accent_num</th>\n",
       "    </tr>\n",
       "  </thead>\n",
       "  <tbody>\n",
       "    <tr>\n",
       "      <th>0</th>\n",
       "      <td>19.0</td>\n",
       "      <td>9.0</td>\n",
       "      <td>shady grove, maryland, usa</td>\n",
       "      <td>arabic38</td>\n",
       "      <td>arabic</td>\n",
       "      <td>female</td>\n",
       "      <td>1394</td>\n",
       "      <td>usa</td>\n",
       "      <td>False</td>\n",
       "      <td>American</td>\n",
       "      <td>...</td>\n",
       "      <td>-22.414141</td>\n",
       "      <td>-19.780674</td>\n",
       "      <td>-20.364351</td>\n",
       "      <td>-26.178616</td>\n",
       "      <td>-26.259825</td>\n",
       "      <td>-26.722843</td>\n",
       "      <td>-23.242558</td>\n",
       "      <td>-20.390944</td>\n",
       "      <td>-16.448463</td>\n",
       "      <td>1</td>\n",
       "    </tr>\n",
       "    <tr>\n",
       "      <th>1</th>\n",
       "      <td>32.0</td>\n",
       "      <td>12.0</td>\n",
       "      <td>fort collins, colorado, usa</td>\n",
       "      <td>arabic45</td>\n",
       "      <td>arabic</td>\n",
       "      <td>female</td>\n",
       "      <td>1456</td>\n",
       "      <td>usa</td>\n",
       "      <td>False</td>\n",
       "      <td>American</td>\n",
       "      <td>...</td>\n",
       "      <td>-13.328942</td>\n",
       "      <td>-13.913136</td>\n",
       "      <td>-14.347802</td>\n",
       "      <td>-15.178201</td>\n",
       "      <td>-15.032391</td>\n",
       "      <td>-15.780533</td>\n",
       "      <td>-17.877295</td>\n",
       "      <td>-10.750269</td>\n",
       "      <td>-5.102596</td>\n",
       "      <td>1</td>\n",
       "    </tr>\n",
       "    <tr>\n",
       "      <th>2</th>\n",
       "      <td>19.0</td>\n",
       "      <td>3.0</td>\n",
       "      <td>washington, district of columbia, usa</td>\n",
       "      <td>arabic78</td>\n",
       "      <td>arabic</td>\n",
       "      <td>female</td>\n",
       "      <td>1897</td>\n",
       "      <td>usa</td>\n",
       "      <td>False</td>\n",
       "      <td>American</td>\n",
       "      <td>...</td>\n",
       "      <td>-32.267937</td>\n",
       "      <td>-34.579670</td>\n",
       "      <td>-37.915585</td>\n",
       "      <td>-37.576115</td>\n",
       "      <td>-33.534348</td>\n",
       "      <td>-29.363533</td>\n",
       "      <td>-25.490492</td>\n",
       "      <td>-22.864353</td>\n",
       "      <td>-19.428410</td>\n",
       "      <td>1</td>\n",
       "    </tr>\n",
       "    <tr>\n",
       "      <th>3</th>\n",
       "      <td>43.0</td>\n",
       "      <td>40.0</td>\n",
       "      <td>jianchuan, yunnan, china</td>\n",
       "      <td>bai1</td>\n",
       "      <td>bai</td>\n",
       "      <td>female</td>\n",
       "      <td>28</td>\n",
       "      <td>china</td>\n",
       "      <td>False</td>\n",
       "      <td>Chinese</td>\n",
       "      <td>...</td>\n",
       "      <td>-44.022732</td>\n",
       "      <td>-44.022732</td>\n",
       "      <td>-44.022732</td>\n",
       "      <td>-44.022732</td>\n",
       "      <td>-44.022732</td>\n",
       "      <td>-44.022732</td>\n",
       "      <td>-44.022732</td>\n",
       "      <td>-44.022732</td>\n",
       "      <td>-44.022732</td>\n",
       "      <td>2</td>\n",
       "    </tr>\n",
       "    <tr>\n",
       "      <th>4</th>\n",
       "      <td>34.0</td>\n",
       "      <td>3.5</td>\n",
       "      <td>durgapur, west bengal, india</td>\n",
       "      <td>bengali11</td>\n",
       "      <td>bengali</td>\n",
       "      <td>male</td>\n",
       "      <td>1018</td>\n",
       "      <td>india</td>\n",
       "      <td>False</td>\n",
       "      <td>Indian</td>\n",
       "      <td>...</td>\n",
       "      <td>-4.014865</td>\n",
       "      <td>-4.399039</td>\n",
       "      <td>-7.001354</td>\n",
       "      <td>-11.521073</td>\n",
       "      <td>-10.343769</td>\n",
       "      <td>-8.018362</td>\n",
       "      <td>-7.545074</td>\n",
       "      <td>-10.307240</td>\n",
       "      <td>-11.671057</td>\n",
       "      <td>3</td>\n",
       "    </tr>\n",
       "  </tbody>\n",
       "</table>\n",
       "<p>5 rows × 873 columns</p>\n",
       "</div>"
      ],
      "text/plain": [
       "    age  age_onset                             birthplace   filename  \\\n",
       "0  19.0        9.0             shady grove, maryland, usa   arabic38   \n",
       "1  32.0       12.0            fort collins, colorado, usa   arabic45   \n",
       "2  19.0        3.0  washington, district of columbia, usa   arabic78   \n",
       "3  43.0       40.0               jianchuan, yunnan, china       bai1   \n",
       "4  34.0        3.5           durgapur, west bengal, india  bengali11   \n",
       "\n",
       "  native_language     sex  speakerid country  file_missing?    Accent  ...  \\\n",
       "0          arabic  female       1394     usa          False  American  ...   \n",
       "1          arabic  female       1456     usa          False  American  ...   \n",
       "2          arabic  female       1897     usa          False  American  ...   \n",
       "3             bai  female         28   china          False   Chinese  ...   \n",
       "4         bengali    male       1018   india          False    Indian  ...   \n",
       "\n",
       "         853        854        855        856        857        858  \\\n",
       "0 -22.414141 -19.780674 -20.364351 -26.178616 -26.259825 -26.722843   \n",
       "1 -13.328942 -13.913136 -14.347802 -15.178201 -15.032391 -15.780533   \n",
       "2 -32.267937 -34.579670 -37.915585 -37.576115 -33.534348 -29.363533   \n",
       "3 -44.022732 -44.022732 -44.022732 -44.022732 -44.022732 -44.022732   \n",
       "4  -4.014865  -4.399039  -7.001354 -11.521073 -10.343769  -8.018362   \n",
       "\n",
       "         859        860        861  Accent_num  \n",
       "0 -23.242558 -20.390944 -16.448463           1  \n",
       "1 -17.877295 -10.750269  -5.102596           1  \n",
       "2 -25.490492 -22.864353 -19.428410           1  \n",
       "3 -44.022732 -44.022732 -44.022732           2  \n",
       "4  -7.545074 -10.307240 -11.671057           3  \n",
       "\n",
       "[5 rows x 873 columns]"
      ]
     },
     "execution_count": 4,
     "metadata": {},
     "output_type": "execute_result"
    }
   ],
   "source": [
    "feature_df.head()"
   ]
  },
  {
   "cell_type": "code",
   "execution_count": 5,
   "metadata": {},
   "outputs": [
    {
     "data": {
      "text/plain": [
       "(791, 873)"
      ]
     },
     "execution_count": 5,
     "metadata": {},
     "output_type": "execute_result"
    }
   ],
   "source": [
    "feature_df.shape"
   ]
  },
  {
   "cell_type": "code",
   "execution_count": 6,
   "metadata": {},
   "outputs": [
    {
     "name": "stdout",
     "output_type": "stream",
     "text": [
      "<class 'pandas.core.frame.DataFrame'>\n",
      "RangeIndex: 791 entries, 0 to 790\n",
      "Columns: 873 entries, age to Accent_num\n",
      "dtypes: bool(1), float64(864), int64(2), object(6)\n",
      "memory usage: 5.3+ MB\n"
     ]
    }
   ],
   "source": [
    "feature_df.info()"
   ]
  },
  {
   "cell_type": "code",
   "execution_count": 7,
   "metadata": {},
   "outputs": [],
   "source": [
    "features=range(0,784)"
   ]
  },
  {
   "cell_type": "code",
   "execution_count": 8,
   "metadata": {},
   "outputs": [
    {
     "data": {
      "text/plain": [
       "range(0, 784)"
      ]
     },
     "execution_count": 8,
     "metadata": {},
     "output_type": "execute_result"
    }
   ],
   "source": [
    "features"
   ]
  },
  {
   "cell_type": "code",
   "execution_count": 9,
   "metadata": {},
   "outputs": [],
   "source": [
    "X=feature_df[features]\n",
    "y=feature_df['Accent_num']"
   ]
  },
  {
   "cell_type": "code",
   "execution_count": 10,
   "metadata": {},
   "outputs": [],
   "source": [
    "#X=np.array(X)"
   ]
  },
  {
   "cell_type": "code",
   "execution_count": 11,
   "metadata": {},
   "outputs": [],
   "source": [
    "#X[0].shape"
   ]
  },
  {
   "cell_type": "code",
   "execution_count": 12,
   "metadata": {},
   "outputs": [],
   "source": [
    "#X.shape"
   ]
  },
  {
   "cell_type": "code",
   "execution_count": 13,
   "metadata": {},
   "outputs": [
    {
     "data": {
      "text/plain": [
       "1    433\n",
       "2    221\n",
       "3    137\n",
       "Name: Accent_num, dtype: int64"
      ]
     },
     "execution_count": 13,
     "metadata": {},
     "output_type": "execute_result"
    }
   ],
   "source": [
    "y.value_counts()"
   ]
  },
  {
   "cell_type": "code",
   "execution_count": 14,
   "metadata": {},
   "outputs": [
    {
     "data": {
      "text/plain": [
       "pandas.core.frame.DataFrame"
      ]
     },
     "execution_count": 14,
     "metadata": {},
     "output_type": "execute_result"
    }
   ],
   "source": [
    "type(X)"
   ]
  },
  {
   "cell_type": "code",
   "execution_count": 15,
   "metadata": {},
   "outputs": [],
   "source": [
    "X_train , X_test , y_train , y_test = train_test_split(X,y,test_size=0.3,random_state=42,stratify=y )"
   ]
  },
  {
   "cell_type": "code",
   "execution_count": 16,
   "metadata": {},
   "outputs": [
    {
     "data": {
      "text/plain": [
       "(553, 784)"
      ]
     },
     "execution_count": 16,
     "metadata": {},
     "output_type": "execute_result"
    }
   ],
   "source": [
    "X_train.shape"
   ]
  },
  {
   "cell_type": "code",
   "execution_count": 17,
   "metadata": {},
   "outputs": [
    {
     "data": {
      "text/plain": [
       "(553,)"
      ]
     },
     "execution_count": 17,
     "metadata": {},
     "output_type": "execute_result"
    }
   ],
   "source": [
    "X_train[0].shape"
   ]
  },
  {
   "cell_type": "code",
   "execution_count": 18,
   "metadata": {},
   "outputs": [],
   "source": [
    "#rows = X_train[0].shape[0]\n",
    "#cols = X_train[0].shape[1]\n",
    "#rows "
   ]
  },
  {
   "cell_type": "code",
   "execution_count": 19,
   "metadata": {},
   "outputs": [
    {
     "data": {
      "text/plain": [
       "1    303\n",
       "2    154\n",
       "3     96\n",
       "Name: Accent_num, dtype: int64"
      ]
     },
     "execution_count": 19,
     "metadata": {},
     "output_type": "execute_result"
    }
   ],
   "source": [
    "y_train.value_counts()"
   ]
  },
  {
   "cell_type": "code",
   "execution_count": null,
   "metadata": {},
   "outputs": [],
   "source": []
  },
  {
   "cell_type": "markdown",
   "metadata": {},
   "source": [
    "# Trying SMOTE oversampling technic to try and balance the data"
   ]
  },
  {
   "cell_type": "code",
   "execution_count": 20,
   "metadata": {},
   "outputs": [],
   "source": [
    "sm=SMOTE()"
   ]
  },
  {
   "cell_type": "code",
   "execution_count": 21,
   "metadata": {},
   "outputs": [],
   "source": [
    "Xsm_train , ysm_train = sm.fit_sample(X_train , y_train)"
   ]
  },
  {
   "cell_type": "code",
   "execution_count": 22,
   "metadata": {},
   "outputs": [
    {
     "data": {
      "text/plain": [
       "pandas.core.frame.DataFrame"
      ]
     },
     "execution_count": 22,
     "metadata": {},
     "output_type": "execute_result"
    }
   ],
   "source": [
    "type(Xsm_train)"
   ]
  },
  {
   "cell_type": "code",
   "execution_count": 23,
   "metadata": {},
   "outputs": [
    {
     "data": {
      "text/plain": [
       "pandas.core.series.Series"
      ]
     },
     "execution_count": 23,
     "metadata": {},
     "output_type": "execute_result"
    }
   ],
   "source": [
    "type(ysm_train)"
   ]
  },
  {
   "cell_type": "code",
   "execution_count": 24,
   "metadata": {},
   "outputs": [
    {
     "name": "stdout",
     "output_type": "stream",
     "text": [
      "3    303\n",
      "2    303\n",
      "1    303\n",
      "Name: Accent_num, dtype: int64\n"
     ]
    }
   ],
   "source": [
    "print(pd.Series(ysm_train).value_counts())"
   ]
  },
  {
   "cell_type": "code",
   "execution_count": 25,
   "metadata": {},
   "outputs": [],
   "source": [
    "Xsm_train=np.array(Xsm_train)"
   ]
  },
  {
   "cell_type": "code",
   "execution_count": 26,
   "metadata": {},
   "outputs": [
    {
     "data": {
      "text/plain": [
       "(909, 784)"
      ]
     },
     "execution_count": 26,
     "metadata": {},
     "output_type": "execute_result"
    }
   ],
   "source": [
    "Xsm_train.shape"
   ]
  },
  {
   "cell_type": "code",
   "execution_count": 27,
   "metadata": {},
   "outputs": [
    {
     "data": {
      "text/plain": [
       "(784,)"
      ]
     },
     "execution_count": 27,
     "metadata": {},
     "output_type": "execute_result"
    }
   ],
   "source": [
    "Xsm_train[0].shape"
   ]
  },
  {
   "cell_type": "code",
   "execution_count": 28,
   "metadata": {},
   "outputs": [],
   "source": [
    "X_test=np.array(X_test)"
   ]
  },
  {
   "cell_type": "code",
   "execution_count": 29,
   "metadata": {},
   "outputs": [],
   "source": [
    "#rows = X_train[0].shape[0]\n",
    "#cols = X_train[0].shape[1]\n",
    "#rows "
   ]
  },
  {
   "cell_type": "code",
   "execution_count": 30,
   "metadata": {},
   "outputs": [],
   "source": [
    "X_train=Xsm_train.reshape(Xsm_train.shape[0],28,28)"
   ]
  },
  {
   "cell_type": "code",
   "execution_count": 31,
   "metadata": {},
   "outputs": [],
   "source": [
    "X_test=X_test.reshape(X_test.shape[0],28,28)"
   ]
  },
  {
   "cell_type": "code",
   "execution_count": 32,
   "metadata": {},
   "outputs": [
    {
     "name": "stdout",
     "output_type": "stream",
     "text": [
      "Train: X=(909, 28, 28), y=(553,)\n",
      "Test: X=(238, 28, 28), y=(238,)\n"
     ]
    },
    {
     "data": {
      "image/png": "[encoded data removed]",
      "text/plain": [
       "<Figure size 432x288 with 1 Axes>"
      ]
     },
     "metadata": {
      "needs_background": "light"
     },
     "output_type": "display_data"
    },
    {
     "data": {
      "image/png": "[encoded data removed]",
      "text/plain": [
       "<Figure size 432x288 with 1 Axes>"
      ]
     },
     "metadata": {
      "needs_background": "light"
     },
     "output_type": "display_data"
    },
    {
     "data": {
      "image/png": "[encoded data removed]",
      "text/plain": [
       "<Figure size 432x288 with 1 Axes>"
      ]
     },
     "metadata": {
      "needs_background": "light"
     },
     "output_type": "display_data"
    }
   ],
   "source": [
    "print('Train: X=%s, y=%s' % (X_train.shape, y_train.shape))\n",
    "print('Test: X=%s, y=%s' % (X_test.shape, y_test.shape))\n",
    "\n",
    "# plot first few images\n",
    "\n",
    "for i in range(3):\n",
    "    \n",
    "# plot raw pixel data\n",
    "    plt.imshow(X_train[i], cmap=plt.get_cmap('plasma'))\n",
    "# show the figure\n",
    "    plt.show()"
   ]
  },
  {
   "cell_type": "code",
   "execution_count": 33,
   "metadata": {},
   "outputs": [],
   "source": [
    "X_train = X_train.astype('float32')/255\n",
    "X_test = X_test.astype('float32')/255"
   ]
  },
  {
   "cell_type": "code",
   "execution_count": 34,
   "metadata": {},
   "outputs": [
    {
     "data": {
      "text/plain": [
       "array([[-0.1265163 , -0.11947132, -0.10949759, -0.10870349, -0.11381982,\n",
       "        -0.11176246, -0.11156242, -0.11575475, -0.09902835, -0.09929239,\n",
       "        -0.1153036 , -0.12246849, -0.1206795 , -0.11037698, -0.10038524,\n",
       "        -0.10528675, -0.11411802, -0.1112444 , -0.10225241, -0.10201324,\n",
       "        -0.11284667, -0.11187733, -0.1089025 , -0.11124761, -0.10675991,\n",
       "        -0.11499482, -0.11272328, -0.11223192],\n",
       "       [-0.12197392, -0.1194142 , -0.11107749, -0.11178077, -0.11137064,\n",
       "        -0.11451935, -0.11046054, -0.10540321, -0.10234459, -0.10430402,\n",
       "        -0.10197657, -0.11090949, -0.11467908, -0.10666274, -0.11190069,\n",
       "        -0.11384599, -0.10980308, -0.11008009, -0.10429161, -0.09979478,\n",
       "        -0.10151893, -0.10600594, -0.09944069, -0.09514348, -0.08960707,\n",
       "        -0.09020317, -0.09760015, -0.10693713],\n",
       "       [-0.11331835, -0.11816739, -0.10790652, -0.0994451 , -0.09972574,\n",
       "        -0.10310192, -0.10222299, -0.10126359, -0.09747977, -0.10597859,\n",
       "        -0.11594111, -0.11131385, -0.10882687, -0.10837228, -0.11279776,\n",
       "        -0.1091005 , -0.10643659, -0.10017059, -0.09528574, -0.09469476,\n",
       "        -0.06910257, -0.0681996 , -0.05747028, -0.04170213, -0.02862679,\n",
       "        -0.03125732, -0.03575575, -0.03196741],\n",
       "       [-0.0293983 , -0.03075173, -0.03259848, -0.03712261, -0.04172032,\n",
       "        -0.03843393, -0.03297807, -0.03237965, -0.03376621, -0.03739875,\n",
       "        -0.03852885, -0.0474337 , -0.0613103 , -0.06430872, -0.06404638,\n",
       "        -0.05944449, -0.07081474, -0.08098719, -0.07399128, -0.07000922,\n",
       "        -0.07783558, -0.07344888, -0.06592501, -0.05127846, -0.04548182,\n",
       "        -0.05997387, -0.07039772, -0.06956545],\n",
       "       [-0.06529785, -0.06187502, -0.05357273, -0.05038219, -0.05194978,\n",
       "        -0.05112377, -0.04706873, -0.04659408, -0.05253337, -0.07051457,\n",
       "        -0.07682337, -0.08744879, -0.091709  , -0.09106558, -0.09827045,\n",
       "        -0.10835483, -0.11039474, -0.10471695, -0.08167864, -0.0469223 ,\n",
       "        -0.03311349, -0.03558284, -0.03837496, -0.03560555, -0.04183433,\n",
       "        -0.04870486, -0.052918  , -0.05973103],\n",
       "       [-0.05879273, -0.05398471, -0.0561168 , -0.06138901, -0.06274231,\n",
       "        -0.06376962, -0.05863217, -0.05430077, -0.05452362, -0.05847766,\n",
       "        -0.060964  , -0.06201788, -0.06439856, -0.07028227, -0.07668003,\n",
       "        -0.09044749, -0.10149271, -0.08898629, -0.06248239, -0.04039328,\n",
       "        -0.04235425, -0.05710736, -0.06495561, -0.05162105, -0.03765411,\n",
       "        -0.03631232, -0.03363256, -0.01678083],\n",
       "       [-0.01383464, -0.01785986, -0.03571046, -0.0622064 , -0.07240304,\n",
       "        -0.07739265, -0.0872806 , -0.0917438 , -0.09692594, -0.0997369 ,\n",
       "        -0.10063197, -0.10172705, -0.09726113, -0.10181146, -0.10792562,\n",
       "        -0.10607912, -0.11062953, -0.10641503, -0.10722877, -0.11716453,\n",
       "        -0.11612283, -0.10368554, -0.1070435 , -0.11985821, -0.11478212,\n",
       "        -0.10913943, -0.10431048, -0.10304262],\n",
       "       [-0.0936612 , -0.09514232, -0.09456863, -0.09515957, -0.10651369,\n",
       "        -0.10712791, -0.1078596 , -0.10750572, -0.09689819, -0.07143947,\n",
       "        -0.05592197, -0.04684159, -0.04320409, -0.04823008, -0.0448483 ,\n",
       "        -0.04095106, -0.03583745, -0.04009749, -0.05112998, -0.04837928,\n",
       "        -0.04682315, -0.05385389, -0.06366239, -0.05540494, -0.04237815,\n",
       "        -0.04069187, -0.05232376, -0.07594915],\n",
       "       [-0.10002153, -0.08719422, -0.07489133, -0.06472213, -0.04312382,\n",
       "        -0.03574693, -0.03900929, -0.04718825, -0.04569574, -0.04073781,\n",
       "        -0.03809496, -0.03410627, -0.03420185, -0.03533844, -0.03952817,\n",
       "        -0.04529621, -0.04763723, -0.03211955, -0.03042193, -0.03586801,\n",
       "        -0.03850676, -0.0441149 , -0.04493772, -0.03690187, -0.03371182,\n",
       "        -0.03498922, -0.04153008, -0.05405084],\n",
       "       [-0.05835178, -0.0636125 , -0.07302504, -0.07532   , -0.04544327,\n",
       "         0.00700031,  0.02181355,  0.0200867 ,  0.00820362, -0.00513428,\n",
       "        -0.02706578, -0.04044089, -0.0330472 , -0.03694795, -0.04224996,\n",
       "        -0.03789898, -0.03938602, -0.04373733, -0.04166797, -0.03887967,\n",
       "        -0.04032752, -0.04456698, -0.04953556, -0.04706899, -0.04411361,\n",
       "        -0.04600634, -0.0435204 , -0.04388371],\n",
       "       [-0.05153173, -0.04660071, -0.04260587, -0.04414358, -0.04380773,\n",
       "        -0.04969607, -0.05393982, -0.05695836, -0.0611931 , -0.04844065,\n",
       "        -0.02887307, -0.03198693, -0.04646008, -0.05717654, -0.05756548,\n",
       "        -0.07472344, -0.08833142, -0.08455686, -0.05640959, -0.04272399,\n",
       "        -0.04070261, -0.04113313, -0.04332984, -0.04664083, -0.0413905 ,\n",
       "        -0.04212868, -0.04354283, -0.04635575],\n",
       "       [-0.04483972, -0.0440498 , -0.04729662, -0.04592507, -0.04457594,\n",
       "        -0.05400362, -0.05849966, -0.06402351, -0.071706  , -0.07438596,\n",
       "        -0.06263152, -0.04106409, -0.02550209, -0.0212926 , -0.01544859,\n",
       "        -0.01436087, -0.02169907, -0.03116339, -0.04163017, -0.05119873,\n",
       "        -0.05203961, -0.05107709, -0.05388706, -0.04801951, -0.04576269,\n",
       "        -0.05320215, -0.05109798, -0.04967061],\n",
       "       [-0.05463311, -0.05337926, -0.06351118, -0.07245171, -0.07865159,\n",
       "        -0.0807896 , -0.0800998 , -0.08161021, -0.06700735, -0.04810107,\n",
       "        -0.05158543, -0.05213733, -0.0474929 , -0.04318551, -0.03777532,\n",
       "        -0.03845135, -0.04804635, -0.04607746, -0.04625738, -0.04485741,\n",
       "        -0.04541208, -0.0487308 , -0.05208537, -0.05728072, -0.05365765,\n",
       "        -0.05414046, -0.04916191, -0.05131038],\n",
       "       [-0.06161559, -0.06015454, -0.04332736, -0.03544112, -0.04010517,\n",
       "        -0.06937393, -0.08831   , -0.05233151, -0.0285522 , -0.02979785,\n",
       "        -0.0346134 , -0.04158451, -0.05237122, -0.0513379 , -0.05116802,\n",
       "        -0.05488069, -0.0551227 , -0.05604647, -0.05316649, -0.0518043 ,\n",
       "        -0.05521768, -0.05459345, -0.05527386, -0.05536653, -0.05647595,\n",
       "        -0.0550377 , -0.05434723, -0.05693837],\n",
       "       [-0.05339214, -0.05645367, -0.06205627, -0.06768234, -0.0729737 ,\n",
       "        -0.07484523, -0.07505139, -0.06603261, -0.05006546, -0.01985865,\n",
       "        -0.00584168, -0.01745469, -0.03651086, -0.05311494, -0.06431764,\n",
       "        -0.08505777, -0.09802559, -0.09276808, -0.08493806, -0.08802016,\n",
       "        -0.10065472, -0.10690004, -0.11105294, -0.10492199, -0.10455938,\n",
       "        -0.11351475, -0.11340775, -0.11400298],\n",
       "       [-0.11867852, -0.11526786, -0.11230732, -0.10781134, -0.10888653,\n",
       "        -0.10273328, -0.10245928, -0.11267754, -0.11632818, -0.11733877,\n",
       "        -0.11066017, -0.10899319, -0.11013433, -0.10979567, -0.11023923,\n",
       "        -0.11580758, -0.11295214, -0.09857857, -0.08943033, -0.09748602,\n",
       "        -0.10601552, -0.10718726, -0.10323817, -0.10366821, -0.10170663,\n",
       "        -0.10137606, -0.10540564, -0.10446492],\n",
       "       [-0.1061941 , -0.10501453, -0.10248848, -0.09903757, -0.11243826,\n",
       "        -0.11049557, -0.10850254, -0.10423439, -0.10413692, -0.10994626,\n",
       "        -0.1064447 , -0.1046903 , -0.10559016, -0.1054877 , -0.10395734,\n",
       "        -0.07173766, -0.03949227, -0.03274602, -0.0316501 , -0.04685929,\n",
       "        -0.03643223, -0.01018497,  0.00084863, -0.00075016, -0.01230364,\n",
       "        -0.02770245, -0.04162145, -0.0455419 ],\n",
       "       [-0.05331726, -0.05393243, -0.06021465, -0.06270172, -0.07072229,\n",
       "        -0.08198569, -0.08286129, -0.08121096, -0.06867027, -0.04569219,\n",
       "        -0.02422284, -0.02342698, -0.04322607, -0.02467409,  0.01219807,\n",
       "         0.01668233,  0.00246781, -0.01363565, -0.02932123, -0.03063362,\n",
       "        -0.01697233, -0.02243373, -0.0353302 , -0.04696439, -0.04789075,\n",
       "        -0.04595762, -0.04657695, -0.04339158],\n",
       "       [-0.04553766, -0.05883085, -0.06830318, -0.06995358, -0.06848115,\n",
       "        -0.06154897, -0.04530022, -0.02346462, -0.0281901 , -0.04287357,\n",
       "        -0.05522529, -0.05702945, -0.06230034, -0.0654705 , -0.06865612,\n",
       "        -0.07451544, -0.07973702, -0.08700258, -0.09553333, -0.09664132,\n",
       "        -0.07766784, -0.05924718, -0.05394237, -0.04922548, -0.04891617,\n",
       "        -0.04732972, -0.04541061, -0.04967289],\n",
       "       [-0.05290679, -0.048895  , -0.04601038, -0.04129294, -0.04238857,\n",
       "        -0.04655213, -0.0508639 , -0.05272747, -0.05859149, -0.03485759,\n",
       "        -0.02997317, -0.03747128, -0.05403419, -0.06680135, -0.06276674,\n",
       "        -0.06845055, -0.07830099, -0.07774483, -0.07739528, -0.06462263,\n",
       "        -0.05064715, -0.03902491, -0.04145573, -0.04948497, -0.0411475 ,\n",
       "        -0.04316539, -0.04248694, -0.04235651],\n",
       "       [-0.04184897, -0.04483224, -0.04768412, -0.04555662, -0.0492836 ,\n",
       "        -0.04905309, -0.04519683, -0.04229571, -0.05223825, -0.07023335,\n",
       "        -0.05795557, -0.05712048, -0.06337393, -0.03661269, -0.02435732,\n",
       "        -0.03950335, -0.05685172, -0.04612014, -0.04438215, -0.05601606,\n",
       "        -0.0573138 , -0.05813818, -0.05865536, -0.05088187, -0.05103518,\n",
       "        -0.05251694, -0.05374962, -0.05270639],\n",
       "       [-0.050838  , -0.05081575, -0.05616234, -0.05588374, -0.05352636,\n",
       "        -0.05436411, -0.05134696, -0.05615122, -0.07743748, -0.08532529,\n",
       "        -0.09082813, -0.09916006, -0.07665283, -0.0715661 , -0.08319408,\n",
       "        -0.08212895, -0.07260814, -0.07051871, -0.06760481, -0.06339711,\n",
       "        -0.07606649, -0.08966066, -0.08661504, -0.08264758, -0.08481997,\n",
       "        -0.09198482, -0.10419119, -0.09475406],\n",
       "       [-0.09275799, -0.10731813, -0.10690824, -0.11294866, -0.11620403,\n",
       "        -0.10712554, -0.10108125, -0.10296455, -0.09776659, -0.09735782,\n",
       "        -0.08896683, -0.08770484, -0.10134208, -0.10067762, -0.09348698,\n",
       "        -0.0928525 , -0.09889457, -0.0983832 , -0.09506712, -0.10812867,\n",
       "        -0.11757974, -0.11789277, -0.11165041, -0.11035668, -0.10650645,\n",
       "        -0.10179798, -0.10353538, -0.10143515],\n",
       "       [-0.09567679, -0.09424212, -0.09117319, -0.0801711 , -0.08012117,\n",
       "        -0.08697828, -0.09064001, -0.06588881, -0.04030236, -0.03810184,\n",
       "        -0.03790173, -0.03621594, -0.03934512, -0.04652314, -0.04178692,\n",
       "        -0.04591536, -0.04161747, -0.03778766, -0.04015955, -0.04724102,\n",
       "        -0.04864601, -0.05117369, -0.04431419, -0.01793197, -0.00875155,\n",
       "        -0.01297721, -0.02073917, -0.01976119],\n",
       "       [-0.03032359, -0.0576045 , -0.05514456, -0.05966723, -0.06228844,\n",
       "        -0.06744659, -0.08651233, -0.08680841, -0.08644609, -0.07714816,\n",
       "        -0.05910498, -0.03477036, -0.03349448, -0.03855054, -0.04675031,\n",
       "        -0.05066488, -0.0461028 , -0.04911955, -0.05776339, -0.06232592,\n",
       "        -0.06520169, -0.07223419, -0.07431187, -0.07139964, -0.06909151,\n",
       "        -0.06817168, -0.06356601, -0.05035236],\n",
       "       [-0.05446681, -0.06145142, -0.07983256, -0.09865706, -0.09553894,\n",
       "        -0.07307013, -0.05753104, -0.05413919, -0.05618645, -0.05738009,\n",
       "        -0.05189085, -0.04757564, -0.04896574, -0.04928561, -0.05349993,\n",
       "        -0.04991027, -0.04838099, -0.05223756, -0.0511337 , -0.05562257,\n",
       "        -0.05504955, -0.05521236, -0.06561488, -0.0771949 , -0.07688956,\n",
       "        -0.09228993, -0.09737864, -0.07808339],\n",
       "       [-0.05602515, -0.04593296, -0.05343327, -0.05393391, -0.05190352,\n",
       "        -0.06136474, -0.06441723, -0.06576031, -0.06316859, -0.04781621,\n",
       "        -0.04358529, -0.05114476, -0.05648727, -0.05044376, -0.04861467,\n",
       "        -0.04603206, -0.04974244, -0.05087208, -0.04770336, -0.05021182,\n",
       "        -0.0591937 , -0.05341237, -0.05208615, -0.04524213, -0.04271941,\n",
       "        -0.04573499, -0.05231862, -0.06225735],\n",
       "       [-0.07003389, -0.08046241, -0.08025158, -0.08625952, -0.09491602,\n",
       "        -0.09945586, -0.07093661, -0.05198731, -0.05003504, -0.04955089,\n",
       "        -0.05195781, -0.0566071 , -0.05668909, -0.05570852, -0.05500022,\n",
       "        -0.05291886, -0.05061198, -0.05283134, -0.05487974, -0.05923017,\n",
       "        -0.05811155, -0.05886025, -0.06366812, -0.06943486, -0.06734234,\n",
       "        -0.07437986, -0.07868137, -0.0846375 ]], dtype=float32)"
      ]
     },
     "execution_count": 34,
     "metadata": {},
     "output_type": "execute_result"
    }
   ],
   "source": [
    "X_train[0]"
   ]
  },
  {
   "cell_type": "code",
   "execution_count": 35,
   "metadata": {},
   "outputs": [],
   "source": [
    "X_train=X_train.reshape(X_train.shape[0],28,28,1)\n",
    "X_test=X_test.reshape(X_test.shape[0],28,28,1)"
   ]
  },
  {
   "cell_type": "code",
   "execution_count": 36,
   "metadata": {},
   "outputs": [
    {
     "data": {
      "text/plain": [
       "((909, 28, 28, 1), (238, 28, 28, 1))"
      ]
     },
     "execution_count": 36,
     "metadata": {},
     "output_type": "execute_result"
    }
   ],
   "source": [
    "X_train.shape , X_test.shape"
   ]
  },
  {
   "cell_type": "code",
   "execution_count": 37,
   "metadata": {},
   "outputs": [
    {
     "data": {
      "text/plain": [
       "(28, 28, 1)"
      ]
     },
     "execution_count": 37,
     "metadata": {},
     "output_type": "execute_result"
    }
   ],
   "source": [
    "X_train[0].shape"
   ]
  },
  {
   "cell_type": "code",
   "execution_count": 38,
   "metadata": {},
   "outputs": [],
   "source": [
    "y_test_original=y_test"
   ]
  },
  {
   "cell_type": "code",
   "execution_count": 39,
   "metadata": {},
   "outputs": [
    {
     "data": {
      "text/plain": [
       "285    1\n",
       "549    2\n",
       "350    1\n",
       "91     1\n",
       "725    3\n",
       "      ..\n",
       "180    1\n",
       "185    1\n",
       "664    2\n",
       "755    1\n",
       "639    2\n",
       "Name: Accent_num, Length: 238, dtype: int64"
      ]
     },
     "execution_count": 39,
     "metadata": {},
     "output_type": "execute_result"
    }
   ],
   "source": [
    "y_test_original"
   ]
  },
  {
   "cell_type": "code",
   "execution_count": 40,
   "metadata": {},
   "outputs": [
    {
     "data": {
      "text/plain": [
       "1    130\n",
       "2     67\n",
       "3     41\n",
       "Name: Accent_num, dtype: int64"
      ]
     },
     "execution_count": 40,
     "metadata": {},
     "output_type": "execute_result"
    }
   ],
   "source": [
    "y_test_original.value_counts()"
   ]
  },
  {
   "cell_type": "code",
   "execution_count": 41,
   "metadata": {},
   "outputs": [
    {
     "data": {
      "text/plain": [
       "0      3\n",
       "1      3\n",
       "2      2\n",
       "3      1\n",
       "4      3\n",
       "      ..\n",
       "904    3\n",
       "905    3\n",
       "906    3\n",
       "907    3\n",
       "908    3\n",
       "Name: Accent_num, Length: 909, dtype: int64"
      ]
     },
     "execution_count": 41,
     "metadata": {},
     "output_type": "execute_result"
    }
   ],
   "source": [
    "ysm_train"
   ]
  },
  {
   "cell_type": "code",
   "execution_count": 42,
   "metadata": {},
   "outputs": [],
   "source": [
    "y_train=np_utils.to_categorical(ysm_train,4)\n",
    "y_test=np_utils.to_categorical(y_test,4)"
   ]
  },
  {
   "cell_type": "code",
   "execution_count": 43,
   "metadata": {},
   "outputs": [
    {
     "data": {
      "text/plain": [
       "(909, 4)"
      ]
     },
     "execution_count": 43,
     "metadata": {},
     "output_type": "execute_result"
    }
   ],
   "source": [
    "y_train.shape"
   ]
  },
  {
   "cell_type": "code",
   "execution_count": 44,
   "metadata": {},
   "outputs": [
    {
     "data": {
      "text/plain": [
       "(238, 4)"
      ]
     },
     "execution_count": 44,
     "metadata": {},
     "output_type": "execute_result"
    }
   ],
   "source": [
    "y_test.shape"
   ]
  },
  {
   "cell_type": "code",
   "execution_count": 45,
   "metadata": {},
   "outputs": [
    {
     "data": {
      "text/plain": [
       "((909, 4), (238, 4))"
      ]
     },
     "execution_count": 45,
     "metadata": {},
     "output_type": "execute_result"
    }
   ],
   "source": [
    "y_train.shape , y_test.shape"
   ]
  },
  {
   "cell_type": "code",
   "execution_count": 46,
   "metadata": {},
   "outputs": [
    {
     "data": {
      "text/plain": [
       "array([[0., 0., 0., 1.],\n",
       "       [0., 0., 0., 1.],\n",
       "       [0., 0., 1., 0.],\n",
       "       ...,\n",
       "       [0., 0., 0., 1.],\n",
       "       [0., 0., 0., 1.],\n",
       "       [0., 0., 0., 1.]], dtype=float32)"
      ]
     },
     "execution_count": 46,
     "metadata": {},
     "output_type": "execute_result"
    }
   ],
   "source": [
    "y_train"
   ]
  },
  {
   "cell_type": "code",
   "execution_count": 47,
   "metadata": {},
   "outputs": [
    {
     "data": {
      "text/plain": [
       "array([[0., 1., 0., 0.],\n",
       "       [0., 0., 1., 0.],\n",
       "       [0., 1., 0., 0.],\n",
       "       [0., 1., 0., 0.],\n",
       "       [0., 0., 0., 1.],\n",
       "       [0., 1., 0., 0.],\n",
       "       [0., 1., 0., 0.],\n",
       "       [0., 1., 0., 0.],\n",
       "       [0., 0., 1., 0.],\n",
       "       [0., 0., 1., 0.],\n",
       "       [0., 1., 0., 0.],\n",
       "       [0., 1., 0., 0.],\n",
       "       [0., 0., 0., 1.],\n",
       "       [0., 1., 0., 0.],\n",
       "       [0., 0., 1., 0.],\n",
       "       [0., 0., 0., 1.],\n",
       "       [0., 0., 1., 0.],\n",
       "       [0., 1., 0., 0.],\n",
       "       [0., 1., 0., 0.],\n",
       "       [0., 0., 0., 1.],\n",
       "       [0., 1., 0., 0.],\n",
       "       [0., 1., 0., 0.],\n",
       "       [0., 0., 1., 0.],\n",
       "       [0., 1., 0., 0.],\n",
       "       [0., 0., 0., 1.],\n",
       "       [0., 1., 0., 0.],\n",
       "       [0., 1., 0., 0.],\n",
       "       [0., 1., 0., 0.],\n",
       "       [0., 1., 0., 0.],\n",
       "       [0., 1., 0., 0.],\n",
       "       [0., 1., 0., 0.],\n",
       "       [0., 0., 1., 0.],\n",
       "       [0., 1., 0., 0.],\n",
       "       [0., 0., 1., 0.],\n",
       "       [0., 1., 0., 0.],\n",
       "       [0., 1., 0., 0.],\n",
       "       [0., 1., 0., 0.],\n",
       "       [0., 0., 0., 1.],\n",
       "       [0., 1., 0., 0.],\n",
       "       [0., 1., 0., 0.],\n",
       "       [0., 0., 1., 0.],\n",
       "       [0., 1., 0., 0.],\n",
       "       [0., 1., 0., 0.],\n",
       "       [0., 1., 0., 0.],\n",
       "       [0., 1., 0., 0.],\n",
       "       [0., 0., 1., 0.],\n",
       "       [0., 1., 0., 0.],\n",
       "       [0., 1., 0., 0.],\n",
       "       [0., 0., 0., 1.],\n",
       "       [0., 1., 0., 0.],\n",
       "       [0., 1., 0., 0.],\n",
       "       [0., 0., 0., 1.],\n",
       "       [0., 0., 1., 0.],\n",
       "       [0., 0., 0., 1.],\n",
       "       [0., 1., 0., 0.],\n",
       "       [0., 1., 0., 0.],\n",
       "       [0., 0., 1., 0.],\n",
       "       [0., 1., 0., 0.],\n",
       "       [0., 1., 0., 0.],\n",
       "       [0., 0., 1., 0.],\n",
       "       [0., 0., 1., 0.],\n",
       "       [0., 0., 1., 0.],\n",
       "       [0., 1., 0., 0.],\n",
       "       [0., 1., 0., 0.],\n",
       "       [0., 0., 0., 1.],\n",
       "       [0., 1., 0., 0.],\n",
       "       [0., 1., 0., 0.],\n",
       "       [0., 0., 1., 0.],\n",
       "       [0., 1., 0., 0.],\n",
       "       [0., 1., 0., 0.],\n",
       "       [0., 0., 0., 1.],\n",
       "       [0., 1., 0., 0.],\n",
       "       [0., 0., 1., 0.],\n",
       "       [0., 0., 1., 0.],\n",
       "       [0., 1., 0., 0.],\n",
       "       [0., 1., 0., 0.],\n",
       "       [0., 0., 1., 0.],\n",
       "       [0., 0., 0., 1.],\n",
       "       [0., 0., 1., 0.],\n",
       "       [0., 1., 0., 0.],\n",
       "       [0., 0., 1., 0.],\n",
       "       [0., 1., 0., 0.],\n",
       "       [0., 1., 0., 0.],\n",
       "       [0., 0., 1., 0.],\n",
       "       [0., 0., 1., 0.],\n",
       "       [0., 0., 0., 1.],\n",
       "       [0., 1., 0., 0.],\n",
       "       [0., 1., 0., 0.],\n",
       "       [0., 0., 1., 0.],\n",
       "       [0., 0., 1., 0.],\n",
       "       [0., 1., 0., 0.],\n",
       "       [0., 0., 1., 0.],\n",
       "       [0., 1., 0., 0.],\n",
       "       [0., 1., 0., 0.],\n",
       "       [0., 1., 0., 0.],\n",
       "       [0., 1., 0., 0.],\n",
       "       [0., 1., 0., 0.],\n",
       "       [0., 0., 1., 0.],\n",
       "       [0., 0., 0., 1.],\n",
       "       [0., 1., 0., 0.],\n",
       "       [0., 0., 1., 0.],\n",
       "       [0., 0., 0., 1.],\n",
       "       [0., 0., 0., 1.],\n",
       "       [0., 0., 1., 0.],\n",
       "       [0., 0., 0., 1.],\n",
       "       [0., 1., 0., 0.],\n",
       "       [0., 0., 1., 0.],\n",
       "       [0., 0., 0., 1.],\n",
       "       [0., 1., 0., 0.],\n",
       "       [0., 0., 1., 0.],\n",
       "       [0., 1., 0., 0.],\n",
       "       [0., 0., 0., 1.],\n",
       "       [0., 1., 0., 0.],\n",
       "       [0., 1., 0., 0.],\n",
       "       [0., 1., 0., 0.],\n",
       "       [0., 1., 0., 0.],\n",
       "       [0., 1., 0., 0.],\n",
       "       [0., 0., 0., 1.],\n",
       "       [0., 1., 0., 0.],\n",
       "       [0., 0., 1., 0.],\n",
       "       [0., 0., 1., 0.],\n",
       "       [0., 0., 1., 0.],\n",
       "       [0., 0., 1., 0.],\n",
       "       [0., 0., 0., 1.],\n",
       "       [0., 0., 1., 0.],\n",
       "       [0., 1., 0., 0.],\n",
       "       [0., 0., 1., 0.],\n",
       "       [0., 0., 0., 1.],\n",
       "       [0., 1., 0., 0.],\n",
       "       [0., 1., 0., 0.],\n",
       "       [0., 1., 0., 0.],\n",
       "       [0., 1., 0., 0.],\n",
       "       [0., 0., 1., 0.],\n",
       "       [0., 0., 1., 0.],\n",
       "       [0., 1., 0., 0.],\n",
       "       [0., 0., 0., 1.],\n",
       "       [0., 0., 1., 0.],\n",
       "       [0., 1., 0., 0.],\n",
       "       [0., 0., 1., 0.],\n",
       "       [0., 0., 0., 1.],\n",
       "       [0., 0., 1., 0.],\n",
       "       [0., 1., 0., 0.],\n",
       "       [0., 1., 0., 0.],\n",
       "       [0., 1., 0., 0.],\n",
       "       [0., 0., 1., 0.],\n",
       "       [0., 1., 0., 0.],\n",
       "       [0., 0., 0., 1.],\n",
       "       [0., 0., 1., 0.],\n",
       "       [0., 1., 0., 0.],\n",
       "       [0., 1., 0., 0.],\n",
       "       [0., 1., 0., 0.],\n",
       "       [0., 1., 0., 0.],\n",
       "       [0., 0., 1., 0.],\n",
       "       [0., 1., 0., 0.],\n",
       "       [0., 0., 1., 0.],\n",
       "       [0., 0., 1., 0.],\n",
       "       [0., 0., 1., 0.],\n",
       "       [0., 1., 0., 0.],\n",
       "       [0., 1., 0., 0.],\n",
       "       [0., 1., 0., 0.],\n",
       "       [0., 0., 1., 0.],\n",
       "       [0., 0., 0., 1.],\n",
       "       [0., 0., 0., 1.],\n",
       "       [0., 0., 0., 1.],\n",
       "       [0., 1., 0., 0.],\n",
       "       [0., 0., 1., 0.],\n",
       "       [0., 0., 1., 0.],\n",
       "       [0., 1., 0., 0.],\n",
       "       [0., 0., 1., 0.],\n",
       "       [0., 1., 0., 0.],\n",
       "       [0., 0., 0., 1.],\n",
       "       [0., 0., 0., 1.],\n",
       "       [0., 1., 0., 0.],\n",
       "       [0., 1., 0., 0.],\n",
       "       [0., 1., 0., 0.],\n",
       "       [0., 1., 0., 0.],\n",
       "       [0., 0., 0., 1.],\n",
       "       [0., 1., 0., 0.],\n",
       "       [0., 0., 0., 1.],\n",
       "       [0., 1., 0., 0.],\n",
       "       [0., 1., 0., 0.],\n",
       "       [0., 0., 0., 1.],\n",
       "       [0., 1., 0., 0.],\n",
       "       [0., 1., 0., 0.],\n",
       "       [0., 1., 0., 0.],\n",
       "       [0., 1., 0., 0.],\n",
       "       [0., 1., 0., 0.],\n",
       "       [0., 0., 0., 1.],\n",
       "       [0., 1., 0., 0.],\n",
       "       [0., 0., 1., 0.],\n",
       "       [0., 0., 1., 0.],\n",
       "       [0., 1., 0., 0.],\n",
       "       [0., 0., 1., 0.],\n",
       "       [0., 1., 0., 0.],\n",
       "       [0., 0., 0., 1.],\n",
       "       [0., 1., 0., 0.],\n",
       "       [0., 1., 0., 0.],\n",
       "       [0., 1., 0., 0.],\n",
       "       [0., 0., 1., 0.],\n",
       "       [0., 1., 0., 0.],\n",
       "       [0., 1., 0., 0.],\n",
       "       [0., 1., 0., 0.],\n",
       "       [0., 0., 0., 1.],\n",
       "       [0., 0., 0., 1.],\n",
       "       [0., 1., 0., 0.],\n",
       "       [0., 0., 1., 0.],\n",
       "       [0., 0., 1., 0.],\n",
       "       [0., 0., 0., 1.],\n",
       "       [0., 1., 0., 0.],\n",
       "       [0., 0., 1., 0.],\n",
       "       [0., 1., 0., 0.],\n",
       "       [0., 0., 0., 1.],\n",
       "       [0., 0., 1., 0.],\n",
       "       [0., 0., 0., 1.],\n",
       "       [0., 1., 0., 0.],\n",
       "       [0., 1., 0., 0.],\n",
       "       [0., 1., 0., 0.],\n",
       "       [0., 0., 1., 0.],\n",
       "       [0., 0., 1., 0.],\n",
       "       [0., 1., 0., 0.],\n",
       "       [0., 1., 0., 0.],\n",
       "       [0., 1., 0., 0.],\n",
       "       [0., 1., 0., 0.],\n",
       "       [0., 1., 0., 0.],\n",
       "       [0., 0., 1., 0.],\n",
       "       [0., 1., 0., 0.],\n",
       "       [0., 0., 1., 0.],\n",
       "       [0., 0., 0., 1.],\n",
       "       [0., 1., 0., 0.],\n",
       "       [0., 1., 0., 0.],\n",
       "       [0., 0., 1., 0.],\n",
       "       [0., 1., 0., 0.],\n",
       "       [0., 1., 0., 0.],\n",
       "       [0., 1., 0., 0.],\n",
       "       [0., 1., 0., 0.],\n",
       "       [0., 0., 1., 0.],\n",
       "       [0., 1., 0., 0.],\n",
       "       [0., 0., 1., 0.]], dtype=float32)"
      ]
     },
     "execution_count": 47,
     "metadata": {},
     "output_type": "execute_result"
    }
   ],
   "source": [
    "y_test"
   ]
  },
  {
   "cell_type": "code",
   "execution_count": 48,
   "metadata": {},
   "outputs": [
    {
     "data": {
      "text/plain": [
       "numpy.ndarray"
      ]
     },
     "execution_count": 48,
     "metadata": {},
     "output_type": "execute_result"
    }
   ],
   "source": [
    "type(X_train)"
   ]
  },
  {
   "cell_type": "code",
   "execution_count": 49,
   "metadata": {},
   "outputs": [
    {
     "data": {
      "text/plain": [
       "numpy.ndarray"
      ]
     },
     "execution_count": 49,
     "metadata": {},
     "output_type": "execute_result"
    }
   ],
   "source": [
    "type(y_train)"
   ]
  },
  {
   "cell_type": "code",
   "execution_count": 50,
   "metadata": {},
   "outputs": [
    {
     "data": {
      "text/plain": [
       "numpy.ndarray"
      ]
     },
     "execution_count": 50,
     "metadata": {},
     "output_type": "execute_result"
    }
   ],
   "source": [
    "type(y_test)"
   ]
  },
  {
   "cell_type": "markdown",
   "metadata": {},
   "source": [
    "# CNN model for classification"
   ]
  },
  {
   "cell_type": "code",
   "execution_count": 51,
   "metadata": {},
   "outputs": [],
   "source": [
    "cnn=Sequential()"
   ]
  },
  {
   "cell_type": "code",
   "execution_count": 52,
   "metadata": {},
   "outputs": [],
   "source": [
    "cnn.add(Conv2D(filters = 4,\n",
    "               kernel_size=(3,3),\n",
    "               activation='relu',\n",
    "               input_shape=(28,28,1)))"
   ]
  },
  {
   "cell_type": "code",
   "execution_count": 53,
   "metadata": {},
   "outputs": [],
   "source": [
    "cnn.add(MaxPooling2D(pool_size=(2,2)))"
   ]
  },
  {
   "cell_type": "code",
   "execution_count": 54,
   "metadata": {},
   "outputs": [],
   "source": [
    "cnn.add(Flatten())\n",
    "\n",
    "# Add a densely-connected layer with 128 neurons.\n",
    "cnn.add(Dense(128,activation ='relu'))\n",
    "cnn.add(Dense(64,activation ='relu'))\n",
    "\n",
    "\n",
    "# Add output layer with 10 neurons.\n",
    "cnn.add(Dense(4,activation='softmax'))\n",
    "\n",
    "# compiler\n",
    "cnn.compile(loss='categorical_crossentropy',\n",
    "           optimizer = 'adam',\n",
    "            metrics = ['accuracy']\n",
    "           )"
   ]
  },
  {
   "cell_type": "code",
   "execution_count": 55,
   "metadata": {},
   "outputs": [
    {
     "name": "stdout",
     "output_type": "stream",
     "text": [
      "Epoch 1/100\n",
      "19/19 [==============================] - 0s 26ms/step - loss: 1.2213 - accuracy: 0.3256 - val_loss: 1.0766 - val_accuracy: 0.5378\n",
      "Epoch 2/100\n",
      "19/19 [==============================] - 0s 12ms/step - loss: 1.0951 - accuracy: 0.3773 - val_loss: 1.0641 - val_accuracy: 0.3151\n",
      "Epoch 3/100\n",
      "19/19 [==============================] - 0s 12ms/step - loss: 1.1039 - accuracy: 0.3465 - val_loss: 1.1180 - val_accuracy: 0.2899\n",
      "Epoch 4/100\n",
      "19/19 [==============================] - 0s 10ms/step - loss: 1.0720 - accuracy: 0.4730 - val_loss: 1.0392 - val_accuracy: 0.5588\n",
      "Epoch 5/100\n",
      "19/19 [==============================] - 0s 10ms/step - loss: 1.0642 - accuracy: 0.4202 - val_loss: 1.0607 - val_accuracy: 0.4244\n",
      "Epoch 6/100\n",
      "19/19 [==============================] - 0s 10ms/step - loss: 1.0469 - accuracy: 0.4983 - val_loss: 1.0231 - val_accuracy: 0.5420\n",
      "Epoch 7/100\n",
      "19/19 [==============================] - 0s 9ms/step - loss: 1.0227 - accuracy: 0.5050 - val_loss: 1.0440 - val_accuracy: 0.3824\n",
      "Epoch 8/100\n",
      "19/19 [==============================] - 0s 10ms/step - loss: 1.0029 - accuracy: 0.5072 - val_loss: 0.9562 - val_accuracy: 0.5420\n",
      "Epoch 9/100\n",
      "19/19 [==============================] - 0s 10ms/step - loss: 1.0018 - accuracy: 0.5039 - val_loss: 1.0261 - val_accuracy: 0.3950\n",
      "Epoch 10/100\n",
      "19/19 [==============================] - 0s 9ms/step - loss: 0.9742 - accuracy: 0.5325 - val_loss: 1.0297 - val_accuracy: 0.4496\n",
      "Epoch 11/100\n",
      "19/19 [==============================] - 0s 9ms/step - loss: 0.9645 - accuracy: 0.5380 - val_loss: 1.0821 - val_accuracy: 0.4790\n",
      "Epoch 12/100\n",
      "19/19 [==============================] - 0s 10ms/step - loss: 0.9399 - accuracy: 0.5974 - val_loss: 0.9688 - val_accuracy: 0.5336\n",
      "Epoch 13/100\n",
      "19/19 [==============================] - 0s 10ms/step - loss: 0.9348 - accuracy: 0.5952 - val_loss: 0.9696 - val_accuracy: 0.5084\n",
      "Epoch 14/100\n",
      "19/19 [==============================] - 0s 10ms/step - loss: 0.9294 - accuracy: 0.5864 - val_loss: 1.0201 - val_accuracy: 0.5210\n",
      "Epoch 15/100\n",
      "19/19 [==============================] - 0s 10ms/step - loss: 0.9202 - accuracy: 0.5908 - val_loss: 1.0596 - val_accuracy: 0.5042\n",
      "Epoch 16/100\n",
      "19/19 [==============================] - 0s 10ms/step - loss: 0.9192 - accuracy: 0.6018 - val_loss: 0.9980 - val_accuracy: 0.5672\n",
      "Epoch 17/100\n",
      "19/19 [==============================] - 0s 10ms/step - loss: 0.8857 - accuracy: 0.6326 - val_loss: 0.9609 - val_accuracy: 0.5462\n",
      "Epoch 18/100\n",
      "19/19 [==============================] - 0s 10ms/step - loss: 0.8712 - accuracy: 0.6557 - val_loss: 0.9967 - val_accuracy: 0.5294\n",
      "Epoch 19/100\n",
      "19/19 [==============================] - 0s 10ms/step - loss: 0.8751 - accuracy: 0.6128 - val_loss: 0.9685 - val_accuracy: 0.5504\n",
      "Epoch 20/100\n",
      "19/19 [==============================] - 0s 10ms/step - loss: 0.8671 - accuracy: 0.6260 - val_loss: 1.0521 - val_accuracy: 0.5126\n",
      "Epoch 21/100\n",
      "19/19 [==============================] - 0s 10ms/step - loss: 0.8681 - accuracy: 0.6282 - val_loss: 0.9925 - val_accuracy: 0.5294\n",
      "Epoch 22/100\n",
      "19/19 [==============================] - 0s 10ms/step - loss: 0.8317 - accuracy: 0.6744 - val_loss: 0.9534 - val_accuracy: 0.5840\n",
      "Epoch 23/100\n",
      "19/19 [==============================] - 0s 10ms/step - loss: 0.8181 - accuracy: 0.6876 - val_loss: 1.0230 - val_accuracy: 0.5126\n",
      "Epoch 24/100\n",
      "19/19 [==============================] - 0s 10ms/step - loss: 0.8137 - accuracy: 0.6733 - val_loss: 0.9196 - val_accuracy: 0.5882\n",
      "Epoch 25/100\n",
      "19/19 [==============================] - 0s 10ms/step - loss: 0.8160 - accuracy: 0.6447 - val_loss: 0.9666 - val_accuracy: 0.5546\n",
      "Epoch 26/100\n",
      "19/19 [==============================] - 0s 11ms/step - loss: 0.7908 - accuracy: 0.6799 - val_loss: 1.0139 - val_accuracy: 0.5420\n",
      "Epoch 27/100\n",
      "19/19 [==============================] - 0s 12ms/step - loss: 0.7684 - accuracy: 0.6953 - val_loss: 1.0709 - val_accuracy: 0.4958\n",
      "Epoch 28/100\n",
      "19/19 [==============================] - 0s 12ms/step - loss: 0.7661 - accuracy: 0.6854 - val_loss: 1.0612 - val_accuracy: 0.4916\n",
      "Epoch 29/100\n",
      "19/19 [==============================] - 0s 11ms/step - loss: 0.7466 - accuracy: 0.7129 - val_loss: 0.9737 - val_accuracy: 0.5588\n",
      "Epoch 30/100\n",
      "19/19 [==============================] - 0s 10ms/step - loss: 0.7313 - accuracy: 0.7019 - val_loss: 1.0087 - val_accuracy: 0.5336\n",
      "Epoch 31/100\n",
      "19/19 [==============================] - 0s 10ms/step - loss: 0.7326 - accuracy: 0.7173 - val_loss: 1.0669 - val_accuracy: 0.5042\n",
      "Epoch 32/100\n",
      "19/19 [==============================] - 0s 10ms/step - loss: 0.7171 - accuracy: 0.7008 - val_loss: 0.9999 - val_accuracy: 0.5336\n",
      "Epoch 33/100\n",
      "19/19 [==============================] - 0s 9ms/step - loss: 0.6937 - accuracy: 0.7393 - val_loss: 1.0228 - val_accuracy: 0.5336\n",
      "Epoch 34/100\n",
      "19/19 [==============================] - 0s 10ms/step - loss: 0.6717 - accuracy: 0.7558 - val_loss: 1.0756 - val_accuracy: 0.4958\n",
      "Epoch 35/100\n",
      "19/19 [==============================] - 0s 10ms/step - loss: 0.6585 - accuracy: 0.7459 - val_loss: 1.0720 - val_accuracy: 0.5168\n",
      "Epoch 36/100\n",
      "19/19 [==============================] - 0s 10ms/step - loss: 0.6470 - accuracy: 0.7547 - val_loss: 0.9974 - val_accuracy: 0.5672\n",
      "Epoch 37/100\n",
      "19/19 [==============================] - 0s 10ms/step - loss: 0.6181 - accuracy: 0.7833 - val_loss: 1.0154 - val_accuracy: 0.5546\n",
      "Epoch 38/100\n",
      "19/19 [==============================] - 0s 12ms/step - loss: 0.6177 - accuracy: 0.7635 - val_loss: 1.0230 - val_accuracy: 0.5420\n",
      "Epoch 39/100\n",
      "19/19 [==============================] - 0s 10ms/step - loss: 0.5901 - accuracy: 0.7910 - val_loss: 1.0162 - val_accuracy: 0.5546\n",
      "Epoch 40/100\n",
      "19/19 [==============================] - 0s 11ms/step - loss: 0.5751 - accuracy: 0.7954 - val_loss: 1.1164 - val_accuracy: 0.5084\n",
      "Epoch 41/100\n",
      "19/19 [==============================] - 0s 11ms/step - loss: 0.5750 - accuracy: 0.7877 - val_loss: 1.0983 - val_accuracy: 0.5798\n",
      "Epoch 42/100\n",
      "19/19 [==============================] - 0s 11ms/step - loss: 0.5972 - accuracy: 0.7712 - val_loss: 1.0231 - val_accuracy: 0.5462\n",
      "Epoch 43/100\n",
      "19/19 [==============================] - 0s 10ms/step - loss: 0.5340 - accuracy: 0.8229 - val_loss: 1.0358 - val_accuracy: 0.5840\n",
      "Epoch 44/100\n",
      "19/19 [==============================] - 0s 11ms/step - loss: 0.5324 - accuracy: 0.8075 - val_loss: 1.0387 - val_accuracy: 0.5798\n",
      "Epoch 45/100\n",
      "19/19 [==============================] - 0s 10ms/step - loss: 0.5084 - accuracy: 0.8328 - val_loss: 1.0326 - val_accuracy: 0.5756\n",
      "Epoch 46/100\n",
      "19/19 [==============================] - 0s 12ms/step - loss: 0.4982 - accuracy: 0.8262 - val_loss: 1.1472 - val_accuracy: 0.5000\n",
      "Epoch 47/100\n",
      "19/19 [==============================] - 0s 11ms/step - loss: 0.4935 - accuracy: 0.8350 - val_loss: 1.0548 - val_accuracy: 0.6050\n",
      "Epoch 48/100\n",
      "19/19 [==============================] - 0s 12ms/step - loss: 0.4860 - accuracy: 0.8185 - val_loss: 1.1306 - val_accuracy: 0.5294\n",
      "Epoch 49/100\n",
      "19/19 [==============================] - 0s 12ms/step - loss: 0.4553 - accuracy: 0.8427 - val_loss: 1.0660 - val_accuracy: 0.5840\n",
      "Epoch 50/100\n",
      "19/19 [==============================] - 0s 12ms/step - loss: 0.4396 - accuracy: 0.8460 - val_loss: 1.0997 - val_accuracy: 0.5672\n",
      "Epoch 51/100\n",
      "19/19 [==============================] - 0s 12ms/step - loss: 0.4465 - accuracy: 0.8394 - val_loss: 1.0819 - val_accuracy: 0.5714\n",
      "Epoch 52/100\n",
      "19/19 [==============================] - 0s 12ms/step - loss: 0.4366 - accuracy: 0.8438 - val_loss: 1.1521 - val_accuracy: 0.5294\n",
      "Epoch 53/100\n",
      "19/19 [==============================] - 0s 12ms/step - loss: 0.4229 - accuracy: 0.8691 - val_loss: 1.1569 - val_accuracy: 0.5504\n",
      "Epoch 54/100\n",
      "19/19 [==============================] - 0s 11ms/step - loss: 0.4053 - accuracy: 0.8559 - val_loss: 1.1646 - val_accuracy: 0.5504\n",
      "Epoch 55/100\n",
      "19/19 [==============================] - 0s 11ms/step - loss: 0.3890 - accuracy: 0.8856 - val_loss: 1.1237 - val_accuracy: 0.6092\n",
      "Epoch 56/100\n",
      "19/19 [==============================] - 0s 11ms/step - loss: 0.3680 - accuracy: 0.8823 - val_loss: 1.1989 - val_accuracy: 0.5588\n",
      "Epoch 57/100\n",
      "19/19 [==============================] - 0s 11ms/step - loss: 0.3530 - accuracy: 0.8900 - val_loss: 1.1566 - val_accuracy: 0.6050\n",
      "Epoch 58/100\n"
     ]
    },
    {
     "name": "stdout",
     "output_type": "stream",
     "text": [
      "19/19 [==============================] - 0s 11ms/step - loss: 0.3409 - accuracy: 0.8878 - val_loss: 1.3745 - val_accuracy: 0.5084\n",
      "Epoch 59/100\n",
      "19/19 [==============================] - 0s 11ms/step - loss: 0.3483 - accuracy: 0.8878 - val_loss: 1.2021 - val_accuracy: 0.6050\n",
      "Epoch 60/100\n",
      "19/19 [==============================] - 0s 10ms/step - loss: 0.3272 - accuracy: 0.9021 - val_loss: 1.2764 - val_accuracy: 0.5462\n",
      "Epoch 61/100\n",
      "19/19 [==============================] - 0s 9ms/step - loss: 0.3256 - accuracy: 0.8999 - val_loss: 1.2087 - val_accuracy: 0.6218\n",
      "Epoch 62/100\n",
      "19/19 [==============================] - 0s 10ms/step - loss: 0.2997 - accuracy: 0.9142 - val_loss: 1.2417 - val_accuracy: 0.5798\n",
      "Epoch 63/100\n",
      "19/19 [==============================] - 0s 10ms/step - loss: 0.2848 - accuracy: 0.9197 - val_loss: 1.2426 - val_accuracy: 0.6050\n",
      "Epoch 64/100\n",
      "19/19 [==============================] - 0s 11ms/step - loss: 0.2712 - accuracy: 0.9164 - val_loss: 1.3087 - val_accuracy: 0.5798\n",
      "Epoch 65/100\n",
      "19/19 [==============================] - 0s 11ms/step - loss: 0.2735 - accuracy: 0.9153 - val_loss: 1.3452 - val_accuracy: 0.5672\n",
      "Epoch 66/100\n",
      "19/19 [==============================] - 0s 11ms/step - loss: 0.2812 - accuracy: 0.9153 - val_loss: 1.3724 - val_accuracy: 0.5798\n",
      "Epoch 67/100\n",
      "19/19 [==============================] - 0s 10ms/step - loss: 0.2502 - accuracy: 0.9274 - val_loss: 1.3081 - val_accuracy: 0.6134\n",
      "Epoch 68/100\n",
      "19/19 [==============================] - 0s 9ms/step - loss: 0.2410 - accuracy: 0.9307 - val_loss: 1.4264 - val_accuracy: 0.5546\n",
      "Epoch 69/100\n",
      "19/19 [==============================] - 0s 10ms/step - loss: 0.2431 - accuracy: 0.9384 - val_loss: 1.3673 - val_accuracy: 0.5798\n",
      "Epoch 70/100\n",
      "19/19 [==============================] - 0s 13ms/step - loss: 0.2568 - accuracy: 0.9142 - val_loss: 1.3851 - val_accuracy: 0.6176\n",
      "Epoch 71/100\n",
      "19/19 [==============================] - 0s 13ms/step - loss: 0.2226 - accuracy: 0.9450 - val_loss: 1.4574 - val_accuracy: 0.5714\n",
      "Epoch 72/100\n",
      "19/19 [==============================] - 0s 13ms/step - loss: 0.2178 - accuracy: 0.9395 - val_loss: 1.4203 - val_accuracy: 0.5630\n",
      "Epoch 73/100\n",
      "19/19 [==============================] - 0s 12ms/step - loss: 0.1996 - accuracy: 0.9527 - val_loss: 1.4199 - val_accuracy: 0.6303\n",
      "Epoch 74/100\n",
      "19/19 [==============================] - 0s 10ms/step - loss: 0.1902 - accuracy: 0.9582 - val_loss: 1.4369 - val_accuracy: 0.6176\n",
      "Epoch 75/100\n",
      "19/19 [==============================] - 0s 11ms/step - loss: 0.1896 - accuracy: 0.9571 - val_loss: 1.4728 - val_accuracy: 0.5840\n",
      "Epoch 76/100\n",
      "19/19 [==============================] - 0s 9ms/step - loss: 0.1803 - accuracy: 0.9593 - val_loss: 1.4697 - val_accuracy: 0.6008\n",
      "Epoch 77/100\n",
      "19/19 [==============================] - 0s 9ms/step - loss: 0.1627 - accuracy: 0.9670 - val_loss: 1.4879 - val_accuracy: 0.5924\n",
      "Epoch 78/100\n",
      "19/19 [==============================] - 0s 10ms/step - loss: 0.1640 - accuracy: 0.9659 - val_loss: 1.5671 - val_accuracy: 0.5630\n",
      "Epoch 79/100\n",
      "19/19 [==============================] - 0s 10ms/step - loss: 0.1611 - accuracy: 0.9659 - val_loss: 1.5587 - val_accuracy: 0.6261\n",
      "Epoch 80/100\n",
      "19/19 [==============================] - 0s 9ms/step - loss: 0.1594 - accuracy: 0.9648 - val_loss: 1.5587 - val_accuracy: 0.5966\n",
      "Epoch 81/100\n",
      "19/19 [==============================] - 0s 9ms/step - loss: 0.1581 - accuracy: 0.9626 - val_loss: 1.5822 - val_accuracy: 0.5756\n",
      "Epoch 82/100\n",
      "19/19 [==============================] - 0s 10ms/step - loss: 0.1626 - accuracy: 0.9571 - val_loss: 1.6090 - val_accuracy: 0.6261\n",
      "Epoch 83/100\n",
      "19/19 [==============================] - 0s 9ms/step - loss: 0.1400 - accuracy: 0.9714 - val_loss: 1.6135 - val_accuracy: 0.5714\n",
      "Epoch 84/100\n",
      "19/19 [==============================] - 0s 9ms/step - loss: 0.1379 - accuracy: 0.9681 - val_loss: 1.6571 - val_accuracy: 0.6134\n",
      "Epoch 85/100\n",
      "19/19 [==============================] - 0s 9ms/step - loss: 0.1205 - accuracy: 0.9747 - val_loss: 1.6406 - val_accuracy: 0.5924\n",
      "Epoch 86/100\n",
      "19/19 [==============================] - 0s 9ms/step - loss: 0.1135 - accuracy: 0.9747 - val_loss: 1.6380 - val_accuracy: 0.6050\n",
      "Epoch 87/100\n",
      "19/19 [==============================] - 0s 13ms/step - loss: 0.1186 - accuracy: 0.9725 - val_loss: 1.7263 - val_accuracy: 0.6218\n",
      "Epoch 88/100\n",
      "19/19 [==============================] - 0s 11ms/step - loss: 0.1166 - accuracy: 0.9725 - val_loss: 1.7591 - val_accuracy: 0.5630\n",
      "Epoch 89/100\n",
      "19/19 [==============================] - 0s 12ms/step - loss: 0.1091 - accuracy: 0.9769 - val_loss: 1.7017 - val_accuracy: 0.5966\n",
      "Epoch 90/100\n",
      "19/19 [==============================] - 0s 12ms/step - loss: 0.0997 - accuracy: 0.9813 - val_loss: 1.7296 - val_accuracy: 0.6050\n",
      "Epoch 91/100\n",
      "19/19 [==============================] - 0s 12ms/step - loss: 0.0993 - accuracy: 0.9791 - val_loss: 1.7441 - val_accuracy: 0.6134\n",
      "Epoch 92/100\n",
      "19/19 [==============================] - 0s 10ms/step - loss: 0.1179 - accuracy: 0.9670 - val_loss: 1.8095 - val_accuracy: 0.5924\n",
      "Epoch 93/100\n",
      "19/19 [==============================] - 0s 10ms/step - loss: 0.0951 - accuracy: 0.9780 - val_loss: 1.8227 - val_accuracy: 0.6050\n",
      "Epoch 94/100\n",
      "19/19 [==============================] - 0s 10ms/step - loss: 0.0941 - accuracy: 0.9780 - val_loss: 1.8004 - val_accuracy: 0.5840\n",
      "Epoch 95/100\n",
      "19/19 [==============================] - 0s 10ms/step - loss: 0.0755 - accuracy: 0.9868 - val_loss: 1.8176 - val_accuracy: 0.5840\n",
      "Epoch 96/100\n",
      "19/19 [==============================] - 0s 10ms/step - loss: 0.0740 - accuracy: 0.9868 - val_loss: 1.8312 - val_accuracy: 0.5966\n",
      "Epoch 97/100\n",
      "19/19 [==============================] - 0s 9ms/step - loss: 0.0692 - accuracy: 0.9868 - val_loss: 1.8612 - val_accuracy: 0.5966\n",
      "Epoch 98/100\n",
      "19/19 [==============================] - 0s 9ms/step - loss: 0.0656 - accuracy: 0.9890 - val_loss: 1.8734 - val_accuracy: 0.5840\n",
      "Epoch 99/100\n",
      "19/19 [==============================] - 0s 10ms/step - loss: 0.0708 - accuracy: 0.9846 - val_loss: 1.9065 - val_accuracy: 0.6176\n",
      "Epoch 100/100\n",
      "19/19 [==============================] - 0s 9ms/step - loss: 0.0631 - accuracy: 0.9923 - val_loss: 1.9280 - val_accuracy: 0.5630\n"
     ]
    }
   ],
   "source": [
    "history = cnn.fit(X_train,\n",
    "              y_train,\n",
    "              batch_size=50,\n",
    "              epochs=100,\n",
    "              validation_data = (X_test, y_test),\n",
    "              verbose=1)"
   ]
  },
  {
   "cell_type": "markdown",
   "metadata": {},
   "source": [
    "# Train and Test Loss with CNN"
   ]
  },
  {
   "cell_type": "code",
   "execution_count": 56,
   "metadata": {},
   "outputs": [
    {
     "data": {
      "image/png": "[encoded data removed]",
      "text/plain": [
       "<Figure size 432x288 with 1 Axes>"
      ]
     },
     "metadata": {
      "needs_background": "light"
     },
     "output_type": "display_data"
    }
   ],
   "source": [
    "plt.plot(history.history['loss'], label='Train loss')\n",
    "plt.plot(history.history['val_loss'], label='Test loss')\n",
    "plt.legend();"
   ]
  },
  {
   "cell_type": "code",
   "execution_count": 57,
   "metadata": {},
   "outputs": [
    {
     "data": {
      "image/png": "[encoded data removed]",
      "text/plain": [
       "<Figure size 432x288 with 1 Axes>"
      ]
     },
     "metadata": {
      "needs_background": "light"
     },
     "output_type": "display_data"
    }
   ],
   "source": [
    "plt.plot(history.history['accuracy'], label='Train accuracy')\n",
    "plt.plot(history.history['val_accuracy'], label='Test accuracy')\n",
    "plt.legend();"
   ]
  },
  {
   "cell_type": "code",
   "execution_count": 58,
   "metadata": {},
   "outputs": [
    {
     "data": {
      "text/html": [
       "<div>\n",
       "<style scoped>\n",
       "    .dataframe tbody tr th:only-of-type {\n",
       "        vertical-align: middle;\n",
       "    }\n",
       "\n",
       "    .dataframe tbody tr th {\n",
       "        vertical-align: top;\n",
       "    }\n",
       "\n",
       "    .dataframe thead th {\n",
       "        text-align: right;\n",
       "    }\n",
       "</style>\n",
       "<table border=\"1\" class=\"dataframe\">\n",
       "  <thead>\n",
       "    <tr style=\"text-align: right;\">\n",
       "      <th></th>\n",
       "      <th>train_acc</th>\n",
       "      <th>test_acc</th>\n",
       "      <th>train_loss</th>\n",
       "      <th>test_loss</th>\n",
       "      <th>accuracy_diff</th>\n",
       "      <th>loss_diff</th>\n",
       "    </tr>\n",
       "  </thead>\n",
       "  <tbody>\n",
       "    <tr>\n",
       "      <th>95</th>\n",
       "      <td>0.986799</td>\n",
       "      <td>0.596639</td>\n",
       "      <td>0.073999</td>\n",
       "      <td>1.831155</td>\n",
       "      <td>0.390160</td>\n",
       "      <td>-1.757156</td>\n",
       "    </tr>\n",
       "    <tr>\n",
       "      <th>96</th>\n",
       "      <td>0.986799</td>\n",
       "      <td>0.596639</td>\n",
       "      <td>0.069206</td>\n",
       "      <td>1.861179</td>\n",
       "      <td>0.390160</td>\n",
       "      <td>-1.791973</td>\n",
       "    </tr>\n",
       "    <tr>\n",
       "      <th>97</th>\n",
       "      <td>0.988999</td>\n",
       "      <td>0.584034</td>\n",
       "      <td>0.065639</td>\n",
       "      <td>1.873444</td>\n",
       "      <td>0.404965</td>\n",
       "      <td>-1.807805</td>\n",
       "    </tr>\n",
       "    <tr>\n",
       "      <th>98</th>\n",
       "      <td>0.984598</td>\n",
       "      <td>0.617647</td>\n",
       "      <td>0.070782</td>\n",
       "      <td>1.906474</td>\n",
       "      <td>0.366951</td>\n",
       "      <td>-1.835692</td>\n",
       "    </tr>\n",
       "    <tr>\n",
       "      <th>99</th>\n",
       "      <td>0.992299</td>\n",
       "      <td>0.563025</td>\n",
       "      <td>0.063131</td>\n",
       "      <td>1.928023</td>\n",
       "      <td>0.429274</td>\n",
       "      <td>-1.864891</td>\n",
       "    </tr>\n",
       "  </tbody>\n",
       "</table>\n",
       "</div>"
      ],
      "text/plain": [
       "    train_acc  test_acc  train_loss  test_loss  accuracy_diff  loss_diff\n",
       "95   0.986799  0.596639    0.073999   1.831155       0.390160  -1.757156\n",
       "96   0.986799  0.596639    0.069206   1.861179       0.390160  -1.791973\n",
       "97   0.988999  0.584034    0.065639   1.873444       0.404965  -1.807805\n",
       "98   0.984598  0.617647    0.070782   1.906474       0.366951  -1.835692\n",
       "99   0.992299  0.563025    0.063131   1.928023       0.429274  -1.864891"
      ]
     },
     "execution_count": 58,
     "metadata": {},
     "output_type": "execute_result"
    }
   ],
   "source": [
    "train_acc = history.history['accuracy']\n",
    "train_loss = history.history['loss']\n",
    "test_loss = history.history['val_loss']\n",
    "test_acc = history.history['val_accuracy']\n",
    "\n",
    "df = pd.DataFrame(list(zip(train_acc, test_acc, train_loss, test_loss)), \n",
    "               columns =['train_acc', 'test_acc', 'train_loss', 'test_loss']) \n",
    "\n",
    "df['accuracy_diff'] = df['train_acc'] - df['test_acc']\n",
    "df['loss_diff'] = df['train_loss'] - df['test_loss']\n",
    "\n",
    "df.tail()"
   ]
  },
  {
   "cell_type": "code",
   "execution_count": 59,
   "metadata": {},
   "outputs": [],
   "source": [
    "y_pred=cnn.predict(X_test)"
   ]
  },
  {
   "cell_type": "code",
   "execution_count": 60,
   "metadata": {},
   "outputs": [],
   "source": [
    "y_pred=np.argmax(y_pred,axis=1)"
   ]
  },
  {
   "cell_type": "code",
   "execution_count": 61,
   "metadata": {},
   "outputs": [],
   "source": [
    "cnf=confusion_matrix(y_test_original, y_pred)"
   ]
  },
  {
   "cell_type": "code",
   "execution_count": 62,
   "metadata": {
    "scrolled": true
   },
   "outputs": [
    {
     "name": "stdout",
     "output_type": "stream",
     "text": [
      "              precision    recall  f1-score   support\n",
      "\n",
      "    American       0.72      0.60      0.65       130\n",
      "     Chinies       0.49      0.54      0.51        67\n",
      "      Indian       0.36      0.49      0.41        41\n",
      "\n",
      "    accuracy                           0.56       238\n",
      "   macro avg       0.52      0.54      0.53       238\n",
      "weighted avg       0.59      0.56      0.57       238\n",
      "\n"
     ]
    }
   ],
   "source": [
    "target_names=['American','Chinies','Indian']\n",
    "\n",
    "print(classification_report(y_test_original, y_pred, \n",
    " target_names=target_names))"
   ]
  },
  {
   "cell_type": "code",
   "execution_count": 63,
   "metadata": {},
   "outputs": [
    {
     "data": {
      "text/plain": [
       "<matplotlib.axes._subplots.AxesSubplot at 0x7f804e36ad60>"
      ]
     },
     "execution_count": 63,
     "metadata": {},
     "output_type": "execute_result"
    },
    {
     "data": {
      "image/png": "[encoded data removed]",
      "text/plain": [
       "<Figure size 432x288 with 2 Axes>"
      ]
     },
     "metadata": {
      "needs_background": "light"
     },
     "output_type": "display_data"
    }
   ],
   "source": [
    "sns.heatmap(cnf,annot=True)"
   ]
  },
  {
   "cell_type": "markdown",
   "metadata": {},
   "source": [
    "# Adding regularization to the CNN model"
   ]
  },
  {
   "cell_type": "code",
   "execution_count": 115,
   "metadata": {},
   "outputs": [],
   "source": [
    "cnn2 = Sequential()\n",
    "\n",
    "cnn2.add(Conv2D(filters = 6,            \n",
    "                     kernel_size = (3, 3),       \n",
    "                     activation='relu',     \n",
    "                     input_shape=(28,28,1))) \n",
    "\n",
    "\n",
    "cnn2.add(MaxPooling2D(pool_size=(2,2))) \n",
    "\n",
    "#cnn2.add(Conv2D(16,\n",
    "#                     kernel_size = (3, 3),\n",
    " #                    activation='relu'))\n",
    "\n",
    "#cnn2.add(MaxPooling2D(pool_size=(2,2)))\n",
    "\n",
    "cnn2.add(Flatten())  \n",
    "\n",
    "cnn2.add(Dense(128, activation='relu'))  \n",
    "\n",
    "###Add dropout \n",
    "\n",
    "cnn2.add(Dropout(0.05))\n",
    "\n",
    "cnn2.add(Dense(64, activation = 'relu'))\n",
    "\n",
    "###add dropout\n",
    "cnn2.add(Dropout(0.05))\n",
    "\n",
    "cnn2.add(Dense(4, activation='softmax'))   \n",
    "\n",
    "cnn2.compile(loss='categorical_crossentropy',\n",
    "                  optimizer='adam',\n",
    "                  metrics=['accuracy'])"
   ]
  },
  {
   "cell_type": "code",
   "execution_count": 116,
   "metadata": {},
   "outputs": [],
   "source": [
    "early_stop = EarlyStopping(monitor='val_loss', min_delta=0 , patience = 10)"
   ]
  },
  {
   "cell_type": "code",
   "execution_count": 117,
   "metadata": {},
   "outputs": [
    {
     "name": "stdout",
     "output_type": "stream",
     "text": [
      "Epoch 1/150\n",
      "2/2 [==============================] - 0s 71ms/step - loss: 1.3693 - accuracy: 0.3289 - val_loss: 1.3190 - val_accuracy: 0.3782\n",
      "Epoch 2/150\n",
      "2/2 [==============================] - 0s 25ms/step - loss: 1.3084 - accuracy: 0.3575 - val_loss: 1.2492 - val_accuracy: 0.5126\n",
      "Epoch 3/150\n",
      "2/2 [==============================] - 0s 23ms/step - loss: 1.2466 - accuracy: 0.3388 - val_loss: 1.1845 - val_accuracy: 0.5462\n",
      "Epoch 4/150\n",
      "2/2 [==============================] - 0s 26ms/step - loss: 1.1942 - accuracy: 0.3421 - val_loss: 1.1278 - val_accuracy: 0.5462\n",
      "Epoch 5/150\n",
      "2/2 [==============================] - 0s 25ms/step - loss: 1.1577 - accuracy: 0.3322 - val_loss: 1.0896 - val_accuracy: 0.5462\n",
      "Epoch 6/150\n",
      "2/2 [==============================] - 0s 26ms/step - loss: 1.1267 - accuracy: 0.3454 - val_loss: 1.0825 - val_accuracy: 0.5462\n",
      "Epoch 7/150\n",
      "2/2 [==============================] - 0s 28ms/step - loss: 1.1170 - accuracy: 0.3113 - val_loss: 1.0994 - val_accuracy: 0.2899\n",
      "Epoch 8/150\n",
      "2/2 [==============================] - 0s 29ms/step - loss: 1.1160 - accuracy: 0.3278 - val_loss: 1.1180 - val_accuracy: 0.2857\n",
      "Epoch 9/150\n",
      "2/2 [==============================] - 0s 27ms/step - loss: 1.1066 - accuracy: 0.3454 - val_loss: 1.1124 - val_accuracy: 0.3025\n",
      "Epoch 10/150\n",
      "2/2 [==============================] - 0s 27ms/step - loss: 1.0966 - accuracy: 0.3663 - val_loss: 1.0748 - val_accuracy: 0.5462\n",
      "Epoch 11/150\n",
      "2/2 [==============================] - 0s 28ms/step - loss: 1.1041 - accuracy: 0.3498 - val_loss: 1.0477 - val_accuracy: 0.5462\n",
      "Epoch 12/150\n",
      "2/2 [==============================] - 0s 29ms/step - loss: 1.1053 - accuracy: 0.3674 - val_loss: 1.0562 - val_accuracy: 0.5462\n",
      "Epoch 13/150\n",
      "2/2 [==============================] - 0s 28ms/step - loss: 1.1084 - accuracy: 0.3520 - val_loss: 1.0874 - val_accuracy: 0.4496\n",
      "Epoch 14/150\n",
      "2/2 [==============================] - 0s 28ms/step - loss: 1.1062 - accuracy: 0.3564 - val_loss: 1.0967 - val_accuracy: 0.3697\n",
      "Epoch 15/150\n",
      "2/2 [==============================] - 0s 28ms/step - loss: 1.0944 - accuracy: 0.3685 - val_loss: 1.0648 - val_accuracy: 0.4958\n",
      "Epoch 16/150\n",
      "2/2 [==============================] - 0s 29ms/step - loss: 1.0875 - accuracy: 0.3982 - val_loss: 1.0464 - val_accuracy: 0.6008\n",
      "Epoch 17/150\n",
      "2/2 [==============================] - 0s 30ms/step - loss: 1.0821 - accuracy: 0.4081 - val_loss: 1.0405 - val_accuracy: 0.5630\n",
      "Epoch 18/150\n",
      "2/2 [==============================] - 0s 28ms/step - loss: 1.0803 - accuracy: 0.4070 - val_loss: 1.0481 - val_accuracy: 0.4832\n",
      "Epoch 19/150\n",
      "2/2 [==============================] - 0s 29ms/step - loss: 1.0787 - accuracy: 0.4026 - val_loss: 1.0663 - val_accuracy: 0.4832\n",
      "Epoch 20/150\n",
      "2/2 [==============================] - 0s 28ms/step - loss: 1.0738 - accuracy: 0.4246 - val_loss: 1.0540 - val_accuracy: 0.5294\n",
      "Epoch 21/150\n",
      "2/2 [==============================] - 0s 29ms/step - loss: 1.0718 - accuracy: 0.4301 - val_loss: 1.0417 - val_accuracy: 0.5546\n",
      "Epoch 22/150\n",
      "2/2 [==============================] - 0s 32ms/step - loss: 1.0623 - accuracy: 0.4543 - val_loss: 1.0308 - val_accuracy: 0.4958\n",
      "Epoch 23/150\n",
      "2/2 [==============================] - 0s 34ms/step - loss: 1.0662 - accuracy: 0.4444 - val_loss: 1.0378 - val_accuracy: 0.5252\n",
      "Epoch 24/150\n",
      "2/2 [==============================] - 0s 33ms/step - loss: 1.0574 - accuracy: 0.4543 - val_loss: 1.0263 - val_accuracy: 0.5294\n",
      "Epoch 25/150\n",
      "2/2 [==============================] - 0s 31ms/step - loss: 1.0547 - accuracy: 0.4609 - val_loss: 1.0389 - val_accuracy: 0.5042\n",
      "Epoch 26/150\n",
      "2/2 [==============================] - 0s 32ms/step - loss: 1.0387 - accuracy: 0.4862 - val_loss: 1.0419 - val_accuracy: 0.4832\n",
      "Epoch 27/150\n",
      "2/2 [==============================] - 0s 30ms/step - loss: 1.0429 - accuracy: 0.4719 - val_loss: 1.0327 - val_accuracy: 0.5210\n",
      "Epoch 28/150\n",
      "2/2 [==============================] - 0s 33ms/step - loss: 1.0345 - accuracy: 0.4983 - val_loss: 1.0106 - val_accuracy: 0.5756\n",
      "Epoch 29/150\n",
      "2/2 [==============================] - 0s 34ms/step - loss: 1.0368 - accuracy: 0.4884 - val_loss: 1.0124 - val_accuracy: 0.5630\n",
      "Epoch 30/150\n",
      "2/2 [==============================] - 0s 33ms/step - loss: 1.0279 - accuracy: 0.4994 - val_loss: 1.0258 - val_accuracy: 0.5378\n",
      "Epoch 31/150\n",
      "2/2 [==============================] - 0s 32ms/step - loss: 1.0122 - accuracy: 0.5347 - val_loss: 1.0181 - val_accuracy: 0.4916\n",
      "Epoch 32/150\n",
      "2/2 [==============================] - 0s 31ms/step - loss: 1.0099 - accuracy: 0.5182 - val_loss: 0.9906 - val_accuracy: 0.5672\n",
      "Epoch 33/150\n",
      "2/2 [==============================] - 0s 32ms/step - loss: 0.9991 - accuracy: 0.5479 - val_loss: 0.9851 - val_accuracy: 0.5882\n",
      "Epoch 34/150\n",
      "2/2 [==============================] - 0s 33ms/step - loss: 0.9954 - accuracy: 0.5380 - val_loss: 0.9890 - val_accuracy: 0.5840\n",
      "Epoch 35/150\n",
      "2/2 [==============================] - 0s 32ms/step - loss: 0.9954 - accuracy: 0.5325 - val_loss: 0.9940 - val_accuracy: 0.5336\n",
      "Epoch 36/150\n",
      "2/2 [==============================] - 0s 32ms/step - loss: 0.9875 - accuracy: 0.5523 - val_loss: 0.9761 - val_accuracy: 0.5756\n",
      "Epoch 37/150\n",
      "2/2 [==============================] - 0s 34ms/step - loss: 0.9755 - accuracy: 0.5369 - val_loss: 0.9650 - val_accuracy: 0.6050\n",
      "Epoch 38/150\n",
      "2/2 [==============================] - 0s 30ms/step - loss: 0.9724 - accuracy: 0.5644 - val_loss: 0.9556 - val_accuracy: 0.6261\n",
      "Epoch 39/150\n",
      "2/2 [==============================] - 0s 35ms/step - loss: 0.9638 - accuracy: 0.5578 - val_loss: 0.9750 - val_accuracy: 0.5252\n",
      "Epoch 40/150\n",
      "2/2 [==============================] - 0s 32ms/step - loss: 0.9691 - accuracy: 0.5611 - val_loss: 0.9580 - val_accuracy: 0.5966\n",
      "Epoch 41/150\n",
      "2/2 [==============================] - 0s 33ms/step - loss: 0.9520 - accuracy: 0.5842 - val_loss: 0.9476 - val_accuracy: 0.6471\n",
      "Epoch 42/150\n",
      "2/2 [==============================] - 0s 30ms/step - loss: 0.9544 - accuracy: 0.5545 - val_loss: 0.9585 - val_accuracy: 0.6134\n",
      "Epoch 43/150\n",
      "2/2 [==============================] - 0s 30ms/step - loss: 0.9423 - accuracy: 0.5787 - val_loss: 0.9600 - val_accuracy: 0.5966\n",
      "Epoch 44/150\n",
      "2/2 [==============================] - 0s 32ms/step - loss: 0.9463 - accuracy: 0.5699 - val_loss: 0.9140 - val_accuracy: 0.6176\n",
      "Epoch 45/150\n",
      "2/2 [==============================] - 0s 30ms/step - loss: 0.9166 - accuracy: 0.6128 - val_loss: 0.9650 - val_accuracy: 0.5882\n",
      "Epoch 46/150\n",
      "2/2 [==============================] - 0s 33ms/step - loss: 0.9307 - accuracy: 0.6029 - val_loss: 0.9596 - val_accuracy: 0.5840\n",
      "Epoch 47/150\n",
      "2/2 [==============================] - 0s 34ms/step - loss: 0.9149 - accuracy: 0.5985 - val_loss: 0.9392 - val_accuracy: 0.6092\n",
      "Epoch 48/150\n",
      "2/2 [==============================] - 0s 33ms/step - loss: 0.9043 - accuracy: 0.6205 - val_loss: 0.9205 - val_accuracy: 0.6303\n",
      "Epoch 49/150\n",
      "2/2 [==============================] - 0s 31ms/step - loss: 0.9062 - accuracy: 0.6194 - val_loss: 0.9533 - val_accuracy: 0.5882\n",
      "Epoch 50/150\n",
      "2/2 [==============================] - 0s 32ms/step - loss: 0.9046 - accuracy: 0.6051 - val_loss: 0.9540 - val_accuracy: 0.5798\n",
      "Epoch 51/150\n",
      "2/2 [==============================] - 0s 34ms/step - loss: 0.9003 - accuracy: 0.6073 - val_loss: 0.9154 - val_accuracy: 0.6261\n",
      "Epoch 52/150\n",
      "2/2 [==============================] - 0s 35ms/step - loss: 0.8911 - accuracy: 0.6216 - val_loss: 0.9392 - val_accuracy: 0.6050\n",
      "Epoch 53/150\n",
      "2/2 [==============================] - 0s 35ms/step - loss: 0.8925 - accuracy: 0.6227 - val_loss: 0.9447 - val_accuracy: 0.5840\n",
      "Epoch 54/150\n",
      "2/2 [==============================] - 0s 32ms/step - loss: 0.8769 - accuracy: 0.6205 - val_loss: 0.9212 - val_accuracy: 0.6134\n"
     ]
    }
   ],
   "source": [
    "history = cnn2.fit(X_train,\n",
    "              y_train,\n",
    "              batch_size=500,\n",
    "              epochs=150,\n",
    "              validation_data = (X_test, y_test),\n",
    "             callbacks=[early_stop],\n",
    "              verbose=1)"
   ]
  },
  {
   "cell_type": "code",
   "execution_count": 118,
   "metadata": {},
   "outputs": [
    {
     "data": {
      "image/png": "[encoded data removed]",
      "text/plain": [
       "<Figure size 432x288 with 1 Axes>"
      ]
     },
     "metadata": {
      "needs_background": "light"
     },
     "output_type": "display_data"
    }
   ],
   "source": [
    "plt.plot(history.history['loss'], label='Train loss')\n",
    "plt.plot(history.history['val_loss'], label='Test loss')\n",
    "plt.legend();"
   ]
  },
  {
   "cell_type": "code",
   "execution_count": 119,
   "metadata": {},
   "outputs": [
    {
     "data": {
      "image/png": "[encoded data removed]",
      "text/plain": [
       "<Figure size 432x288 with 1 Axes>"
      ]
     },
     "metadata": {
      "needs_background": "light"
     },
     "output_type": "display_data"
    }
   ],
   "source": [
    "plt.plot(history.history['accuracy'], label='Train accuracy')\n",
    "plt.plot(history.history['val_accuracy'], label='Test accuracy')\n",
    "plt.legend();"
   ]
  },
  {
   "cell_type": "code",
   "execution_count": 141,
   "metadata": {},
   "outputs": [
    {
     "data": {
      "text/html": [
       "<div>\n",
       "<style scoped>\n",
       "    .dataframe tbody tr th:only-of-type {\n",
       "        vertical-align: middle;\n",
       "    }\n",
       "\n",
       "    .dataframe tbody tr th {\n",
       "        vertical-align: top;\n",
       "    }\n",
       "\n",
       "    .dataframe thead th {\n",
       "        text-align: right;\n",
       "    }\n",
       "</style>\n",
       "<table border=\"1\" class=\"dataframe\">\n",
       "  <thead>\n",
       "    <tr style=\"text-align: right;\">\n",
       "      <th></th>\n",
       "      <th>train_acc</th>\n",
       "      <th>test_acc</th>\n",
       "      <th>train_loss</th>\n",
       "      <th>test_loss</th>\n",
       "      <th>accuracy_diff</th>\n",
       "      <th>loss_diff</th>\n",
       "    </tr>\n",
       "  </thead>\n",
       "  <tbody>\n",
       "    <tr>\n",
       "      <th>49</th>\n",
       "      <td>0.605061</td>\n",
       "      <td>0.579832</td>\n",
       "      <td>0.904597</td>\n",
       "      <td>0.954042</td>\n",
       "      <td>0.025229</td>\n",
       "      <td>-0.049445</td>\n",
       "    </tr>\n",
       "    <tr>\n",
       "      <th>50</th>\n",
       "      <td>0.607261</td>\n",
       "      <td>0.626050</td>\n",
       "      <td>0.900303</td>\n",
       "      <td>0.915412</td>\n",
       "      <td>-0.018790</td>\n",
       "      <td>-0.015109</td>\n",
       "    </tr>\n",
       "    <tr>\n",
       "      <th>51</th>\n",
       "      <td>0.621562</td>\n",
       "      <td>0.605042</td>\n",
       "      <td>0.891079</td>\n",
       "      <td>0.939166</td>\n",
       "      <td>0.016520</td>\n",
       "      <td>-0.048087</td>\n",
       "    </tr>\n",
       "    <tr>\n",
       "      <th>52</th>\n",
       "      <td>0.622662</td>\n",
       "      <td>0.584034</td>\n",
       "      <td>0.892522</td>\n",
       "      <td>0.944701</td>\n",
       "      <td>0.038629</td>\n",
       "      <td>-0.052179</td>\n",
       "    </tr>\n",
       "    <tr>\n",
       "      <th>53</th>\n",
       "      <td>0.620462</td>\n",
       "      <td>0.613445</td>\n",
       "      <td>0.876894</td>\n",
       "      <td>0.921159</td>\n",
       "      <td>0.007017</td>\n",
       "      <td>-0.044265</td>\n",
       "    </tr>\n",
       "  </tbody>\n",
       "</table>\n",
       "</div>"
      ],
      "text/plain": [
       "    train_acc  test_acc  train_loss  test_loss  accuracy_diff  loss_diff\n",
       "49   0.605061  0.579832    0.904597   0.954042       0.025229  -0.049445\n",
       "50   0.607261  0.626050    0.900303   0.915412      -0.018790  -0.015109\n",
       "51   0.621562  0.605042    0.891079   0.939166       0.016520  -0.048087\n",
       "52   0.622662  0.584034    0.892522   0.944701       0.038629  -0.052179\n",
       "53   0.620462  0.613445    0.876894   0.921159       0.007017  -0.044265"
      ]
     },
     "execution_count": 141,
     "metadata": {},
     "output_type": "execute_result"
    }
   ],
   "source": [
    "train_acc = history.history['accuracy']\n",
    "train_loss = history.history['loss']\n",
    "test_loss = history.history['val_loss']\n",
    "test_acc = history.history['val_accuracy']\n",
    "\n",
    "df = pd.DataFrame(list(zip(train_acc, test_acc, train_loss, test_loss)), \n",
    "               columns =['train_acc', 'test_acc', 'train_loss', 'test_loss']) \n",
    "\n",
    "df['accuracy_diff'] = df['train_acc'] - df['test_acc']\n",
    "df['loss_diff'] = df['train_loss'] - df['test_loss']\n",
    "\n",
    "df.tail()"
   ]
  },
  {
   "cell_type": "code",
   "execution_count": 120,
   "metadata": {},
   "outputs": [
    {
     "name": "stdout",
     "output_type": "stream",
     "text": [
      "Model: \"sequential_3\"\n",
      "_________________________________________________________________\n",
      "Layer (type)                 Output Shape              Param #   \n",
      "=================================================================\n",
      "conv2d_4 (Conv2D)            (None, 26, 26, 6)         60        \n",
      "_________________________________________________________________\n",
      "max_pooling2d_4 (MaxPooling2 (None, 13, 13, 6)         0         \n",
      "_________________________________________________________________\n",
      "flatten_3 (Flatten)          (None, 1014)              0         \n",
      "_________________________________________________________________\n",
      "dense_9 (Dense)              (None, 128)               129920    \n",
      "_________________________________________________________________\n",
      "dropout_4 (Dropout)          (None, 128)               0         \n",
      "_________________________________________________________________\n",
      "dense_10 (Dense)             (None, 64)                8256      \n",
      "_________________________________________________________________\n",
      "dropout_5 (Dropout)          (None, 64)                0         \n",
      "_________________________________________________________________\n",
      "dense_11 (Dense)             (None, 4)                 260       \n",
      "=================================================================\n",
      "Total params: 138,496\n",
      "Trainable params: 138,496\n",
      "Non-trainable params: 0\n",
      "_________________________________________________________________\n"
     ]
    }
   ],
   "source": [
    "cnn2.summary()"
   ]
  },
  {
   "cell_type": "code",
   "execution_count": 121,
   "metadata": {},
   "outputs": [],
   "source": [
    "y_pred2=cnn2.predict(X_test)"
   ]
  },
  {
   "cell_type": "code",
   "execution_count": 122,
   "metadata": {},
   "outputs": [],
   "source": [
    "y_pred2=np.argmax(y_pred2,axis=1)"
   ]
  },
  {
   "cell_type": "code",
   "execution_count": 123,
   "metadata": {
    "scrolled": true
   },
   "outputs": [
    {
     "data": {
      "text/plain": [
       "array([1, 1, 3, 1, 2, 1, 3, 3, 3, 2, 1, 2, 1, 1, 2, 3, 3, 3, 2, 3, 1, 1,\n",
       "       3, 1, 1, 2, 3, 1, 1, 1, 1, 2, 3, 2, 1, 2, 1, 1, 3, 2, 2, 3, 3, 1,\n",
       "       2, 3, 2, 2, 1, 1, 1, 3, 2, 2, 3, 2, 1, 3, 1, 1, 2, 2, 1, 1, 1, 2,\n",
       "       1, 2, 2, 1, 3, 1, 1, 2, 1, 1, 2, 1, 2, 1, 1, 1, 1, 2, 2, 3, 3, 1,\n",
       "       3, 3, 1, 3, 1, 1, 3, 1, 1, 2, 3, 2, 2, 3, 2, 3, 1, 2, 3, 1, 1, 2,\n",
       "       1, 1, 1, 3, 1, 1, 1, 3, 1, 2, 2, 1, 1, 3, 2, 1, 3, 2, 1, 1, 1, 1,\n",
       "       2, 2, 1, 3, 2, 1, 2, 2, 1, 1, 2, 1, 2, 1, 1, 2, 1, 1, 1, 1, 3, 1,\n",
       "       2, 2, 2, 1, 1, 1, 2, 2, 1, 1, 1, 2, 2, 3, 2, 3, 2, 1, 1, 1, 3, 1,\n",
       "       2, 1, 1, 1, 1, 2, 1, 1, 3, 1, 1, 3, 1, 2, 3, 1, 3, 1, 1, 1, 2, 1,\n",
       "       1, 3, 1, 3, 3, 1, 1, 2, 3, 2, 1, 2, 1, 1, 2, 3, 3, 1, 1, 2, 2, 1,\n",
       "       3, 1, 1, 1, 2, 1, 1, 2, 1, 2, 2, 2, 1, 1, 1, 1, 1, 2])"
      ]
     },
     "execution_count": 123,
     "metadata": {},
     "output_type": "execute_result"
    }
   ],
   "source": [
    "y_pred2"
   ]
  },
  {
   "cell_type": "code",
   "execution_count": 124,
   "metadata": {},
   "outputs": [],
   "source": [
    "ls=list(zip(y_test_original,y_pred2))"
   ]
  },
  {
   "cell_type": "code",
   "execution_count": 125,
   "metadata": {},
   "outputs": [
    {
     "data": {
      "text/plain": [
       "146"
      ]
     },
     "execution_count": 125,
     "metadata": {},
     "output_type": "execute_result"
    }
   ],
   "source": [
    "ls1=[l for l in ls if l[0]==l[1]]\n",
    "len(ls1)"
   ]
  },
  {
   "cell_type": "code",
   "execution_count": 126,
   "metadata": {
    "scrolled": true
   },
   "outputs": [],
   "source": [
    "cnf1=confusion_matrix(y_test_original, y_pred)"
   ]
  },
  {
   "cell_type": "code",
   "execution_count": 127,
   "metadata": {},
   "outputs": [],
   "source": [
    "target_names=['American','Chinies','Indian']"
   ]
  },
  {
   "cell_type": "code",
   "execution_count": 128,
   "metadata": {
    "scrolled": true
   },
   "outputs": [
    {
     "name": "stdout",
     "output_type": "stream",
     "text": [
      "              precision    recall  f1-score   support\n",
      "\n",
      "    American       0.72      0.60      0.65       130\n",
      "     Chinies       0.49      0.54      0.51        67\n",
      "      Indian       0.36      0.49      0.41        41\n",
      "\n",
      "    accuracy                           0.56       238\n",
      "   macro avg       0.52      0.54      0.53       238\n",
      "weighted avg       0.59      0.56      0.57       238\n",
      "\n"
     ]
    }
   ],
   "source": [
    "print(classification_report(y_test_original, y_pred, \n",
    " target_names=target_names))"
   ]
  },
  {
   "cell_type": "code",
   "execution_count": 129,
   "metadata": {},
   "outputs": [
    {
     "data": {
      "text/plain": [
       "<matplotlib.axes._subplots.AxesSubplot at 0x7f804dd4ad60>"
      ]
     },
     "execution_count": 129,
     "metadata": {},
     "output_type": "execute_result"
    },
    {
     "data": {
      "image/png": "[encoded data removed]",
      "text/plain": [
       "<Figure size 432x288 with 2 Axes>"
      ]
     },
     "metadata": {
      "needs_background": "light"
     },
     "output_type": "display_data"
    }
   ],
   "source": [
    "sns.heatmap(cnf1,annot=True)"
   ]
  },
  {
   "cell_type": "code",
   "execution_count": 130,
   "metadata": {},
   "outputs": [],
   "source": [
    "#Pickle this model..."
   ]
  },
  {
   "cell_type": "code",
   "execution_count": null,
   "metadata": {},
   "outputs": [],
   "source": []
  },
  {
   "cell_type": "markdown",
   "metadata": {},
   "source": [
    "# Trying Prediction with 1 file"
   ]
  },
  {
   "cell_type": "code",
   "execution_count": 131,
   "metadata": {},
   "outputs": [
    {
     "data": {
      "text/plain": [
       "age                                       25\n",
       "age_onset                                  0\n",
       "birthplace         panama city, panama (map)\n",
       "filename                           english22\n",
       "native_language                      english\n",
       "                             ...            \n",
       "858                                 -25.7746\n",
       "859                                 -22.0206\n",
       "860                                 -10.9953\n",
       "861                                 -3.51731\n",
       "Accent_num                                 1\n",
       "Name: 749, Length: 873, dtype: object"
      ]
     },
     "execution_count": 131,
     "metadata": {},
     "output_type": "execute_result"
    }
   ],
   "source": [
    "feature_df.loc[749]"
   ]
  },
  {
   "cell_type": "code",
   "execution_count": 132,
   "metadata": {},
   "outputs": [],
   "source": [
    "new_X=feature_df.loc[749].iloc[10:794]"
   ]
  },
  {
   "cell_type": "code",
   "execution_count": 133,
   "metadata": {},
   "outputs": [
    {
     "data": {
      "text/plain": [
       "pandas.core.series.Series"
      ]
     },
     "execution_count": 133,
     "metadata": {},
     "output_type": "execute_result"
    }
   ],
   "source": [
    "type(new_X)"
   ]
  },
  {
   "cell_type": "code",
   "execution_count": 134,
   "metadata": {},
   "outputs": [],
   "source": [
    "new_X=np.array(new_X)"
   ]
  },
  {
   "cell_type": "code",
   "execution_count": 135,
   "metadata": {},
   "outputs": [
    {
     "data": {
      "text/plain": [
       "(784,)"
      ]
     },
     "execution_count": 135,
     "metadata": {},
     "output_type": "execute_result"
    }
   ],
   "source": [
    "new_X.shape"
   ]
  },
  {
   "cell_type": "code",
   "execution_count": 136,
   "metadata": {},
   "outputs": [],
   "source": [
    "#new_X=new_X.reshape(new_X.shape[0],28,28,1)"
   ]
  },
  {
   "cell_type": "code",
   "execution_count": 137,
   "metadata": {},
   "outputs": [],
   "source": [
    "new_X=new_X.astype('float32')/255"
   ]
  },
  {
   "cell_type": "code",
   "execution_count": 138,
   "metadata": {},
   "outputs": [],
   "source": [
    "new_X=new_X.reshape(1,28,28,1)"
   ]
  },
  {
   "cell_type": "code",
   "execution_count": 139,
   "metadata": {},
   "outputs": [],
   "source": [
    "new_pred=cnn2.predict_classes([new_X,])"
   ]
  },
  {
   "cell_type": "code",
   "execution_count": 140,
   "metadata": {},
   "outputs": [
    {
     "data": {
      "text/plain": [
       "1"
      ]
     },
     "execution_count": 140,
     "metadata": {},
     "output_type": "execute_result"
    }
   ],
   "source": [
    "new_pred[0]"
   ]
  },
  {
   "cell_type": "code",
   "execution_count": null,
   "metadata": {},
   "outputs": [],
   "source": []
  }
 ],
 "metadata": {
  "kernelspec": {
   "display_name": "Python 3",
   "language": "python",
   "name": "python3"
  },
  "language_info": {
   "codemirror_mode": {
    "name": "ipython",
    "version": 3
   },
   "file_extension": ".py",
   "mimetype": "text/x-python",
   "name": "python",
   "nbconvert_exporter": "python",
   "pygments_lexer": "ipython3",
   "version": "3.8.3"
  }
 },
 "nbformat": 4,
 "nbformat_minor": 4
}
