{
 "cells": [
  {
   "cell_type": "markdown",
   "metadata": {},
   "source": [
    "# Trying CNN for modeling here with SMOTE\n",
    "\n"
   ]
  },
  {
   "cell_type": "code",
   "execution_count": null,
   "metadata": {},
   "outputs": [],
   "source": [
    "\n",
    "import numpy as np\n",
    "import pandas as pd\n",
    "import seaborn as sns\n",
    "from sklearn.datasets import make_classification, make_regression\n",
    "from sklearn.metrics import classification_report , confusion_matrix ,plot_confusion_matrix\n",
    "\n",
    "import matplotlib.pyplot as plt\n",
    "import pickle\n",
    "\n",
    "from tensorflow.keras.models import Sequential\n",
    "from tensorflow.keras.layers import Dense , Activation, Flatten, Dropout\n",
    "from keras.utils import np_utils\n",
    "from tensorflow.keras.utils import to_categorical \n",
    "from sklearn.model_selection import train_test_split, GridSearchCV , cross_val_score\n",
    "\n",
    "from keras.layers import Conv2D, MaxPooling2D\n",
    "from keras.utils import np_utils\n",
    "\n",
    "from tensorflow.keras.regularizers import l2\n",
    "from keras.callbacks import EarlyStopping\n",
    "\n",
    "from imblearn.over_sampling import SMOTE\n",
    "\n",
    "%matplotlib inline"
   ]
  },
  {
   "cell_type": "code",
   "execution_count": 2,
   "metadata": {},
   "outputs": [],
   "source": [
    "#feature_df = pd.read_csv('../Data/Data_and_Features.csv')"
   ]
  },
  {
   "cell_type": "code",
   "execution_count": 3,
   "metadata": {},
   "outputs": [],
   "source": [
    "#using pickled df from previous file to preserve data and data types as CSV is modifying the data types \n",
    "feature_df=pd.read_pickle('Data_And_Features.pkl')"
   ]
  },
  {
   "cell_type": "code",
   "execution_count": 4,
   "metadata": {},
   "outputs": [
    {
     "data": {
      "text/html": [
       "<div>\n",
       "<style scoped>\n",
       "    .dataframe tbody tr th:only-of-type {\n",
       "        vertical-align: middle;\n",
       "    }\n",
       "\n",
       "    .dataframe tbody tr th {\n",
       "        vertical-align: top;\n",
       "    }\n",
       "\n",
       "    .dataframe thead th {\n",
       "        text-align: right;\n",
       "    }\n",
       "</style>\n",
       "<table border=\"1\" class=\"dataframe\">\n",
       "  <thead>\n",
       "    <tr style=\"text-align: right;\">\n",
       "      <th></th>\n",
       "      <th>age</th>\n",
       "      <th>age_onset</th>\n",
       "      <th>birthplace</th>\n",
       "      <th>filename</th>\n",
       "      <th>native_language</th>\n",
       "      <th>sex</th>\n",
       "      <th>speakerid</th>\n",
       "      <th>country</th>\n",
       "      <th>file_missing?</th>\n",
       "      <th>Accent</th>\n",
       "      <th>...</th>\n",
       "      <th>853</th>\n",
       "      <th>854</th>\n",
       "      <th>855</th>\n",
       "      <th>856</th>\n",
       "      <th>857</th>\n",
       "      <th>858</th>\n",
       "      <th>859</th>\n",
       "      <th>860</th>\n",
       "      <th>861</th>\n",
       "      <th>Accent_num</th>\n",
       "    </tr>\n",
       "  </thead>\n",
       "  <tbody>\n",
       "    <tr>\n",
       "      <th>0</th>\n",
       "      <td>19.0</td>\n",
       "      <td>9.0</td>\n",
       "      <td>shady grove, maryland, usa</td>\n",
       "      <td>arabic38</td>\n",
       "      <td>arabic</td>\n",
       "      <td>female</td>\n",
       "      <td>1394</td>\n",
       "      <td>usa</td>\n",
       "      <td>False</td>\n",
       "      <td>American</td>\n",
       "      <td>...</td>\n",
       "      <td>-22.414141</td>\n",
       "      <td>-19.780674</td>\n",
       "      <td>-20.364351</td>\n",
       "      <td>-26.178616</td>\n",
       "      <td>-26.259825</td>\n",
       "      <td>-26.722843</td>\n",
       "      <td>-23.242558</td>\n",
       "      <td>-20.390944</td>\n",
       "      <td>-16.448463</td>\n",
       "      <td>1</td>\n",
       "    </tr>\n",
       "    <tr>\n",
       "      <th>1</th>\n",
       "      <td>32.0</td>\n",
       "      <td>12.0</td>\n",
       "      <td>fort collins, colorado, usa</td>\n",
       "      <td>arabic45</td>\n",
       "      <td>arabic</td>\n",
       "      <td>female</td>\n",
       "      <td>1456</td>\n",
       "      <td>usa</td>\n",
       "      <td>False</td>\n",
       "      <td>American</td>\n",
       "      <td>...</td>\n",
       "      <td>-13.328942</td>\n",
       "      <td>-13.913136</td>\n",
       "      <td>-14.347802</td>\n",
       "      <td>-15.178201</td>\n",
       "      <td>-15.032391</td>\n",
       "      <td>-15.780533</td>\n",
       "      <td>-17.877295</td>\n",
       "      <td>-10.750269</td>\n",
       "      <td>-5.102596</td>\n",
       "      <td>1</td>\n",
       "    </tr>\n",
       "    <tr>\n",
       "      <th>2</th>\n",
       "      <td>19.0</td>\n",
       "      <td>3.0</td>\n",
       "      <td>washington, district of columbia, usa</td>\n",
       "      <td>arabic78</td>\n",
       "      <td>arabic</td>\n",
       "      <td>female</td>\n",
       "      <td>1897</td>\n",
       "      <td>usa</td>\n",
       "      <td>False</td>\n",
       "      <td>American</td>\n",
       "      <td>...</td>\n",
       "      <td>-32.267937</td>\n",
       "      <td>-34.579670</td>\n",
       "      <td>-37.915585</td>\n",
       "      <td>-37.576115</td>\n",
       "      <td>-33.534348</td>\n",
       "      <td>-29.363533</td>\n",
       "      <td>-25.490492</td>\n",
       "      <td>-22.864353</td>\n",
       "      <td>-19.428410</td>\n",
       "      <td>1</td>\n",
       "    </tr>\n",
       "    <tr>\n",
       "      <th>3</th>\n",
       "      <td>43.0</td>\n",
       "      <td>40.0</td>\n",
       "      <td>jianchuan, yunnan, china</td>\n",
       "      <td>bai1</td>\n",
       "      <td>bai</td>\n",
       "      <td>female</td>\n",
       "      <td>28</td>\n",
       "      <td>china</td>\n",
       "      <td>False</td>\n",
       "      <td>Chinese</td>\n",
       "      <td>...</td>\n",
       "      <td>-44.022732</td>\n",
       "      <td>-44.022732</td>\n",
       "      <td>-44.022732</td>\n",
       "      <td>-44.022732</td>\n",
       "      <td>-44.022732</td>\n",
       "      <td>-44.022732</td>\n",
       "      <td>-44.022732</td>\n",
       "      <td>-44.022732</td>\n",
       "      <td>-44.022732</td>\n",
       "      <td>2</td>\n",
       "    </tr>\n",
       "    <tr>\n",
       "      <th>4</th>\n",
       "      <td>34.0</td>\n",
       "      <td>3.5</td>\n",
       "      <td>durgapur, west bengal, india</td>\n",
       "      <td>bengali11</td>\n",
       "      <td>bengali</td>\n",
       "      <td>male</td>\n",
       "      <td>1018</td>\n",
       "      <td>india</td>\n",
       "      <td>False</td>\n",
       "      <td>Indian</td>\n",
       "      <td>...</td>\n",
       "      <td>-4.014865</td>\n",
       "      <td>-4.399039</td>\n",
       "      <td>-7.001354</td>\n",
       "      <td>-11.521073</td>\n",
       "      <td>-10.343769</td>\n",
       "      <td>-8.018362</td>\n",
       "      <td>-7.545074</td>\n",
       "      <td>-10.307240</td>\n",
       "      <td>-11.671057</td>\n",
       "      <td>3</td>\n",
       "    </tr>\n",
       "  </tbody>\n",
       "</table>\n",
       "<p>5 rows × 873 columns</p>\n",
       "</div>"
      ],
      "text/plain": [
       "    age  age_onset                             birthplace   filename  \\\n",
       "0  19.0        9.0             shady grove, maryland, usa   arabic38   \n",
       "1  32.0       12.0            fort collins, colorado, usa   arabic45   \n",
       "2  19.0        3.0  washington, district of columbia, usa   arabic78   \n",
       "3  43.0       40.0               jianchuan, yunnan, china       bai1   \n",
       "4  34.0        3.5           durgapur, west bengal, india  bengali11   \n",
       "\n",
       "  native_language     sex  speakerid country  file_missing?    Accent  ...  \\\n",
       "0          arabic  female       1394     usa          False  American  ...   \n",
       "1          arabic  female       1456     usa          False  American  ...   \n",
       "2          arabic  female       1897     usa          False  American  ...   \n",
       "3             bai  female         28   china          False   Chinese  ...   \n",
       "4         bengali    male       1018   india          False    Indian  ...   \n",
       "\n",
       "         853        854        855        856        857        858  \\\n",
       "0 -22.414141 -19.780674 -20.364351 -26.178616 -26.259825 -26.722843   \n",
       "1 -13.328942 -13.913136 -14.347802 -15.178201 -15.032391 -15.780533   \n",
       "2 -32.267937 -34.579670 -37.915585 -37.576115 -33.534348 -29.363533   \n",
       "3 -44.022732 -44.022732 -44.022732 -44.022732 -44.022732 -44.022732   \n",
       "4  -4.014865  -4.399039  -7.001354 -11.521073 -10.343769  -8.018362   \n",
       "\n",
       "         859        860        861  Accent_num  \n",
       "0 -23.242558 -20.390944 -16.448463           1  \n",
       "1 -17.877295 -10.750269  -5.102596           1  \n",
       "2 -25.490492 -22.864353 -19.428410           1  \n",
       "3 -44.022732 -44.022732 -44.022732           2  \n",
       "4  -7.545074 -10.307240 -11.671057           3  \n",
       "\n",
       "[5 rows x 873 columns]"
      ]
     },
     "execution_count": 4,
     "metadata": {},
     "output_type": "execute_result"
    }
   ],
   "source": [
    "feature_df.head()"
   ]
  },
  {
   "cell_type": "code",
   "execution_count": 5,
   "metadata": {},
   "outputs": [
    {
     "data": {
      "text/plain": [
       "(791, 873)"
      ]
     },
     "execution_count": 5,
     "metadata": {},
     "output_type": "execute_result"
    }
   ],
   "source": [
    "feature_df.shape"
   ]
  },
  {
   "cell_type": "code",
   "execution_count": 6,
   "metadata": {},
   "outputs": [
    {
     "name": "stdout",
     "output_type": "stream",
     "text": [
      "<class 'pandas.core.frame.DataFrame'>\n",
      "RangeIndex: 791 entries, 0 to 790\n",
      "Columns: 873 entries, age to Accent_num\n",
      "dtypes: bool(1), float64(864), int64(2), object(6)\n",
      "memory usage: 5.3+ MB\n"
     ]
    }
   ],
   "source": [
    "feature_df.info()"
   ]
  },
  {
   "cell_type": "code",
   "execution_count": 7,
   "metadata": {},
   "outputs": [],
   "source": [
    "features=range(0,784)"
   ]
  },
  {
   "cell_type": "code",
   "execution_count": 8,
   "metadata": {},
   "outputs": [
    {
     "data": {
      "text/plain": [
       "range(0, 784)"
      ]
     },
     "execution_count": 8,
     "metadata": {},
     "output_type": "execute_result"
    }
   ],
   "source": [
    "features"
   ]
  },
  {
   "cell_type": "code",
   "execution_count": 9,
   "metadata": {},
   "outputs": [],
   "source": [
    "X=feature_df[features]\n",
    "y=feature_df['Accent_num']"
   ]
  },
  {
   "cell_type": "code",
   "execution_count": 10,
   "metadata": {},
   "outputs": [],
   "source": [
    "#X=np.array(X)"
   ]
  },
  {
   "cell_type": "code",
   "execution_count": 11,
   "metadata": {},
   "outputs": [],
   "source": [
    "#X[0].shape"
   ]
  },
  {
   "cell_type": "code",
   "execution_count": 12,
   "metadata": {},
   "outputs": [],
   "source": [
    "#X.shape"
   ]
  },
  {
   "cell_type": "code",
   "execution_count": 13,
   "metadata": {},
   "outputs": [
    {
     "data": {
      "text/plain": [
       "1    433\n",
       "2    221\n",
       "3    137\n",
       "Name: Accent_num, dtype: int64"
      ]
     },
     "execution_count": 13,
     "metadata": {},
     "output_type": "execute_result"
    }
   ],
   "source": [
    "y.value_counts()"
   ]
  },
  {
   "cell_type": "code",
   "execution_count": 14,
   "metadata": {},
   "outputs": [
    {
     "data": {
      "text/plain": [
       "pandas.core.frame.DataFrame"
      ]
     },
     "execution_count": 14,
     "metadata": {},
     "output_type": "execute_result"
    }
   ],
   "source": [
    "type(X)"
   ]
  },
  {
   "cell_type": "code",
   "execution_count": 15,
   "metadata": {},
   "outputs": [],
   "source": [
    "X_train , X_test , y_train , y_test = train_test_split(X,y,test_size=0.3,random_state=42,stratify=y )"
   ]
  },
  {
   "cell_type": "code",
   "execution_count": 16,
   "metadata": {},
   "outputs": [
    {
     "data": {
      "text/plain": [
       "(553, 784)"
      ]
     },
     "execution_count": 16,
     "metadata": {},
     "output_type": "execute_result"
    }
   ],
   "source": [
    "X_train.shape"
   ]
  },
  {
   "cell_type": "code",
   "execution_count": 17,
   "metadata": {},
   "outputs": [
    {
     "data": {
      "text/plain": [
       "(553,)"
      ]
     },
     "execution_count": 17,
     "metadata": {},
     "output_type": "execute_result"
    }
   ],
   "source": [
    "X_train[0].shape"
   ]
  },
  {
   "cell_type": "code",
   "execution_count": 18,
   "metadata": {},
   "outputs": [],
   "source": [
    "#rows = X_train[0].shape[0]\n",
    "#cols = X_train[0].shape[1]\n",
    "#rows "
   ]
  },
  {
   "cell_type": "code",
   "execution_count": 19,
   "metadata": {},
   "outputs": [
    {
     "data": {
      "text/plain": [
       "1    303\n",
       "2    154\n",
       "3     96\n",
       "Name: Accent_num, dtype: int64"
      ]
     },
     "execution_count": 19,
     "metadata": {},
     "output_type": "execute_result"
    }
   ],
   "source": [
    "y_train.value_counts()"
   ]
  },
  {
   "cell_type": "code",
   "execution_count": null,
   "metadata": {},
   "outputs": [],
   "source": []
  },
  {
   "cell_type": "markdown",
   "metadata": {},
   "source": [
    "# Trying SMOTE oversampling technic to try and balance the data"
   ]
  },
  {
   "cell_type": "code",
   "execution_count": 20,
   "metadata": {},
   "outputs": [],
   "source": [
    "sm=SMOTE()"
   ]
  },
  {
   "cell_type": "code",
   "execution_count": 21,
   "metadata": {},
   "outputs": [],
   "source": [
    "Xsm_train , ysm_train = sm.fit_sample(X_train , y_train)"
   ]
  },
  {
   "cell_type": "code",
   "execution_count": 22,
   "metadata": {},
   "outputs": [
    {
     "data": {
      "text/plain": [
       "pandas.core.frame.DataFrame"
      ]
     },
     "execution_count": 22,
     "metadata": {},
     "output_type": "execute_result"
    }
   ],
   "source": [
    "type(Xsm_train)"
   ]
  },
  {
   "cell_type": "code",
   "execution_count": 23,
   "metadata": {},
   "outputs": [
    {
     "data": {
      "text/plain": [
       "pandas.core.series.Series"
      ]
     },
     "execution_count": 23,
     "metadata": {},
     "output_type": "execute_result"
    }
   ],
   "source": [
    "type(ysm_train)"
   ]
  },
  {
   "cell_type": "code",
   "execution_count": 24,
   "metadata": {},
   "outputs": [
    {
     "name": "stdout",
     "output_type": "stream",
     "text": [
      "3    303\n",
      "2    303\n",
      "1    303\n",
      "Name: Accent_num, dtype: int64\n"
     ]
    }
   ],
   "source": [
    "print(pd.Series(ysm_train).value_counts())"
   ]
  },
  {
   "cell_type": "code",
   "execution_count": 25,
   "metadata": {},
   "outputs": [],
   "source": [
    "Xsm_train=np.array(Xsm_train)"
   ]
  },
  {
   "cell_type": "code",
   "execution_count": 26,
   "metadata": {},
   "outputs": [
    {
     "data": {
      "text/plain": [
       "(909, 784)"
      ]
     },
     "execution_count": 26,
     "metadata": {},
     "output_type": "execute_result"
    }
   ],
   "source": [
    "Xsm_train.shape"
   ]
  },
  {
   "cell_type": "code",
   "execution_count": 27,
   "metadata": {},
   "outputs": [
    {
     "data": {
      "text/plain": [
       "(784,)"
      ]
     },
     "execution_count": 27,
     "metadata": {},
     "output_type": "execute_result"
    }
   ],
   "source": [
    "Xsm_train[0].shape"
   ]
  },
  {
   "cell_type": "code",
   "execution_count": 28,
   "metadata": {},
   "outputs": [],
   "source": [
    "X_test=np.array(X_test)"
   ]
  },
  {
   "cell_type": "code",
   "execution_count": 29,
   "metadata": {},
   "outputs": [],
   "source": [
    "#rows = X_train[0].shape[0]\n",
    "#cols = X_train[0].shape[1]\n",
    "#rows "
   ]
  },
  {
   "cell_type": "code",
   "execution_count": 30,
   "metadata": {},
   "outputs": [],
   "source": [
    "X_train=Xsm_train.reshape(Xsm_train.shape[0],28,28)"
   ]
  },
  {
   "cell_type": "code",
   "execution_count": 31,
   "metadata": {},
   "outputs": [],
   "source": [
    "X_test=X_test.reshape(X_test.shape[0],28,28)"
   ]
  },
  {
   "cell_type": "code",
   "execution_count": 32,
   "metadata": {},
   "outputs": [
    {
     "name": "stdout",
     "output_type": "stream",
     "text": [
      "Train: X=(909, 28, 28), y=(553,)\n",
      "Test: X=(238, 28, 28), y=(238,)\n"
     ]
    },
    {
     "data": {
      "image/png": "[encoded data removed]",
      "text/plain": [
       "<Figure size 432x288 with 1 Axes>"
      ]
     },
     "metadata": {
      "needs_background": "light"
     },
     "output_type": "display_data"
    },
    {
     "data": {
      "image/png": "[encoded data removed]",
      "text/plain": [
       "<Figure size 432x288 with 1 Axes>"
      ]
     },
     "metadata": {
      "needs_background": "light"
     },
     "output_type": "display_data"
    },
    {
     "data": {
      "image/png": "[encoded data removed]",
      "text/plain": [
       "<Figure size 432x288 with 1 Axes>"
      ]
     },
     "metadata": {
      "needs_background": "light"
     },
     "output_type": "display_data"
    }
   ],
   "source": [
    "print('Train: X=%s, y=%s' % (X_train.shape, y_train.shape))\n",
    "print('Test: X=%s, y=%s' % (X_test.shape, y_test.shape))\n",
    "\n",
    "# plot first few images\n",
    "\n",
    "for i in range(3):\n",
    "    \n",
    "# plot raw pixel data\n",
    "    plt.imshow(X_train[i], cmap=plt.get_cmap('plasma'))\n",
    "# show the figure\n",
    "    plt.show()"
   ]
  },
  {
   "cell_type": "code",
   "execution_count": 33,
   "metadata": {},
   "outputs": [],
   "source": [
    "X_train = X_train.astype('float32')/255\n",
    "X_test = X_test.astype('float32')/255"
   ]
  },
  {
   "cell_type": "code",
   "execution_count": 34,
   "metadata": {},
   "outputs": [
    {
     "data": {
      "text/plain": [
       "array([[-0.1265163 , -0.11947132, -0.10949759, -0.10870349, -0.11381982,\n",
       "        -0.11176246, -0.11156242, -0.11575475, -0.09902835, -0.09929239,\n",
       "        -0.1153036 , -0.12246849, -0.1206795 , -0.11037698, -0.10038524,\n",
       "        -0.10528675, -0.11411802, -0.1112444 , -0.10225241, -0.10201324,\n",
       "        -0.11284667, -0.11187733, -0.1089025 , -0.11124761, -0.10675991,\n",
       "        -0.11499482, -0.11272328, -0.11223192],\n",
       "       [-0.12197392, -0.1194142 , -0.11107749, -0.11178077, -0.11137064,\n",
       "        -0.11451935, -0.11046054, -0.10540321, -0.10234459, -0.10430402,\n",
       "        -0.10197657, -0.11090949, -0.11467908, -0.10666274, -0.11190069,\n",
       "        -0.11384599, -0.10980308, -0.11008009, -0.10429161, -0.09979478,\n",
       "        -0.10151893, -0.10600594, -0.09944069, -0.09514348, -0.08960707,\n",
       "        -0.09020317, -0.09760015, -0.10693713],\n",
       "       [-0.11331835, -0.11816739, -0.10790652, -0.0994451 , -0.09972574,\n",
       "        -0.10310192, -0.10222299, -0.10126359, -0.09747977, -0.10597859,\n",
       "        -0.11594111, -0.11131385, -0.10882687, -0.10837228, -0.11279776,\n",
       "        -0.1091005 , -0.10643659, -0.10017059, -0.09528574, -0.09469476,\n",
       "        -0.06910257, -0.0681996 , -0.05747028, -0.04170213, -0.02862679,\n",
       "        -0.03125732, -0.03575575, -0.03196741],\n",
       "       [-0.0293983 , -0.03075173, -0.03259848, -0.03712261, -0.04172032,\n",
       "        -0.03843393, -0.03297807, -0.03237965, -0.03376621, -0.03739875,\n",
       "        -0.03852885, -0.0474337 , -0.0613103 , -0.06430872, -0.06404638,\n",
       "        -0.05944449, -0.07081474, -0.08098719, -0.07399128, -0.07000922,\n",
       "        -0.07783558, -0.07344888, -0.06592501, -0.05127846, -0.04548182,\n",
       "        -0.05997387, -0.07039772, -0.06956545],\n",
       "       [-0.06529785, -0.06187502, -0.05357273, -0.05038219, -0.05194978,\n",
       "        -0.05112377, -0.04706873, -0.04659408, -0.05253337, -0.07051457,\n",
       "        -0.07682337, -0.08744879, -0.091709  , -0.09106558, -0.09827045,\n",
       "        -0.10835483, -0.11039474, -0.10471695, -0.08167864, -0.0469223 ,\n",
       "        -0.03311349, -0.03558284, -0.03837496, -0.03560555, -0.04183433,\n",
       "        -0.04870486, -0.052918  , -0.05973103],\n",
       "       [-0.05879273, -0.05398471, -0.0561168 , -0.06138901, -0.06274231,\n",
       "        -0.06376962, -0.05863217, -0.05430077, -0.05452362, -0.05847766,\n",
       "        -0.060964  , -0.06201788, -0.06439856, -0.07028227, -0.07668003,\n",
       "        -0.09044749, -0.10149271, -0.08898629, -0.06248239, -0.04039328,\n",
       "        -0.04235425, -0.05710736, -0.06495561, -0.05162105, -0.03765411,\n",
       "        -0.03631232, -0.03363256, -0.01678083],\n",
       "       [-0.01383464, -0.01785986, -0.03571046, -0.0622064 , -0.07240304,\n",
       "        -0.07739265, -0.0872806 , -0.0917438 , -0.09692594, -0.0997369 ,\n",
       "        -0.10063197, -0.10172705, -0.09726113, -0.10181146, -0.10792562,\n",
       "        -0.10607912, -0.11062953, -0.10641503, -0.10722877, -0.11716453,\n",
       "        -0.11612283, -0.10368554, -0.1070435 , -0.11985821, -0.11478212,\n",
       "        -0.10913943, -0.10431048, -0.10304262],\n",
       "       [-0.0936612 , -0.09514232, -0.09456863, -0.09515957, -0.10651369,\n",
       "        -0.10712791, -0.1078596 , -0.10750572, -0.09689819, -0.07143947,\n",
       "        -0.05592197, -0.04684159, -0.04320409, -0.04823008, -0.0448483 ,\n",
       "        -0.04095106, -0.03583745, -0.04009749, -0.05112998, -0.04837928,\n",
       "        -0.04682315, -0.05385389, -0.06366239, -0.05540494, -0.04237815,\n",
       "        -0.04069187, -0.05232376, -0.07594915],\n",
       "       [-0.10002153, -0.08719422, -0.07489133, -0.06472213, -0.04312382,\n",
       "        -0.03574693, -0.03900929, -0.04718825, -0.04569574, -0.04073781,\n",
       "        -0.03809496, -0.03410627, -0.03420185, -0.03533844, -0.03952817,\n",
       "        -0.04529621, -0.04763723, -0.03211955, -0.03042193, -0.03586801,\n",
       "        -0.03850676, -0.0441149 , -0.04493772, -0.03690187, -0.03371182,\n",
       "        -0.03498922, -0.04153008, -0.05405084],\n",
       "       [-0.05835178, -0.0636125 , -0.07302504, -0.07532   , -0.04544327,\n",
       "         0.00700031,  0.02181355,  0.0200867 ,  0.00820362, -0.00513428,\n",
       "        -0.02706578, -0.04044089, -0.0330472 , -0.03694795, -0.04224996,\n",
       "        -0.03789898, -0.03938602, -0.04373733, -0.04166797, -0.03887967,\n",
       "        -0.04032752, -0.04456698, -0.04953556, -0.04706899, -0.04411361,\n",
       "        -0.04600634, -0.0435204 , -0.04388371],\n",
       "       [-0.05153173, -0.04660071, -0.04260587, -0.04414358, -0.04380773,\n",
       "        -0.04969607, -0.05393982, -0.05695836, -0.0611931 , -0.04844065,\n",
       "        -0.02887307, -0.03198693, -0.04646008, -0.05717654, -0.05756548,\n",
       "        -0.07472344, -0.08833142, -0.08455686, -0.05640959, -0.04272399,\n",
       "        -0.04070261, -0.04113313, -0.04332984, -0.04664083, -0.0413905 ,\n",
       "        -0.04212868, -0.04354283, -0.04635575],\n",
       "       [-0.04483972, -0.0440498 , -0.04729662, -0.04592507, -0.04457594,\n",
       "        -0.05400362, -0.05849966, -0.06402351, -0.071706  , -0.07438596,\n",
       "        -0.06263152, -0.04106409, -0.02550209, -0.0212926 , -0.01544859,\n",
       "        -0.01436087, -0.02169907, -0.03116339, -0.04163017, -0.05119873,\n",
       "        -0.05203961, -0.05107709, -0.05388706, -0.04801951, -0.04576269,\n",
       "        -0.05320215, -0.05109798, -0.04967061],\n",
       "       [-0.05463311, -0.05337926, -0.06351118, -0.07245171, -0.07865159,\n",
       "        -0.0807896 , -0.0800998 , -0.08161021, -0.06700735, -0.04810107,\n",
       "        -0.05158543, -0.05213733, -0.0474929 , -0.04318551, -0.03777532,\n",
       "        -0.03845135, -0.04804635, -0.04607746, -0.04625738, -0.04485741,\n",
       "        -0.04541208, -0.0487308 , -0.05208537, -0.05728072, -0.05365765,\n",
       "        -0.05414046, -0.04916191, -0.05131038],\n",
       "       [-0.06161559, -0.06015454, -0.04332736, -0.03544112, -0.04010517,\n",
       "        -0.06937393, -0.08831   , -0.05233151, -0.0285522 , -0.02979785,\n",
       "        -0.0346134 , -0.04158451, -0.05237122, -0.0513379 , -0.05116802,\n",
       "        -0.05488069, -0.0551227 , -0.05604647, -0.05316649, -0.0518043 ,\n",
       "        -0.05521768, -0.05459345, -0.05527386, -0.05536653, -0.05647595,\n",
       "        -0.0550377 , -0.05434723, -0.05693837],\n",
       "       [-0.05339214, -0.05645367, -0.06205627, -0.06768234, -0.0729737 ,\n",
       "        -0.07484523, -0.07505139, -0.06603261, -0.05006546, -0.01985865,\n",
       "        -0.00584168, -0.01745469, -0.03651086, -0.05311494, -0.06431764,\n",
       "        -0.08505777, -0.09802559, -0.09276808, -0.08493806, -0.08802016,\n",
       "        -0.10065472, -0.10690004, -0.11105294, -0.10492199, -0.10455938,\n",
       "        -0.11351475, -0.11340775, -0.11400298],\n",
       "       [-0.11867852, -0.11526786, -0.11230732, -0.10781134, -0.10888653,\n",
       "        -0.10273328, -0.10245928, -0.11267754, -0.11632818, -0.11733877,\n",
       "        -0.11066017, -0.10899319, -0.11013433, -0.10979567, -0.11023923,\n",
       "        -0.11580758, -0.11295214, -0.09857857, -0.08943033, -0.09748602,\n",
       "        -0.10601552, -0.10718726, -0.10323817, -0.10366821, -0.10170663,\n",
       "        -0.10137606, -0.10540564, -0.10446492],\n",
       "       [-0.1061941 , -0.10501453, -0.10248848, -0.09903757, -0.11243826,\n",
       "        -0.11049557, -0.10850254, -0.10423439, -0.10413692, -0.10994626,\n",
       "        -0.1064447 , -0.1046903 , -0.10559016, -0.1054877 , -0.10395734,\n",
       "        -0.07173766, -0.03949227, -0.03274602, -0.0316501 , -0.04685929,\n",
       "        -0.03643223, -0.01018497,  0.00084863, -0.00075016, -0.01230364,\n",
       "        -0.02770245, -0.04162145, -0.0455419 ],\n",
       "       [-0.05331726, -0.05393243, -0.06021465, -0.06270172, -0.07072229,\n",
       "        -0.08198569, -0.08286129, -0.08121096, -0.06867027, -0.04569219,\n",
       "        -0.02422284, -0.02342698, -0.04322607, -0.02467409,  0.01219807,\n",
       "         0.01668233,  0.00246781, -0.01363565, -0.02932123, -0.03063362,\n",
       "        -0.01697233, -0.02243373, -0.0353302 , -0.04696439, -0.04789075,\n",
       "        -0.04595762, -0.04657695, -0.04339158],\n",
       "       [-0.04553766, -0.05883085, -0.06830318, -0.06995358, -0.06848115,\n",
       "        -0.06154897, -0.04530022, -0.02346462, -0.0281901 , -0.04287357,\n",
       "        -0.05522529, -0.05702945, -0.06230034, -0.0654705 , -0.06865612,\n",
       "        -0.07451544, -0.07973702, -0.08700258, -0.09553333, -0.09664132,\n",
       "        -0.07766784, -0.05924718, -0.05394237, -0.04922548, -0.04891617,\n",
       "        -0.04732972, -0.04541061, -0.04967289],\n",
       "       [-0.05290679, -0.048895  , -0.04601038, -0.04129294, -0.04238857,\n",
       "        -0.04655213, -0.0508639 , -0.05272747, -0.05859149, -0.03485759,\n",
       "        -0.02997317, -0.03747128, -0.05403419, -0.06680135, -0.06276674,\n",
       "        -0.06845055, -0.07830099, -0.07774483, -0.07739528, -0.06462263,\n",
       "        -0.05064715, -0.03902491, -0.04145573, -0.04948497, -0.0411475 ,\n",
       "        -0.04316539, -0.04248694, -0.04235651],\n",
       "       [-0.04184897, -0.04483224, -0.04768412, -0.04555662, -0.0492836 ,\n",
       "        -0.04905309, -0.04519683, -0.04229571, -0.05223825, -0.07023335,\n",
       "        -0.05795557, -0.05712048, -0.06337393, -0.03661269, -0.02435732,\n",
       "        -0.03950335, -0.05685172, -0.04612014, -0.04438215, -0.05601606,\n",
       "        -0.0573138 , -0.05813818, -0.05865536, -0.05088187, -0.05103518,\n",
       "        -0.05251694, -0.05374962, -0.05270639],\n",
       "       [-0.050838  , -0.05081575, -0.05616234, -0.05588374, -0.05352636,\n",
       "        -0.05436411, -0.05134696, -0.05615122, -0.07743748, -0.08532529,\n",
       "        -0.09082813, -0.09916006, -0.07665283, -0.0715661 , -0.08319408,\n",
       "        -0.08212895, -0.07260814, -0.07051871, -0.06760481, -0.06339711,\n",
       "        -0.07606649, -0.08966066, -0.08661504, -0.08264758, -0.08481997,\n",
       "        -0.09198482, -0.10419119, -0.09475406],\n",
       "       [-0.09275799, -0.10731813, -0.10690824, -0.11294866, -0.11620403,\n",
       "        -0.10712554, -0.10108125, -0.10296455, -0.09776659, -0.09735782,\n",
       "        -0.08896683, -0.08770484, -0.10134208, -0.10067762, -0.09348698,\n",
       "        -0.0928525 , -0.09889457, -0.0983832 , -0.09506712, -0.10812867,\n",
       "        -0.11757974, -0.11789277, -0.11165041, -0.11035668, -0.10650645,\n",
       "        -0.10179798, -0.10353538, -0.10143515],\n",
       "       [-0.09567679, -0.09424212, -0.09117319, -0.0801711 , -0.08012117,\n",
       "        -0.08697828, -0.09064001, -0.06588881, -0.04030236, -0.03810184,\n",
       "        -0.03790173, -0.03621594, -0.03934512, -0.04652314, -0.04178692,\n",
       "        -0.04591536, -0.04161747, -0.03778766, -0.04015955, -0.04724102,\n",
       "        -0.04864601, -0.05117369, -0.04431419, -0.01793197, -0.00875155,\n",
       "        -0.01297721, -0.02073917, -0.01976119],\n",
       "       [-0.03032359, -0.0576045 , -0.05514456, -0.05966723, -0.06228844,\n",
       "        -0.06744659, -0.08651233, -0.08680841, -0.08644609, -0.07714816,\n",
       "        -0.05910498, -0.03477036, -0.03349448, -0.03855054, -0.04675031,\n",
       "        -0.05066488, -0.0461028 , -0.04911955, -0.05776339, -0.06232592,\n",
       "        -0.06520169, -0.07223419, -0.07431187, -0.07139964, -0.06909151,\n",
       "        -0.06817168, -0.06356601, -0.05035236],\n",
       "       [-0.05446681, -0.06145142, -0.07983256, -0.09865706, -0.09553894,\n",
       "        -0.07307013, -0.05753104, -0.05413919, -0.05618645, -0.05738009,\n",
       "        -0.05189085, -0.04757564, -0.04896574, -0.04928561, -0.05349993,\n",
       "        -0.04991027, -0.04838099, -0.05223756, -0.0511337 , -0.05562257,\n",
       "        -0.05504955, -0.05521236, -0.06561488, -0.0771949 , -0.07688956,\n",
       "        -0.09228993, -0.09737864, -0.07808339],\n",
       "       [-0.05602515, -0.04593296, -0.05343327, -0.05393391, -0.05190352,\n",
       "        -0.06136474, -0.06441723, -0.06576031, -0.06316859, -0.04781621,\n",
       "        -0.04358529, -0.05114476, -0.05648727, -0.05044376, -0.04861467,\n",
       "        -0.04603206, -0.04974244, -0.05087208, -0.04770336, -0.05021182,\n",
       "        -0.0591937 , -0.05341237, -0.05208615, -0.04524213, -0.04271941,\n",
       "        -0.04573499, -0.05231862, -0.06225735],\n",
       "       [-0.07003389, -0.08046241, -0.08025158, -0.08625952, -0.09491602,\n",
       "        -0.09945586, -0.07093661, -0.05198731, -0.05003504, -0.04955089,\n",
       "        -0.05195781, -0.0566071 , -0.05668909, -0.05570852, -0.05500022,\n",
       "        -0.05291886, -0.05061198, -0.05283134, -0.05487974, -0.05923017,\n",
       "        -0.05811155, -0.05886025, -0.06366812, -0.06943486, -0.06734234,\n",
       "        -0.07437986, -0.07868137, -0.0846375 ]], dtype=float32)"
      ]
     },
     "execution_count": 34,
     "metadata": {},
     "output_type": "execute_result"
    }
   ],
   "source": [
    "X_train[0]"
   ]
  },
  {
   "cell_type": "code",
   "execution_count": 35,
   "metadata": {},
   "outputs": [],
   "source": [
    "X_train=X_train.reshape(X_train.shape[0],28,28,1)\n",
    "X_test=X_test.reshape(X_test.shape[0],28,28,1)"
   ]
  },
  {
   "cell_type": "code",
   "execution_count": 36,
   "metadata": {},
   "outputs": [
    {
     "data": {
      "text/plain": [
       "((909, 28, 28, 1), (238, 28, 28, 1))"
      ]
     },
     "execution_count": 36,
     "metadata": {},
     "output_type": "execute_result"
    }
   ],
   "source": [
    "X_train.shape , X_test.shape"
   ]
  },
  {
   "cell_type": "code",
   "execution_count": 37,
   "metadata": {},
   "outputs": [
    {
     "data": {
      "text/plain": [
       "(28, 28, 1)"
      ]
     },
     "execution_count": 37,
     "metadata": {},
     "output_type": "execute_result"
    }
   ],
   "source": [
    "X_train[0].shape"
   ]
  },
  {
   "cell_type": "code",
   "execution_count": 38,
   "metadata": {},
   "outputs": [],
   "source": [
    "y_test_original=y_test"
   ]
  },
  {
   "cell_type": "code",
   "execution_count": 39,
   "metadata": {},
   "outputs": [
    {
     "data": {
      "text/plain": [
       "285    1\n",
       "549    2\n",
       "350    1\n",
       "91     1\n",
       "725    3\n",
       "      ..\n",
       "180    1\n",
       "185    1\n",
       "664    2\n",
       "755    1\n",
       "639    2\n",
       "Name: Accent_num, Length: 238, dtype: int64"
      ]
     },
     "execution_count": 39,
     "metadata": {},
     "output_type": "execute_result"
    }
   ],
   "source": [
    "y_test_original"
   ]
  },
  {
   "cell_type": "code",
   "execution_count": 40,
   "metadata": {},
   "outputs": [
    {
     "data": {
      "text/plain": [
       "1    130\n",
       "2     67\n",
       "3     41\n",
       "Name: Accent_num, dtype: int64"
      ]
     },
     "execution_count": 40,
     "metadata": {},
     "output_type": "execute_result"
    }
   ],
   "source": [
    "y_test_original.value_counts()"
   ]
  },
  {
   "cell_type": "code",
   "execution_count": 41,
   "metadata": {},
   "outputs": [
    {
     "data": {
      "text/plain": [
       "0      3\n",
       "1      3\n",
       "2      2\n",
       "3      1\n",
       "4      3\n",
       "      ..\n",
       "904    3\n",
       "905    3\n",
       "906    3\n",
       "907    3\n",
       "908    3\n",
       "Name: Accent_num, Length: 909, dtype: int64"
      ]
     },
     "execution_count": 41,
     "metadata": {},
     "output_type": "execute_result"
    }
   ],
   "source": [
    "ysm_train"
   ]
  },
  {
   "cell_type": "code",
   "execution_count": 42,
   "metadata": {},
   "outputs": [],
   "source": [
    "y_train=np_utils.to_categorical(ysm_train,4)\n",
    "y_test=np_utils.to_categorical(y_test,4)"
   ]
  },
  {
   "cell_type": "code",
   "execution_count": 62,
   "metadata": {},
   "outputs": [
    {
     "data": {
      "text/plain": [
       "(909, 4)"
      ]
     },
     "execution_count": 62,
     "metadata": {},
     "output_type": "execute_result"
    }
   ],
   "source": [
    "y_train.shape"
   ]
  },
  {
   "cell_type": "code",
   "execution_count": 44,
   "metadata": {},
   "outputs": [
    {
     "data": {
      "text/plain": [
       "(238, 4)"
      ]
     },
     "execution_count": 44,
     "metadata": {},
     "output_type": "execute_result"
    }
   ],
   "source": [
    "y_test.shape"
   ]
  },
  {
   "cell_type": "code",
   "execution_count": 45,
   "metadata": {},
   "outputs": [
    {
     "data": {
      "text/plain": [
       "((909, 4), (238, 4))"
      ]
     },
     "execution_count": 45,
     "metadata": {},
     "output_type": "execute_result"
    }
   ],
   "source": [
    "y_train.shape , y_test.shape"
   ]
  },
  {
   "cell_type": "code",
   "execution_count": 43,
   "metadata": {},
   "outputs": [
    {
     "data": {
      "text/plain": [
       "array([[0., 0., 0., 1.],\n",
       "       [0., 0., 0., 1.],\n",
       "       [0., 0., 1., 0.],\n",
       "       ...,\n",
       "       [0., 0., 0., 1.],\n",
       "       [0., 0., 0., 1.],\n",
       "       [0., 0., 0., 1.]], dtype=float32)"
      ]
     },
     "execution_count": 43,
     "metadata": {},
     "output_type": "execute_result"
    }
   ],
   "source": [
    "y_train"
   ]
  },
  {
   "cell_type": "code",
   "execution_count": 63,
   "metadata": {},
   "outputs": [
    {
     "data": {
      "text/plain": [
       "array([[[[0., 1., 0., 0.],\n",
       "         [1., 0., 0., 0.],\n",
       "         [1., 0., 0., 0.],\n",
       "         [1., 0., 0., 0.]],\n",
       "\n",
       "        [[1., 0., 0., 0.],\n",
       "         [0., 1., 0., 0.],\n",
       "         [1., 0., 0., 0.],\n",
       "         [1., 0., 0., 0.]],\n",
       "\n",
       "        [[0., 1., 0., 0.],\n",
       "         [1., 0., 0., 0.],\n",
       "         [1., 0., 0., 0.],\n",
       "         [1., 0., 0., 0.]],\n",
       "\n",
       "        [[0., 1., 0., 0.],\n",
       "         [1., 0., 0., 0.],\n",
       "         [1., 0., 0., 0.],\n",
       "         [1., 0., 0., 0.]]],\n",
       "\n",
       "\n",
       "       [[[0., 1., 0., 0.],\n",
       "         [1., 0., 0., 0.],\n",
       "         [1., 0., 0., 0.],\n",
       "         [1., 0., 0., 0.]],\n",
       "\n",
       "        [[0., 1., 0., 0.],\n",
       "         [1., 0., 0., 0.],\n",
       "         [1., 0., 0., 0.],\n",
       "         [1., 0., 0., 0.]],\n",
       "\n",
       "        [[1., 0., 0., 0.],\n",
       "         [0., 1., 0., 0.],\n",
       "         [1., 0., 0., 0.],\n",
       "         [1., 0., 0., 0.]],\n",
       "\n",
       "        [[0., 1., 0., 0.],\n",
       "         [1., 0., 0., 0.],\n",
       "         [1., 0., 0., 0.],\n",
       "         [1., 0., 0., 0.]]],\n",
       "\n",
       "\n",
       "       [[[0., 1., 0., 0.],\n",
       "         [1., 0., 0., 0.],\n",
       "         [1., 0., 0., 0.],\n",
       "         [1., 0., 0., 0.]],\n",
       "\n",
       "        [[1., 0., 0., 0.],\n",
       "         [0., 1., 0., 0.],\n",
       "         [1., 0., 0., 0.],\n",
       "         [1., 0., 0., 0.]],\n",
       "\n",
       "        [[0., 1., 0., 0.],\n",
       "         [1., 0., 0., 0.],\n",
       "         [1., 0., 0., 0.],\n",
       "         [1., 0., 0., 0.]],\n",
       "\n",
       "        [[0., 1., 0., 0.],\n",
       "         [1., 0., 0., 0.],\n",
       "         [1., 0., 0., 0.],\n",
       "         [1., 0., 0., 0.]]],\n",
       "\n",
       "\n",
       "       ...,\n",
       "\n",
       "\n",
       "       [[[0., 1., 0., 0.],\n",
       "         [1., 0., 0., 0.],\n",
       "         [1., 0., 0., 0.],\n",
       "         [1., 0., 0., 0.]],\n",
       "\n",
       "        [[0., 1., 0., 0.],\n",
       "         [1., 0., 0., 0.],\n",
       "         [1., 0., 0., 0.],\n",
       "         [1., 0., 0., 0.]],\n",
       "\n",
       "        [[1., 0., 0., 0.],\n",
       "         [0., 1., 0., 0.],\n",
       "         [1., 0., 0., 0.],\n",
       "         [1., 0., 0., 0.]],\n",
       "\n",
       "        [[0., 1., 0., 0.],\n",
       "         [1., 0., 0., 0.],\n",
       "         [1., 0., 0., 0.],\n",
       "         [1., 0., 0., 0.]]],\n",
       "\n",
       "\n",
       "       [[[0., 1., 0., 0.],\n",
       "         [1., 0., 0., 0.],\n",
       "         [1., 0., 0., 0.],\n",
       "         [1., 0., 0., 0.]],\n",
       "\n",
       "        [[1., 0., 0., 0.],\n",
       "         [0., 1., 0., 0.],\n",
       "         [1., 0., 0., 0.],\n",
       "         [1., 0., 0., 0.]],\n",
       "\n",
       "        [[0., 1., 0., 0.],\n",
       "         [1., 0., 0., 0.],\n",
       "         [1., 0., 0., 0.],\n",
       "         [1., 0., 0., 0.]],\n",
       "\n",
       "        [[0., 1., 0., 0.],\n",
       "         [1., 0., 0., 0.],\n",
       "         [1., 0., 0., 0.],\n",
       "         [1., 0., 0., 0.]]],\n",
       "\n",
       "\n",
       "       [[[0., 1., 0., 0.],\n",
       "         [1., 0., 0., 0.],\n",
       "         [1., 0., 0., 0.],\n",
       "         [1., 0., 0., 0.]],\n",
       "\n",
       "        [[0., 1., 0., 0.],\n",
       "         [1., 0., 0., 0.],\n",
       "         [1., 0., 0., 0.],\n",
       "         [1., 0., 0., 0.]],\n",
       "\n",
       "        [[1., 0., 0., 0.],\n",
       "         [0., 1., 0., 0.],\n",
       "         [1., 0., 0., 0.],\n",
       "         [1., 0., 0., 0.]],\n",
       "\n",
       "        [[0., 1., 0., 0.],\n",
       "         [1., 0., 0., 0.],\n",
       "         [1., 0., 0., 0.],\n",
       "         [1., 0., 0., 0.]]]], dtype=float32)"
      ]
     },
     "execution_count": 63,
     "metadata": {},
     "output_type": "execute_result"
    }
   ],
   "source": [
    "y_test"
   ]
  },
  {
   "cell_type": "code",
   "execution_count": 64,
   "metadata": {},
   "outputs": [
    {
     "data": {
      "text/plain": [
       "numpy.ndarray"
      ]
     },
     "execution_count": 64,
     "metadata": {},
     "output_type": "execute_result"
    }
   ],
   "source": [
    "type(X_train)"
   ]
  },
  {
   "cell_type": "code",
   "execution_count": 46,
   "metadata": {},
   "outputs": [
    {
     "data": {
      "text/plain": [
       "numpy.ndarray"
      ]
     },
     "execution_count": 46,
     "metadata": {},
     "output_type": "execute_result"
    }
   ],
   "source": [
    "type(y_train)"
   ]
  },
  {
   "cell_type": "code",
   "execution_count": 47,
   "metadata": {},
   "outputs": [
    {
     "data": {
      "text/plain": [
       "numpy.ndarray"
      ]
     },
     "execution_count": 47,
     "metadata": {},
     "output_type": "execute_result"
    }
   ],
   "source": [
    "type(y_test)"
   ]
  },
  {
   "cell_type": "markdown",
   "metadata": {},
   "source": [
    "# CNN model for classification"
   ]
  },
  {
   "cell_type": "code",
   "execution_count": 48,
   "metadata": {},
   "outputs": [],
   "source": [
    "cnn=Sequential()"
   ]
  },
  {
   "cell_type": "code",
   "execution_count": 49,
   "metadata": {},
   "outputs": [],
   "source": [
    "cnn.add(Conv2D(filters = 4,\n",
    "               kernel_size=(3,3),\n",
    "               activation='relu',\n",
    "               input_shape=(28,28,1)))"
   ]
  },
  {
   "cell_type": "code",
   "execution_count": 50,
   "metadata": {},
   "outputs": [],
   "source": [
    "cnn.add(MaxPooling2D(pool_size=(2,2)))"
   ]
  },
  {
   "cell_type": "code",
   "execution_count": 51,
   "metadata": {},
   "outputs": [],
   "source": [
    "cnn.add(Flatten())\n",
    "\n",
    "# Add a densely-connected layer with 128 neurons.\n",
    "cnn.add(Dense(128,activation ='relu'))\n",
    "cnn.add(Dense(64,activation ='relu'))\n",
    "\n",
    "\n",
    "# Add output layer with 10 neurons.\n",
    "cnn.add(Dense(4,activation='softmax'))\n",
    "\n",
    "# compiler\n",
    "cnn.compile(loss='categorical_crossentropy',\n",
    "           optimizer = 'adam',\n",
    "            metrics = ['accuracy']\n",
    "           )"
   ]
  },
  {
   "cell_type": "code",
   "execution_count": 52,
   "metadata": {},
   "outputs": [
    {
     "name": "stdout",
     "output_type": "stream",
     "text": [
      "Epoch 1/150\n",
      "19/19 [==============================] - 0s 13ms/step - loss: 1.2400 - accuracy: 0.3322 - val_loss: 1.1131 - val_accuracy: 0.4412\n",
      "Epoch 2/150\n",
      "19/19 [==============================] - 0s 6ms/step - loss: 1.1022 - accuracy: 0.3509 - val_loss: 1.0899 - val_accuracy: 0.3445\n",
      "Epoch 3/150\n",
      "19/19 [==============================] - 0s 6ms/step - loss: 1.0829 - accuracy: 0.3883 - val_loss: 1.1362 - val_accuracy: 0.2605\n",
      "Epoch 4/150\n",
      "19/19 [==============================] - 0s 7ms/step - loss: 1.0685 - accuracy: 0.4235 - val_loss: 1.0174 - val_accuracy: 0.5252\n",
      "Epoch 5/150\n",
      "19/19 [==============================] - 0s 7ms/step - loss: 1.0782 - accuracy: 0.3674 - val_loss: 1.0670 - val_accuracy: 0.4454\n",
      "Epoch 6/150\n",
      "19/19 [==============================] - 0s 7ms/step - loss: 1.0436 - accuracy: 0.4455 - val_loss: 1.0022 - val_accuracy: 0.5210\n",
      "Epoch 7/150\n",
      "19/19 [==============================] - 0s 7ms/step - loss: 1.0307 - accuracy: 0.4510 - val_loss: 1.0276 - val_accuracy: 0.5042\n",
      "Epoch 8/150\n",
      "19/19 [==============================] - 0s 7ms/step - loss: 1.0228 - accuracy: 0.4851 - val_loss: 0.9515 - val_accuracy: 0.5084\n",
      "Epoch 9/150\n",
      "19/19 [==============================] - 0s 7ms/step - loss: 1.0006 - accuracy: 0.4961 - val_loss: 0.9651 - val_accuracy: 0.6008\n",
      "Epoch 10/150\n",
      "19/19 [==============================] - 0s 7ms/step - loss: 0.9890 - accuracy: 0.5083 - val_loss: 0.9007 - val_accuracy: 0.6050\n",
      "Epoch 11/150\n",
      "19/19 [==============================] - 0s 7ms/step - loss: 0.9808 - accuracy: 0.5237 - val_loss: 1.0149 - val_accuracy: 0.4286\n",
      "Epoch 12/150\n",
      "19/19 [==============================] - 0s 7ms/step - loss: 0.9551 - accuracy: 0.5237 - val_loss: 0.9468 - val_accuracy: 0.5630\n",
      "Epoch 13/150\n",
      "19/19 [==============================] - 0s 8ms/step - loss: 0.9811 - accuracy: 0.5094 - val_loss: 1.1485 - val_accuracy: 0.4664\n",
      "Epoch 14/150\n",
      "19/19 [==============================] - 0s 7ms/step - loss: 0.9626 - accuracy: 0.5534 - val_loss: 0.9612 - val_accuracy: 0.6218\n",
      "Epoch 15/150\n",
      "19/19 [==============================] - 0s 8ms/step - loss: 0.9325 - accuracy: 0.5743 - val_loss: 0.9277 - val_accuracy: 0.6261\n",
      "Epoch 16/150\n",
      "19/19 [==============================] - 0s 8ms/step - loss: 0.9257 - accuracy: 0.5776 - val_loss: 0.9313 - val_accuracy: 0.6134\n",
      "Epoch 17/150\n",
      "19/19 [==============================] - 0s 8ms/step - loss: 0.9044 - accuracy: 0.5919 - val_loss: 1.0202 - val_accuracy: 0.5756\n",
      "Epoch 18/150\n",
      "19/19 [==============================] - 0s 8ms/step - loss: 0.8952 - accuracy: 0.6117 - val_loss: 0.9441 - val_accuracy: 0.5882\n",
      "Epoch 19/150\n",
      "19/19 [==============================] - 0s 8ms/step - loss: 0.8765 - accuracy: 0.6227 - val_loss: 0.9086 - val_accuracy: 0.5756\n",
      "Epoch 20/150\n",
      "19/19 [==============================] - 0s 8ms/step - loss: 0.8685 - accuracy: 0.6172 - val_loss: 1.0449 - val_accuracy: 0.5420\n",
      "Epoch 21/150\n",
      "19/19 [==============================] - 0s 8ms/step - loss: 0.8541 - accuracy: 0.6392 - val_loss: 0.9806 - val_accuracy: 0.5504\n",
      "Epoch 22/150\n",
      "19/19 [==============================] - 0s 9ms/step - loss: 0.8494 - accuracy: 0.6337 - val_loss: 0.9448 - val_accuracy: 0.5546\n",
      "Epoch 23/150\n",
      "19/19 [==============================] - 0s 9ms/step - loss: 0.8316 - accuracy: 0.6601 - val_loss: 0.8724 - val_accuracy: 0.6429\n",
      "Epoch 24/150\n",
      "19/19 [==============================] - 0s 10ms/step - loss: 0.8356 - accuracy: 0.6447 - val_loss: 0.9283 - val_accuracy: 0.5798\n",
      "Epoch 25/150\n",
      "19/19 [==============================] - 0s 10ms/step - loss: 0.7996 - accuracy: 0.6557 - val_loss: 0.9113 - val_accuracy: 0.6176\n",
      "Epoch 26/150\n",
      "19/19 [==============================] - 0s 10ms/step - loss: 0.7930 - accuracy: 0.6656 - val_loss: 0.8920 - val_accuracy: 0.5798\n",
      "Epoch 27/150\n",
      "19/19 [==============================] - 0s 10ms/step - loss: 0.7869 - accuracy: 0.6843 - val_loss: 0.9166 - val_accuracy: 0.6176\n",
      "Epoch 28/150\n",
      "19/19 [==============================] - 0s 9ms/step - loss: 0.7828 - accuracy: 0.6656 - val_loss: 0.9363 - val_accuracy: 0.5924\n",
      "Epoch 29/150\n",
      "19/19 [==============================] - 0s 9ms/step - loss: 0.7593 - accuracy: 0.6975 - val_loss: 0.9174 - val_accuracy: 0.5504\n",
      "Epoch 30/150\n",
      "19/19 [==============================] - 0s 10ms/step - loss: 0.7400 - accuracy: 0.7008 - val_loss: 1.0638 - val_accuracy: 0.4874\n",
      "Epoch 31/150\n",
      "19/19 [==============================] - 0s 10ms/step - loss: 0.7422 - accuracy: 0.7096 - val_loss: 0.9982 - val_accuracy: 0.5294\n",
      "Epoch 32/150\n",
      "19/19 [==============================] - 0s 9ms/step - loss: 0.7046 - accuracy: 0.7349 - val_loss: 0.9949 - val_accuracy: 0.5252\n",
      "Epoch 33/150\n",
      "19/19 [==============================] - 0s 10ms/step - loss: 0.7254 - accuracy: 0.6843 - val_loss: 1.0429 - val_accuracy: 0.4916\n",
      "Epoch 34/150\n",
      "19/19 [==============================] - 0s 10ms/step - loss: 0.7128 - accuracy: 0.7195 - val_loss: 0.9573 - val_accuracy: 0.5378\n",
      "Epoch 35/150\n",
      "19/19 [==============================] - 0s 10ms/step - loss: 0.6817 - accuracy: 0.7371 - val_loss: 0.9640 - val_accuracy: 0.5798\n",
      "Epoch 36/150\n",
      "19/19 [==============================] - 0s 10ms/step - loss: 0.6663 - accuracy: 0.7437 - val_loss: 0.9322 - val_accuracy: 0.6092\n",
      "Epoch 37/150\n",
      "19/19 [==============================] - 0s 10ms/step - loss: 0.6498 - accuracy: 0.7569 - val_loss: 0.9984 - val_accuracy: 0.5966\n",
      "Epoch 38/150\n",
      "19/19 [==============================] - 0s 10ms/step - loss: 0.6373 - accuracy: 0.7514 - val_loss: 1.0551 - val_accuracy: 0.4958\n",
      "Epoch 39/150\n",
      "19/19 [==============================] - 0s 9ms/step - loss: 0.6075 - accuracy: 0.7844 - val_loss: 0.9782 - val_accuracy: 0.5714\n",
      "Epoch 40/150\n",
      "19/19 [==============================] - 0s 9ms/step - loss: 0.5912 - accuracy: 0.7778 - val_loss: 1.0065 - val_accuracy: 0.5420\n",
      "Epoch 41/150\n",
      "19/19 [==============================] - 0s 9ms/step - loss: 0.5871 - accuracy: 0.7822 - val_loss: 1.0083 - val_accuracy: 0.5462\n",
      "Epoch 42/150\n",
      "19/19 [==============================] - 0s 10ms/step - loss: 0.5667 - accuracy: 0.7943 - val_loss: 1.1697 - val_accuracy: 0.4832\n",
      "Epoch 43/150\n",
      "19/19 [==============================] - 0s 10ms/step - loss: 0.5611 - accuracy: 0.7943 - val_loss: 1.0613 - val_accuracy: 0.5294\n",
      "Epoch 44/150\n",
      "19/19 [==============================] - 0s 10ms/step - loss: 0.5447 - accuracy: 0.8042 - val_loss: 1.1295 - val_accuracy: 0.4790\n",
      "Epoch 45/150\n",
      "19/19 [==============================] - 0s 10ms/step - loss: 0.5528 - accuracy: 0.7899 - val_loss: 1.0314 - val_accuracy: 0.5672\n",
      "Epoch 46/150\n",
      "19/19 [==============================] - 0s 10ms/step - loss: 0.5241 - accuracy: 0.8185 - val_loss: 1.2062 - val_accuracy: 0.4832\n",
      "Epoch 47/150\n",
      "19/19 [==============================] - 0s 10ms/step - loss: 0.5367 - accuracy: 0.8086 - val_loss: 1.0519 - val_accuracy: 0.5588\n",
      "Epoch 48/150\n",
      "19/19 [==============================] - 0s 11ms/step - loss: 0.4967 - accuracy: 0.8229 - val_loss: 1.1410 - val_accuracy: 0.5294\n",
      "Epoch 49/150\n",
      "19/19 [==============================] - 0s 10ms/step - loss: 0.4789 - accuracy: 0.8262 - val_loss: 1.1171 - val_accuracy: 0.5000\n",
      "Epoch 50/150\n",
      "19/19 [==============================] - 0s 8ms/step - loss: 0.4715 - accuracy: 0.8383 - val_loss: 1.1473 - val_accuracy: 0.4958\n",
      "Epoch 51/150\n",
      "19/19 [==============================] - 0s 9ms/step - loss: 0.4656 - accuracy: 0.8383 - val_loss: 1.1809 - val_accuracy: 0.5000\n",
      "Epoch 52/150\n",
      "19/19 [==============================] - 0s 9ms/step - loss: 0.4384 - accuracy: 0.8460 - val_loss: 1.1640 - val_accuracy: 0.5294\n",
      "Epoch 53/150\n",
      "19/19 [==============================] - 0s 11ms/step - loss: 0.4348 - accuracy: 0.8526 - val_loss: 1.1702 - val_accuracy: 0.5042\n",
      "Epoch 54/150\n",
      "19/19 [==============================] - 0s 10ms/step - loss: 0.4225 - accuracy: 0.8471 - val_loss: 1.2398 - val_accuracy: 0.5084\n",
      "Epoch 55/150\n",
      "19/19 [==============================] - 0s 9ms/step - loss: 0.4391 - accuracy: 0.8328 - val_loss: 1.1533 - val_accuracy: 0.5546\n",
      "Epoch 56/150\n",
      "19/19 [==============================] - 0s 9ms/step - loss: 0.4038 - accuracy: 0.8636 - val_loss: 1.2823 - val_accuracy: 0.5042\n",
      "Epoch 57/150\n",
      "19/19 [==============================] - 0s 10ms/step - loss: 0.3809 - accuracy: 0.8713 - val_loss: 1.2053 - val_accuracy: 0.5336\n",
      "Epoch 58/150\n",
      "19/19 [==============================] - 0s 10ms/step - loss: 0.3668 - accuracy: 0.8746 - val_loss: 1.3266 - val_accuracy: 0.4874\n",
      "Epoch 59/150\n",
      "19/19 [==============================] - 0s 9ms/step - loss: 0.3577 - accuracy: 0.8768 - val_loss: 1.2045 - val_accuracy: 0.5588\n",
      "Epoch 60/150\n",
      "19/19 [==============================] - 0s 8ms/step - loss: 0.3444 - accuracy: 0.8768 - val_loss: 1.3072 - val_accuracy: 0.5210\n",
      "Epoch 61/150\n",
      "19/19 [==============================] - 0s 9ms/step - loss: 0.3366 - accuracy: 0.8922 - val_loss: 1.3240 - val_accuracy: 0.4958\n",
      "Epoch 62/150\n",
      "19/19 [==============================] - 0s 9ms/step - loss: 0.3168 - accuracy: 0.9010 - val_loss: 1.4297 - val_accuracy: 0.4958\n",
      "Epoch 63/150\n",
      "19/19 [==============================] - 0s 8ms/step - loss: 0.3040 - accuracy: 0.9021 - val_loss: 1.3005 - val_accuracy: 0.5630\n",
      "Epoch 64/150\n",
      "19/19 [==============================] - 0s 10ms/step - loss: 0.2997 - accuracy: 0.9175 - val_loss: 1.3666 - val_accuracy: 0.4958\n",
      "Epoch 65/150\n",
      "19/19 [==============================] - 0s 10ms/step - loss: 0.2895 - accuracy: 0.9087 - val_loss: 1.3360 - val_accuracy: 0.5378\n",
      "Epoch 66/150\n",
      "19/19 [==============================] - 0s 10ms/step - loss: 0.2735 - accuracy: 0.9175 - val_loss: 1.3494 - val_accuracy: 0.5168\n",
      "Epoch 67/150\n",
      "19/19 [==============================] - 0s 10ms/step - loss: 0.2682 - accuracy: 0.9175 - val_loss: 1.5215 - val_accuracy: 0.5042\n",
      "Epoch 68/150\n",
      "19/19 [==============================] - 0s 10ms/step - loss: 0.2745 - accuracy: 0.9208 - val_loss: 1.3537 - val_accuracy: 0.5672\n",
      "Epoch 69/150\n",
      "19/19 [==============================] - 0s 10ms/step - loss: 0.2548 - accuracy: 0.9230 - val_loss: 1.4058 - val_accuracy: 0.5294\n",
      "Epoch 70/150\n",
      "19/19 [==============================] - 0s 10ms/step - loss: 0.2498 - accuracy: 0.9296 - val_loss: 1.4573 - val_accuracy: 0.5294\n",
      "Epoch 71/150\n",
      "19/19 [==============================] - 0s 10ms/step - loss: 0.2563 - accuracy: 0.9197 - val_loss: 1.3883 - val_accuracy: 0.5588\n",
      "Epoch 72/150\n",
      "19/19 [==============================] - 0s 10ms/step - loss: 0.2330 - accuracy: 0.9439 - val_loss: 1.5647 - val_accuracy: 0.5336\n",
      "Epoch 73/150\n",
      "19/19 [==============================] - 0s 10ms/step - loss: 0.2199 - accuracy: 0.9318 - val_loss: 1.4788 - val_accuracy: 0.5294\n",
      "Epoch 74/150\n",
      "19/19 [==============================] - 0s 10ms/step - loss: 0.2071 - accuracy: 0.9472 - val_loss: 1.5917 - val_accuracy: 0.5420\n",
      "Epoch 75/150\n",
      "19/19 [==============================] - 0s 10ms/step - loss: 0.2179 - accuracy: 0.9296 - val_loss: 1.6324 - val_accuracy: 0.5126\n",
      "Epoch 76/150\n",
      "19/19 [==============================] - 0s 10ms/step - loss: 0.2084 - accuracy: 0.9362 - val_loss: 1.4990 - val_accuracy: 0.5756\n",
      "Epoch 77/150\n",
      "19/19 [==============================] - 0s 11ms/step - loss: 0.1855 - accuracy: 0.9582 - val_loss: 1.5995 - val_accuracy: 0.5294\n",
      "Epoch 78/150\n",
      "19/19 [==============================] - 0s 10ms/step - loss: 0.1873 - accuracy: 0.9538 - val_loss: 1.6825 - val_accuracy: 0.5252\n",
      "Epoch 79/150\n",
      "19/19 [==============================] - 0s 10ms/step - loss: 0.1927 - accuracy: 0.9483 - val_loss: 1.5579 - val_accuracy: 0.5420\n",
      "Epoch 80/150\n",
      "19/19 [==============================] - 0s 10ms/step - loss: 0.2168 - accuracy: 0.9274 - val_loss: 1.5763 - val_accuracy: 0.5336\n",
      "Epoch 81/150\n",
      "19/19 [==============================] - 0s 11ms/step - loss: 0.1751 - accuracy: 0.9505 - val_loss: 1.5623 - val_accuracy: 0.5756\n",
      "Epoch 82/150\n",
      "19/19 [==============================] - 0s 11ms/step - loss: 0.1564 - accuracy: 0.9637 - val_loss: 1.5791 - val_accuracy: 0.5462\n",
      "Epoch 83/150\n",
      "19/19 [==============================] - 0s 10ms/step - loss: 0.1522 - accuracy: 0.9615 - val_loss: 1.6236 - val_accuracy: 0.5546\n",
      "Epoch 84/150\n",
      "19/19 [==============================] - 0s 11ms/step - loss: 0.1615 - accuracy: 0.9637 - val_loss: 1.6247 - val_accuracy: 0.5546\n",
      "Epoch 85/150\n",
      "19/19 [==============================] - 0s 11ms/step - loss: 0.1723 - accuracy: 0.9472 - val_loss: 1.5951 - val_accuracy: 0.5546\n",
      "Epoch 86/150\n",
      "19/19 [==============================] - 0s 10ms/step - loss: 0.1355 - accuracy: 0.9659 - val_loss: 1.6880 - val_accuracy: 0.5588\n",
      "Epoch 87/150\n",
      "19/19 [==============================] - 0s 11ms/step - loss: 0.1454 - accuracy: 0.9637 - val_loss: 1.6924 - val_accuracy: 0.5588\n",
      "Epoch 88/150\n",
      "19/19 [==============================] - 0s 11ms/step - loss: 0.1242 - accuracy: 0.9725 - val_loss: 1.6643 - val_accuracy: 0.5588\n",
      "Epoch 89/150\n",
      "19/19 [==============================] - 0s 11ms/step - loss: 0.1236 - accuracy: 0.9681 - val_loss: 1.8670 - val_accuracy: 0.5252\n",
      "Epoch 90/150\n",
      "19/19 [==============================] - 0s 11ms/step - loss: 0.1159 - accuracy: 0.9736 - val_loss: 1.7085 - val_accuracy: 0.5378\n",
      "Epoch 91/150\n",
      "19/19 [==============================] - 0s 11ms/step - loss: 0.1118 - accuracy: 0.9736 - val_loss: 1.7685 - val_accuracy: 0.5462\n",
      "Epoch 92/150\n",
      "19/19 [==============================] - 0s 12ms/step - loss: 0.1069 - accuracy: 0.9780 - val_loss: 1.7591 - val_accuracy: 0.5588\n",
      "Epoch 93/150\n",
      "19/19 [==============================] - 0s 11ms/step - loss: 0.1057 - accuracy: 0.9736 - val_loss: 1.8620 - val_accuracy: 0.5546\n",
      "Epoch 94/150\n",
      "19/19 [==============================] - 0s 12ms/step - loss: 0.1654 - accuracy: 0.9362 - val_loss: 1.8955 - val_accuracy: 0.5504\n",
      "Epoch 95/150\n",
      "19/19 [==============================] - 0s 10ms/step - loss: 0.1100 - accuracy: 0.9780 - val_loss: 1.7943 - val_accuracy: 0.5378\n",
      "Epoch 96/150\n",
      "19/19 [==============================] - 0s 10ms/step - loss: 0.1073 - accuracy: 0.9714 - val_loss: 1.8197 - val_accuracy: 0.5714\n",
      "Epoch 97/150\n",
      "19/19 [==============================] - 0s 11ms/step - loss: 0.0923 - accuracy: 0.9791 - val_loss: 1.9795 - val_accuracy: 0.5252\n",
      "Epoch 98/150\n",
      "19/19 [==============================] - 0s 11ms/step - loss: 0.0841 - accuracy: 0.9835 - val_loss: 1.8690 - val_accuracy: 0.5630\n",
      "Epoch 99/150\n",
      "19/19 [==============================] - 0s 10ms/step - loss: 0.0806 - accuracy: 0.9813 - val_loss: 1.8641 - val_accuracy: 0.5462\n",
      "Epoch 100/150\n",
      "19/19 [==============================] - 0s 11ms/step - loss: 0.0788 - accuracy: 0.9835 - val_loss: 2.0012 - val_accuracy: 0.5546\n",
      "Epoch 101/150\n",
      "19/19 [==============================] - 0s 12ms/step - loss: 0.0791 - accuracy: 0.9846 - val_loss: 1.9562 - val_accuracy: 0.5336\n",
      "Epoch 102/150\n",
      "19/19 [==============================] - 0s 11ms/step - loss: 0.0739 - accuracy: 0.9824 - val_loss: 1.9993 - val_accuracy: 0.5588\n",
      "Epoch 103/150\n",
      "19/19 [==============================] - 0s 11ms/step - loss: 0.0800 - accuracy: 0.9802 - val_loss: 1.9753 - val_accuracy: 0.5798\n",
      "Epoch 104/150\n",
      "19/19 [==============================] - 0s 11ms/step - loss: 0.0776 - accuracy: 0.9824 - val_loss: 2.0472 - val_accuracy: 0.5588\n",
      "Epoch 105/150\n",
      "19/19 [==============================] - 0s 12ms/step - loss: 0.0626 - accuracy: 0.9879 - val_loss: 2.0073 - val_accuracy: 0.5504\n",
      "Epoch 106/150\n",
      "19/19 [==============================] - 0s 12ms/step - loss: 0.0585 - accuracy: 0.9890 - val_loss: 2.0671 - val_accuracy: 0.5420\n",
      "Epoch 107/150\n",
      "19/19 [==============================] - 0s 10ms/step - loss: 0.0655 - accuracy: 0.9857 - val_loss: 2.0234 - val_accuracy: 0.5546\n",
      "Epoch 108/150\n",
      "19/19 [==============================] - 0s 10ms/step - loss: 0.0554 - accuracy: 0.9890 - val_loss: 2.1679 - val_accuracy: 0.5546\n",
      "Epoch 109/150\n",
      "19/19 [==============================] - 0s 11ms/step - loss: 0.0562 - accuracy: 0.9923 - val_loss: 2.1532 - val_accuracy: 0.5504\n",
      "Epoch 110/150\n",
      "19/19 [==============================] - 0s 13ms/step - loss: 0.0686 - accuracy: 0.9857 - val_loss: 2.2227 - val_accuracy: 0.5588\n",
      "Epoch 111/150\n",
      "19/19 [==============================] - 0s 10ms/step - loss: 0.0595 - accuracy: 0.9901 - val_loss: 2.1526 - val_accuracy: 0.5336\n",
      "Epoch 112/150\n",
      "19/19 [==============================] - 0s 12ms/step - loss: 0.0487 - accuracy: 0.9912 - val_loss: 2.1700 - val_accuracy: 0.5714\n",
      "Epoch 113/150\n",
      "19/19 [==============================] - 0s 11ms/step - loss: 0.0477 - accuracy: 0.9901 - val_loss: 2.2447 - val_accuracy: 0.5546\n",
      "Epoch 114/150\n",
      "19/19 [==============================] - 0s 10ms/step - loss: 0.0482 - accuracy: 0.9934 - val_loss: 2.1735 - val_accuracy: 0.5714\n",
      "Epoch 115/150\n"
     ]
    },
    {
     "name": "stdout",
     "output_type": "stream",
     "text": [
      "19/19 [==============================] - 0s 10ms/step - loss: 0.0573 - accuracy: 0.9857 - val_loss: 2.2858 - val_accuracy: 0.5504\n",
      "Epoch 116/150\n",
      "19/19 [==============================] - 0s 10ms/step - loss: 0.0668 - accuracy: 0.9835 - val_loss: 2.1574 - val_accuracy: 0.5630\n",
      "Epoch 117/150\n",
      "19/19 [==============================] - 0s 10ms/step - loss: 0.0437 - accuracy: 0.9923 - val_loss: 2.2778 - val_accuracy: 0.5714\n",
      "Epoch 118/150\n",
      "19/19 [==============================] - 0s 10ms/step - loss: 0.0443 - accuracy: 0.9945 - val_loss: 2.2050 - val_accuracy: 0.5588\n",
      "Epoch 119/150\n",
      "19/19 [==============================] - 0s 10ms/step - loss: 0.0352 - accuracy: 0.9978 - val_loss: 2.3446 - val_accuracy: 0.5504\n",
      "Epoch 120/150\n",
      "19/19 [==============================] - 0s 10ms/step - loss: 0.0350 - accuracy: 0.9923 - val_loss: 2.2514 - val_accuracy: 0.5546\n",
      "Epoch 121/150\n",
      "19/19 [==============================] - 0s 10ms/step - loss: 0.0308 - accuracy: 0.9978 - val_loss: 2.2947 - val_accuracy: 0.5546\n",
      "Epoch 122/150\n",
      "19/19 [==============================] - 0s 12ms/step - loss: 0.0298 - accuracy: 0.9978 - val_loss: 2.3719 - val_accuracy: 0.5630\n",
      "Epoch 123/150\n",
      "19/19 [==============================] - 0s 12ms/step - loss: 0.0279 - accuracy: 0.9978 - val_loss: 2.4267 - val_accuracy: 0.5714\n",
      "Epoch 124/150\n",
      "19/19 [==============================] - 0s 12ms/step - loss: 0.0278 - accuracy: 0.9956 - val_loss: 2.3188 - val_accuracy: 0.5504\n",
      "Epoch 125/150\n",
      "19/19 [==============================] - 0s 11ms/step - loss: 0.0424 - accuracy: 0.9890 - val_loss: 2.6184 - val_accuracy: 0.5252\n",
      "Epoch 126/150\n",
      "19/19 [==============================] - 0s 12ms/step - loss: 0.0429 - accuracy: 0.9912 - val_loss: 2.2659 - val_accuracy: 0.5672\n",
      "Epoch 127/150\n",
      "19/19 [==============================] - 0s 12ms/step - loss: 0.0287 - accuracy: 0.9956 - val_loss: 2.4504 - val_accuracy: 0.5546\n",
      "Epoch 128/150\n",
      "19/19 [==============================] - 0s 12ms/step - loss: 0.0244 - accuracy: 0.9978 - val_loss: 2.4878 - val_accuracy: 0.5546\n",
      "Epoch 129/150\n",
      "19/19 [==============================] - 0s 12ms/step - loss: 0.0216 - accuracy: 0.9989 - val_loss: 2.5052 - val_accuracy: 0.5630\n",
      "Epoch 130/150\n",
      "19/19 [==============================] - 0s 12ms/step - loss: 0.0205 - accuracy: 0.9989 - val_loss: 2.4854 - val_accuracy: 0.5714\n",
      "Epoch 131/150\n",
      "19/19 [==============================] - 0s 12ms/step - loss: 0.0182 - accuracy: 0.9989 - val_loss: 2.5384 - val_accuracy: 0.5630\n",
      "Epoch 132/150\n",
      "19/19 [==============================] - 0s 12ms/step - loss: 0.0177 - accuracy: 1.0000 - val_loss: 2.5468 - val_accuracy: 0.5672\n",
      "Epoch 133/150\n",
      "19/19 [==============================] - 0s 13ms/step - loss: 0.0181 - accuracy: 1.0000 - val_loss: 2.5010 - val_accuracy: 0.5798\n",
      "Epoch 134/150\n",
      "19/19 [==============================] - 0s 11ms/step - loss: 0.0193 - accuracy: 0.9978 - val_loss: 2.5099 - val_accuracy: 0.5798\n",
      "Epoch 135/150\n",
      "19/19 [==============================] - 0s 12ms/step - loss: 0.0160 - accuracy: 0.9989 - val_loss: 2.5352 - val_accuracy: 0.5672\n",
      "Epoch 136/150\n",
      "19/19 [==============================] - 0s 12ms/step - loss: 0.0209 - accuracy: 0.9978 - val_loss: 2.5050 - val_accuracy: 0.5714\n",
      "Epoch 137/150\n",
      "19/19 [==============================] - 0s 12ms/step - loss: 0.0155 - accuracy: 0.9989 - val_loss: 2.6161 - val_accuracy: 0.5630\n",
      "Epoch 138/150\n",
      "19/19 [==============================] - 0s 13ms/step - loss: 0.0136 - accuracy: 1.0000 - val_loss: 2.6231 - val_accuracy: 0.5546\n",
      "Epoch 139/150\n",
      "19/19 [==============================] - 0s 13ms/step - loss: 0.0133 - accuracy: 1.0000 - val_loss: 2.6097 - val_accuracy: 0.5756\n",
      "Epoch 140/150\n",
      "19/19 [==============================] - 0s 13ms/step - loss: 0.0124 - accuracy: 1.0000 - val_loss: 2.6399 - val_accuracy: 0.5714\n",
      "Epoch 141/150\n",
      "19/19 [==============================] - 0s 13ms/step - loss: 0.0128 - accuracy: 1.0000 - val_loss: 2.6362 - val_accuracy: 0.5756\n",
      "Epoch 142/150\n",
      "19/19 [==============================] - 0s 12ms/step - loss: 0.0119 - accuracy: 1.0000 - val_loss: 2.6310 - val_accuracy: 0.5798\n",
      "Epoch 143/150\n",
      "19/19 [==============================] - 0s 12ms/step - loss: 0.0137 - accuracy: 1.0000 - val_loss: 2.7164 - val_accuracy: 0.5588\n",
      "Epoch 144/150\n",
      "19/19 [==============================] - 0s 14ms/step - loss: 0.0149 - accuracy: 1.0000 - val_loss: 2.7193 - val_accuracy: 0.5546\n",
      "Epoch 145/150\n",
      "19/19 [==============================] - 0s 13ms/step - loss: 0.0130 - accuracy: 0.9989 - val_loss: 2.6666 - val_accuracy: 0.5714\n",
      "Epoch 146/150\n",
      "19/19 [==============================] - 0s 12ms/step - loss: 0.0118 - accuracy: 1.0000 - val_loss: 2.7395 - val_accuracy: 0.5714\n",
      "Epoch 147/150\n",
      "19/19 [==============================] - 0s 12ms/step - loss: 0.0097 - accuracy: 1.0000 - val_loss: 2.7206 - val_accuracy: 0.5714\n",
      "Epoch 148/150\n",
      "19/19 [==============================] - 0s 14ms/step - loss: 0.0094 - accuracy: 1.0000 - val_loss: 2.7733 - val_accuracy: 0.5630\n",
      "Epoch 149/150\n",
      "19/19 [==============================] - 0s 13ms/step - loss: 0.0089 - accuracy: 1.0000 - val_loss: 2.8142 - val_accuracy: 0.5588\n",
      "Epoch 150/150\n",
      "19/19 [==============================] - 0s 13ms/step - loss: 0.0093 - accuracy: 1.0000 - val_loss: 2.8156 - val_accuracy: 0.5672\n"
     ]
    }
   ],
   "source": [
    "history = cnn.fit(X_train,\n",
    "              y_train,\n",
    "              batch_size=50,\n",
    "              epochs=150,\n",
    "              validation_data = (X_test, y_test),\n",
    "              verbose=1)"
   ]
  },
  {
   "cell_type": "markdown",
   "metadata": {},
   "source": [
    "# Train and Test Loss with CNN"
   ]
  },
  {
   "cell_type": "code",
   "execution_count": 53,
   "metadata": {},
   "outputs": [
    {
     "data": {
      "image/png": "[encoded data removed]",
      "text/plain": [
       "<Figure size 432x288 with 1 Axes>"
      ]
     },
     "metadata": {
      "needs_background": "light"
     },
     "output_type": "display_data"
    }
   ],
   "source": [
    "plt.plot(history.history['loss'], label='Train loss')\n",
    "plt.plot(history.history['val_loss'], label='Test loss')\n",
    "plt.legend();"
   ]
  },
  {
   "cell_type": "code",
   "execution_count": 54,
   "metadata": {},
   "outputs": [
    {
     "data": {
      "image/png": "[encoded data removed]",
      "text/plain": [
       "<Figure size 432x288 with 1 Axes>"
      ]
     },
     "metadata": {
      "needs_background": "light"
     },
     "output_type": "display_data"
    }
   ],
   "source": [
    "plt.plot(history.history['accuracy'], label='Train accuracy')\n",
    "plt.plot(history.history['val_accuracy'], label='Test accuracy')\n",
    "plt.legend();"
   ]
  },
  {
   "cell_type": "code",
   "execution_count": 55,
   "metadata": {},
   "outputs": [
    {
     "data": {
      "text/html": [
       "<div>\n",
       "<style scoped>\n",
       "    .dataframe tbody tr th:only-of-type {\n",
       "        vertical-align: middle;\n",
       "    }\n",
       "\n",
       "    .dataframe tbody tr th {\n",
       "        vertical-align: top;\n",
       "    }\n",
       "\n",
       "    .dataframe thead th {\n",
       "        text-align: right;\n",
       "    }\n",
       "</style>\n",
       "<table border=\"1\" class=\"dataframe\">\n",
       "  <thead>\n",
       "    <tr style=\"text-align: right;\">\n",
       "      <th></th>\n",
       "      <th>train_acc</th>\n",
       "      <th>test_acc</th>\n",
       "      <th>train_loss</th>\n",
       "      <th>test_loss</th>\n",
       "      <th>accuracy_diff</th>\n",
       "      <th>loss_diff</th>\n",
       "    </tr>\n",
       "  </thead>\n",
       "  <tbody>\n",
       "    <tr>\n",
       "      <th>145</th>\n",
       "      <td>1.0</td>\n",
       "      <td>0.571429</td>\n",
       "      <td>0.011815</td>\n",
       "      <td>2.739496</td>\n",
       "      <td>0.428571</td>\n",
       "      <td>-2.727681</td>\n",
       "    </tr>\n",
       "    <tr>\n",
       "      <th>146</th>\n",
       "      <td>1.0</td>\n",
       "      <td>0.571429</td>\n",
       "      <td>0.009665</td>\n",
       "      <td>2.720552</td>\n",
       "      <td>0.428571</td>\n",
       "      <td>-2.710887</td>\n",
       "    </tr>\n",
       "    <tr>\n",
       "      <th>147</th>\n",
       "      <td>1.0</td>\n",
       "      <td>0.563025</td>\n",
       "      <td>0.009397</td>\n",
       "      <td>2.773341</td>\n",
       "      <td>0.436975</td>\n",
       "      <td>-2.763944</td>\n",
       "    </tr>\n",
       "    <tr>\n",
       "      <th>148</th>\n",
       "      <td>1.0</td>\n",
       "      <td>0.558824</td>\n",
       "      <td>0.008860</td>\n",
       "      <td>2.814162</td>\n",
       "      <td>0.441176</td>\n",
       "      <td>-2.805301</td>\n",
       "    </tr>\n",
       "    <tr>\n",
       "      <th>149</th>\n",
       "      <td>1.0</td>\n",
       "      <td>0.567227</td>\n",
       "      <td>0.009257</td>\n",
       "      <td>2.815577</td>\n",
       "      <td>0.432773</td>\n",
       "      <td>-2.806319</td>\n",
       "    </tr>\n",
       "  </tbody>\n",
       "</table>\n",
       "</div>"
      ],
      "text/plain": [
       "     train_acc  test_acc  train_loss  test_loss  accuracy_diff  loss_diff\n",
       "145        1.0  0.571429    0.011815   2.739496       0.428571  -2.727681\n",
       "146        1.0  0.571429    0.009665   2.720552       0.428571  -2.710887\n",
       "147        1.0  0.563025    0.009397   2.773341       0.436975  -2.763944\n",
       "148        1.0  0.558824    0.008860   2.814162       0.441176  -2.805301\n",
       "149        1.0  0.567227    0.009257   2.815577       0.432773  -2.806319"
      ]
     },
     "execution_count": 55,
     "metadata": {},
     "output_type": "execute_result"
    }
   ],
   "source": [
    "train_acc = history.history['accuracy']\n",
    "train_loss = history.history['loss']\n",
    "test_loss = history.history['val_loss']\n",
    "test_acc = history.history['val_accuracy']\n",
    "\n",
    "df = pd.DataFrame(list(zip(train_acc, test_acc, train_loss, test_loss)), \n",
    "               columns =['train_acc', 'test_acc', 'train_loss', 'test_loss']) \n",
    "\n",
    "df['accuracy_diff'] = df['train_acc'] - df['test_acc']\n",
    "df['loss_diff'] = df['train_loss'] - df['test_loss']\n",
    "\n",
    "df.tail()"
   ]
  },
  {
   "cell_type": "code",
   "execution_count": 57,
   "metadata": {},
   "outputs": [],
   "source": [
    "y_pred=cnn.predict(X_test)"
   ]
  },
  {
   "cell_type": "code",
   "execution_count": 58,
   "metadata": {},
   "outputs": [],
   "source": [
    "y_pred=np.argmax(y_pred,axis=1)"
   ]
  },
  {
   "cell_type": "code",
   "execution_count": 59,
   "metadata": {},
   "outputs": [],
   "source": [
    "cnf=confusion_matrix(y_test_original, y_pred)"
   ]
  },
  {
   "cell_type": "code",
   "execution_count": 60,
   "metadata": {
    "scrolled": true
   },
   "outputs": [
    {
     "name": "stdout",
     "output_type": "stream",
     "text": [
      "              precision    recall  f1-score   support\n",
      "\n",
      "    American       0.66      0.70      0.68       130\n",
      "     Chinies       0.59      0.48      0.53        67\n",
      "      Indian       0.26      0.29      0.27        41\n",
      "\n",
      "    accuracy                           0.57       238\n",
      "   macro avg       0.50      0.49      0.49       238\n",
      "weighted avg       0.57      0.57      0.57       238\n",
      "\n"
     ]
    }
   ],
   "source": [
    "target_names=['American','Chinies','Indian']\n",
    "\n",
    "print(classification_report(y_test_original, y_pred, \n",
    " target_names=target_names))"
   ]
  },
  {
   "cell_type": "code",
   "execution_count": 61,
   "metadata": {},
   "outputs": [
    {
     "data": {
      "text/plain": [
       "<matplotlib.axes._subplots.AxesSubplot at 0x7fa3e186b460>"
      ]
     },
     "execution_count": 61,
     "metadata": {},
     "output_type": "execute_result"
    },
    {
     "data": {
      "image/png": "[encoded data removed]",
      "text/plain": [
       "<Figure size 432x288 with 2 Axes>"
      ]
     },
     "metadata": {
      "needs_background": "light"
     },
     "output_type": "display_data"
    }
   ],
   "source": [
    "sns.heatmap(cnf,annot=True)"
   ]
  },
  {
   "cell_type": "markdown",
   "metadata": {},
   "source": [
    "# Adding regularization to the CNN model"
   ]
  },
  {
   "cell_type": "code",
   "execution_count": 62,
   "metadata": {},
   "outputs": [],
   "source": [
    "cnn2 = Sequential()\n",
    "\n",
    "cnn2.add(Conv2D(filters = 6,            \n",
    "                     kernel_size = (3, 3),       \n",
    "                     activation='relu',     \n",
    "                     input_shape=(28,28,1))) \n",
    "\n",
    "\n",
    "cnn2.add(MaxPooling2D(pool_size=(2,2))) \n",
    "\n",
    "cnn2.add(Flatten())  \n",
    "\n",
    "cnn2.add(Dense(128, activation='relu'))  \n",
    "\n",
    "###Add dropout \n",
    "\n",
    "cnn2.add(Dropout(0.05))\n",
    "\n",
    "cnn2.add(Dense(64, activation = 'relu'))\n",
    "\n",
    "###add dropout\n",
    "cnn2.add(Dropout(0.05))\n",
    "\n",
    "cnn2.add(Dense(4, activation='softmax'))   \n",
    "\n",
    "cnn2.compile(loss='categorical_crossentropy',\n",
    "                  optimizer='adam',\n",
    "                  metrics=['accuracy'])"
   ]
  },
  {
   "cell_type": "code",
   "execution_count": 63,
   "metadata": {},
   "outputs": [],
   "source": [
    "early_stop = EarlyStopping(monitor='val_loss', min_delta=0 , patience = 10)"
   ]
  },
  {
   "cell_type": "code",
   "execution_count": 64,
   "metadata": {},
   "outputs": [
    {
     "name": "stdout",
     "output_type": "stream",
     "text": [
      "Epoch 1/150\n",
      "2/2 [==============================] - 0s 76ms/step - loss: 1.3543 - accuracy: 0.3278 - val_loss: 1.3233 - val_accuracy: 0.2857\n",
      "Epoch 2/150\n",
      "2/2 [==============================] - 0s 32ms/step - loss: 1.2969 - accuracy: 0.3465 - val_loss: 1.2731 - val_accuracy: 0.2857\n",
      "Epoch 3/150\n",
      "2/2 [==============================] - 0s 33ms/step - loss: 1.2432 - accuracy: 0.3498 - val_loss: 1.2233 - val_accuracy: 0.2857\n",
      "Epoch 4/150\n",
      "2/2 [==============================] - 0s 33ms/step - loss: 1.1947 - accuracy: 0.3542 - val_loss: 1.1822 - val_accuracy: 0.2857\n",
      "Epoch 5/150\n",
      "2/2 [==============================] - 0s 34ms/step - loss: 1.1578 - accuracy: 0.3355 - val_loss: 1.1477 - val_accuracy: 0.2899\n",
      "Epoch 6/150\n",
      "2/2 [==============================] - 0s 34ms/step - loss: 1.1353 - accuracy: 0.3454 - val_loss: 1.1204 - val_accuracy: 0.3193\n",
      "Epoch 7/150\n",
      "2/2 [==============================] - 0s 37ms/step - loss: 1.1128 - accuracy: 0.3751 - val_loss: 1.0934 - val_accuracy: 0.5672\n",
      "Epoch 8/150\n",
      "2/2 [==============================] - 0s 34ms/step - loss: 1.1058 - accuracy: 0.3564 - val_loss: 1.0758 - val_accuracy: 0.5882\n",
      "Epoch 9/150\n",
      "2/2 [==============================] - 0s 36ms/step - loss: 1.1067 - accuracy: 0.3597 - val_loss: 1.0795 - val_accuracy: 0.5462\n",
      "Epoch 10/150\n",
      "2/2 [==============================] - 0s 34ms/step - loss: 1.0982 - accuracy: 0.3685 - val_loss: 1.0918 - val_accuracy: 0.3824\n",
      "Epoch 11/150\n",
      "2/2 [==============================] - 0s 38ms/step - loss: 1.0919 - accuracy: 0.4015 - val_loss: 1.0799 - val_accuracy: 0.5252\n",
      "Epoch 12/150\n",
      "2/2 [==============================] - 0s 38ms/step - loss: 1.1016 - accuracy: 0.3696 - val_loss: 1.0688 - val_accuracy: 0.4916\n",
      "Epoch 13/150\n",
      "2/2 [==============================] - 0s 39ms/step - loss: 1.0878 - accuracy: 0.3982 - val_loss: 1.0633 - val_accuracy: 0.4874\n",
      "Epoch 14/150\n",
      "2/2 [==============================] - 0s 41ms/step - loss: 1.0834 - accuracy: 0.4037 - val_loss: 1.0540 - val_accuracy: 0.5336\n",
      "Epoch 15/150\n",
      "2/2 [==============================] - 0s 46ms/step - loss: 1.0841 - accuracy: 0.4158 - val_loss: 1.0532 - val_accuracy: 0.4538\n",
      "Epoch 16/150\n",
      "2/2 [==============================] - 0s 38ms/step - loss: 1.0794 - accuracy: 0.4103 - val_loss: 1.0501 - val_accuracy: 0.5378\n",
      "Epoch 17/150\n",
      "2/2 [==============================] - 0s 40ms/step - loss: 1.0740 - accuracy: 0.4125 - val_loss: 1.0447 - val_accuracy: 0.5252\n",
      "Epoch 18/150\n",
      "2/2 [==============================] - 0s 44ms/step - loss: 1.0681 - accuracy: 0.4554 - val_loss: 1.0321 - val_accuracy: 0.5630\n",
      "Epoch 19/150\n",
      "2/2 [==============================] - 0s 38ms/step - loss: 1.0706 - accuracy: 0.4301 - val_loss: 1.0107 - val_accuracy: 0.5798\n",
      "Epoch 20/150\n",
      "2/2 [==============================] - 0s 40ms/step - loss: 1.0576 - accuracy: 0.4521 - val_loss: 1.0423 - val_accuracy: 0.4622\n",
      "Epoch 21/150\n",
      "2/2 [==============================] - 0s 42ms/step - loss: 1.0603 - accuracy: 0.4312 - val_loss: 1.0484 - val_accuracy: 0.5294\n",
      "Epoch 22/150\n",
      "2/2 [==============================] - 0s 45ms/step - loss: 1.0550 - accuracy: 0.4422 - val_loss: 1.0035 - val_accuracy: 0.5798\n",
      "Epoch 23/150\n",
      "2/2 [==============================] - 0s 47ms/step - loss: 1.0416 - accuracy: 0.4730 - val_loss: 1.0108 - val_accuracy: 0.5714\n",
      "Epoch 24/150\n",
      "2/2 [==============================] - 0s 45ms/step - loss: 1.0412 - accuracy: 0.4730 - val_loss: 1.0194 - val_accuracy: 0.5714\n",
      "Epoch 25/150\n",
      "2/2 [==============================] - 0s 40ms/step - loss: 1.0337 - accuracy: 0.4719 - val_loss: 0.9970 - val_accuracy: 0.5630\n",
      "Epoch 26/150\n",
      "2/2 [==============================] - 0s 41ms/step - loss: 1.0309 - accuracy: 0.4664 - val_loss: 0.9934 - val_accuracy: 0.5630\n",
      "Epoch 27/150\n",
      "2/2 [==============================] - 0s 40ms/step - loss: 1.0180 - accuracy: 0.4928 - val_loss: 1.0103 - val_accuracy: 0.5714\n",
      "Epoch 28/150\n",
      "2/2 [==============================] - 0s 42ms/step - loss: 1.0113 - accuracy: 0.4994 - val_loss: 0.9903 - val_accuracy: 0.5882\n",
      "Epoch 29/150\n",
      "2/2 [==============================] - 0s 44ms/step - loss: 1.0142 - accuracy: 0.4851 - val_loss: 0.9736 - val_accuracy: 0.5966\n",
      "Epoch 30/150\n",
      "2/2 [==============================] - 0s 42ms/step - loss: 1.0042 - accuracy: 0.4972 - val_loss: 0.9773 - val_accuracy: 0.5840\n",
      "Epoch 31/150\n",
      "2/2 [==============================] - 0s 41ms/step - loss: 0.9977 - accuracy: 0.5259 - val_loss: 0.9952 - val_accuracy: 0.5588\n",
      "Epoch 32/150\n",
      "2/2 [==============================] - 0s 39ms/step - loss: 0.9908 - accuracy: 0.5270 - val_loss: 0.9642 - val_accuracy: 0.6008\n",
      "Epoch 33/150\n",
      "2/2 [==============================] - 0s 39ms/step - loss: 0.9872 - accuracy: 0.5259 - val_loss: 0.9686 - val_accuracy: 0.6092\n",
      "Epoch 34/150\n",
      "2/2 [==============================] - 0s 44ms/step - loss: 0.9789 - accuracy: 0.5402 - val_loss: 0.9563 - val_accuracy: 0.5840\n",
      "Epoch 35/150\n",
      "2/2 [==============================] - 0s 44ms/step - loss: 0.9704 - accuracy: 0.5545 - val_loss: 0.9704 - val_accuracy: 0.5840\n",
      "Epoch 36/150\n",
      "2/2 [==============================] - 0s 42ms/step - loss: 0.9642 - accuracy: 0.5589 - val_loss: 0.9403 - val_accuracy: 0.6261\n",
      "Epoch 37/150\n",
      "2/2 [==============================] - 0s 46ms/step - loss: 0.9600 - accuracy: 0.5237 - val_loss: 0.9580 - val_accuracy: 0.5840\n",
      "Epoch 38/150\n",
      "2/2 [==============================] - 0s 41ms/step - loss: 0.9479 - accuracy: 0.5677 - val_loss: 0.9866 - val_accuracy: 0.5336\n",
      "Epoch 39/150\n",
      "2/2 [==============================] - 0s 39ms/step - loss: 0.9461 - accuracy: 0.5512 - val_loss: 0.9333 - val_accuracy: 0.6303\n",
      "Epoch 40/150\n",
      "2/2 [==============================] - 0s 38ms/step - loss: 0.9403 - accuracy: 0.5721 - val_loss: 0.9436 - val_accuracy: 0.5966\n",
      "Epoch 41/150\n",
      "2/2 [==============================] - 0s 39ms/step - loss: 0.9368 - accuracy: 0.5677 - val_loss: 0.9744 - val_accuracy: 0.5336\n",
      "Epoch 42/150\n",
      "2/2 [==============================] - 0s 39ms/step - loss: 0.9298 - accuracy: 0.5864 - val_loss: 0.9333 - val_accuracy: 0.6050\n",
      "Epoch 43/150\n",
      "2/2 [==============================] - 0s 41ms/step - loss: 0.9332 - accuracy: 0.5666 - val_loss: 0.9540 - val_accuracy: 0.5966\n",
      "Epoch 44/150\n",
      "2/2 [==============================] - 0s 45ms/step - loss: 0.9344 - accuracy: 0.5743 - val_loss: 0.9750 - val_accuracy: 0.5462\n",
      "Epoch 45/150\n",
      "2/2 [==============================] - 0s 41ms/step - loss: 0.9186 - accuracy: 0.5963 - val_loss: 0.9443 - val_accuracy: 0.5588\n",
      "Epoch 46/150\n",
      "2/2 [==============================] - 0s 41ms/step - loss: 0.9200 - accuracy: 0.6073 - val_loss: 0.9373 - val_accuracy: 0.6134\n",
      "Epoch 47/150\n",
      "2/2 [==============================] - 0s 38ms/step - loss: 0.9082 - accuracy: 0.5897 - val_loss: 0.9529 - val_accuracy: 0.6008\n",
      "Epoch 48/150\n",
      "2/2 [==============================] - 0s 40ms/step - loss: 0.9087 - accuracy: 0.5952 - val_loss: 0.9607 - val_accuracy: 0.5462\n",
      "Epoch 49/150\n",
      "2/2 [==============================] - 0s 45ms/step - loss: 0.9023 - accuracy: 0.6139 - val_loss: 0.9423 - val_accuracy: 0.5546\n",
      "Epoch 50/150\n",
      "2/2 [==============================] - 0s 49ms/step - loss: 0.8952 - accuracy: 0.6051 - val_loss: 0.9721 - val_accuracy: 0.5588\n",
      "Epoch 51/150\n",
      "2/2 [==============================] - 0s 40ms/step - loss: 0.8915 - accuracy: 0.6216 - val_loss: 0.9279 - val_accuracy: 0.6261\n",
      "Epoch 52/150\n",
      "2/2 [==============================] - 0s 42ms/step - loss: 0.8881 - accuracy: 0.6183 - val_loss: 0.9338 - val_accuracy: 0.5798\n",
      "Epoch 53/150\n",
      "2/2 [==============================] - 0s 44ms/step - loss: 0.8779 - accuracy: 0.6128 - val_loss: 0.9558 - val_accuracy: 0.5630\n",
      "Epoch 54/150\n",
      "2/2 [==============================] - 0s 47ms/step - loss: 0.8794 - accuracy: 0.6238 - val_loss: 0.9483 - val_accuracy: 0.6008\n",
      "Epoch 55/150\n",
      "2/2 [==============================] - 0s 46ms/step - loss: 0.8677 - accuracy: 0.6282 - val_loss: 0.9204 - val_accuracy: 0.6092\n",
      "Epoch 56/150\n",
      "2/2 [==============================] - 0s 44ms/step - loss: 0.8667 - accuracy: 0.6359 - val_loss: 0.9467 - val_accuracy: 0.5798\n",
      "Epoch 57/150\n",
      "2/2 [==============================] - 0s 46ms/step - loss: 0.8605 - accuracy: 0.6359 - val_loss: 0.9626 - val_accuracy: 0.5588\n",
      "Epoch 58/150\n",
      "2/2 [==============================] - 0s 49ms/step - loss: 0.8518 - accuracy: 0.6656 - val_loss: 0.9304 - val_accuracy: 0.5672\n",
      "Epoch 59/150\n",
      "2/2 [==============================] - 0s 42ms/step - loss: 0.8498 - accuracy: 0.6392 - val_loss: 0.9366 - val_accuracy: 0.5714\n",
      "Epoch 60/150\n",
      "2/2 [==============================] - 0s 43ms/step - loss: 0.8469 - accuracy: 0.6436 - val_loss: 0.9647 - val_accuracy: 0.5504\n",
      "Epoch 61/150\n",
      "2/2 [==============================] - 0s 48ms/step - loss: 0.8364 - accuracy: 0.6546 - val_loss: 0.9370 - val_accuracy: 0.5630\n",
      "Epoch 62/150\n",
      "2/2 [==============================] - 0s 47ms/step - loss: 0.8240 - accuracy: 0.6689 - val_loss: 0.9514 - val_accuracy: 0.5840\n",
      "Epoch 63/150\n",
      "2/2 [==============================] - 0s 46ms/step - loss: 0.8229 - accuracy: 0.6700 - val_loss: 0.9276 - val_accuracy: 0.5630\n",
      "Epoch 64/150\n",
      "2/2 [==============================] - 0s 46ms/step - loss: 0.8175 - accuracy: 0.6689 - val_loss: 0.9496 - val_accuracy: 0.5672\n",
      "Epoch 65/150\n",
      "2/2 [==============================] - 0s 43ms/step - loss: 0.8074 - accuracy: 0.6645 - val_loss: 0.9480 - val_accuracy: 0.5630\n"
     ]
    }
   ],
   "source": [
    "history = cnn2.fit(X_train,\n",
    "              y_train,\n",
    "              batch_size=500,\n",
    "              epochs=150,\n",
    "              validation_data = (X_test, y_test),\n",
    "             callbacks=[early_stop],\n",
    "              verbose=1)"
   ]
  },
  {
   "cell_type": "code",
   "execution_count": 65,
   "metadata": {},
   "outputs": [
    {
     "data": {
      "image/png": "[encoded data removed]",
      "text/plain": [
       "<Figure size 432x288 with 1 Axes>"
      ]
     },
     "metadata": {
      "needs_background": "light"
     },
     "output_type": "display_data"
    }
   ],
   "source": [
    "plt.plot(history.history['loss'], label='Train loss')\n",
    "plt.plot(history.history['val_loss'], label='Test loss')\n",
    "plt.legend();"
   ]
  },
  {
   "cell_type": "code",
   "execution_count": 66,
   "metadata": {},
   "outputs": [
    {
     "data": {
      "image/png": "[encoded data removed]",
      "text/plain": [
       "<Figure size 432x288 with 1 Axes>"
      ]
     },
     "metadata": {
      "needs_background": "light"
     },
     "output_type": "display_data"
    }
   ],
   "source": [
    "plt.plot(history.history['accuracy'], label='Train accuracy')\n",
    "plt.plot(history.history['val_accuracy'], label='Test accuracy')\n",
    "plt.legend();"
   ]
  },
  {
   "cell_type": "code",
   "execution_count": 45,
   "metadata": {},
   "outputs": [
    {
     "name": "stdout",
     "output_type": "stream",
     "text": [
      "Model: \"sequential_1\"\n",
      "_________________________________________________________________\n",
      "Layer (type)                 Output Shape              Param #   \n",
      "=================================================================\n",
      "conv2d_1 (Conv2D)            (None, 26, 26, 6)         60        \n",
      "_________________________________________________________________\n",
      "max_pooling2d_1 (MaxPooling2 (None, 13, 13, 6)         0         \n",
      "_________________________________________________________________\n",
      "flatten_1 (Flatten)          (None, 1014)              0         \n",
      "_________________________________________________________________\n",
      "dense_3 (Dense)              (None, 128)               129920    \n",
      "_________________________________________________________________\n",
      "dropout (Dropout)            (None, 128)               0         \n",
      "_________________________________________________________________\n",
      "dense_4 (Dense)              (None, 64)                8256      \n",
      "_________________________________________________________________\n",
      "dropout_1 (Dropout)          (None, 64)                0         \n",
      "_________________________________________________________________\n",
      "dense_5 (Dense)              (None, 4)                 260       \n",
      "=================================================================\n",
      "Total params: 138,496\n",
      "Trainable params: 138,496\n",
      "Non-trainable params: 0\n",
      "_________________________________________________________________\n"
     ]
    }
   ],
   "source": [
    "cnn2.summary()"
   ]
  },
  {
   "cell_type": "code",
   "execution_count": 70,
   "metadata": {},
   "outputs": [],
   "source": [
    "y_pred2=cnn2.predict(X_test)"
   ]
  },
  {
   "cell_type": "code",
   "execution_count": 71,
   "metadata": {},
   "outputs": [],
   "source": [
    "y_pred2=np.argmax(y_pred2,axis=1)"
   ]
  },
  {
   "cell_type": "code",
   "execution_count": 72,
   "metadata": {
    "scrolled": true
   },
   "outputs": [
    {
     "data": {
      "text/plain": [
       "array([1, 1, 3, 1, 2, 2, 3, 3, 3, 2, 1, 2, 1, 1, 2, 3, 3, 3, 2, 3, 1, 1,\n",
       "       3, 1, 1, 2, 2, 1, 1, 1, 1, 2, 3, 3, 1, 2, 1, 1, 3, 2, 2, 3, 3, 1,\n",
       "       2, 3, 2, 3, 1, 1, 3, 3, 2, 2, 3, 2, 1, 3, 1, 1, 3, 2, 1, 1, 1, 2,\n",
       "       1, 2, 2, 1, 3, 1, 1, 2, 1, 3, 2, 1, 2, 1, 1, 1, 1, 2, 2, 2, 3, 1,\n",
       "       3, 3, 2, 3, 1, 1, 3, 1, 1, 3, 2, 2, 3, 3, 2, 2, 1, 3, 3, 1, 1, 1,\n",
       "       1, 1, 1, 3, 1, 1, 1, 3, 1, 2, 2, 1, 1, 3, 2, 3, 3, 2, 1, 3, 1, 1,\n",
       "       3, 2, 3, 3, 2, 2, 2, 3, 1, 3, 2, 1, 2, 1, 1, 3, 1, 3, 1, 1, 3, 1,\n",
       "       2, 2, 2, 1, 1, 1, 2, 2, 3, 3, 3, 2, 2, 3, 2, 1, 2, 1, 1, 1, 2, 1,\n",
       "       2, 1, 1, 1, 1, 3, 1, 1, 1, 1, 1, 3, 3, 2, 2, 1, 3, 1, 2, 1, 2, 1,\n",
       "       2, 3, 1, 3, 1, 3, 1, 2, 1, 2, 1, 2, 1, 2, 2, 3, 3, 3, 1, 2, 2, 1,\n",
       "       3, 1, 1, 1, 2, 1, 3, 2, 1, 2, 2, 2, 1, 1, 1, 2, 1, 2])"
      ]
     },
     "execution_count": 72,
     "metadata": {},
     "output_type": "execute_result"
    }
   ],
   "source": [
    "y_pred2"
   ]
  },
  {
   "cell_type": "code",
   "execution_count": 73,
   "metadata": {},
   "outputs": [],
   "source": [
    "ls=list(zip(y_test_original,y_pred2))"
   ]
  },
  {
   "cell_type": "code",
   "execution_count": 74,
   "metadata": {},
   "outputs": [
    {
     "data": {
      "text/plain": [
       "134"
      ]
     },
     "execution_count": 74,
     "metadata": {},
     "output_type": "execute_result"
    }
   ],
   "source": [
    "ls1=[l for l in ls if l[0]==l[1]]\n",
    "len(ls1)"
   ]
  },
  {
   "cell_type": "code",
   "execution_count": 75,
   "metadata": {
    "scrolled": true
   },
   "outputs": [],
   "source": [
    "cnf1=confusion_matrix(y_test_original, y_pred)"
   ]
  },
  {
   "cell_type": "code",
   "execution_count": 76,
   "metadata": {},
   "outputs": [],
   "source": [
    "target_names=['American','Chinies','Indian']"
   ]
  },
  {
   "cell_type": "code",
   "execution_count": 77,
   "metadata": {
    "scrolled": true
   },
   "outputs": [
    {
     "name": "stdout",
     "output_type": "stream",
     "text": [
      "              precision    recall  f1-score   support\n",
      "\n",
      "    American       0.78      0.62      0.69       130\n",
      "     Chinies       0.54      0.58      0.56        67\n",
      "      Indian       0.24      0.37      0.29        41\n",
      "\n",
      "    accuracy                           0.56       238\n",
      "   macro avg       0.52      0.52      0.51       238\n",
      "weighted avg       0.62      0.56      0.58       238\n",
      "\n"
     ]
    }
   ],
   "source": [
    "print(classification_report(y_test_original, y_pred, \n",
    " target_names=target_names))"
   ]
  },
  {
   "cell_type": "code",
   "execution_count": 78,
   "metadata": {},
   "outputs": [
    {
     "data": {
      "text/plain": [
       "<matplotlib.axes._subplots.AxesSubplot at 0x7fa3dfd29cd0>"
      ]
     },
     "execution_count": 78,
     "metadata": {},
     "output_type": "execute_result"
    },
    {
     "data": {
      "image/png": "[encoded data removed]",
      "text/plain": [
       "<Figure size 432x288 with 2 Axes>"
      ]
     },
     "metadata": {
      "needs_background": "light"
     },
     "output_type": "display_data"
    }
   ],
   "source": [
    "sns.heatmap(cnf1,annot=True)"
   ]
  },
  {
   "cell_type": "code",
   "execution_count": null,
   "metadata": {},
   "outputs": [],
   "source": []
  }
 ],
 "metadata": {
  "kernelspec": {
   "display_name": "Python 3",
   "language": "python",
   "name": "python3"
  },
  "language_info": {
   "codemirror_mode": {
    "name": "ipython",
    "version": 3
   },
   "file_extension": ".py",
   "mimetype": "text/x-python",
   "name": "python",
   "nbconvert_exporter": "python",
   "pygments_lexer": "ipython3",
   "version": "3.8.3"
  }
 },
 "nbformat": 4,
 "nbformat_minor": 4
}
